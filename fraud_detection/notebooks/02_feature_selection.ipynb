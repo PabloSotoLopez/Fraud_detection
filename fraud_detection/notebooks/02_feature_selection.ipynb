{
 "cells": [
  {
   "cell_type": "code",
   "execution_count": 1,
   "metadata": {
    "id": "lHtZWnplzCQk"
   },
   "outputs": [],
   "source": [
    "import os, sys"
   ]
  },
  {
   "cell_type": "code",
   "execution_count": null,
   "metadata": {
    "id": "Hf5n0XQBdUMp"
   },
   "outputs": [],
   "source": []
  },
  {
   "cell_type": "code",
   "execution_count": 2,
   "metadata": {
    "colab": {
     "base_uri": "https://localhost:8080/"
    },
    "id": "dlHPo0W_zIKS",
    "outputId": "b32d11ec-28a6-4ff0-e8cd-4077ff1b5adb"
   },
   "outputs": [],
   "source": [
    "#from google.colab import drive\n",
    "#drive.mount('/content/drive')\n",
    "#os.chdir('/content/drive/MyDrive/fraud_detection/notebooks')\n",
    "#!ls"
   ]
  },
  {
   "cell_type": "code",
   "execution_count": 2,
   "metadata": {
    "id": "_cAyxqqFzLnl"
   },
   "outputs": [],
   "source": [
    "# primero todas las librerías por bloques\n",
    "import numpy as np\n",
    "import pandas as pd\n",
    "import matplotlib.pyplot as plt\n",
    "import plotly.express as px\n",
    "import seaborn as sns\n",
    "import warnings\n",
    "from scipy.stats import pearsonr, chi2_contingency\n",
    "from itertools import combinations\n",
    "warnings.filterwarnings(\"ignore\")\n",
    "\n",
    "from sklearn.ensemble import RandomForestClassifier\n",
    "from sklearn.feature_selection import SelectFromModel\n",
    "from sklearn.model_selection import train_test_split\n",
    "\n",
    "from sklearn.ensemble import RandomForestClassifier, GradientBoostingClassifier\n",
    "from sklearn import metrics\n",
    "from sklearn.metrics import plot_confusion_matrix, roc_curve, roc_auc_score\n",
    "from sklearn.linear_model import Lasso, LogisticRegression\n",
    "from sklearn.feature_selection import SelectFromModel, RFE\n",
    "from sklearn.preprocessing import StandardScaler\n",
    "from sklearn.tree import DecisionTreeClassifier"
   ]
  },
  {
   "cell_type": "code",
   "execution_count": 3,
   "metadata": {
    "id": "cddD32GqzP_E"
   },
   "outputs": [],
   "source": [
    "# opciones de visualización\n",
    "pd.set_option('display.max_rows', 500)\n",
    "pd.set_option('display.max_columns', 500)\n",
    "\n",
    "pd.set_option('display.float_format', lambda x: '%.3f' % x)"
   ]
  },
  {
   "cell_type": "code",
   "execution_count": 4,
   "metadata": {
    "id": "P6umQwtLzZt3"
   },
   "outputs": [],
   "source": [
    "def top_correlation (df,metodo='pearson',limit_inf=0.8,limit_sup=1,socioc_num=False):\n",
    "    '''\n",
    "    Devuelve los pares de variables entre unos limites de asoc./correlación como frame,\n",
    "    junto con su coeficiente, ordenados de mayor a menor.\n",
    "       \n",
    "    Args:\n",
    "     param1: Datafram e a estudiar.\n",
    "     param2: Metodo de cálculo de la aociación.\n",
    "     param3: limite inferior del coef.\n",
    "     param4: limite superior del coef.\n",
    "     \n",
    "     \n",
    "     Returns:\n",
    "     Pandas dataframe \n",
    "    '''\n",
    "    \n",
    "    if metodo=='pearson':\n",
    "      corr_matrix= df.corr(metodo)\n",
    "    \n",
    "    elif metodo=='spearman':\n",
    "      candidatos=[col for col in df.columns if col in categorical_vars ]\n",
    "      for col in candidatos:\n",
    "        df[col] = pd.factorize(df[col])[0]\n",
    "      corr_matrix = df.apply(pd.to_numeric, errors='ignore').corr(metodo)\n",
    "    else:\n",
    "      print('Metodo no soportado')\n",
    "      return None\n",
    "\n",
    "    \n",
    "       \n",
    "    correlation = (corr_matrix.where(\n",
    "                np.triu(np.ones(corr_matrix.shape), k=1).astype(np.bool_)).\n",
    "                stack().\n",
    "                sort_values(ascending=False))\n",
    "    \n",
    "    correlation = pd.DataFrame(correlation).reset_index()\n",
    "    correlation.columns=[\"Variable_1\",\"Variable_2\",\"Correlacion\"]\n",
    "    correlation = (correlation.reindex(correlation.Correlacion.abs().\n",
    "                     sort_values(ascending=False).index).\n",
    "                    reset_index().\n",
    "                    drop([\"index\"],axis=1))\n",
    "    \n",
    "           \n",
    "    return correlation[correlation['Correlacion'].abs().  \\\n",
    "                       between(limit_inf,limit_sup,inclusive='right')]"
   ]
  },
  {
   "cell_type": "code",
   "execution_count": 5,
   "metadata": {
    "id": "b_Bv7902zcOz"
   },
   "outputs": [],
   "source": [
    "def get_corr_matrix(dataset = None, \n",
    "                    isnumeric=True, \n",
    "                    size_figure=[12,10],\n",
    "                    limit=0):\n",
    "    '''\n",
    "    Genera gráficos representando toda la matriz de correlación.\n",
    "     Permite aplicar pearson a las variables númericas o spearmana todo el conjunt ode variables.\n",
    "    \n",
    "    Args:\n",
    "    param1: Pandas Df de datos.\n",
    "    param2: Sí True, pearson, False Speaarman.\n",
    "    param3: Tamaño de figura de salida.\n",
    "    param4: Limite inferior del coeficiente de correlación a mostrar.\n",
    "    \n",
    "             \n",
    "    Returns:\n",
    "    Sns heatmap.\n",
    "    \n",
    "    '''\n",
    "    if dataset is None:\n",
    "        print(u'\\nHace falta pasar argumentos a la función')\n",
    "        return 1\n",
    "    \n",
    "    if isnumeric:\n",
    "        metodo='pearson'\n",
    "    else:\n",
    "        metodo='spearman'\n",
    "        dataset=dataset.apply(pd.to_numeric, errors='ignore')\n",
    "        for col in categorical_vars:\n",
    "          dataset[col] = pd.factorize(dataset[col])[0]\n",
    "    sns.set(style=\"white\")\n",
    "    \n",
    "    # Computa la matriz de correlación.\n",
    "    corr = dataset.corr(method=metodo)\n",
    "    \n",
    "    # Para poder aplicar limite inferior.\n",
    "    corr=corr[abs(corr) >=limit].fillna(0)\n",
    "    \n",
    "    # autocorrelacion a cero, evita distracciones.\n",
    "    for i in range(corr.shape[0]):\n",
    "        corr.iloc[i, i] = 0\n",
    "    \n",
    "    # Genera mascara para dibujar solo el triangulo inferior en heatmap.\n",
    "    matrix=np.triu(corr)\n",
    "    \n",
    "\n",
    "    # Fija tamaño fuente en funcion del número de columans.\n",
    "    if len(corr)<40: \n",
    "        fontsize= 3 \n",
    "    else: \n",
    "        fontsize= 3;\n",
    "    \n",
    "    if metodo == 'pearson':\n",
    "        f, ax = plt.subplots(figsize=size_figure)\n",
    "        sns.heatmap(corr,\n",
    "                    center=0,                    \n",
    "                    square=True,\n",
    "                    linewidths=.25,\n",
    "                    cmap =\"vlag\",\n",
    "                    annot=True,fmt=\".1%\",annot_kws={\"fontsize\":8},\n",
    "                    mask=matrix,cbar=True,\n",
    "                    cbar_kws={\"shrink\": .5}) \n",
    "    else:\n",
    "        f, ax = plt.subplots(figsize=size_figure)\n",
    "        sns.heatmap(corr,\n",
    "                    center=0,\n",
    "                    square=True,\n",
    "                    cbar=True, \n",
    "                    cmap =\"vlag\",\n",
    "                    mask=matrix,\n",
    "                    annot=True,fmt=\".1%\",annot_kws={\"fontsize\":8},\n",
    "                    cbar_kws={\"shrink\": .5})\n",
    "        ticks = np.arange(corr.shape[0]) + 0.5\n",
    "        ax.set_xticks(ticks)\n",
    "        ax.set_xticklabels(corr.columns, rotation=90, fontsize=10)\n",
    "        ax.set_yticks(ticks)\n",
    "        ax.set_yticklabels(corr.index, rotation=360, fontsize=10)\n",
    "        ax.set_title('correlation matrix')\n",
    " \n",
    "    plt.tight_layout()\n",
    "    \n",
    "    \n",
    "    return None"
   ]
  },
  {
   "cell_type": "code",
   "execution_count": 6,
   "metadata": {
    "id": "7HZSrT9_zhR5"
   },
   "outputs": [],
   "source": [
    "data = pd.read_parquet('../data/fraud_detection_engenering.parquet')\n",
    "data.columns= data.columns.str.lower()"
   ]
  },
  {
   "cell_type": "markdown",
   "metadata": {
    "id": "D5dcObMiuw4h"
   },
   "source": [
    "Consideramos que el contador de orden de fraude, es una caracteristica con la que no podemos contar en nuestros modelos, a riesgo de caer en lekeage. Las operacioens de fraude no se marcan inmediatamente, tendrá que ser detectado por el titular de la cuenta cuando vea que se la han vaciado, sería muy raro que fuese marcado inmediatamente. Lo normal es que se detecte con horas o dias de retraso."
   ]
  },
  {
   "cell_type": "code",
   "execution_count": 7,
   "metadata": {
    "id": "s_n8coKe0Znt"
   },
   "outputs": [],
   "source": [
    "# Para evitar lekeage\n",
    "if 'fraud_order' in data.columns:\n",
    "  data=data.drop('fraud_order',axis=1)"
   ]
  },
  {
   "cell_type": "code",
   "execution_count": 8,
   "metadata": {
    "colab": {
     "base_uri": "https://localhost:8080/"
    },
    "id": "fbO1BtBYvjc1",
    "outputId": "90425539-540a-48ec-e815-77ac51b589b5"
   },
   "outputs": [
    {
     "name": "stdout",
     "output_type": "stream",
     "text": [
      "<class 'pandas.core.frame.DataFrame'>\n",
      "RangeIndex: 1048575 entries, 0 to 1048574\n",
      "Data columns (total 27 columns):\n",
      " #   Column            Non-Null Count    Dtype   \n",
      "---  ------            --------------    -----   \n",
      " 0   step              1048575 non-null  int64   \n",
      " 1   type              1048575 non-null  category\n",
      " 2   amount            1048575 non-null  float64 \n",
      " 3   gender            1048575 non-null  category\n",
      " 4   device            1048575 non-null  category\n",
      " 5   connection_time   1048575 non-null  float64 \n",
      " 6   nameorig          1048575 non-null  category\n",
      " 7   race              1048575 non-null  category\n",
      " 8   oldbalanceorg     1048575 non-null  float64 \n",
      " 9   age               1048575 non-null  int64   \n",
      " 10  newbalanceorig    1048575 non-null  float64 \n",
      " 11  zone              1048575 non-null  category\n",
      " 12  user_number       1048575 non-null  int64   \n",
      " 13  namedest          1048575 non-null  category\n",
      " 14  user_connections  1048575 non-null  int64   \n",
      " 15  security_alert    1048575 non-null  int64   \n",
      " 16  oldbalancedest    1048575 non-null  float64 \n",
      " 17  newbalancedest    1048575 non-null  float64 \n",
      " 18  isfraud           1048575 non-null  int64   \n",
      " 19  dia               1048575 non-null  int64   \n",
      " 20  hora              1048575 non-null  int64   \n",
      " 21  step_order        1048575 non-null  int64   \n",
      " 22  step_importance   1048575 non-null  float64 \n",
      " 23  segmento          1048575 non-null  object  \n",
      " 24  fraud_rules       1048575 non-null  int64   \n",
      " 25  errorbalanceorig  1048575 non-null  float64 \n",
      " 26  errorbalancedest  1048575 non-null  float64 \n",
      "dtypes: category(7), float64(9), int64(10), object(1)\n",
      "memory usage: 232.8+ MB\n"
     ]
    }
   ],
   "source": [
    "data.info()"
   ]
  },
  {
   "cell_type": "code",
   "execution_count": 9,
   "metadata": {
    "id": "lyZi7VsJ1A7x"
   },
   "outputs": [],
   "source": [
    "data[['segmento','fraud_rules']]=data[['segmento','fraud_rules']].astype('category')"
   ]
  },
  {
   "cell_type": "code",
   "execution_count": 10,
   "metadata": {
    "id": "4D4DU_f-1gs_"
   },
   "outputs": [],
   "source": [
    "categorical_vars=[x for x in data.columns if data[x].dtypes=='category']\n",
    "numerical_vars = [[x for x in data.columns if data[x].dtypes !='category']]\n"
   ]
  },
  {
   "cell_type": "code",
   "execution_count": null,
   "metadata": {
    "id": "CRgdOK67EXmP"
   },
   "outputs": [],
   "source": []
  },
  {
   "cell_type": "markdown",
   "metadata": {
    "id": "s4CgDp08v440"
   },
   "source": [
    "## Estudio de correlaciones. \n",
    "### Variables númericas. Pearson.\n",
    "Manajamos 18 varaibles númericas ( incluido el target, que dejamso como númerica, para que nos lo realcione con todas las variables).\n",
    "Empezamos por aplicar pearson a numericas, y que nos detecte la correlacion lineal entre los pares de variables.\n"
   ]
  },
  {
   "cell_type": "code",
   "execution_count": 11,
   "metadata": {
    "colab": {
     "base_uri": "https://localhost:8080/",
     "height": 895
    },
    "id": "WVIKPI3s2ios",
    "outputId": "147eedfb-ce54-4d4d-c2a1-39d3a2f673f1"
   },
   "outputs": [
    {
     "data": {
      "image/png": "[encoded data removed]",
      "text/plain": [
       "<Figure size 1500x1500 with 2 Axes>"
      ]
     },
     "metadata": {},
     "output_type": "display_data"
    }
   ],
   "source": [
    "get_corr_matrix(dataset = data, \n",
    "                    isnumeric=True, \n",
    "                    size_figure=[15,15],\n",
    "                    limit=0)"
   ]
  },
  {
   "cell_type": "markdown",
   "metadata": {
    "id": "j7nDab6yyogd"
   },
   "source": [
    "Los lod y new balance es lógico que se encuentren altamente correlacionados, al igual de dia,hora con step. \n",
    "Destacamos como step_importancie está correlacionada como habiamos visto con isfraud, ya que las primeras operacioens de cada step son mas proclives a ser fraude.\n"
   ]
  },
  {
   "cell_type": "code",
   "execution_count": 12,
   "metadata": {
    "colab": {
     "base_uri": "https://localhost:8080/",
     "height": 300
    },
    "id": "KzTXfcHBwgCm",
    "outputId": "879e1a99-e15d-480b-850a-a78bac8a11b7"
   },
   "outputs": [
    {
     "data": {
      "text/html": [
       "<div>\n",
       "<style scoped>\n",
       "    .dataframe tbody tr th:only-of-type {\n",
       "        vertical-align: middle;\n",
       "    }\n",
       "\n",
       "    .dataframe tbody tr th {\n",
       "        vertical-align: top;\n",
       "    }\n",
       "\n",
       "    .dataframe thead th {\n",
       "        text-align: right;\n",
       "    }\n",
       "</style>\n",
       "<table border=\"1\" class=\"dataframe\">\n",
       "  <thead>\n",
       "    <tr style=\"text-align: right;\">\n",
       "      <th></th>\n",
       "      <th>Variable_1</th>\n",
       "      <th>Variable_2</th>\n",
       "      <th>Correlacion</th>\n",
       "    </tr>\n",
       "  </thead>\n",
       "  <tbody>\n",
       "    <tr>\n",
       "      <th>0</th>\n",
       "      <td>oldbalanceorg</td>\n",
       "      <td>newbalanceorig</td>\n",
       "      <td>0.999</td>\n",
       "    </tr>\n",
       "    <tr>\n",
       "      <th>1</th>\n",
       "      <td>oldbalancedest</td>\n",
       "      <td>newbalancedest</td>\n",
       "      <td>0.978</td>\n",
       "    </tr>\n",
       "    <tr>\n",
       "      <th>2</th>\n",
       "      <td>step</td>\n",
       "      <td>dia</td>\n",
       "      <td>0.960</td>\n",
       "    </tr>\n",
       "    <tr>\n",
       "      <th>3</th>\n",
       "      <td>amount</td>\n",
       "      <td>errorbalanceorig</td>\n",
       "      <td>-0.881</td>\n",
       "    </tr>\n",
       "    <tr>\n",
       "      <th>4</th>\n",
       "      <td>connection_time</td>\n",
       "      <td>security_alert</td>\n",
       "      <td>-0.520</td>\n",
       "    </tr>\n",
       "    <tr>\n",
       "      <th>5</th>\n",
       "      <td>step</td>\n",
       "      <td>hora</td>\n",
       "      <td>0.383</td>\n",
       "    </tr>\n",
       "    <tr>\n",
       "      <th>6</th>\n",
       "      <td>isfraud</td>\n",
       "      <td>step_importance</td>\n",
       "      <td>0.348</td>\n",
       "    </tr>\n",
       "    <tr>\n",
       "      <th>7</th>\n",
       "      <td>amount</td>\n",
       "      <td>newbalancedest</td>\n",
       "      <td>0.312</td>\n",
       "    </tr>\n",
       "  </tbody>\n",
       "</table>\n",
       "</div>"
      ],
      "text/plain": [
       "        Variable_1        Variable_2  Correlacion\n",
       "0    oldbalanceorg    newbalanceorig        0.999\n",
       "1   oldbalancedest    newbalancedest        0.978\n",
       "2             step               dia        0.960\n",
       "3           amount  errorbalanceorig       -0.881\n",
       "4  connection_time    security_alert       -0.520\n",
       "5             step              hora        0.383\n",
       "6          isfraud   step_importance        0.348\n",
       "7           amount    newbalancedest        0.312"
      ]
     },
     "execution_count": 12,
     "metadata": {},
     "output_type": "execute_result"
    }
   ],
   "source": [
    "top_correlation(data,metodo='pearson',limit_inf=0.3)"
   ]
  },
  {
   "cell_type": "markdown",
   "metadata": {
    "id": "2RmsTdqYzNnP"
   },
   "source": [
    "### Correlacion entre todas las variables. Spearman.\n",
    "Sabemos que Spearman solo nos detectará correlacioens entre variables cuya relación sea monotonica, pero Kramners se eternizaba en su cálculo.\n",
    "\n",
    "Mediremos la fuerza y la dirección de la asociación entre las variables clasificadas. \n",
    "\n"
   ]
  },
  {
   "cell_type": "code",
   "execution_count": 13,
   "metadata": {
    "colab": {
     "base_uri": "https://localhost:8080/",
     "height": 909
    },
    "id": "rBBErh7T4xyG",
    "outputId": "14e6e049-0f36-44a8-c627-7ba7730863ac"
   },
   "outputs": [
    {
     "data": {
      "image/png": "[encoded data removed]",
      "text/plain": [
       "<Figure size 1500x1500 with 2 Axes>"
      ]
     },
     "metadata": {},
     "output_type": "display_data"
    }
   ],
   "source": [
    "get_corr_matrix(dataset = data, \n",
    "                    isnumeric=False, \n",
    "                    size_figure=[15,15],\n",
    "                    limit=0)"
   ]
  },
  {
   "cell_type": "markdown",
   "metadata": {
    "id": "dtRk2GlpzrHU"
   },
   "source": [
    "Detecta la relación inversa entre step_order y step_importance de manera perfecta, prescindiremso de step_order.\n",
    "Los nombres, considerados como la aparición por primera vez se relacionan con step. Borraremos los nombres.\n",
    "Nuestra regla de fraude, es un cañon detectando fraud, y así lo detecta la correlación de Speraman.\n",
    "Los errores en origen y destino están muy correlacionados, así como como amount y el error en origen. \n",
    "\n",
    "Step se relacioan con día y hora de manera muy significativa, dejaremos step y prescindiremos de nuestro día y hora.\n",
    "\n",
    "Precindiremos de segemto al estar muy correlacionado con type.\n",
    "\n",
    "Al estar muy relacionado oldbalance y newbalance, nos quedaremos con newbalanceorig para qqudarnos con el saldo incicial de la transacción y oldbalncedestin para que al modelo entre el saldo final de la transacción.\n",
    "\n",
    "Preferrimos que el modelo pivote sobre errorbalanceorig, en vez de amount, al estar correlacioandos al 97 %.\n",
    "\n"
   ]
  },
  {
   "cell_type": "code",
   "execution_count": 14,
   "metadata": {
    "colab": {
     "base_uri": "https://localhost:8080/",
     "height": 1000
    },
    "id": "NdryScog52vk",
    "outputId": "5f91f2e9-1c69-4219-8161-cbb520413e48"
   },
   "outputs": [
    {
     "data": {
      "text/html": [
       "<div>\n",
       "<style scoped>\n",
       "    .dataframe tbody tr th:only-of-type {\n",
       "        vertical-align: middle;\n",
       "    }\n",
       "\n",
       "    .dataframe tbody tr th {\n",
       "        vertical-align: top;\n",
       "    }\n",
       "\n",
       "    .dataframe thead th {\n",
       "        text-align: right;\n",
       "    }\n",
       "</style>\n",
       "<table border=\"1\" class=\"dataframe\">\n",
       "  <thead>\n",
       "    <tr style=\"text-align: right;\">\n",
       "      <th></th>\n",
       "      <th>Variable_1</th>\n",
       "      <th>Variable_2</th>\n",
       "      <th>Correlacion</th>\n",
       "    </tr>\n",
       "  </thead>\n",
       "  <tbody>\n",
       "    <tr>\n",
       "      <th>0</th>\n",
       "      <td>step_order</td>\n",
       "      <td>step_importance</td>\n",
       "      <td>-1.000</td>\n",
       "    </tr>\n",
       "    <tr>\n",
       "      <th>1</th>\n",
       "      <td>step</td>\n",
       "      <td>nameorig</td>\n",
       "      <td>0.999</td>\n",
       "    </tr>\n",
       "    <tr>\n",
       "      <th>2</th>\n",
       "      <td>isfraud</td>\n",
       "      <td>fraud_rules</td>\n",
       "      <td>0.985</td>\n",
       "    </tr>\n",
       "    <tr>\n",
       "      <th>3</th>\n",
       "      <td>oldbalancedest</td>\n",
       "      <td>newbalancedest</td>\n",
       "      <td>0.925</td>\n",
       "    </tr>\n",
       "    <tr>\n",
       "      <th>4</th>\n",
       "      <td>step</td>\n",
       "      <td>dia</td>\n",
       "      <td>0.871</td>\n",
       "    </tr>\n",
       "    <tr>\n",
       "      <th>5</th>\n",
       "      <td>nameorig</td>\n",
       "      <td>dia</td>\n",
       "      <td>0.870</td>\n",
       "    </tr>\n",
       "    <tr>\n",
       "      <th>6</th>\n",
       "      <td>type</td>\n",
       "      <td>segmento</td>\n",
       "      <td>0.861</td>\n",
       "    </tr>\n",
       "    <tr>\n",
       "      <th>7</th>\n",
       "      <td>oldbalanceorg</td>\n",
       "      <td>newbalanceorig</td>\n",
       "      <td>0.815</td>\n",
       "    </tr>\n",
       "    <tr>\n",
       "      <th>8</th>\n",
       "      <td>newbalanceorig</td>\n",
       "      <td>errorbalanceorig</td>\n",
       "      <td>0.813</td>\n",
       "    </tr>\n",
       "    <tr>\n",
       "      <th>9</th>\n",
       "      <td>newbalancedest</td>\n",
       "      <td>segmento</td>\n",
       "      <td>0.780</td>\n",
       "    </tr>\n",
       "    <tr>\n",
       "      <th>10</th>\n",
       "      <td>amount</td>\n",
       "      <td>segmento</td>\n",
       "      <td>0.752</td>\n",
       "    </tr>\n",
       "    <tr>\n",
       "      <th>11</th>\n",
       "      <td>oldbalancedest</td>\n",
       "      <td>segmento</td>\n",
       "      <td>0.748</td>\n",
       "    </tr>\n",
       "    <tr>\n",
       "      <th>12</th>\n",
       "      <td>amount</td>\n",
       "      <td>newbalancedest</td>\n",
       "      <td>0.672</td>\n",
       "    </tr>\n",
       "    <tr>\n",
       "      <th>13</th>\n",
       "      <td>nameorig</td>\n",
       "      <td>namedest</td>\n",
       "      <td>0.672</td>\n",
       "    </tr>\n",
       "    <tr>\n",
       "      <th>14</th>\n",
       "      <td>step</td>\n",
       "      <td>namedest</td>\n",
       "      <td>0.672</td>\n",
       "    </tr>\n",
       "    <tr>\n",
       "      <th>15</th>\n",
       "      <td>type</td>\n",
       "      <td>oldbalancedest</td>\n",
       "      <td>0.637</td>\n",
       "    </tr>\n",
       "    <tr>\n",
       "      <th>16</th>\n",
       "      <td>oldbalanceorg</td>\n",
       "      <td>errorbalanceorig</td>\n",
       "      <td>0.608</td>\n",
       "    </tr>\n",
       "    <tr>\n",
       "      <th>17</th>\n",
       "      <td>amount</td>\n",
       "      <td>oldbalancedest</td>\n",
       "      <td>0.603</td>\n",
       "    </tr>\n",
       "    <tr>\n",
       "      <th>18</th>\n",
       "      <td>type</td>\n",
       "      <td>newbalancedest</td>\n",
       "      <td>0.577</td>\n",
       "    </tr>\n",
       "    <tr>\n",
       "      <th>19</th>\n",
       "      <td>type</td>\n",
       "      <td>amount</td>\n",
       "      <td>0.574</td>\n",
       "    </tr>\n",
       "    <tr>\n",
       "      <th>20</th>\n",
       "      <td>step</td>\n",
       "      <td>hora</td>\n",
       "      <td>0.558</td>\n",
       "    </tr>\n",
       "    <tr>\n",
       "      <th>21</th>\n",
       "      <td>nameorig</td>\n",
       "      <td>hora</td>\n",
       "      <td>0.557</td>\n",
       "    </tr>\n",
       "    <tr>\n",
       "      <th>22</th>\n",
       "      <td>namedest</td>\n",
       "      <td>dia</td>\n",
       "      <td>0.553</td>\n",
       "    </tr>\n",
       "    <tr>\n",
       "      <th>23</th>\n",
       "      <td>connection_time</td>\n",
       "      <td>security_alert</td>\n",
       "      <td>-0.520</td>\n",
       "    </tr>\n",
       "    <tr>\n",
       "      <th>24</th>\n",
       "      <td>namedest</td>\n",
       "      <td>oldbalancedest</td>\n",
       "      <td>-0.492</td>\n",
       "    </tr>\n",
       "    <tr>\n",
       "      <th>25</th>\n",
       "      <td>amount</td>\n",
       "      <td>errorbalanceorig</td>\n",
       "      <td>-0.483</td>\n",
       "    </tr>\n",
       "    <tr>\n",
       "      <th>26</th>\n",
       "      <td>namedest</td>\n",
       "      <td>newbalancedest</td>\n",
       "      <td>-0.482</td>\n",
       "    </tr>\n",
       "    <tr>\n",
       "      <th>27</th>\n",
       "      <td>newbalancedest</td>\n",
       "      <td>errorbalanceorig</td>\n",
       "      <td>-0.419</td>\n",
       "    </tr>\n",
       "    <tr>\n",
       "      <th>28</th>\n",
       "      <td>namedest</td>\n",
       "      <td>hora</td>\n",
       "      <td>0.413</td>\n",
       "    </tr>\n",
       "    <tr>\n",
       "      <th>29</th>\n",
       "      <td>namedest</td>\n",
       "      <td>segmento</td>\n",
       "      <td>-0.395</td>\n",
       "    </tr>\n",
       "    <tr>\n",
       "      <th>30</th>\n",
       "      <td>errorbalanceorig</td>\n",
       "      <td>errorbalancedest</td>\n",
       "      <td>-0.394</td>\n",
       "    </tr>\n",
       "    <tr>\n",
       "      <th>31</th>\n",
       "      <td>type</td>\n",
       "      <td>newbalanceorig</td>\n",
       "      <td>0.381</td>\n",
       "    </tr>\n",
       "    <tr>\n",
       "      <th>32</th>\n",
       "      <td>newbalanceorig</td>\n",
       "      <td>errorbalancedest</td>\n",
       "      <td>-0.370</td>\n",
       "    </tr>\n",
       "    <tr>\n",
       "      <th>33</th>\n",
       "      <td>amount</td>\n",
       "      <td>namedest</td>\n",
       "      <td>-0.340</td>\n",
       "    </tr>\n",
       "    <tr>\n",
       "      <th>34</th>\n",
       "      <td>type</td>\n",
       "      <td>namedest</td>\n",
       "      <td>-0.333</td>\n",
       "    </tr>\n",
       "    <tr>\n",
       "      <th>35</th>\n",
       "      <td>device</td>\n",
       "      <td>security_alert</td>\n",
       "      <td>0.333</td>\n",
       "    </tr>\n",
       "    <tr>\n",
       "      <th>36</th>\n",
       "      <td>type</td>\n",
       "      <td>oldbalanceorg</td>\n",
       "      <td>0.320</td>\n",
       "    </tr>\n",
       "    <tr>\n",
       "      <th>37</th>\n",
       "      <td>amount</td>\n",
       "      <td>errorbalancedest</td>\n",
       "      <td>0.314</td>\n",
       "    </tr>\n",
       "    <tr>\n",
       "      <th>38</th>\n",
       "      <td>segmento</td>\n",
       "      <td>errorbalanceorig</td>\n",
       "      <td>-0.313</td>\n",
       "    </tr>\n",
       "  </tbody>\n",
       "</table>\n",
       "</div>"
      ],
      "text/plain": [
       "          Variable_1        Variable_2  Correlacion\n",
       "0         step_order   step_importance       -1.000\n",
       "1               step          nameorig        0.999\n",
       "2            isfraud       fraud_rules        0.985\n",
       "3     oldbalancedest    newbalancedest        0.925\n",
       "4               step               dia        0.871\n",
       "5           nameorig               dia        0.870\n",
       "6               type          segmento        0.861\n",
       "7      oldbalanceorg    newbalanceorig        0.815\n",
       "8     newbalanceorig  errorbalanceorig        0.813\n",
       "9     newbalancedest          segmento        0.780\n",
       "10            amount          segmento        0.752\n",
       "11    oldbalancedest          segmento        0.748\n",
       "12            amount    newbalancedest        0.672\n",
       "13          nameorig          namedest        0.672\n",
       "14              step          namedest        0.672\n",
       "15              type    oldbalancedest        0.637\n",
       "16     oldbalanceorg  errorbalanceorig        0.608\n",
       "17            amount    oldbalancedest        0.603\n",
       "18              type    newbalancedest        0.577\n",
       "19              type            amount        0.574\n",
       "20              step              hora        0.558\n",
       "21          nameorig              hora        0.557\n",
       "22          namedest               dia        0.553\n",
       "23   connection_time    security_alert       -0.520\n",
       "24          namedest    oldbalancedest       -0.492\n",
       "25            amount  errorbalanceorig       -0.483\n",
       "26          namedest    newbalancedest       -0.482\n",
       "27    newbalancedest  errorbalanceorig       -0.419\n",
       "28          namedest              hora        0.413\n",
       "29          namedest          segmento       -0.395\n",
       "30  errorbalanceorig  errorbalancedest       -0.394\n",
       "31              type    newbalanceorig        0.381\n",
       "32    newbalanceorig  errorbalancedest       -0.370\n",
       "33            amount          namedest       -0.340\n",
       "34              type          namedest       -0.333\n",
       "35            device    security_alert        0.333\n",
       "36              type     oldbalanceorg        0.320\n",
       "37            amount  errorbalancedest        0.314\n",
       "38          segmento  errorbalanceorig       -0.313"
      ]
     },
     "execution_count": 14,
     "metadata": {},
     "output_type": "execute_result"
    }
   ],
   "source": [
    "top_correlation(data,metodo='spearman',limit_inf=0.3)"
   ]
  },
  {
   "cell_type": "markdown",
   "metadata": {
    "id": "0WsmNrz322tA"
   },
   "source": [
    "A la vista de los resultados de ambas matrices de correlación procedemos a eliminar una de las caracterisiticas que aparecen en los pares de variables alatamente correlacionadas. \n",
    "Mantenemos step ante dia y hora.\n",
    "\n",
    "Eliminamos los nombres al estar altamente asocados a step.\n",
    "\n",
    "Preferimos mantener, el saldo inicial de la cuenta (oldbalanceorg) y el saldo final de la cuenta destino ( newbalancedest), frente a amount y los \"saldos intermedios\".\n",
    "\n",
    "Mantenemos segmento frente a type de las operacioens.\n",
    "\n",
    "Y eliminamos connection_time al estar muy asociado a security_alert.\n"
   ]
  },
  {
   "cell_type": "code",
   "execution_count": 15,
   "metadata": {
    "id": "N_HKb7S8ElUX"
   },
   "outputs": [],
   "source": [
    "features_a_eliminar=['step_order','nameorig','amount','oldbalancedest','dia',\t'type', 'newbalanceorig',\t'namedest','hora','connection_time']"
   ]
  },
  {
   "cell_type": "code",
   "execution_count": 16,
   "metadata": {
    "id": "1lfq2d8gFtfs"
   },
   "outputs": [],
   "source": [
    "data=data.drop(features_a_eliminar,axis=1)"
   ]
  },
  {
   "cell_type": "markdown",
   "metadata": {
    "id": "IFe_fc5l2_ls"
   },
   "source": [
    "Revisamos las crrelaciones alta que mantenemos, y las damos por permisibles.\n",
    "Nos interesa mantener nuestra regla, veremos sí los modelos mejoran este alto grado de acierto, que conseguimos de manera determinista."
   ]
  },
  {
   "cell_type": "code",
   "execution_count": 17,
   "metadata": {
    "colab": {
     "base_uri": "https://localhost:8080/",
     "height": 269
    },
    "id": "VC36uLJxF7dw",
    "outputId": "2a17e4ee-ae05-4496-985e-d17645859ed2"
   },
   "outputs": [
    {
     "data": {
      "text/html": [
       "<div>\n",
       "<style scoped>\n",
       "    .dataframe tbody tr th:only-of-type {\n",
       "        vertical-align: middle;\n",
       "    }\n",
       "\n",
       "    .dataframe tbody tr th {\n",
       "        vertical-align: top;\n",
       "    }\n",
       "\n",
       "    .dataframe thead th {\n",
       "        text-align: right;\n",
       "    }\n",
       "</style>\n",
       "<table border=\"1\" class=\"dataframe\">\n",
       "  <thead>\n",
       "    <tr style=\"text-align: right;\">\n",
       "      <th></th>\n",
       "      <th>Variable_1</th>\n",
       "      <th>Variable_2</th>\n",
       "      <th>Correlacion</th>\n",
       "    </tr>\n",
       "  </thead>\n",
       "  <tbody>\n",
       "    <tr>\n",
       "      <th>0</th>\n",
       "      <td>isfraud</td>\n",
       "      <td>fraud_rules</td>\n",
       "      <td>0.985</td>\n",
       "    </tr>\n",
       "    <tr>\n",
       "      <th>1</th>\n",
       "      <td>newbalancedest</td>\n",
       "      <td>segmento</td>\n",
       "      <td>0.780</td>\n",
       "    </tr>\n",
       "    <tr>\n",
       "      <th>2</th>\n",
       "      <td>oldbalanceorg</td>\n",
       "      <td>errorbalanceorig</td>\n",
       "      <td>0.608</td>\n",
       "    </tr>\n",
       "    <tr>\n",
       "      <th>3</th>\n",
       "      <td>newbalancedest</td>\n",
       "      <td>errorbalanceorig</td>\n",
       "      <td>-0.419</td>\n",
       "    </tr>\n",
       "    <tr>\n",
       "      <th>4</th>\n",
       "      <td>errorbalanceorig</td>\n",
       "      <td>errorbalancedest</td>\n",
       "      <td>-0.394</td>\n",
       "    </tr>\n",
       "    <tr>\n",
       "      <th>5</th>\n",
       "      <td>device</td>\n",
       "      <td>security_alert</td>\n",
       "      <td>0.333</td>\n",
       "    </tr>\n",
       "    <tr>\n",
       "      <th>6</th>\n",
       "      <td>segmento</td>\n",
       "      <td>errorbalanceorig</td>\n",
       "      <td>-0.313</td>\n",
       "    </tr>\n",
       "  </tbody>\n",
       "</table>\n",
       "</div>"
      ],
      "text/plain": [
       "         Variable_1        Variable_2  Correlacion\n",
       "0           isfraud       fraud_rules        0.985\n",
       "1    newbalancedest          segmento        0.780\n",
       "2     oldbalanceorg  errorbalanceorig        0.608\n",
       "3    newbalancedest  errorbalanceorig       -0.419\n",
       "4  errorbalanceorig  errorbalancedest       -0.394\n",
       "5            device    security_alert        0.333\n",
       "6          segmento  errorbalanceorig       -0.313"
      ]
     },
     "execution_count": 17,
     "metadata": {},
     "output_type": "execute_result"
    }
   ],
   "source": [
    "top_correlation(data,metodo='spearman',limit_inf=0.3)"
   ]
  },
  {
   "cell_type": "code",
   "execution_count": null,
   "metadata": {
    "id": "-eHdXP4U0D8o"
   },
   "outputs": [],
   "source": []
  },
  {
   "cell_type": "code",
   "execution_count": 18,
   "metadata": {
    "id": "xOg2h4VaUFFe"
   },
   "outputs": [],
   "source": [
    "# Volvemos  tupo categoria las varibales categoria.\n",
    "to_category= [col for col in data.columns if col in categorical_vars]\n",
    "data[to_category] = data[to_category].astype('category')"
   ]
  },
  {
   "cell_type": "markdown",
   "metadata": {
    "id": "v7_A5gBY8ZGX"
   },
   "source": [
    "## Construción de conjunto de entrenamiento y test.\n",
    "Construimos nuestros sets de entrenamiento y test, con estratificación por el target. De manera que nos aseguramos mantener la misma proporción de isfraud en ambos conjuntos. "
   ]
  },
  {
   "cell_type": "code",
   "execution_count": null,
   "metadata": {
    "id": "YIwRXuIV33T5"
   },
   "outputs": [],
   "source": []
  },
  {
   "cell_type": "code",
   "execution_count": 19,
   "metadata": {
    "id": "o-AdD0CXQSul"
   },
   "outputs": [],
   "source": [
    "# Hacemos nuestro sets de features y target.\n",
    "X=data.drop(['isfraud'],axis=1)\n",
    "y=data['isfraud']"
   ]
  },
  {
   "cell_type": "code",
   "execution_count": 20,
   "metadata": {
    "id": "4PX8Qr69Qqq0"
   },
   "outputs": [],
   "source": [
    "X_train,X_test,y_train,y_test = train_test_split(X,y, test_size=0.20,random_state=42,stratify=y)"
   ]
  },
  {
   "cell_type": "code",
   "execution_count": 21,
   "metadata": {
    "colab": {
     "base_uri": "https://localhost:8080/"
    },
    "id": "4C6mPiOPks9C",
    "outputId": "3ace465b-df40-4083-fde9-06e4c4d54f3a"
   },
   "outputs": [
    {
     "name": "stdout",
     "output_type": "stream",
     "text": [
      "Requirement already satisfied: category_encoders in c:\\users\\sotop\\anaconda3\\envs\\practica0\\lib\\site-packages (2.5.0)\n",
      "Requirement already satisfied: numpy>=1.14.0 in c:\\users\\sotop\\anaconda3\\envs\\practica0\\lib\\site-packages (from category_encoders) (1.23.1)\n",
      "Requirement already satisfied: scikit-learn>=0.20.0 in c:\\users\\sotop\\anaconda3\\envs\\practica0\\lib\\site-packages (from category_encoders) (1.1.2)\n",
      "Requirement already satisfied: patsy>=0.5.1 in c:\\users\\sotop\\anaconda3\\envs\\practica0\\lib\\site-packages (from category_encoders) (0.5.2)\n",
      "Requirement already satisfied: statsmodels>=0.9.0 in c:\\users\\sotop\\anaconda3\\envs\\practica0\\lib\\site-packages (from category_encoders) (0.13.2)\n",
      "Requirement already satisfied: pandas>=1.0.5 in c:\\users\\sotop\\anaconda3\\envs\\practica0\\lib\\site-packages (from category_encoders) (1.4.4)\n",
      "Requirement already satisfied: scipy>=1.0.0 in c:\\users\\sotop\\anaconda3\\envs\\practica0\\lib\\site-packages (from category_encoders) (1.9.1)\n",
      "Requirement already satisfied: python-dateutil>=2.8.1 in c:\\users\\sotop\\anaconda3\\envs\\practica0\\lib\\site-packages (from pandas>=1.0.5->category_encoders) (2.8.2)\n",
      "Requirement already satisfied: pytz>=2020.1 in c:\\users\\sotop\\anaconda3\\envs\\practica0\\lib\\site-packages (from pandas>=1.0.5->category_encoders) (2022.1)\n",
      "Requirement already satisfied: six in c:\\users\\sotop\\anaconda3\\envs\\practica0\\lib\\site-packages (from patsy>=0.5.1->category_encoders) (1.16.0)\n",
      "Requirement already satisfied: threadpoolctl>=2.0.0 in c:\\users\\sotop\\anaconda3\\envs\\practica0\\lib\\site-packages (from scikit-learn>=0.20.0->category_encoders) (2.2.0)\n",
      "Requirement already satisfied: joblib>=1.0.0 in c:\\users\\sotop\\anaconda3\\envs\\practica0\\lib\\site-packages (from scikit-learn>=0.20.0->category_encoders) (1.1.0)\n",
      "Requirement already satisfied: packaging>=21.3 in c:\\users\\sotop\\anaconda3\\envs\\practica0\\lib\\site-packages (from statsmodels>=0.9.0->category_encoders) (21.3)\n",
      "Requirement already satisfied: pyparsing!=3.0.5,>=2.0.2 in c:\\users\\sotop\\anaconda3\\envs\\practica0\\lib\\site-packages (from packaging>=21.3->statsmodels>=0.9.0->category_encoders) (3.0.9)\n"
     ]
    }
   ],
   "source": [
    "!pip install category_encoders\n",
    "import category_encoders as ce\n",
    "from sklearn.preprocessing import OneHotEncoder"
   ]
  },
  {
   "cell_type": "code",
   "execution_count": 22,
   "metadata": {
    "id": "7ccnW8iyRhB_"
   },
   "outputs": [],
   "source": [
    "# Construimos dummies para las variables categoricas.\n",
    "\n",
    "list_columns_cat = [col for col in X_train.columns if col in categorical_vars ]\n",
    "list_other = list(set(X_train.columns)-set(list_columns_cat))\n",
    "one = ce.OneHotEncoder(cols=list_columns_cat)\n",
    "model = one.fit(X_train, y_train)"
   ]
  },
  {
   "cell_type": "code",
   "execution_count": 23,
   "metadata": {
    "colab": {
     "base_uri": "https://localhost:8080/"
    },
    "id": "UiVLXV7uksO2",
    "outputId": "c6a99912-21ef-45c2-c55b-69301129131f"
   },
   "outputs": [
    {
     "data": {
      "text/plain": [
       "30"
      ]
     },
     "execution_count": 23,
     "metadata": {},
     "output_type": "execute_result"
    }
   ],
   "source": [
    "X_train_t = model.transform(X_train, y_train)\n",
    "X_test_t = model.transform(X_test, y_test)\n",
    "len(list(X_train_t.columns))"
   ]
  },
  {
   "cell_type": "code",
   "execution_count": null,
   "metadata": {
    "id": "DEYF-uQrnNLo"
   },
   "outputs": [],
   "source": []
  },
  {
   "cell_type": "code",
   "execution_count": 24,
   "metadata": {
    "id": "jKD5oQZfnAPv"
   },
   "outputs": [],
   "source": [
    "# Estandarizamos todas las variables, media 0, desviacion estandar 1.\n",
    "\n",
    "scaler = StandardScaler()\n",
    "model_scaled = scaler.fit(X_train_t)\n",
    "X_train_scaled = pd.DataFrame(scaler.transform(X_train_t), columns=X_train_t.columns, index=X_train_t.index)\n",
    "X_test_scaled = pd.DataFrame(scaler.transform(X_test_t), columns=X_test_t.columns, index=X_test.index)"
   ]
  },
  {
   "cell_type": "code",
   "execution_count": null,
   "metadata": {
    "id": "qf6FjBokCOax"
   },
   "outputs": [],
   "source": []
  },
  {
   "cell_type": "markdown",
   "metadata": {
    "id": "umcGqmMH9s1n"
   },
   "source": [
    "## Selección de caracterisiticas.\n",
    "\n",
    "Vamos a realizar una bisqueda de caracteristicas relevantes por varios metodos al objeto de conseguir un set que nos asegure obtener el mejor resultado con el menor número de caracterisitcas implicadas en el modelo. Mediante esta tecnica intentamos salvaguardar al modelo de la maldición de la dimensionalidad, que acarrea generalmnte overfitting. Nos ayudará a que nuestros modelos sean faciles de explicar.\n",
    "\n",
    "Utilizamos la técnica clásica de intentar limitar a 1/2 de las caracterisiticas originales, en este caso 15. Observaremso como, en este caso, necesitaremos muchas menos.\n",
    "\n",
    "\n"
   ]
  },
  {
   "cell_type": "markdown",
   "metadata": {
    "id": "0hHNyE4xgE11"
   },
   "source": [
    "1. Correlación de Pearson.\n",
    "\n",
    "Calculamos  el valor absoluto de la correlación de Pearson entre el objetivo y las características numéricas en nuestro conjunto de datos. Mantenemos las n características principales en función de este criterio."
   ]
  },
  {
   "cell_type": "code",
   "execution_count": 25,
   "metadata": {
    "colab": {
     "base_uri": "https://localhost:8080/"
    },
    "id": "kOYtNoJ89fJF",
    "outputId": "835bb466-8998-4295-8118-8b7ad58e40e3"
   },
   "outputs": [
    {
     "name": "stdout",
     "output_type": "stream",
     "text": [
      "15 selected features\n"
     ]
    }
   ],
   "source": [
    "\n",
    "def cor_selector(X, y,num_feats):\n",
    "    cor_list = []\n",
    "    feature_name = X.columns.tolist()\n",
    "    # calculate the correlation with y for each feature\n",
    "    for i in X.columns.tolist():\n",
    "        cor = np.corrcoef(X[i], y)[0, 1]\n",
    "        cor_list.append(cor)\n",
    "    # replace NaN with 0\n",
    "    cor_list = [0 if np.isnan(i) else i for i in cor_list]\n",
    "    # feature name\n",
    "    cor_feature = X.iloc[:,np.argsort(np.abs(cor_list))[-num_feats:]].columns.tolist()\n",
    "    # feature selection? 0 for not select, 1 for select\n",
    "    cor_support = [True if i in cor_feature else False for i in feature_name]\n",
    "    return cor_support, cor_feature\n",
    "cor_support, cor_feature = cor_selector(X_train_scaled, y_train,15)\n",
    "print(str(len(cor_feature)), 'selected features')"
   ]
  },
  {
   "cell_type": "code",
   "execution_count": 26,
   "metadata": {
    "colab": {
     "base_uri": "https://localhost:8080/"
    },
    "id": "qVKGJ_BuBvm9",
    "outputId": "3fd283b6-df37-4888-c9ee-387fc7a38198"
   },
   "outputs": [
    {
     "data": {
      "text/plain": [
       "['race_3',\n",
       " 'device_4',\n",
       " 'user_number',\n",
       " 'device_1',\n",
       " 'gender_4',\n",
       " 'user_connections',\n",
       " 'oldbalanceorg',\n",
       " 'errorbalanceorig',\n",
       " 'segmento_2',\n",
       " 'segmento_1',\n",
       " 'step',\n",
       " 'errorbalancedest',\n",
       " 'step_importance',\n",
       " 'fraud_rules_1',\n",
       " 'fraud_rules_2']"
      ]
     },
     "execution_count": 26,
     "metadata": {},
     "output_type": "execute_result"
    }
   ],
   "source": [
    "cor_feature"
   ]
  },
  {
   "cell_type": "markdown",
   "metadata": {
    "id": "e7_apDYuh5KJ"
   },
   "source": [
    "2. Chi-2.\n",
    "\n",
    "En este método, calculamos la métrica de chi-cuadrado entre el objetivo y las variables numéricas y solo seleccionamos la variable con los valores máximos de chi-cuadrado.\n",
    "\n",
    "Este metodo solo funciona con valores númericos, no negativos, para poder aplicarlo realizamos transformación MinMax a nuestro dataset."
   ]
  },
  {
   "cell_type": "code",
   "execution_count": 27,
   "metadata": {
    "colab": {
     "base_uri": "https://localhost:8080/"
    },
    "id": "BUYgjAvgCgJf",
    "outputId": "8a61240d-531b-4bac-9f39-f2e66a2d670b"
   },
   "outputs": [
    {
     "name": "stdout",
     "output_type": "stream",
     "text": [
      "15 selected features\n"
     ]
    }
   ],
   "source": [
    "\n",
    "from sklearn.feature_selection import SelectKBest\n",
    "from sklearn.feature_selection import chi2\n",
    "from sklearn.preprocessing import MinMaxScaler\n",
    "\n",
    "X_norm = MinMaxScaler().fit_transform(X_train_t)\n",
    "chi_selector = SelectKBest(chi2, k=15)\n",
    "chi_selector.fit(X_norm, y_train)\n",
    "chi_support = chi_selector.get_support()\n",
    "chi_feature = X_train_t.loc[:,chi_support].columns.tolist()\n",
    "print(str(len(chi_feature)), 'selected features')"
   ]
  },
  {
   "cell_type": "code",
   "execution_count": 28,
   "metadata": {
    "colab": {
     "base_uri": "https://localhost:8080/"
    },
    "id": "X4ydIcsCDZkl",
    "outputId": "bba7cd11-76ae-4b32-fc89-22239150c862"
   },
   "outputs": [
    {
     "data": {
      "text/plain": [
       "['step',\n",
       " 'gender_1',\n",
       " 'gender_4',\n",
       " 'device_1',\n",
       " 'device_4',\n",
       " 'race_1',\n",
       " 'race_3',\n",
       " 'oldbalanceorg',\n",
       " 'security_alert',\n",
       " 'step_importance',\n",
       " 'segmento_1',\n",
       " 'segmento_2',\n",
       " 'fraud_rules_1',\n",
       " 'fraud_rules_2',\n",
       " 'errorbalancedest']"
      ]
     },
     "execution_count": 28,
     "metadata": {},
     "output_type": "execute_result"
    }
   ],
   "source": [
    "chi_feature"
   ]
  },
  {
   "cell_type": "markdown",
   "metadata": {
    "id": "-kKUlTLWieoM"
   },
   "source": [
    "3. Eliminación recursiva de características. RFE.\n",
    "\n",
    "De la documentación de sk-learn.\n",
    "El objetivo de la eliminación recursiva de características (RFE) es seleccionar características recursivamente considerando conjuntos de características cada vez más pequeños. \n",
    "\n",
    "Primero, el estimador se entrena en el conjunto inicial de características y la importancia de cada característica se obtiene a través de un coef_atributo oa través de un feature_importances_atributo. Luego, las características menos importantes se eliminan del conjunto actual de características. \n",
    "\n",
    "Ese procedimiento se repite recursivamente en el conjunto podado hasta que finalmente se alcanza el número deseado de características para seleccionar.\n",
    "\n",
    "Uusamos LogisticRegression, y el RFE observa el coef_ atributo del LogisticRegressionobjeto"
   ]
  },
  {
   "cell_type": "code",
   "execution_count": 29,
   "metadata": {
    "colab": {
     "base_uri": "https://localhost:8080/"
    },
    "id": "OUJp4er8DrFM",
    "outputId": "080cc108-3337-4b5b-ad44-6590b096ae2e"
   },
   "outputs": [
    {
     "name": "stdout",
     "output_type": "stream",
     "text": [
      "Fitting estimator with 30 features.\n",
      "Fitting estimator with 28 features.\n",
      "Fitting estimator with 26 features.\n",
      "Fitting estimator with 24 features.\n",
      "Fitting estimator with 22 features.\n",
      "Fitting estimator with 20 features.\n",
      "Fitting estimator with 18 features.\n",
      "Fitting estimator with 16 features.\n",
      "15 selected features\n"
     ]
    }
   ],
   "source": [
    "from sklearn.feature_selection import RFE\n",
    "from sklearn.linear_model import LogisticRegression\n",
    "rfe_selector = RFE(estimator=LogisticRegression(), n_features_to_select=15, step=2, verbose=5)\n",
    "rfe_selector.fit(X_norm, y_train)\n",
    "rfe_support = rfe_selector.get_support()\n",
    "rfe_feature = X_train_t.loc[:,rfe_support].columns.tolist()\n",
    "print(str(len(rfe_feature)), 'selected features')"
   ]
  },
  {
   "cell_type": "code",
   "execution_count": 30,
   "metadata": {
    "colab": {
     "base_uri": "https://localhost:8080/"
    },
    "id": "XxljshFBDrJr",
    "outputId": "e73675d5-c489-4900-d119-5decbfe98091"
   },
   "outputs": [
    {
     "data": {
      "text/plain": [
       "['step',\n",
       " 'gender_3',\n",
       " 'device_2',\n",
       " 'race_2',\n",
       " 'race_4',\n",
       " 'oldbalanceorg',\n",
       " 'zone_3',\n",
       " 'zone_4',\n",
       " 'newbalancedest',\n",
       " 'step_importance',\n",
       " 'segmento_1',\n",
       " 'segmento_2',\n",
       " 'fraud_rules_1',\n",
       " 'fraud_rules_2',\n",
       " 'errorbalancedest']"
      ]
     },
     "execution_count": 30,
     "metadata": {},
     "output_type": "execute_result"
    }
   ],
   "source": [
    "rfe_feature"
   ]
  },
  {
   "cell_type": "markdown",
   "metadata": {
    "id": "mIRSb_XgjN4z"
   },
   "source": [
    "3. Lasso con SelectFromModel.\n",
    "\n",
    "\n",
    "SelectFromModel un metatransformador que se puede usar junto con cualquier estimador que asigne importancia a cada característica a través de un atributo específico (como coef_, feature_importances_) o mediante un importance_getter ajuste invocable después.\n",
    " Las caracterisicas se consideran sin importancia  y se eliminan si la importancia correspondiente de los valores de las funciones está por debajo del umbral proporcionado como parametro.\n",
    " \n",
    "Se puede usar el max_features como parámetro para establecer un límite en el número de caracteristicas a seleccionar."
   ]
  },
  {
   "cell_type": "code",
   "execution_count": 31,
   "metadata": {
    "colab": {
     "base_uri": "https://localhost:8080/"
    },
    "id": "4YDiUqfcDrOw",
    "outputId": "b8d0e4e4-ed5d-46ca-859a-48193883c870"
   },
   "outputs": [
    {
     "name": "stdout",
     "output_type": "stream",
     "text": [
      "14 selected features\n"
     ]
    }
   ],
   "source": [
    "\n",
    "from sklearn.feature_selection import SelectFromModel\n",
    "from sklearn.linear_model import LogisticRegression\n",
    "\n",
    "embeded_lr_selector = SelectFromModel(LogisticRegression(penalty=\"l1\",solver='liblinear'), max_features=15)\n",
    "embeded_lr_selector.fit(X_norm, y_train)\n",
    "\n",
    "embeded_lr_support = embeded_lr_selector.get_support()\n",
    "embeded_lr_feature = X_train_t.loc[:,embeded_lr_support].columns.tolist()\n",
    "print(str(len(embeded_lr_feature)), 'selected features')"
   ]
  },
  {
   "cell_type": "code",
   "execution_count": 32,
   "metadata": {
    "colab": {
     "base_uri": "https://localhost:8080/"
    },
    "id": "jcjCNcDz2rFr",
    "outputId": "5844c3b2-3a8a-44cc-b680-e9d38eaba19d"
   },
   "outputs": [
    {
     "data": {
      "text/plain": [
       "['gender_3',\n",
       " 'gender_4',\n",
       " 'device_2',\n",
       " 'device_3',\n",
       " 'race_1',\n",
       " 'race_2',\n",
       " 'race_4',\n",
       " 'oldbalanceorg',\n",
       " 'zone_2',\n",
       " 'zone_3',\n",
       " 'zone_4',\n",
       " 'segmento_1',\n",
       " 'fraud_rules_1',\n",
       " 'fraud_rules_2']"
      ]
     },
     "execution_count": 32,
     "metadata": {},
     "output_type": "execute_result"
    }
   ],
   "source": [
    "embeded_lr_feature"
   ]
  },
  {
   "cell_type": "markdown",
   "metadata": {
    "id": "aMA_jBFUkywj"
   },
   "source": [
    "5. Basado en árbol: SelectFromModel.\n",
    "\n",
    "Calculamos la importancia de las características utilizando las impurezas de los nodos en cada árbol de decisión.\n",
    "\n",
    " En Random Forrest, la importancia de la característica final es el promedio de todas las importancias de características del árbol de decisión."
   ]
  },
  {
   "cell_type": "code",
   "execution_count": 33,
   "metadata": {
    "colab": {
     "base_uri": "https://localhost:8080/"
    },
    "id": "8kxFljJdFn07",
    "outputId": "81fcd742-ac8f-4225-b0e1-fc795eea2daf"
   },
   "outputs": [
    {
     "name": "stdout",
     "output_type": "stream",
     "text": [
      "4 selected features\n"
     ]
    }
   ],
   "source": [
    "\n",
    "from sklearn.feature_selection import SelectFromModel\n",
    "from sklearn.ensemble import RandomForestClassifier\n",
    "\n",
    "embeded_rf_selector = SelectFromModel(RandomForestClassifier(n_estimators=10), max_features=15)\n",
    "embeded_rf_selector.fit(X_train_t, y_train)\n",
    "\n",
    "embeded_rf_support = embeded_rf_selector.get_support()\n",
    "embeded_rf_feature = X_train_t.loc[:,embeded_rf_support].columns.tolist()\n",
    "print(str(len(embeded_rf_feature)), 'selected features')"
   ]
  },
  {
   "cell_type": "code",
   "execution_count": 34,
   "metadata": {
    "colab": {
     "base_uri": "https://localhost:8080/"
    },
    "id": "0KlHAnZ9DrSH",
    "outputId": "2a2c6cdd-d8f8-4830-bb76-a0065e684d53"
   },
   "outputs": [
    {
     "data": {
      "text/plain": [
       "['step', 'step_importance', 'fraud_rules_1', 'fraud_rules_2']"
      ]
     },
     "execution_count": 34,
     "metadata": {},
     "output_type": "execute_result"
    }
   ],
   "source": [
    "embeded_rf_feature"
   ]
  },
  {
   "cell_type": "code",
   "execution_count": 37,
   "metadata": {
    "colab": {
     "base_uri": "https://localhost:8080/"
    },
    "id": "MYB1Ot9tG0ef",
    "outputId": "87ec937d-19af-4458-e05e-7dcac57fe827"
   },
   "outputs": [
    {
     "name": "stdout",
     "output_type": "stream",
     "text": [
      "8 selected features\n"
     ]
    }
   ],
   "source": [
    "\n",
    "from sklearn.feature_selection import SelectFromModel\n",
    "from lightgbm import LGBMClassifier\n",
    "\n",
    "lgbc=LGBMClassifier(n_estimators=500, learning_rate=0.05, num_leaves=32, colsample_bytree=0.2,\n",
    "            reg_alpha=3, reg_lambda=1, min_split_gain=0.01, min_child_weight=40)\n",
    "\n",
    "embeded_lgb_selector = SelectFromModel(lgbc, max_features=15)\n",
    "embeded_lgb_selector.fit(X_train_t, y_train)\n",
    "\n",
    "embeded_lgb_support = embeded_lgb_selector.get_support()\n",
    "embeded_lgb_feature = X_train_t.loc[:,embeded_lgb_support].columns.tolist()\n",
    "print(str(len(embeded_lgb_feature)), 'selected features')"
   ]
  },
  {
   "cell_type": "code",
   "execution_count": 38,
   "metadata": {
    "colab": {
     "base_uri": "https://localhost:8080/"
    },
    "id": "ghhQnMiVG0hv",
    "outputId": "996bd16d-fb82-41cc-f12a-65e23bb9e76c"
   },
   "outputs": [
    {
     "data": {
      "text/plain": [
       "['step',\n",
       " 'oldbalanceorg',\n",
       " 'age',\n",
       " 'user_number',\n",
       " 'newbalancedest',\n",
       " 'fraud_rules_1',\n",
       " 'errorbalanceorig',\n",
       " 'errorbalancedest']"
      ]
     },
     "execution_count": 38,
     "metadata": {},
     "output_type": "execute_result"
    }
   ],
   "source": [
    "embeded_lgb_feature"
   ]
  },
  {
   "cell_type": "markdown",
   "metadata": {
    "id": "BJgRUiwunQps"
   },
   "source": [
    "\n",
    "6. Boluta.\n",
    "\n",
    "Algoritmo automatico basado en realizar comparaciones entre las caracterisitcas originales y variaciones aleatorias de las mismas. Se duplica el conjunto de caracterisitcas con variacioens aleatorias de cada una de ellas.\n",
    "\n",
    "La idea básica es que sí una caracterisitica ofrece una ganancia de información menor que la mayor caracterisitica aleatoria, ésta sera inutil. Repitiendo este experimento un númro de veces, inteacciones, y rechazando o aporbando las caracterisiticas basadonse en uan disitribución binomial construuendo unas areas de aceptación, mantener en tentariva o rechazo."
   ]
  },
  {
   "cell_type": "code",
   "execution_count": 40,
   "metadata": {
    "colab": {
     "base_uri": "https://localhost:8080/"
    },
    "id": "UpN_TEMJJ4ak",
    "outputId": "7dde91e3-168f-48ed-e602-07604623c871"
   },
   "outputs": [
    {
     "name": "stdout",
     "output_type": "stream",
     "text": [
      "Collecting Boruta\n",
      "  Downloading Boruta-0.3-py3-none-any.whl (56 kB)\n",
      "     ---------------------------------------- 56.6/56.6 kB 3.1 MB/s eta 0:00:00\n",
      "Requirement already satisfied: scipy>=0.17.0 in c:\\users\\sotop\\anaconda3\\envs\\practica0\\lib\\site-packages (from Boruta) (1.9.1)\n",
      "Requirement already satisfied: numpy>=1.10.4 in c:\\users\\sotop\\anaconda3\\envs\\practica0\\lib\\site-packages (from Boruta) (1.23.1)\n",
      "Requirement already satisfied: scikit-learn>=0.17.1 in c:\\users\\sotop\\anaconda3\\envs\\practica0\\lib\\site-packages (from Boruta) (1.1.2)\n",
      "Requirement already satisfied: threadpoolctl>=2.0.0 in c:\\users\\sotop\\anaconda3\\envs\\practica0\\lib\\site-packages (from scikit-learn>=0.17.1->Boruta) (2.2.0)\n",
      "Requirement already satisfied: joblib>=1.0.0 in c:\\users\\sotop\\anaconda3\\envs\\practica0\\lib\\site-packages (from scikit-learn>=0.17.1->Boruta) (1.1.0)\n",
      "Installing collected packages: Boruta\n",
      "Successfully installed Boruta-0.3\n"
     ]
    }
   ],
   "source": [
    "!pip install Boruta"
   ]
  },
  {
   "cell_type": "code",
   "execution_count": 41,
   "metadata": {
    "colab": {
     "base_uri": "https://localhost:8080/"
    },
    "id": "VXQrazZOG0pM",
    "outputId": "739a9afe-71d9-484a-f4c2-71e457958547"
   },
   "outputs": [
    {
     "name": "stdout",
     "output_type": "stream",
     "text": [
      "Iteration: \t1 / 40\n",
      "Confirmed: \t0\n",
      "Tentative: \t30\n",
      "Rejected: \t0\n",
      "Iteration: \t2 / 40\n",
      "Confirmed: \t0\n",
      "Tentative: \t30\n",
      "Rejected: \t0\n",
      "Iteration: \t3 / 40\n",
      "Confirmed: \t0\n",
      "Tentative: \t30\n",
      "Rejected: \t0\n",
      "Iteration: \t4 / 40\n",
      "Confirmed: \t0\n",
      "Tentative: \t30\n",
      "Rejected: \t0\n",
      "Iteration: \t5 / 40\n",
      "Confirmed: \t0\n",
      "Tentative: \t30\n",
      "Rejected: \t0\n",
      "Iteration: \t6 / 40\n",
      "Confirmed: \t0\n",
      "Tentative: \t30\n",
      "Rejected: \t0\n",
      "Iteration: \t7 / 40\n",
      "Confirmed: \t0\n",
      "Tentative: \t30\n",
      "Rejected: \t0\n",
      "Iteration: \t8 / 40\n",
      "Confirmed: \t7\n",
      "Tentative: \t6\n",
      "Rejected: \t17\n",
      "Iteration: \t9 / 40\n",
      "Confirmed: \t7\n",
      "Tentative: \t6\n",
      "Rejected: \t17\n",
      "Iteration: \t10 / 40\n",
      "Confirmed: \t7\n",
      "Tentative: \t6\n",
      "Rejected: \t17\n",
      "Iteration: \t11 / 40\n",
      "Confirmed: \t7\n",
      "Tentative: \t6\n",
      "Rejected: \t17\n",
      "Iteration: \t12 / 40\n",
      "Confirmed: \t7\n",
      "Tentative: \t3\n",
      "Rejected: \t20\n",
      "Iteration: \t13 / 40\n",
      "Confirmed: \t7\n",
      "Tentative: \t3\n",
      "Rejected: \t20\n",
      "Iteration: \t14 / 40\n",
      "Confirmed: \t7\n",
      "Tentative: \t3\n",
      "Rejected: \t20\n",
      "Iteration: \t15 / 40\n",
      "Confirmed: \t7\n",
      "Tentative: \t3\n",
      "Rejected: \t20\n",
      "Iteration: \t16 / 40\n",
      "Confirmed: \t8\n",
      "Tentative: \t2\n",
      "Rejected: \t20\n",
      "Iteration: \t17 / 40\n",
      "Confirmed: \t8\n",
      "Tentative: \t2\n",
      "Rejected: \t20\n",
      "Iteration: \t18 / 40\n",
      "Confirmed: \t8\n",
      "Tentative: \t2\n",
      "Rejected: \t20\n",
      "Iteration: \t19 / 40\n",
      "Confirmed: \t8\n",
      "Tentative: \t2\n",
      "Rejected: \t20\n",
      "Iteration: \t20 / 40\n",
      "Confirmed: \t8\n",
      "Tentative: \t2\n",
      "Rejected: \t20\n",
      "Iteration: \t21 / 40\n",
      "Confirmed: \t8\n",
      "Tentative: \t2\n",
      "Rejected: \t20\n",
      "Iteration: \t22 / 40\n",
      "Confirmed: \t8\n",
      "Tentative: \t2\n",
      "Rejected: \t20\n",
      "Iteration: \t23 / 40\n",
      "Confirmed: \t8\n",
      "Tentative: \t2\n",
      "Rejected: \t20\n",
      "Iteration: \t24 / 40\n",
      "Confirmed: \t8\n",
      "Tentative: \t2\n",
      "Rejected: \t20\n",
      "Iteration: \t25 / 40\n",
      "Confirmed: \t8\n",
      "Tentative: \t2\n",
      "Rejected: \t20\n",
      "Iteration: \t26 / 40\n",
      "Confirmed: \t8\n",
      "Tentative: \t2\n",
      "Rejected: \t20\n",
      "Iteration: \t27 / 40\n",
      "Confirmed: \t8\n",
      "Tentative: \t2\n",
      "Rejected: \t20\n",
      "Iteration: \t28 / 40\n",
      "Confirmed: \t8\n",
      "Tentative: \t2\n",
      "Rejected: \t20\n",
      "Iteration: \t29 / 40\n",
      "Confirmed: \t8\n",
      "Tentative: \t2\n",
      "Rejected: \t20\n",
      "Iteration: \t30 / 40\n",
      "Confirmed: \t8\n",
      "Tentative: \t2\n",
      "Rejected: \t20\n",
      "Iteration: \t31 / 40\n",
      "Confirmed: \t8\n",
      "Tentative: \t2\n",
      "Rejected: \t20\n",
      "Iteration: \t32 / 40\n",
      "Confirmed: \t8\n",
      "Tentative: \t2\n",
      "Rejected: \t20\n",
      "Iteration: \t33 / 40\n",
      "Confirmed: \t8\n",
      "Tentative: \t2\n",
      "Rejected: \t20\n",
      "Iteration: \t34 / 40\n",
      "Confirmed: \t8\n",
      "Tentative: \t2\n",
      "Rejected: \t20\n",
      "Iteration: \t35 / 40\n",
      "Confirmed: \t8\n",
      "Tentative: \t2\n",
      "Rejected: \t20\n",
      "Iteration: \t36 / 40\n",
      "Confirmed: \t8\n",
      "Tentative: \t2\n",
      "Rejected: \t20\n",
      "Iteration: \t37 / 40\n",
      "Confirmed: \t8\n",
      "Tentative: \t2\n",
      "Rejected: \t20\n",
      "Iteration: \t38 / 40\n",
      "Confirmed: \t8\n",
      "Tentative: \t2\n",
      "Rejected: \t20\n",
      "Iteration: \t39 / 40\n",
      "Confirmed: \t8\n",
      "Tentative: \t2\n",
      "Rejected: \t20\n",
      "\n",
      "\n",
      "BorutaPy finished running.\n",
      "\n",
      "Iteration: \t40 / 40\n",
      "Confirmed: \t8\n",
      "Tentative: \t0\n",
      "Rejected: \t20\n"
     ]
    },
    {
     "data": {
      "text/plain": [
       "array([ 1, 20, 17,  8, 20, 13, 15,  8, 10, 10, 18, 12, 23,  1,  4, 14, 20,\n",
       "        7, 20,  5,  5, 15,  1,  1,  3,  2,  1,  1,  1,  1])"
      ]
     },
     "execution_count": 41,
     "metadata": {},
     "output_type": "execute_result"
    }
   ],
   "source": [
    "from boruta import BorutaPy\n",
    "# sampling in proportion to y labels\n",
    "rf = RandomForestClassifier(n_jobs=-1, max_depth=5) # cambiar los hiperparametros\n",
    "\n",
    "# define Boruta feature selection method\n",
    "feat_selector = BorutaPy(rf, n_estimators=15, max_iter=40,verbose=2, random_state=1)\n",
    "\n",
    "# find all relevant features \n",
    "feat_selector.fit(X_train_t.values, y_train.values) # Importante poner el .values al dataframe, sino dará error\n",
    "\n",
    "# check selected features - first 15 features are selected\n",
    "feat_selector.support_\n",
    "\n",
    "# check ranking of features\n",
    "feat_selector.ranking_"
   ]
  },
  {
   "cell_type": "code",
   "execution_count": 42,
   "metadata": {
    "colab": {
     "base_uri": "https://localhost:8080/"
    },
    "id": "Ck2j-j54KJfp",
    "outputId": "ac455d1a-a148-4b11-c82f-866cfee2c318"
   },
   "outputs": [
    {
     "name": "stdout",
     "output_type": "stream",
     "text": [
      "8 selected features\n"
     ]
    }
   ],
   "source": [
    "\n",
    "embeded_bor_support = feat_selector.support_\n",
    "embeded_bor_feature = X_train_t.loc[:,embeded_bor_support].columns.tolist()\n",
    "print(str(len(embeded_bor_feature)), 'selected features')"
   ]
  },
  {
   "cell_type": "code",
   "execution_count": 43,
   "metadata": {
    "colab": {
     "base_uri": "https://localhost:8080/"
    },
    "id": "3IYQWyhr5_tN",
    "outputId": "93b2193e-1c07-4926-d832-766489de352a"
   },
   "outputs": [
    {
     "data": {
      "text/plain": [
       "['step',\n",
       " 'oldbalanceorg',\n",
       " 'newbalancedest',\n",
       " 'step_importance',\n",
       " 'fraud_rules_1',\n",
       " 'fraud_rules_2',\n",
       " 'errorbalanceorig',\n",
       " 'errorbalancedest']"
      ]
     },
     "execution_count": 43,
     "metadata": {},
     "output_type": "execute_result"
    }
   ],
   "source": [
    "embeded_bor_feature"
   ]
  },
  {
   "cell_type": "code",
   "execution_count": null,
   "metadata": {
    "id": "XsPJYwbNo8oI"
   },
   "outputs": [],
   "source": []
  },
  {
   "cell_type": "markdown",
   "metadata": {
    "id": "-CX0Kwq1o9cb"
   },
   "source": [
    "RESUMEN DE RESULTADOS Y DECISIÓN.\n",
    "\n",
    "Construimos un fraame que nos muestra el número de aparecioens de cada caracterisitica en los distintos metodos de selección.\n",
    "Como no podría ser de otra forma, nuestra fraud_rules, es la primera, destacando tambien step y step_importance.\n",
    "\n",
    "Las variables de saldo incial origen, los descuadres en origin y dest y los segmentos.\n"
   ]
  },
  {
   "cell_type": "code",
   "execution_count": 44,
   "metadata": {
    "colab": {
     "base_uri": "https://localhost:8080/",
     "height": 520
    },
    "id": "uA7InXS5G0mG",
    "outputId": "4b73e879-ff7b-43a9-cc34-f97aad11c2c5"
   },
   "outputs": [
    {
     "data": {
      "text/html": [
       "<div>\n",
       "<style scoped>\n",
       "    .dataframe tbody tr th:only-of-type {\n",
       "        vertical-align: middle;\n",
       "    }\n",
       "\n",
       "    .dataframe tbody tr th {\n",
       "        vertical-align: top;\n",
       "    }\n",
       "\n",
       "    .dataframe thead th {\n",
       "        text-align: right;\n",
       "    }\n",
       "</style>\n",
       "<table border=\"1\" class=\"dataframe\">\n",
       "  <thead>\n",
       "    <tr style=\"text-align: right;\">\n",
       "      <th></th>\n",
       "      <th>Feature</th>\n",
       "      <th>Pearson</th>\n",
       "      <th>Chi-2</th>\n",
       "      <th>RFE</th>\n",
       "      <th>Logistics</th>\n",
       "      <th>Random Forest</th>\n",
       "      <th>LightGBM</th>\n",
       "      <th>boruta</th>\n",
       "      <th>Total</th>\n",
       "    </tr>\n",
       "  </thead>\n",
       "  <tbody>\n",
       "    <tr>\n",
       "      <th>1</th>\n",
       "      <td>fraud_rules_1</td>\n",
       "      <td>True</td>\n",
       "      <td>True</td>\n",
       "      <td>True</td>\n",
       "      <td>True</td>\n",
       "      <td>True</td>\n",
       "      <td>True</td>\n",
       "      <td>True</td>\n",
       "      <td>7</td>\n",
       "    </tr>\n",
       "    <tr>\n",
       "      <th>2</th>\n",
       "      <td>step</td>\n",
       "      <td>True</td>\n",
       "      <td>True</td>\n",
       "      <td>True</td>\n",
       "      <td>False</td>\n",
       "      <td>True</td>\n",
       "      <td>True</td>\n",
       "      <td>True</td>\n",
       "      <td>6</td>\n",
       "    </tr>\n",
       "    <tr>\n",
       "      <th>3</th>\n",
       "      <td>oldbalanceorg</td>\n",
       "      <td>True</td>\n",
       "      <td>True</td>\n",
       "      <td>True</td>\n",
       "      <td>True</td>\n",
       "      <td>False</td>\n",
       "      <td>True</td>\n",
       "      <td>True</td>\n",
       "      <td>6</td>\n",
       "    </tr>\n",
       "    <tr>\n",
       "      <th>4</th>\n",
       "      <td>fraud_rules_2</td>\n",
       "      <td>True</td>\n",
       "      <td>True</td>\n",
       "      <td>True</td>\n",
       "      <td>True</td>\n",
       "      <td>True</td>\n",
       "      <td>False</td>\n",
       "      <td>True</td>\n",
       "      <td>6</td>\n",
       "    </tr>\n",
       "    <tr>\n",
       "      <th>5</th>\n",
       "      <td>step_importance</td>\n",
       "      <td>True</td>\n",
       "      <td>True</td>\n",
       "      <td>True</td>\n",
       "      <td>False</td>\n",
       "      <td>True</td>\n",
       "      <td>False</td>\n",
       "      <td>True</td>\n",
       "      <td>5</td>\n",
       "    </tr>\n",
       "    <tr>\n",
       "      <th>6</th>\n",
       "      <td>errorbalancedest</td>\n",
       "      <td>True</td>\n",
       "      <td>True</td>\n",
       "      <td>True</td>\n",
       "      <td>False</td>\n",
       "      <td>False</td>\n",
       "      <td>True</td>\n",
       "      <td>True</td>\n",
       "      <td>5</td>\n",
       "    </tr>\n",
       "    <tr>\n",
       "      <th>7</th>\n",
       "      <td>segmento_1</td>\n",
       "      <td>True</td>\n",
       "      <td>True</td>\n",
       "      <td>True</td>\n",
       "      <td>True</td>\n",
       "      <td>False</td>\n",
       "      <td>False</td>\n",
       "      <td>False</td>\n",
       "      <td>4</td>\n",
       "    </tr>\n",
       "    <tr>\n",
       "      <th>8</th>\n",
       "      <td>segmento_2</td>\n",
       "      <td>True</td>\n",
       "      <td>True</td>\n",
       "      <td>True</td>\n",
       "      <td>False</td>\n",
       "      <td>False</td>\n",
       "      <td>False</td>\n",
       "      <td>False</td>\n",
       "      <td>3</td>\n",
       "    </tr>\n",
       "    <tr>\n",
       "      <th>9</th>\n",
       "      <td>newbalancedest</td>\n",
       "      <td>False</td>\n",
       "      <td>False</td>\n",
       "      <td>True</td>\n",
       "      <td>False</td>\n",
       "      <td>False</td>\n",
       "      <td>True</td>\n",
       "      <td>True</td>\n",
       "      <td>3</td>\n",
       "    </tr>\n",
       "    <tr>\n",
       "      <th>10</th>\n",
       "      <td>gender_4</td>\n",
       "      <td>True</td>\n",
       "      <td>True</td>\n",
       "      <td>False</td>\n",
       "      <td>True</td>\n",
       "      <td>False</td>\n",
       "      <td>False</td>\n",
       "      <td>False</td>\n",
       "      <td>3</td>\n",
       "    </tr>\n",
       "    <tr>\n",
       "      <th>11</th>\n",
       "      <td>errorbalanceorig</td>\n",
       "      <td>True</td>\n",
       "      <td>False</td>\n",
       "      <td>False</td>\n",
       "      <td>False</td>\n",
       "      <td>False</td>\n",
       "      <td>True</td>\n",
       "      <td>True</td>\n",
       "      <td>3</td>\n",
       "    </tr>\n",
       "    <tr>\n",
       "      <th>12</th>\n",
       "      <td>zone_4</td>\n",
       "      <td>False</td>\n",
       "      <td>False</td>\n",
       "      <td>True</td>\n",
       "      <td>True</td>\n",
       "      <td>False</td>\n",
       "      <td>False</td>\n",
       "      <td>False</td>\n",
       "      <td>2</td>\n",
       "    </tr>\n",
       "    <tr>\n",
       "      <th>13</th>\n",
       "      <td>zone_3</td>\n",
       "      <td>False</td>\n",
       "      <td>False</td>\n",
       "      <td>True</td>\n",
       "      <td>True</td>\n",
       "      <td>False</td>\n",
       "      <td>False</td>\n",
       "      <td>False</td>\n",
       "      <td>2</td>\n",
       "    </tr>\n",
       "    <tr>\n",
       "      <th>14</th>\n",
       "      <td>user_number</td>\n",
       "      <td>True</td>\n",
       "      <td>False</td>\n",
       "      <td>False</td>\n",
       "      <td>False</td>\n",
       "      <td>False</td>\n",
       "      <td>True</td>\n",
       "      <td>False</td>\n",
       "      <td>2</td>\n",
       "    </tr>\n",
       "    <tr>\n",
       "      <th>15</th>\n",
       "      <td>race_4</td>\n",
       "      <td>False</td>\n",
       "      <td>False</td>\n",
       "      <td>True</td>\n",
       "      <td>True</td>\n",
       "      <td>False</td>\n",
       "      <td>False</td>\n",
       "      <td>False</td>\n",
       "      <td>2</td>\n",
       "    </tr>\n",
       "  </tbody>\n",
       "</table>\n",
       "</div>"
      ],
      "text/plain": [
       "             Feature  Pearson  Chi-2    RFE  Logistics  Random Forest  \\\n",
       "1      fraud_rules_1     True   True   True       True           True   \n",
       "2               step     True   True   True      False           True   \n",
       "3      oldbalanceorg     True   True   True       True          False   \n",
       "4      fraud_rules_2     True   True   True       True           True   \n",
       "5    step_importance     True   True   True      False           True   \n",
       "6   errorbalancedest     True   True   True      False          False   \n",
       "7         segmento_1     True   True   True       True          False   \n",
       "8         segmento_2     True   True   True      False          False   \n",
       "9     newbalancedest    False  False   True      False          False   \n",
       "10          gender_4     True   True  False       True          False   \n",
       "11  errorbalanceorig     True  False  False      False          False   \n",
       "12            zone_4    False  False   True       True          False   \n",
       "13            zone_3    False  False   True       True          False   \n",
       "14       user_number     True  False  False      False          False   \n",
       "15            race_4    False  False   True       True          False   \n",
       "\n",
       "    LightGBM  boruta  Total  \n",
       "1       True    True      7  \n",
       "2       True    True      6  \n",
       "3       True    True      6  \n",
       "4      False    True      6  \n",
       "5      False    True      5  \n",
       "6       True    True      5  \n",
       "7      False   False      4  \n",
       "8      False   False      3  \n",
       "9       True    True      3  \n",
       "10     False   False      3  \n",
       "11      True    True      3  \n",
       "12     False   False      2  \n",
       "13     False   False      2  \n",
       "14      True   False      2  \n",
       "15     False   False      2  "
      ]
     },
     "execution_count": 44,
     "metadata": {},
     "output_type": "execute_result"
    }
   ],
   "source": [
    "\n",
    "# put all selection together\n",
    "feature_name = X_train_t.columns.tolist()\n",
    "feature_selection_df = pd.DataFrame({'Feature':feature_name, 'Pearson':cor_support, 'Chi-2':chi_support, 'RFE':rfe_support, 'Logistics':embeded_lr_support,\n",
    "                                    'Random Forest':embeded_rf_support, 'LightGBM':embeded_lgb_support})\n",
    "feature_selection_df['boruta']=np.where(feature_selection_df[\"Feature\"].isin(embeded_bor_feature), True, False)\n",
    "# count the selected times for each feature\n",
    "feature_selection_df['Total'] = np.sum(feature_selection_df, axis=1)\n",
    "# display the top 100\n",
    "feature_selection_df = feature_selection_df.sort_values(['Total','Feature'] , ascending=False)\n",
    "feature_selection_df.index = range(1, len(feature_selection_df)+1)\n",
    "feature_selection_df.head(15)"
   ]
  },
  {
   "cell_type": "code",
   "execution_count": null,
   "metadata": {
    "id": "s1MmmeA6SpYR"
   },
   "outputs": [],
   "source": []
  },
  {
   "cell_type": "code",
   "execution_count": 45,
   "metadata": {
    "colab": {
     "base_uri": "https://localhost:8080/",
     "height": 363
    },
    "id": "IIfHyYFTG0sp",
    "outputId": "41301b68-21f7-4eb3-c035-4b48a321a5cc"
   },
   "outputs": [
    {
     "data": {
      "text/html": [
       "<div>\n",
       "<style scoped>\n",
       "    .dataframe tbody tr th:only-of-type {\n",
       "        vertical-align: middle;\n",
       "    }\n",
       "\n",
       "    .dataframe tbody tr th {\n",
       "        vertical-align: top;\n",
       "    }\n",
       "\n",
       "    .dataframe thead th {\n",
       "        text-align: right;\n",
       "    }\n",
       "</style>\n",
       "<table border=\"1\" class=\"dataframe\">\n",
       "  <thead>\n",
       "    <tr style=\"text-align: right;\">\n",
       "      <th></th>\n",
       "      <th>Feature</th>\n",
       "      <th>Pearson</th>\n",
       "      <th>Chi-2</th>\n",
       "      <th>RFE</th>\n",
       "      <th>Logistics</th>\n",
       "      <th>Random Forest</th>\n",
       "      <th>LightGBM</th>\n",
       "      <th>boruta</th>\n",
       "      <th>Total</th>\n",
       "    </tr>\n",
       "  </thead>\n",
       "  <tbody>\n",
       "    <tr>\n",
       "      <th>1</th>\n",
       "      <td>fraud_rules_1</td>\n",
       "      <td>True</td>\n",
       "      <td>True</td>\n",
       "      <td>True</td>\n",
       "      <td>True</td>\n",
       "      <td>True</td>\n",
       "      <td>True</td>\n",
       "      <td>True</td>\n",
       "      <td>7</td>\n",
       "    </tr>\n",
       "    <tr>\n",
       "      <th>2</th>\n",
       "      <td>step</td>\n",
       "      <td>True</td>\n",
       "      <td>True</td>\n",
       "      <td>True</td>\n",
       "      <td>False</td>\n",
       "      <td>True</td>\n",
       "      <td>True</td>\n",
       "      <td>True</td>\n",
       "      <td>6</td>\n",
       "    </tr>\n",
       "    <tr>\n",
       "      <th>3</th>\n",
       "      <td>oldbalanceorg</td>\n",
       "      <td>True</td>\n",
       "      <td>True</td>\n",
       "      <td>True</td>\n",
       "      <td>True</td>\n",
       "      <td>False</td>\n",
       "      <td>True</td>\n",
       "      <td>True</td>\n",
       "      <td>6</td>\n",
       "    </tr>\n",
       "    <tr>\n",
       "      <th>4</th>\n",
       "      <td>fraud_rules_2</td>\n",
       "      <td>True</td>\n",
       "      <td>True</td>\n",
       "      <td>True</td>\n",
       "      <td>True</td>\n",
       "      <td>True</td>\n",
       "      <td>False</td>\n",
       "      <td>True</td>\n",
       "      <td>6</td>\n",
       "    </tr>\n",
       "    <tr>\n",
       "      <th>5</th>\n",
       "      <td>step_importance</td>\n",
       "      <td>True</td>\n",
       "      <td>True</td>\n",
       "      <td>True</td>\n",
       "      <td>False</td>\n",
       "      <td>True</td>\n",
       "      <td>False</td>\n",
       "      <td>True</td>\n",
       "      <td>5</td>\n",
       "    </tr>\n",
       "    <tr>\n",
       "      <th>6</th>\n",
       "      <td>errorbalancedest</td>\n",
       "      <td>True</td>\n",
       "      <td>True</td>\n",
       "      <td>True</td>\n",
       "      <td>False</td>\n",
       "      <td>False</td>\n",
       "      <td>True</td>\n",
       "      <td>True</td>\n",
       "      <td>5</td>\n",
       "    </tr>\n",
       "    <tr>\n",
       "      <th>7</th>\n",
       "      <td>segmento_1</td>\n",
       "      <td>True</td>\n",
       "      <td>True</td>\n",
       "      <td>True</td>\n",
       "      <td>True</td>\n",
       "      <td>False</td>\n",
       "      <td>False</td>\n",
       "      <td>False</td>\n",
       "      <td>4</td>\n",
       "    </tr>\n",
       "  </tbody>\n",
       "</table>\n",
       "</div>"
      ],
      "text/plain": [
       "            Feature  Pearson  Chi-2   RFE  Logistics  Random Forest  LightGBM  \\\n",
       "1     fraud_rules_1     True   True  True       True           True      True   \n",
       "2              step     True   True  True      False           True      True   \n",
       "3     oldbalanceorg     True   True  True       True          False      True   \n",
       "4     fraud_rules_2     True   True  True       True           True     False   \n",
       "5   step_importance     True   True  True      False           True     False   \n",
       "6  errorbalancedest     True   True  True      False          False      True   \n",
       "7        segmento_1     True   True  True       True          False     False   \n",
       "\n",
       "   boruta  Total  \n",
       "1    True      7  \n",
       "2    True      6  \n",
       "3    True      6  \n",
       "4    True      6  \n",
       "5    True      5  \n",
       "6    True      5  \n",
       "7   False      4  "
      ]
     },
     "execution_count": 45,
     "metadata": {},
     "output_type": "execute_result"
    }
   ],
   "source": [
    "feature_selection_df[feature_selection_df.Total>3]"
   ]
  },
  {
   "cell_type": "markdown",
   "metadata": {
    "id": "u14gBvraTYmJ"
   },
   "source": [
    "## DECISIÓN.\n",
    "Decidimos quedarnos con Boruta como método básico de decisión de caracteriticas. Supone cosntruir modelos con 7 caracterisiticas originales. Con un significado muy claro, los que nos permitirá tener uan alta explicavilidad de los modelos."
   ]
  },
  {
   "cell_type": "code",
   "execution_count": 46,
   "metadata": {
    "colab": {
     "base_uri": "https://localhost:8080/"
    },
    "id": "h8vour1HUQXj",
    "outputId": "05ef6779-4a92-43b1-b69f-084677fac9ed"
   },
   "outputs": [
    {
     "data": {
      "text/plain": [
       "['step',\n",
       " 'oldbalanceorg',\n",
       " 'newbalancedest',\n",
       " 'step_importance',\n",
       " 'fraud_rules_1',\n",
       " 'fraud_rules_2',\n",
       " 'errorbalanceorig',\n",
       " 'errorbalancedest']"
      ]
     },
     "execution_count": 46,
     "metadata": {},
     "output_type": "execute_result"
    }
   ],
   "source": [
    "embeded_bor_feature"
   ]
  },
  {
   "cell_type": "code",
   "execution_count": 47,
   "metadata": {
    "id": "G8X8kO1unQqI"
   },
   "outputs": [],
   "source": [
    "selected_feaures=['step',  'oldbalanceorg', 'newbalancedest', 'step_importance', 'fraud_rules', 'errorbalanceorig', 'errorbalancedest']"
   ]
  },
  {
   "cell_type": "markdown",
   "metadata": {
    "id": "IvubDMK2rTWx"
   },
   "source": [
    "## Importancia de las caracteristicas seleccionadas.\n",
    "\n",
    "Obtenemos por RandomForrest la importancia de las caracterisiticas seleccioandas. En el top 3 aparecen las dos caracteristicas relacionadas con nuestra regla y step_importance.\n",
    "\n",
    "Y contabilizando train y test, mejora el funcionamiento de nuestra regla simple. La regla determinaba correctamnte, 1109 casos. Pues bien, conseguimos elevar el acierto a 1136, clasificando mal 6 casos.\n"
   ]
  },
  {
   "cell_type": "code",
   "execution_count": 48,
   "metadata": {
    "id": "D2uV8juRncHL"
   },
   "outputs": [],
   "source": [
    "X_train_selected=X_train[selected_feaures]\n",
    "X_test_selected=X_test[selected_feaures]"
   ]
  },
  {
   "cell_type": "code",
   "execution_count": null,
   "metadata": {
    "id": "IwkxyxCRrNI9"
   },
   "outputs": [],
   "source": []
  },
  {
   "cell_type": "code",
   "execution_count": 49,
   "metadata": {
    "id": "nTVklCgJV6Rq"
   },
   "outputs": [],
   "source": [
    "list_columns_cat = [col for col in X_train_selected.columns if col in categorical_vars ]\n",
    "list_other = list(set(X_train_selected.columns)-set(list_columns_cat))\n",
    "one = ce.OneHotEncoder(cols=list_columns_cat)\n",
    "model = one.fit(X_train_selected, y_train)"
   ]
  },
  {
   "cell_type": "code",
   "execution_count": 50,
   "metadata": {
    "colab": {
     "base_uri": "https://localhost:8080/"
    },
    "id": "TCbrNVa2XJqU",
    "outputId": "f74f0fe9-7781-4afa-8734-72761b4f4caa"
   },
   "outputs": [
    {
     "data": {
      "text/plain": [
       "8"
      ]
     },
     "execution_count": 50,
     "metadata": {},
     "output_type": "execute_result"
    }
   ],
   "source": [
    "X_train_selected_t = model.transform(X_train_selected, y_train)\n",
    "X_test_selected_t = model.transform(X_test_selected, y_test)\n",
    "len(list(X_train_selected_t.columns))"
   ]
  },
  {
   "cell_type": "code",
   "execution_count": 51,
   "metadata": {
    "id": "TcCQZNs7ntsl"
   },
   "outputs": [],
   "source": [
    "X_train_sel_scaled = pd.DataFrame(scaler.transform(X_train_t), columns=X_train_t.columns, index=X_train_t.index)\n",
    "X_test_sel_scaled = pd.DataFrame(scaler.transform(X_test_t), columns=X_test_t.columns, index=X_test.index)"
   ]
  },
  {
   "cell_type": "code",
   "execution_count": 52,
   "metadata": {
    "colab": {
     "base_uri": "https://localhost:8080/"
    },
    "id": "gZEvQPFQj31G",
    "outputId": "42361ff1-9109-44da-d0f4-5a6e517a63dc"
   },
   "outputs": [
    {
     "data": {
      "text/html": [
       "<style>#sk-container-id-1 {color: black;background-color: white;}#sk-container-id-1 pre{padding: 0;}#sk-container-id-1 div.sk-toggleable {background-color: white;}#sk-container-id-1 label.sk-toggleable__label {cursor: pointer;display: block;width: 100%;margin-bottom: 0;padding: 0.3em;box-sizing: border-box;text-align: center;}#sk-container-id-1 label.sk-toggleable__label-arrow:before {content: \"▸\";float: left;margin-right: 0.25em;color: #696969;}#sk-container-id-1 label.sk-toggleable__label-arrow:hover:before {color: black;}#sk-container-id-1 div.sk-estimator:hover label.sk-toggleable__label-arrow:before {color: black;}#sk-container-id-1 div.sk-toggleable__content {max-height: 0;max-width: 0;overflow: hidden;text-align: left;background-color: #f0f8ff;}#sk-container-id-1 div.sk-toggleable__content pre {margin: 0.2em;color: black;border-radius: 0.25em;background-color: #f0f8ff;}#sk-container-id-1 input.sk-toggleable__control:checked~div.sk-toggleable__content {max-height: 200px;max-width: 100%;overflow: auto;}#sk-container-id-1 input.sk-toggleable__control:checked~label.sk-toggleable__label-arrow:before {content: \"▾\";}#sk-container-id-1 div.sk-estimator input.sk-toggleable__control:checked~label.sk-toggleable__label {background-color: #d4ebff;}#sk-container-id-1 div.sk-label input.sk-toggleable__control:checked~label.sk-toggleable__label {background-color: #d4ebff;}#sk-container-id-1 input.sk-hidden--visually {border: 0;clip: rect(1px 1px 1px 1px);clip: rect(1px, 1px, 1px, 1px);height: 1px;margin: -1px;overflow: hidden;padding: 0;position: absolute;width: 1px;}#sk-container-id-1 div.sk-estimator {font-family: monospace;background-color: #f0f8ff;border: 1px dotted black;border-radius: 0.25em;box-sizing: border-box;margin-bottom: 0.5em;}#sk-container-id-1 div.sk-estimator:hover {background-color: #d4ebff;}#sk-container-id-1 div.sk-parallel-item::after {content: \"\";width: 100%;border-bottom: 1px solid gray;flex-grow: 1;}#sk-container-id-1 div.sk-label:hover label.sk-toggleable__label {background-color: #d4ebff;}#sk-container-id-1 div.sk-serial::before {content: \"\";position: absolute;border-left: 1px solid gray;box-sizing: border-box;top: 0;bottom: 0;left: 50%;z-index: 0;}#sk-container-id-1 div.sk-serial {display: flex;flex-direction: column;align-items: center;background-color: white;padding-right: 0.2em;padding-left: 0.2em;position: relative;}#sk-container-id-1 div.sk-item {position: relative;z-index: 1;}#sk-container-id-1 div.sk-parallel {display: flex;align-items: stretch;justify-content: center;background-color: white;position: relative;}#sk-container-id-1 div.sk-item::before, #sk-container-id-1 div.sk-parallel-item::before {content: \"\";position: absolute;border-left: 1px solid gray;box-sizing: border-box;top: 0;bottom: 0;left: 50%;z-index: -1;}#sk-container-id-1 div.sk-parallel-item {display: flex;flex-direction: column;z-index: 1;position: relative;background-color: white;}#sk-container-id-1 div.sk-parallel-item:first-child::after {align-self: flex-end;width: 50%;}#sk-container-id-1 div.sk-parallel-item:last-child::after {align-self: flex-start;width: 50%;}#sk-container-id-1 div.sk-parallel-item:only-child::after {width: 0;}#sk-container-id-1 div.sk-dashed-wrapped {border: 1px dashed gray;margin: 0 0.4em 0.5em 0.4em;box-sizing: border-box;padding-bottom: 0.4em;background-color: white;}#sk-container-id-1 div.sk-label label {font-family: monospace;font-weight: bold;display: inline-block;line-height: 1.2em;}#sk-container-id-1 div.sk-label-container {text-align: center;}#sk-container-id-1 div.sk-container {/* jupyter's `normalize.less` sets `[hidden] { display: none; }` but bootstrap.min.css set `[hidden] { display: none !important; }` so we also need the `!important` here to be able to override the default hidden behavior on the sphinx rendered scikit-learn.org. See: https://github.com/scikit-learn/scikit-learn/issues/21755 */display: inline-block !important;position: relative;}#sk-container-id-1 div.sk-text-repr-fallback {display: none;}</style><div id=\"sk-container-id-1\" class=\"sk-top-container\"><div class=\"sk-text-repr-fallback\"><pre>RandomForestClassifier()</pre><b>In a Jupyter environment, please rerun this cell to show the HTML representation or trust the notebook. <br />On GitHub, the HTML representation is unable to render, please try loading this page with nbviewer.org.</b></div><div class=\"sk-container\" hidden><div class=\"sk-item\"><div class=\"sk-estimator sk-toggleable\"><input class=\"sk-toggleable__control sk-hidden--visually\" id=\"sk-estimator-id-1\" type=\"checkbox\" checked><label for=\"sk-estimator-id-1\" class=\"sk-toggleable__label sk-toggleable__label-arrow\">RandomForestClassifier</label><div class=\"sk-toggleable__content\"><pre>RandomForestClassifier()</pre></div></div></div></div></div>"
      ],
      "text/plain": [
       "RandomForestClassifier()"
      ]
     },
     "execution_count": 52,
     "metadata": {},
     "output_type": "execute_result"
    }
   ],
   "source": [
    "# Se escoge la regresión logística\n",
    "RF = RandomForestClassifier()\n",
    "\n",
    "# se entrena el modelo con el dataset de entrenamiento\n",
    "RF.fit(X_train_selected_t, y_train)\n",
    "\n"
   ]
  },
  {
   "cell_type": "code",
   "execution_count": 53,
   "metadata": {
    "colab": {
     "base_uri": "https://localhost:8080/"
    },
    "id": "osDm-cAi7q7w",
    "outputId": "fa3a5877-8e64-4607-bcf0-8f4a8563d428"
   },
   "outputs": [
    {
     "name": "stdout",
     "output_type": "stream",
     "text": [
      "99.9971389743223\n",
      "[[209487      0]\n",
      " [     6    222]]\n",
      "              precision    recall  f1-score   support\n",
      "\n",
      "           0       1.00      1.00      1.00    209487\n",
      "           1       1.00      0.97      0.99       228\n",
      "\n",
      "    accuracy                           1.00    209715\n",
      "   macro avg       1.00      0.99      0.99    209715\n",
      "weighted avg       1.00      1.00      1.00    209715\n",
      "\n"
     ]
    }
   ],
   "source": [
    "from sklearn.metrics import classification_report, confusion_matrix\n",
    "# predice la clase de test\n",
    "predictions = RF.predict(X_test_selected_t )\n",
    "\n",
    "# Evaluate predictions\n",
    "print(RF.score(X_test_selected_t, y_test)*100)\n",
    "print(confusion_matrix(y_test, predictions))\n",
    "print(classification_report(y_test, RF.predict(X_test_selected_t)))"
   ]
  },
  {
   "cell_type": "code",
   "execution_count": 54,
   "metadata": {
    "colab": {
     "base_uri": "https://localhost:8080/"
    },
    "id": "MFvBtn8phJTO",
    "outputId": "675ce0fe-e72d-4389-df23-89ccfb2635e5"
   },
   "outputs": [
    {
     "name": "stdout",
     "output_type": "stream",
     "text": [
      "99.99988079059676\n",
      "[[837946      0]\n",
      " [     1    913]]\n",
      "              precision    recall  f1-score   support\n",
      "\n",
      "           0       1.00      1.00      1.00    837946\n",
      "           1       1.00      1.00      1.00       914\n",
      "\n",
      "    accuracy                           1.00    838860\n",
      "   macro avg       1.00      1.00      1.00    838860\n",
      "weighted avg       1.00      1.00      1.00    838860\n",
      "\n"
     ]
    }
   ],
   "source": [
    "predictions = RF.predict(X_train_selected_t )\n",
    "\n",
    "# Evaluate predictions\n",
    "print(RF.score(X_train_selected_t, y_train)*100)\n",
    "print(confusion_matrix(y_train, predictions))\n",
    "print(classification_report(y_train, RF.predict(X_train_selected_t)))"
   ]
  },
  {
   "cell_type": "code",
   "execution_count": 55,
   "metadata": {
    "colab": {
     "base_uri": "https://localhost:8080/",
     "height": 518
    },
    "id": "8yVXWZ-q0Xgr",
    "outputId": "ff94254c-5104-45c4-8d3a-4aebdb21496f"
   },
   "outputs": [
    {
     "data": {
      "image/png": "[encoded data removed]",
      "text/plain": [
       "<Figure size 1200x800 with 1 Axes>"
      ]
     },
     "metadata": {},
     "output_type": "display_data"
    }
   ],
   "source": [
    "feature_importance = RF.feature_importances_\n",
    "# make importances relative to max importance\n",
    "feature_importance = 100.0 * (feature_importance / feature_importance.max())\n",
    "sorted_idx = np.argsort(feature_importance)\n",
    "pos = np.arange(sorted_idx.shape[0]) + .5\n",
    "# plt.subplot(1, 2, 2)\n",
    "plt.figure(figsize=(12, 8))\n",
    "plt.barh(pos, feature_importance[sorted_idx], align='center')\n",
    "plt.yticks(pos, X_train_selected_t.keys()[sorted_idx])\n",
    "plt.xlabel('Relative Importance')\n",
    "plt.title('Variable Importance')\n",
    "plt.show()"
   ]
  },
  {
   "cell_type": "code",
   "execution_count": 56,
   "metadata": {
    "id": "3FYp00y9V7cN"
   },
   "outputs": [],
   "source": [
    "\n",
    "from sklearn import preprocessing\n",
    "from sklearn.preprocessing import StandardScaler\n",
    "from sklearn.feature_selection import RFE\n",
    "from sklearn.feature_selection import RFECV\n",
    "from sklearn import tree\n",
    "from sklearn.ensemble import RandomForestClassifier\n",
    "from sklearn.linear_model import LogisticRegression\n",
    "from sklearn.decomposition import PCA\n",
    "from sklearn.model_selection import train_test_split\n",
    "from sklearn.metrics import classification_report, confusion_matrix\n",
    "from sklearn.ensemble import IsolationForest\n"
   ]
  },
  {
   "cell_type": "code",
   "execution_count": 57,
   "metadata": {
    "colab": {
     "base_uri": "https://localhost:8080/"
    },
    "id": "E-qXvaCMWHou",
    "outputId": "23efd433-6e05-4c9a-aa50-ef5c1b5c4b48"
   },
   "outputs": [
    {
     "name": "stdout",
     "output_type": "stream",
     "text": [
      "99.9971389743223\n",
      "[[209484      3]\n",
      " [     5    223]]\n",
      "              precision    recall  f1-score   support\n",
      "\n",
      "           0       1.00      1.00      1.00    209487\n",
      "           1       0.99      0.98      0.98       228\n",
      "\n",
      "    accuracy                           1.00    209715\n",
      "   macro avg       0.99      0.99      0.99    209715\n",
      "weighted avg       1.00      1.00      1.00    209715\n",
      "\n"
     ]
    }
   ],
   "source": [
    "# Se escoge la regresión logística\n",
    "DT = tree.DecisionTreeClassifier()\n",
    "\n",
    "# se entrena el modelo con el dataset de entrenamiento\n",
    "DT.fit(X_train_selected_t, y_train)\n",
    "\n",
    "from sklearn.metrics import classification_report, confusion_matrix\n",
    "# predice la clase de test\n",
    "predictions = DT.predict(X_test_selected_t )\n",
    "\n",
    "# Evaluate predictions\n",
    "print(RF.score(X_test_selected_t, y_test)*100)\n",
    "print(confusion_matrix(y_test, predictions))\n",
    "print(classification_report(y_test, DT.predict(X_test_selected_t)))"
   ]
  },
  {
   "cell_type": "code",
   "execution_count": 58,
   "metadata": {
    "colab": {
     "base_uri": "https://localhost:8080/"
    },
    "id": "xqi2gEsEWaVm",
    "outputId": "6243d928-1aba-4c8d-e56d-f159c6afa555"
   },
   "outputs": [
    {
     "name": "stdout",
     "output_type": "stream",
     "text": [
      "99.9971389743223\n",
      "[[209471     16]\n",
      " [   205     23]]\n",
      "              precision    recall  f1-score   support\n",
      "\n",
      "           0       1.00      1.00      1.00    209487\n",
      "           1       0.59      0.10      0.17       228\n",
      "\n",
      "    accuracy                           1.00    209715\n",
      "   macro avg       0.79      0.55      0.59    209715\n",
      "weighted avg       1.00      1.00      1.00    209715\n",
      "\n"
     ]
    }
   ],
   "source": [
    "# Se escoge la regresión logística\n",
    "LR = LogisticRegression()\n",
    "\n",
    "# se entrena el modelo con el dataset de entrenamiento\n",
    "LR.fit(X_train_selected_t, y_train)\n",
    "\n",
    "from sklearn.metrics import classification_report, confusion_matrix\n",
    "# predice la clase de test\n",
    "predictions = LR.predict(X_test_selected_t )\n",
    "\n",
    "# Evaluate predictions\n",
    "print(RF.score(X_test_selected_t, y_test)*100)\n",
    "print(confusion_matrix(y_test, predictions))\n",
    "print(classification_report(y_test, LR.predict(X_test_selected_t)))"
   ]
  },
  {
   "cell_type": "code",
   "execution_count": 59,
   "metadata": {
    "colab": {
     "base_uri": "https://localhost:8080/"
    },
    "id": "PYxTa-hOWnC-",
    "outputId": "b5ddd492-b862-4001-b966-0524d3055bd4"
   },
   "outputs": [
    {
     "name": "stdout",
     "output_type": "stream",
     "text": [
      "{'n_estimators': 200, 'max_features': 'sqrt', 'max_depth': 8, 'criterion': 'gini'}\n",
      "0.9999725818372553\n"
     ]
    }
   ],
   "source": [
    "### Parameter Tunning Optimization\n",
    "param_grid = { \n",
    "    'n_estimators': [10,20,50,100,200], # poner tantos como se quiera probar\n",
    "    'max_features': ['auto', 'sqrt', 'log2'],\n",
    "    'max_depth' : [4,5,6,7,8],\n",
    "    'criterion' :['gini', 'entropy']}\n",
    "\n",
    "from sklearn.model_selection import GridSearchCV, RandomizedSearchCV\n",
    "\n",
    "CV = RandomizedSearchCV(RF, param_grid, cv=10, random_state=12345, n_jobs=2)\n",
    "                  \n",
    "CV.fit(X_train_selected_t, y_train)  \n",
    "print(CV.best_params_)    \n",
    "print(CV.best_score_)"
   ]
  },
  {
   "cell_type": "code",
   "execution_count": 60,
   "metadata": {
    "colab": {
     "base_uri": "https://localhost:8080/"
    },
    "id": "-zr_4_vtXRIO",
    "outputId": "9f4327d1-82e2-4189-929f-15122ea860a9"
   },
   "outputs": [
    {
     "name": "stdout",
     "output_type": "stream",
     "text": [
      "99.9971389743223\n",
      "[[209487      0]\n",
      " [     6    222]]\n",
      "              precision    recall  f1-score   support\n",
      "\n",
      "           0       1.00      1.00      1.00    209487\n",
      "           1       1.00      0.97      0.99       228\n",
      "\n",
      "    accuracy                           1.00    209715\n",
      "   macro avg       1.00      0.99      0.99    209715\n",
      "weighted avg       1.00      1.00      1.00    209715\n",
      "\n"
     ]
    }
   ],
   "source": [
    "# predice la clase de test\n",
    "predictions = CV.predict(X_test_selected_t )\n",
    "\n",
    "# Evaluate predictions\n",
    "print(CV.score(X_test_selected_t, y_test)*100)\n",
    "print(confusion_matrix(y_test, predictions))\n",
    "print(classification_report(y_test, CV.predict(X_test_selected_t)))"
   ]
  },
  {
   "cell_type": "code",
   "execution_count": null,
   "metadata": {
    "id": "rxdJph_IYaJq"
   },
   "outputs": [],
   "source": []
  },
  {
   "cell_type": "code",
   "execution_count": null,
   "metadata": {},
   "outputs": [],
   "source": []
  }
 ],
 "metadata": {
  "colab": {
   "machine_shape": "hm",
   "provenance": []
  },
  "gpuClass": "standard",
  "kernelspec": {
   "display_name": "Python [conda env:practica0]",
   "language": "python",
   "name": "conda-env-practica0-py"
  },
  "language_info": {
   "codemirror_mode": {
    "name": "ipython",
    "version": 3
   },
   "file_extension": ".py",
   "mimetype": "text/x-python",
   "name": "python",
   "nbconvert_exporter": "python",
   "pygments_lexer": "ipython3",
   "version": "3.9.13"
  }
 },
 "nbformat": 4,
 "nbformat_minor": 4
}
