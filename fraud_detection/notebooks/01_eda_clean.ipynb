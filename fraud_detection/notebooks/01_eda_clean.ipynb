{
 "cells": [
  {
   "cell_type": "markdown",
   "id": "069049b6-19a1-4273-b228-f576e9239151",
   "metadata": {
    "id": "069049b6-19a1-4273-b228-f576e9239151"
   },
   "source": [
    "## 1. Descripción del problema y del dataset. \n",
    "\n",
    "Vamos a situarnos en Kenia, y nos vamos a imaginar que trabajamos para M-Pesa, https://es.wikipedia.org/wiki/M-Pesa.\n",
    "\n",
    "Apto para utilizar en telefonos que puedan recibir SMS, y apoyandose en una amplia red de tiendas( agentes) colabororas, han venido a llenar el porblema del bajo indice de bancarización de estas sociedades y han llevado a Africa a ser lider mundial en Banca Online\n",
    "los clientes pueden realizar las siguientes operaciones:\n",
    "\n",
    "* CASH-IN: anmentar el saldo en su cuenta M-Pesa, entregando dinero en efectivo en la tienda.\n",
    "* CASH-OUT: retirar efectivo contra el saldo de su cuenta  M-Pesa disminuyendo el  saldo de la cuenta. \n",
    "* DEBIT:  es un proceso similar al CASH-OUT e implica enviar el dinero del servicio de dinero móvil a una cuenta bancaria.\n",
    "* PAYMENT: pago a comerciante, disminuye el saldo del cliente y aumenta el del comerciante. \n",
    "* TRANSFER: es el proceso de envío de dinero a otro usuario del servicio a través de la plataforma de dinero móvil.\n",
    "\n",
    "En tres de los cinco tipos de transacciones(cash-in, cash-out, payment) hay un intermediario (comercio os sucursal de (M-PESA) involucrado. Suponemos que DEBIT y TRANSFER puede ser efectuado solo por el cliente ( o por el estafador).\n",
    "Nos podemos imaginar que alos clientes están identificdos por la inicial c, y los agentes por la inical M.\n",
    "\n",
    "Vamos a suponer el motivo principal de estafas, obtención fraudulenta de los datos de acceso por parte del estafador, y movimiento del saldo de la cuenta hacia efectivo o hacia otra u otras cuentas de M-PESA. Es muy posible que haya operacioens ocmbiandas, de transferencia y reintegro, utilizando cuentas de terceros ( mulas) para intentar no ser detectado.\n",
    "\n",
    "\n"
   ]
  },
  {
   "cell_type": "code",
   "execution_count": null,
   "id": "ef221e8e-aad6-4c8e-ae01-5f0578325e8a",
   "metadata": {
    "id": "ef221e8e-aad6-4c8e-ae01-5f0578325e8a"
   },
   "outputs": [],
   "source": []
  },
  {
   "cell_type": "code",
   "execution_count": 1,
   "id": "Ep5vFLz5fX2e",
   "metadata": {
    "colab": {
     "base_uri": "https://localhost:8080/"
    },
    "executionInfo": {
     "elapsed": 19301,
     "status": "ok",
     "timestamp": 1670061487438,
     "user": {
      "displayName": "Pablo Soto López",
      "userId": "08112082177697405353"
     },
     "user_tz": -60
    },
    "id": "Ep5vFLz5fX2e",
    "outputId": "1898a53e-fed4-4338-f4c9-f5cb323b585f"
   },
   "outputs": [],
   "source": [
    "import os, sys\n",
    "#from google.colab import drive\n",
    "#from google.colab import drive\n",
    "#drive.mount('/content/drive')\n",
    "#os.chdir('/content/drive/MyDrive/fraud_detection/notebooks')\n",
    "#!ls"
   ]
  },
  {
   "cell_type": "code",
   "execution_count": 2,
   "id": "962b597a-9407-4a7c-91f2-06ff350e93d6",
   "metadata": {
    "executionInfo": {
     "elapsed": 2409,
     "status": "ok",
     "timestamp": 1670061489844,
     "user": {
      "displayName": "Pablo Soto López",
      "userId": "08112082177697405353"
     },
     "user_tz": -60
    },
    "id": "962b597a-9407-4a7c-91f2-06ff350e93d6"
   },
   "outputs": [],
   "source": [
    "# primero todas las librerías por bloques\n",
    "import numpy as np\n",
    "import pandas as pd\n",
    "import matplotlib.pyplot as plt\n",
    "import plotly.express as px\n",
    "import seaborn as sns\n",
    "import warnings\n",
    "warnings.filterwarnings(\"ignore\")"
   ]
  },
  {
   "cell_type": "code",
   "execution_count": 3,
   "id": "898382dd-f559-4cf8-99d7-9c4982b348ae",
   "metadata": {
    "executionInfo": {
     "elapsed": 352,
     "status": "ok",
     "timestamp": 1670061490192,
     "user": {
      "displayName": "Pablo Soto López",
      "userId": "08112082177697405353"
     },
     "user_tz": -60
    },
    "id": "898382dd-f559-4cf8-99d7-9c4982b348ae"
   },
   "outputs": [],
   "source": [
    "# opciones de visualización\n",
    "pd.set_option('display.max_rows', 500)\n",
    "pd.set_option('display.max_columns', 500)\n",
    "\n",
    "pd.set_option('display.float_format', lambda x: '%.4f' % x)"
   ]
  },
  {
   "cell_type": "code",
   "execution_count": 4,
   "id": "4cBV4iqebVGE",
   "metadata": {
    "executionInfo": {
     "elapsed": 224,
     "status": "ok",
     "timestamp": 1670065425764,
     "user": {
      "displayName": "Pablo Soto López",
      "userId": "08112082177697405353"
     },
     "user_tz": -60
    },
    "id": "4cBV4iqebVGE"
   },
   "outputs": [],
   "source": [
    "def plot_feature_2(df,col_name, isContinuous=True,target='isfraud'):\n",
    "    \"\"\"\n",
    "    Visualize a variable with and without faceting on the loan status.\n",
    "    - col_name is the variable name in the dataframe\n",
    "    - full_name is the full variable name\n",
    "    - continuous is True if the variable is continuous, False otherwise\n",
    "    \"\"\"\n",
    "    f, (ax1, ax2) = plt.subplots(nrows=1, ncols=2, figsize=(12,3), dpi=90)\n",
    "    \n",
    "    # Plot without loan status\n",
    "    if isContinuous:\n",
    "        sns.distplot(df.loc[df[col_name].notnull(), col_name], kde=False, ax=ax1)\n",
    "    else:\n",
    "        sns.countplot(df[col_name], order=sorted(df[col_name].unique()), color='#5975A4', saturation=1, ax=ax1)\n",
    "    ax1.set_xlabel(col_name)\n",
    "    ax1.set_ylabel('Count')\n",
    "    ax1.set_title(col_name)\n",
    "    plt.xticks(rotation = 90)\n",
    "\n",
    "    # Plot with loan status\n",
    "    if isContinuous:\n",
    "        sns.boxplot(x=col_name, y=target, data=df, ax=ax2)\n",
    "        ax2.set_ylabel('')\n",
    "        ax2.set_title(col_name + f' by {target}.')\n",
    "    else:\n",
    "        data = df.groupby(col_name)[target].value_counts(normalize=True).to_frame('proportion').reset_index()        \n",
    "        sns.barplot(x = col_name, y = 'proportion', hue= target, data = data, saturation=1, ax=ax2)\n",
    "        ax2.set_ylabel('Fraud fraction')\n",
    "        ax2.set_title(target)\n",
    "        plt.xticks(rotation = 90)\n",
    "    ax2.set_xlabel(col_name)\n",
    "    \n",
    "    plt.tight_layout()"
   ]
  },
  {
   "cell_type": "markdown",
   "id": "mADco-6iI4cJ",
   "metadata": {
    "id": "mADco-6iI4cJ"
   },
   "source": [
    "## Funciones auxiliares"
   ]
  },
  {
   "cell_type": "code",
   "execution_count": 5,
   "id": "Lp2cl6al_ynb",
   "metadata": {
    "executionInfo": {
     "elapsed": 220,
     "status": "ok",
     "timestamp": 1670061595827,
     "user": {
      "displayName": "Pablo Soto López",
      "userId": "08112082177697405353"
     },
     "user_tz": -60
    },
    "id": "Lp2cl6al_ynb"
   },
   "outputs": [],
   "source": [
    "def plot_feature(df, col_name, target =  'isfraud'):\n",
    "    '''\n",
    "    Realiza la descripción gráfica de una catacteristica\n",
    "    del proyecto. Realizará un histograma de col_name y un gráfico\n",
    "    de barras de frecuencias relativas de col_neme en función de target.\n",
    "    Del target solo histograma.\n",
    "    \n",
    "    Args:\n",
    "    param1: Pandas Df de datos.\n",
    "    param2: Característica a presentar en histograma.\n",
    "    param3: Carácteristica para frecuencias relativas.\n",
    "        \n",
    "    Returns:\n",
    "    Uno o dos gráficos de clases sns.\n",
    "    '''\n",
    "    # If target, only one plot..\n",
    "    if col_name== target:\n",
    "        f, ax1 = plt.subplots(nrows=1, ncols=1, figsize=(12,3), dpi=90)\n",
    "        sns.countplot(x=df[target], ax=ax1);\n",
    "        #ax1.bar_label(container=ax1.containers[0],label_type='center',weight='bold')\n",
    "        ax1.set_xlabel(col_name)\n",
    "        ax1.set_ylabel('Número')\n",
    "      \n",
    "    else:\n",
    "        f, (ax1, ax2) = plt.subplots(nrows=1, ncols=2, figsize=(12,3), dpi=90)\n",
    "        sns.countplot(x=df[col_name],\n",
    "                      color='#5975A4', \n",
    "                      saturation=1,\n",
    "                      ax=ax1)\n",
    "        \n",
    "        if df[col_name].nunique() <= 20:\n",
    "            ax1.set_xlabel(col_name)\n",
    "            plt.xticks(rotation = 90)\n",
    "        else:\n",
    "            ax1.axes.get_xaxis().set_ticks([])\n",
    "        ax1.set_ylabel('Número clientes')\n",
    "  \n",
    "\n",
    "        # Construimos la tabla para el segundo gráfico\n",
    "        data = (df.groupby(col_name)[target].\n",
    "                value_counts(normalize=True).\n",
    "                to_frame('proporción').\n",
    "                reset_index())\n",
    "        data_isfraud = data['isfraud'] == 1\n",
    "        data = data[data_isfraud]\n",
    "\n",
    "        \n",
    "        data.columns = [col_name, target, 'proporción']\n",
    "       \n",
    "        sns.barplot(x = col_name,\n",
    "                    y = 'proporción',\n",
    "                     \n",
    "                    data = data, \n",
    "                    saturation=1,\n",
    "                    ax=ax2,\n",
    "                    color='red')\n",
    "        \n",
    "        ax2.set_ylabel(target)\n",
    "        ax2.set_title(target)\n",
    "        \n",
    "        if df[col_name].nunique() <= 20:\n",
    "            ax2.set_xlabel(col_name)\n",
    "            plt.xticks(rotation = 90)\n",
    "           \n",
    "        else:\n",
    "            ax2.axes.get_xaxis().set_ticks([])\n",
    "\n",
    "        plt.tight_layout()\n",
    "        "
   ]
  },
  {
   "cell_type": "code",
   "execution_count": 6,
   "id": "ZicgSSR7VEz9",
   "metadata": {
    "executionInfo": {
     "elapsed": 449,
     "status": "ok",
     "timestamp": 1670061806752,
     "user": {
      "displayName": "Pablo Soto López",
      "userId": "08112082177697405353"
     },
     "user_tz": -60
    },
    "id": "ZicgSSR7VEz9"
   },
   "outputs": [],
   "source": [
    "def get_deviation_of_mean_perc(df, list_vars, target, multiplier):\n",
    "   \n",
    "    '''\n",
    "    Realiza la clasificación de las caracterisiticas que presentan elementos\n",
    "    con desviación superior la media y el producto de n * desviación estandar ,\n",
    "    además de otros resultados realcionados.\n",
    "    \n",
    "    Args:\n",
    "    param1: Pandas Df de datos.\n",
    "    param2: Lista de columnas a revisar..\n",
    "    param3: Columna objetivo para modelo.\n",
    "    param4: Veces de sd a considerar en el cálculo de rango.\n",
    "        \n",
    "    Returns:\n",
    "    Uno o dos gráficos de clases sns.\n",
    "   '''\n",
    "    pd_final = pd.DataFrame()\n",
    "    \n",
    "    for i in list_vars:\n",
    "        \n",
    "        mean = df[i].mean()\n",
    "        sd = df[i].std()\n",
    "        \n",
    "        rango_norm=[mean - multiplier *sd,\n",
    "                    mean + multiplier *sd]\n",
    "        size_s = df[i].size\n",
    "        \n",
    "        \n",
    "        perc_goods = df[(df[i]>=mean - multiplier *sd) & (df[i]<=mean + multiplier *sd)][i].size/size_s\n",
    "        perc_excess = 1-perc_goods\n",
    "        \n",
    "        if perc_excess>0:\n",
    "\n",
    "            pd_concat_percent=df[df[i].isin(rango_norm)][target]. \\\n",
    "                    value_counts(normalize=True).reset_index().drop('index',axis=1).T\n",
    "            pd_concat_percent['feature']= i\n",
    "            pd_concat_percent['outliers_count'] = perc_excess * size_s\n",
    "            pd_concat_percent['porcentaje_outlires'] = perc_excess*100\n",
    "           \n",
    "\n",
    "            pd_final = pd.concat([pd_final, pd_concat_percent], axis=0).reset_index(drop=True).sort_values('porcentaje_outlires',ascending=False)\n",
    "            \n",
    "    if pd_final.empty:\n",
    "        print('No existen variables con outliers')\n",
    "    return pd_final"
   ]
  },
  {
   "cell_type": "code",
   "execution_count": 7,
   "id": "-EcygqhLU58y",
   "metadata": {
    "executionInfo": {
     "elapsed": 219,
     "status": "ok",
     "timestamp": 1670061834259,
     "user": {
      "displayName": "Pablo Soto López",
      "userId": "08112082177697405353"
     },
     "user_tz": -60
    },
    "id": "-EcygqhLU58y"
   },
   "outputs": [],
   "source": [
    "def check_t_c(df):\n",
    "  '''\n",
    "    Controla si las operacioens son Transfer o Cash_out y si el importe \n",
    "    es igual a todo el oldbalanceorig de la cuenta origen. Vaciado de cuentas.\n",
    "\n",
    "    Args:\n",
    "    param1: Pandas Df de datos.\n",
    "        \n",
    "    Returns:\n",
    "    Int 0,1 reperesentando valores booleanos.\n",
    "   '''\n",
    "\n",
    "\n",
    "  cond_1= (df['type'] == 'CASH_OUT')\n",
    "  cond_2= (df['type'] == 'TRANSFER')\n",
    "  cond_3= (df['amount'] == df['oldbalanceorg'])\n",
    "  cond_final=((cond_1 | cond_2) & cond_3)\n",
    "  return np.multiply(cond_final,1)\n"
   ]
  },
  {
   "cell_type": "code",
   "execution_count": null,
   "id": "W7xMnREAVCWZ",
   "metadata": {
    "id": "W7xMnREAVCWZ"
   },
   "outputs": [],
   "source": []
  },
  {
   "cell_type": "markdown",
   "id": "5c466eab-f9d6-481a-b6ed-68c56a6351e6",
   "metadata": {
    "id": "5c466eab-f9d6-481a-b6ed-68c56a6351e6"
   },
   "source": [
    "# Aproximación general a los datos.\n",
    "* El dataset tiene 1.048.575 filas y 19 columnas.\n",
    "* Solo una columna que parece que deber ser númerica ( conexion_time) figura como objeto.\n",
    "* Solo tres columnas tienen Nans, alrededor de un 10 % en todos los casos. Todas categóricas, decidimos guardar la marca de una nueva categoría no disponible.\n",
    "* Con el cambio indicado de conexion_type, tenemos 12 columnas númericas y 7 object.\n",
    "* No existen filas duplicadas en todos los datos.\n"
   ]
  },
  {
   "cell_type": "code",
   "execution_count": 8,
   "id": "7a393358-e05a-4379-8131-74532b819773",
   "metadata": {
    "executionInfo": {
     "elapsed": 5610,
     "status": "ok",
     "timestamp": 1670061860593,
     "user": {
      "displayName": "Pablo Soto López",
      "userId": "08112082177697405353"
     },
     "user_tz": -60
    },
    "id": "7a393358-e05a-4379-8131-74532b819773"
   },
   "outputs": [],
   "source": [
    "data_raw = pd.read_csv('../data/Copia de Original_dataset_payments_fraud.csv', delimiter =';')\n",
    "data_raw.columns= data_raw.columns.str.lower()"
   ]
  },
  {
   "cell_type": "code",
   "execution_count": 9,
   "id": "be4fa691-16ef-4de6-8d74-9f93f74b876e",
   "metadata": {
    "colab": {
     "base_uri": "https://localhost:8080/"
    },
    "executionInfo": {
     "elapsed": 207,
     "status": "ok",
     "timestamp": 1670061877262,
     "user": {
      "displayName": "Pablo Soto López",
      "userId": "08112082177697405353"
     },
     "user_tz": -60
    },
    "id": "be4fa691-16ef-4de6-8d74-9f93f74b876e",
    "outputId": "1ef774fa-8644-468b-941c-e1fc6988343f"
   },
   "outputs": [
    {
     "data": {
      "text/plain": [
       "(1048575, 19)"
      ]
     },
     "execution_count": 9,
     "metadata": {},
     "output_type": "execute_result"
    }
   ],
   "source": [
    "data_raw.shape"
   ]
  },
  {
   "cell_type": "code",
   "execution_count": 10,
   "id": "a8f351f5-62c3-4375-977c-133bf1fb626b",
   "metadata": {
    "colab": {
     "base_uri": "https://localhost:8080/"
    },
    "executionInfo": {
     "elapsed": 431,
     "status": "ok",
     "timestamp": 1670061878798,
     "user": {
      "displayName": "Pablo Soto López",
      "userId": "08112082177697405353"
     },
     "user_tz": -60
    },
    "id": "a8f351f5-62c3-4375-977c-133bf1fb626b",
    "outputId": "0435acea-834e-4263-cf43-790f66158da2"
   },
   "outputs": [
    {
     "name": "stdout",
     "output_type": "stream",
     "text": [
      "<class 'pandas.core.frame.DataFrame'>\n",
      "RangeIndex: 1048575 entries, 0 to 1048574\n",
      "Data columns (total 19 columns):\n",
      " #   Column            Non-Null Count    Dtype  \n",
      "---  ------            --------------    -----  \n",
      " 0   step              1048575 non-null  int64  \n",
      " 1   type              1048575 non-null  object \n",
      " 2   amount            1048575 non-null  float64\n",
      " 3   gender            943457 non-null   object \n",
      " 4   device            943995 non-null   object \n",
      " 5   connection_time   1048575 non-null  object \n",
      " 6   nameorig          1048575 non-null  object \n",
      " 7   race              943412 non-null   object \n",
      " 8   oldbalanceorg     1048575 non-null  float64\n",
      " 9   age               1048575 non-null  int64  \n",
      " 10  newbalanceorig    1048575 non-null  float64\n",
      " 11  zone              944161 non-null   object \n",
      " 12  user_number       1048575 non-null  int64  \n",
      " 13  namedest          1048575 non-null  object \n",
      " 14  user_connections  1048575 non-null  int64  \n",
      " 15  security_alert    1048575 non-null  int64  \n",
      " 16  oldbalancedest    1048575 non-null  float64\n",
      " 17  newbalancedest    1048575 non-null  float64\n",
      " 18  isfraud           1048575 non-null  int64  \n",
      "dtypes: float64(5), int64(6), object(8)\n",
      "memory usage: 152.0+ MB\n"
     ]
    }
   ],
   "source": [
    "data_raw.info()"
   ]
  },
  {
   "cell_type": "code",
   "execution_count": 11,
   "id": "68510ca9-981c-4a69-9966-927214b7c2e7",
   "metadata": {
    "colab": {
     "base_uri": "https://localhost:8080/",
     "height": 270
    },
    "executionInfo": {
     "elapsed": 289,
     "status": "ok",
     "timestamp": 1670061883183,
     "user": {
      "displayName": "Pablo Soto López",
      "userId": "08112082177697405353"
     },
     "user_tz": -60
    },
    "id": "68510ca9-981c-4a69-9966-927214b7c2e7",
    "outputId": "68b4af3c-bc3f-4ce8-926a-592c38fb919f"
   },
   "outputs": [
    {
     "data": {
      "text/html": [
       "<div>\n",
       "<style scoped>\n",
       "    .dataframe tbody tr th:only-of-type {\n",
       "        vertical-align: middle;\n",
       "    }\n",
       "\n",
       "    .dataframe tbody tr th {\n",
       "        vertical-align: top;\n",
       "    }\n",
       "\n",
       "    .dataframe thead th {\n",
       "        text-align: right;\n",
       "    }\n",
       "</style>\n",
       "<table border=\"1\" class=\"dataframe\">\n",
       "  <thead>\n",
       "    <tr style=\"text-align: right;\">\n",
       "      <th></th>\n",
       "      <th>step</th>\n",
       "      <th>type</th>\n",
       "      <th>amount</th>\n",
       "      <th>gender</th>\n",
       "      <th>device</th>\n",
       "      <th>connection_time</th>\n",
       "      <th>nameorig</th>\n",
       "      <th>race</th>\n",
       "      <th>oldbalanceorg</th>\n",
       "      <th>age</th>\n",
       "      <th>newbalanceorig</th>\n",
       "      <th>zone</th>\n",
       "      <th>user_number</th>\n",
       "      <th>namedest</th>\n",
       "      <th>user_connections</th>\n",
       "      <th>security_alert</th>\n",
       "      <th>oldbalancedest</th>\n",
       "      <th>newbalancedest</th>\n",
       "      <th>isfraud</th>\n",
       "    </tr>\n",
       "  </thead>\n",
       "  <tbody>\n",
       "    <tr>\n",
       "      <th>0</th>\n",
       "      <td>1</td>\n",
       "      <td>PAYMENT</td>\n",
       "      <td>9839.6400</td>\n",
       "      <td>man</td>\n",
       "      <td>mac</td>\n",
       "      <td>0,140039412</td>\n",
       "      <td>C1231006815</td>\n",
       "      <td>black</td>\n",
       "      <td>170136.0000</td>\n",
       "      <td>85</td>\n",
       "      <td>160296.3600</td>\n",
       "      <td>capital</td>\n",
       "      <td>138</td>\n",
       "      <td>M1979787155</td>\n",
       "      <td>5</td>\n",
       "      <td>1</td>\n",
       "      <td>0.0000</td>\n",
       "      <td>0.0000</td>\n",
       "      <td>0</td>\n",
       "    </tr>\n",
       "    <tr>\n",
       "      <th>1</th>\n",
       "      <td>1</td>\n",
       "      <td>PAYMENT</td>\n",
       "      <td>1864.2800</td>\n",
       "      <td>woman</td>\n",
       "      <td>mac</td>\n",
       "      <td>0,496889534</td>\n",
       "      <td>C1666544295</td>\n",
       "      <td>asian</td>\n",
       "      <td>21249.0000</td>\n",
       "      <td>57</td>\n",
       "      <td>19384.7200</td>\n",
       "      <td>country</td>\n",
       "      <td>909</td>\n",
       "      <td>M2044282225</td>\n",
       "      <td>1</td>\n",
       "      <td>0</td>\n",
       "      <td>0.0000</td>\n",
       "      <td>0.0000</td>\n",
       "      <td>0</td>\n",
       "    </tr>\n",
       "    <tr>\n",
       "      <th>2</th>\n",
       "      <td>1</td>\n",
       "      <td>TRANSFER</td>\n",
       "      <td>181.0000</td>\n",
       "      <td>man</td>\n",
       "      <td>pc</td>\n",
       "      <td>0,781150327</td>\n",
       "      <td>C1305486145</td>\n",
       "      <td>asian</td>\n",
       "      <td>181.0000</td>\n",
       "      <td>66</td>\n",
       "      <td>0.0000</td>\n",
       "      <td>capital</td>\n",
       "      <td>2569</td>\n",
       "      <td>C553264065</td>\n",
       "      <td>10</td>\n",
       "      <td>0</td>\n",
       "      <td>0.0000</td>\n",
       "      <td>0.0000</td>\n",
       "      <td>1</td>\n",
       "    </tr>\n",
       "    <tr>\n",
       "      <th>3</th>\n",
       "      <td>1</td>\n",
       "      <td>CASH_OUT</td>\n",
       "      <td>181.0000</td>\n",
       "      <td>man</td>\n",
       "      <td>mac</td>\n",
       "      <td>0,565068378</td>\n",
       "      <td>C840083671</td>\n",
       "      <td>black</td>\n",
       "      <td>181.0000</td>\n",
       "      <td>31</td>\n",
       "      <td>0.0000</td>\n",
       "      <td>country</td>\n",
       "      <td>1787</td>\n",
       "      <td>C38997010</td>\n",
       "      <td>3</td>\n",
       "      <td>0</td>\n",
       "      <td>21182.0000</td>\n",
       "      <td>0.0000</td>\n",
       "      <td>1</td>\n",
       "    </tr>\n",
       "    <tr>\n",
       "      <th>4</th>\n",
       "      <td>1</td>\n",
       "      <td>PAYMENT</td>\n",
       "      <td>11668.1400</td>\n",
       "      <td>unknow</td>\n",
       "      <td>mac</td>\n",
       "      <td>0,517114493</td>\n",
       "      <td>C2048537720</td>\n",
       "      <td>black</td>\n",
       "      <td>41554.0000</td>\n",
       "      <td>90</td>\n",
       "      <td>29885.8600</td>\n",
       "      <td>country</td>\n",
       "      <td>3997</td>\n",
       "      <td>M1230701703</td>\n",
       "      <td>8</td>\n",
       "      <td>0</td>\n",
       "      <td>0.0000</td>\n",
       "      <td>0.0000</td>\n",
       "      <td>0</td>\n",
       "    </tr>\n",
       "  </tbody>\n",
       "</table>\n",
       "</div>"
      ],
      "text/plain": [
       "   step      type     amount  gender device connection_time     nameorig  \\\n",
       "0     1   PAYMENT  9839.6400     man    mac     0,140039412  C1231006815   \n",
       "1     1   PAYMENT  1864.2800   woman    mac     0,496889534  C1666544295   \n",
       "2     1  TRANSFER   181.0000     man     pc     0,781150327  C1305486145   \n",
       "3     1  CASH_OUT   181.0000     man    mac     0,565068378   C840083671   \n",
       "4     1   PAYMENT 11668.1400  unknow    mac     0,517114493  C2048537720   \n",
       "\n",
       "    race  oldbalanceorg  age  newbalanceorig     zone  user_number  \\\n",
       "0  black    170136.0000   85     160296.3600  capital          138   \n",
       "1  asian     21249.0000   57      19384.7200  country          909   \n",
       "2  asian       181.0000   66          0.0000  capital         2569   \n",
       "3  black       181.0000   31          0.0000  country         1787   \n",
       "4  black     41554.0000   90      29885.8600  country         3997   \n",
       "\n",
       "      namedest  user_connections  security_alert  oldbalancedest  \\\n",
       "0  M1979787155                 5               1          0.0000   \n",
       "1  M2044282225                 1               0          0.0000   \n",
       "2   C553264065                10               0          0.0000   \n",
       "3    C38997010                 3               0      21182.0000   \n",
       "4  M1230701703                 8               0          0.0000   \n",
       "\n",
       "   newbalancedest  isfraud  \n",
       "0          0.0000        0  \n",
       "1          0.0000        0  \n",
       "2          0.0000        1  \n",
       "3          0.0000        1  \n",
       "4          0.0000        0  "
      ]
     },
     "execution_count": 11,
     "metadata": {},
     "output_type": "execute_result"
    }
   ],
   "source": [
    "data_raw.head()"
   ]
  },
  {
   "cell_type": "code",
   "execution_count": 12,
   "id": "6b6dcf40-e129-44d1-af58-7ca09e771afe",
   "metadata": {
    "executionInfo": {
     "elapsed": 999,
     "status": "ok",
     "timestamp": 1670061889413,
     "user": {
      "displayName": "Pablo Soto López",
      "userId": "08112082177697405353"
     },
     "user_tz": -60
    },
    "id": "6b6dcf40-e129-44d1-af58-7ca09e771afe"
   },
   "outputs": [],
   "source": [
    "# Correción dtype connection_type.\n",
    "data_raw['connection_time'] = pd.to_numeric(data_raw['connection_time'].str.replace(',','.'),errors='coerce')"
   ]
  },
  {
   "cell_type": "code",
   "execution_count": 13,
   "id": "8d109c58-472d-4984-9f04-04187d3fbbd1",
   "metadata": {
    "colab": {
     "base_uri": "https://localhost:8080/"
    },
    "executionInfo": {
     "elapsed": 608,
     "status": "ok",
     "timestamp": 1670061892086,
     "user": {
      "displayName": "Pablo Soto López",
      "userId": "08112082177697405353"
     },
     "user_tz": -60
    },
    "id": "8d109c58-472d-4984-9f04-04187d3fbbd1",
    "outputId": "adc44423-5788-45a3-8af6-2b1caeb6165f"
   },
   "outputs": [
    {
     "data": {
      "text/plain": [
       "419275"
      ]
     },
     "execution_count": 13,
     "metadata": {},
     "output_type": "execute_result"
    }
   ],
   "source": [
    "# Coprobamos Nans.\n",
    "data_raw.isna().sum().sum()"
   ]
  },
  {
   "cell_type": "code",
   "execution_count": 14,
   "id": "4f62de38-5045-4c03-8ff9-95e9722486ff",
   "metadata": {
    "colab": {
     "base_uri": "https://localhost:8080/"
    },
    "executionInfo": {
     "elapsed": 3224,
     "status": "ok",
     "timestamp": 1670061899847,
     "user": {
      "displayName": "Pablo Soto López",
      "userId": "08112082177697405353"
     },
     "user_tz": -60
    },
    "id": "4f62de38-5045-4c03-8ff9-95e9722486ff",
    "outputId": "b2487406-48c8-4922-f06f-55c0b71813f6"
   },
   "outputs": [
    {
     "data": {
      "text/plain": [
       "[]"
      ]
     },
     "execution_count": 14,
     "metadata": {},
     "output_type": "execute_result"
    }
   ],
   "source": [
    "# Revisamos que ninguna columna contenga un único valor.\n",
    "[column for column in data_raw.columns if data_raw[column].value_counts().index.shape[0]==1]    "
   ]
  },
  {
   "cell_type": "code",
   "execution_count": 15,
   "id": "791dc1fa-01b3-4cc7-9842-eb66dbc93ce7",
   "metadata": {
    "colab": {
     "base_uri": "https://localhost:8080/"
    },
    "executionInfo": {
     "elapsed": 2273,
     "status": "ok",
     "timestamp": 1670061904377,
     "user": {
      "displayName": "Pablo Soto López",
      "userId": "08112082177697405353"
     },
     "user_tz": -60
    },
    "id": "791dc1fa-01b3-4cc7-9842-eb66dbc93ce7",
    "outputId": "ddef5519-0187-4a70-81ea-b32c0e37768c"
   },
   "outputs": [
    {
     "data": {
      "text/plain": [
       "False"
      ]
     },
     "execution_count": 15,
     "metadata": {},
     "output_type": "execute_result"
    }
   ],
   "source": [
    "# Comprobamos existencia de filas duplicadas en todos los valores.\n",
    "data_raw.duplicated().any()"
   ]
  },
  {
   "cell_type": "markdown",
   "id": "f085a68f-dc7f-4632-8f93-e7a1e91faa77",
   "metadata": {
    "id": "f085a68f-dc7f-4632-8f93-e7a1e91faa77"
   },
   "source": [
    "#### Limpieza de Nans.\n",
    "Dado que todas las categorias con nans son cardinales, vamos a completar los nans con \n",
    "un nuevo nivel dentro de la caegoria, 'not_disp', preservando el desconocido de gender\n",
    "por sí aporta alguna información."
   ]
  },
  {
   "cell_type": "code",
   "execution_count": 16,
   "id": "bfa17d32-0b53-427e-ab0c-6f8c55816f03",
   "metadata": {
    "colab": {
     "base_uri": "https://localhost:8080/"
    },
    "executionInfo": {
     "elapsed": 1073,
     "status": "ok",
     "timestamp": 1670061908270,
     "user": {
      "displayName": "Pablo Soto López",
      "userId": "08112082177697405353"
     },
     "user_tz": -60
    },
    "id": "bfa17d32-0b53-427e-ab0c-6f8c55816f03",
    "outputId": "a642b12f-1a3f-43b7-b54c-94d5d9b3a0a8"
   },
   "outputs": [
    {
     "data": {
      "text/plain": [
       "gender    105118\n",
       "device    104580\n",
       "race      105163\n",
       "zone      104414\n",
       "dtype: int64"
      ]
     },
     "execution_count": 16,
     "metadata": {},
     "output_type": "execute_result"
    }
   ],
   "source": [
    "colums_with_nans=[column for column in data_raw.columns if  data_raw[column].isna().sum()>0]\n",
    "data_raw[colums_with_nans].isna().sum()"
   ]
  },
  {
   "cell_type": "code",
   "execution_count": 17,
   "id": "e8f5ea8f-0140-49d3-a524-21d3fcf7b176",
   "metadata": {
    "colab": {
     "base_uri": "https://localhost:8080/"
    },
    "executionInfo": {
     "elapsed": 601,
     "status": "ok",
     "timestamp": 1670061910124,
     "user": {
      "displayName": "Pablo Soto López",
      "userId": "08112082177697405353"
     },
     "user_tz": -60
    },
    "id": "e8f5ea8f-0140-49d3-a524-21d3fcf7b176",
    "outputId": "6c17a070-6331-42ee-cf54-33b8ce1755a3"
   },
   "outputs": [
    {
     "data": {
      "text/plain": [
       "0"
      ]
     },
     "execution_count": 17,
     "metadata": {},
     "output_type": "execute_result"
    }
   ],
   "source": [
    "# Limpiamos Nans en \n",
    "data_raw[colums_with_nans]=data_raw[colums_with_nans].fillna('no_disp')\n",
    "data_raw.isna().sum().sum()"
   ]
  },
  {
   "cell_type": "code",
   "execution_count": 18,
   "id": "0f879dcd-92cf-4f57-9ced-4775370eee39",
   "metadata": {
    "colab": {
     "base_uri": "https://localhost:8080/"
    },
    "executionInfo": {
     "elapsed": 221,
     "status": "ok",
     "timestamp": 1670061913095,
     "user": {
      "displayName": "Pablo Soto López",
      "userId": "08112082177697405353"
     },
     "user_tz": -60
    },
    "id": "0f879dcd-92cf-4f57-9ced-4775370eee39",
    "outputId": "634a66fd-c89c-44e3-b35c-8cf87c168fe1"
   },
   "outputs": [
    {
     "data": {
      "text/plain": [
       "Index(['step', 'type', 'amount', 'gender', 'device', 'connection_time',\n",
       "       'nameorig', 'race', 'oldbalanceorg', 'age', 'newbalanceorig', 'zone',\n",
       "       'user_number', 'namedest', 'user_connections', 'security_alert',\n",
       "       'oldbalancedest', 'newbalancedest', 'isfraud'],\n",
       "      dtype='object')"
      ]
     },
     "execution_count": 18,
     "metadata": {},
     "output_type": "execute_result"
    }
   ],
   "source": [
    "data_raw.columns"
   ]
  },
  {
   "cell_type": "markdown",
   "id": "75871103-b7bb-4572-af46-21768c8a2fae",
   "metadata": {
    "id": "75871103-b7bb-4572-af46-21768c8a2fae"
   },
   "source": [
    "### Exploración de la variable objetivo y tratamiento.\n",
    "La variable objetivo no necesita tratamiento.\n",
    "Estamos ante unso datos muy desbalanceados, solo tenemos una proporción del 0.11 % de casos positivos, 1.142 casos positivos.\n",
    "\n",
    "Iremos realizando una exploración bivariante con cada una de las caracterisiticas, y una amplia exploración de patrones temporales."
   ]
  },
  {
   "cell_type": "code",
   "execution_count": 19,
   "id": "dad9f91f-1a0e-4ee0-8020-eb652f716f8f",
   "metadata": {
    "colab": {
     "base_uri": "https://localhost:8080/",
     "height": 112
    },
    "executionInfo": {
     "elapsed": 219,
     "status": "ok",
     "timestamp": 1670061922004,
     "user": {
      "displayName": "Pablo Soto López",
      "userId": "08112082177697405353"
     },
     "user_tz": -60
    },
    "id": "dad9f91f-1a0e-4ee0-8020-eb652f716f8f",
    "outputId": "17c332c8-4a73-4fa2-c027-84dc60863311"
   },
   "outputs": [
    {
     "data": {
      "text/html": [
       "<div>\n",
       "<style scoped>\n",
       "    .dataframe tbody tr th:only-of-type {\n",
       "        vertical-align: middle;\n",
       "    }\n",
       "\n",
       "    .dataframe tbody tr th {\n",
       "        vertical-align: top;\n",
       "    }\n",
       "\n",
       "    .dataframe thead th {\n",
       "        text-align: right;\n",
       "    }\n",
       "</style>\n",
       "<table border=\"1\" class=\"dataframe\">\n",
       "  <thead>\n",
       "    <tr style=\"text-align: right;\">\n",
       "      <th></th>\n",
       "      <th>valor</th>\n",
       "      <th>percent_100</th>\n",
       "      <th>isfraud</th>\n",
       "    </tr>\n",
       "  </thead>\n",
       "  <tbody>\n",
       "    <tr>\n",
       "      <th>0</th>\n",
       "      <td>0</td>\n",
       "      <td>99.8911</td>\n",
       "      <td>1047433</td>\n",
       "    </tr>\n",
       "    <tr>\n",
       "      <th>1</th>\n",
       "      <td>1</td>\n",
       "      <td>0.1089</td>\n",
       "      <td>1142</td>\n",
       "    </tr>\n",
       "  </tbody>\n",
       "</table>\n",
       "</div>"
      ],
      "text/plain": [
       "   valor  percent_100  isfraud\n",
       "0      0      99.8911  1047433\n",
       "1      1       0.1089     1142"
      ]
     },
     "execution_count": 19,
     "metadata": {},
     "output_type": "execute_result"
    }
   ],
   "source": [
    "pd_plot_isfraud = data_raw['isfraud']\\\n",
    "        .value_counts(normalize=True)\\\n",
    "        .mul(100).rename('percent_100').reset_index()\n",
    "\n",
    "pd_plot_isfraud_conteo = data_raw['isfraud'].value_counts().reset_index()\n",
    "pd_plot_isfraud_pc = pd.merge(pd_plot_isfraud, pd_plot_isfraud_conteo,\n",
    "                              on=['index'], how='inner').rename(columns={'index':'valor'})\n",
    "pd_plot_isfraud_pc"
   ]
  },
  {
   "cell_type": "code",
   "execution_count": 20,
   "id": "7b0ceec4-b39c-4735-a2f5-6f690a2e91b5",
   "metadata": {
    "colab": {
     "base_uri": "https://localhost:8080/",
     "height": 292
    },
    "executionInfo": {
     "elapsed": 459,
     "status": "ok",
     "timestamp": 1669999397760,
     "user": {
      "displayName": "Pablo Soto López",
      "userId": "08112082177697405353"
     },
     "user_tz": -60
    },
    "id": "7b0ceec4-b39c-4735-a2f5-6f690a2e91b5",
    "outputId": "a1ec189c-3ac1-4f6c-a2ad-edb0ffffd4dc"
   },
   "outputs": [
    {
     "data": {
      "image/png": "[encoded data removed]",
      "text/plain": [
       "<Figure size 1080x270 with 1 Axes>"
      ]
     },
     "metadata": {},
     "output_type": "display_data"
    }
   ],
   "source": [
    "plot_feature(data_raw,'isfraud')"
   ]
  },
  {
   "cell_type": "markdown",
   "id": "eaf7e6af-ff93-4362-9816-8e4e3cdd2380",
   "metadata": {
    "id": "eaf7e6af-ff93-4362-9816-8e4e3cdd2380"
   },
   "source": [
    "### Tipos: Variables categoricas y numericas"
   ]
  },
  {
   "cell_type": "code",
   "execution_count": 21,
   "id": "dc9672be-9778-401f-8677-62575f01a32e",
   "metadata": {
    "executionInfo": {
     "elapsed": 223,
     "status": "ok",
     "timestamp": 1670061959150,
     "user": {
      "displayName": "Pablo Soto López",
      "userId": "08112082177697405353"
     },
     "user_tz": -60
    },
    "id": "dc9672be-9778-401f-8677-62575f01a32e"
   },
   "outputs": [],
   "source": [
    "# Por observación de Head, sí tenemos que modificarla lo haremao.\n",
    "naturaleza={'amount':'numeric',\n",
    "            'connection_time':'numeric',\n",
    "            'user_number' : 'numeric',\n",
    "            'oldbalanceorg':'numeric',\n",
    "            'newbalanceorig':'numeric',\n",
    "            'oldbalancedest': 'numeric',\n",
    "            'newbalancedest' : 'numeric',\n",
    "            'user_connections': 'numeric',           \n",
    "            'step' :'numerica',\n",
    "            'age': 'numerica',\n",
    "            \n",
    "            'type': 'cardinal',\n",
    "            'gender' : 'cardinal',\n",
    "            'device' : 'cardinal',\n",
    "            'nameorig' : 'cardinal',\n",
    "            'race' : 'cardinal',\n",
    "            'zone' : 'cardinal',\n",
    "            \n",
    "            'namedest' : 'cardinal',\n",
    "            'security_alert': 'cardinal',\n",
    "            'isfraud' : 'target'}"
   ]
  },
  {
   "cell_type": "markdown",
   "id": "0e4025cd-b3d2-4de6-96a6-2bed7d0dc629",
   "metadata": {
    "id": "0e4025cd-b3d2-4de6-96a6-2bed7d0dc629"
   },
   "source": [
    "Creacion tabla metacaracteristicas.\n",
    "Siempre resulta últil ir generando una tabla de metacaracterisiticas, de manera que nos permita ver de manera sintetica los datos que manejamos."
   ]
  },
  {
   "cell_type": "code",
   "execution_count": 22,
   "id": "95d9f21f-7073-4ac3-b61a-ee734c3425b9",
   "metadata": {
    "colab": {
     "base_uri": "https://localhost:8080/",
     "height": 645
    },
    "executionInfo": {
     "elapsed": 7903,
     "status": "ok",
     "timestamp": 1670061981519,
     "user": {
      "displayName": "Pablo Soto López",
      "userId": "08112082177697405353"
     },
     "user_tz": -60
    },
    "id": "95d9f21f-7073-4ac3-b61a-ee734c3425b9",
    "outputId": "2caacdc0-1d32-495e-f3cf-44256e6a9fa8"
   },
   "outputs": [
    {
     "data": {
      "text/html": [
       "<div>\n",
       "<style scoped>\n",
       "    .dataframe tbody tr th:only-of-type {\n",
       "        vertical-align: middle;\n",
       "    }\n",
       "\n",
       "    .dataframe tbody tr th {\n",
       "        vertical-align: top;\n",
       "    }\n",
       "\n",
       "    .dataframe thead th {\n",
       "        text-align: right;\n",
       "    }\n",
       "</style>\n",
       "<table border=\"1\" class=\"dataframe\">\n",
       "  <thead>\n",
       "    <tr style=\"text-align: right;\">\n",
       "      <th></th>\n",
       "      <th>nombre</th>\n",
       "      <th>dtype</th>\n",
       "      <th>tipologia</th>\n",
       "      <th>valores_unicos</th>\n",
       "      <th>5_mas_frecuentes</th>\n",
       "      <th>5_max_ocururrencias</th>\n",
       "    </tr>\n",
       "  </thead>\n",
       "  <tbody>\n",
       "    <tr>\n",
       "      <th>0</th>\n",
       "      <td>step</td>\n",
       "      <td>int64</td>\n",
       "      <td>numerica</td>\n",
       "      <td>95</td>\n",
       "      <td>[19, 18, 43, 15, 17]</td>\n",
       "      <td>[51352, 49579, 45060, 44609, 43361]</td>\n",
       "    </tr>\n",
       "    <tr>\n",
       "      <th>1</th>\n",
       "      <td>type</td>\n",
       "      <td>object</td>\n",
       "      <td>cardinal</td>\n",
       "      <td>5</td>\n",
       "      <td>[CASH_OUT, PAYMENT, CASH_IN, TRANSFER, DEBIT]</td>\n",
       "      <td>[373641, 353873, 227130, 86753, 7178]</td>\n",
       "    </tr>\n",
       "    <tr>\n",
       "      <th>2</th>\n",
       "      <td>amount</td>\n",
       "      <td>float64</td>\n",
       "      <td>numeric</td>\n",
       "      <td>1009606</td>\n",
       "      <td>[10000000.0, 706.25, 1711.67, 3172.71, 5838.16]</td>\n",
       "      <td>[14, 6, 5, 5, 5]</td>\n",
       "    </tr>\n",
       "    <tr>\n",
       "      <th>3</th>\n",
       "      <td>gender</td>\n",
       "      <td>object</td>\n",
       "      <td>cardinal</td>\n",
       "      <td>4</td>\n",
       "      <td>[woman, unknow, man, no_disp]</td>\n",
       "      <td>[366906, 314307, 262244, 105118]</td>\n",
       "    </tr>\n",
       "    <tr>\n",
       "      <th>4</th>\n",
       "      <td>device</td>\n",
       "      <td>object</td>\n",
       "      <td>cardinal</td>\n",
       "      <td>4</td>\n",
       "      <td>[mac, pc, iphone, no_disp]</td>\n",
       "      <td>[367066, 314867, 262062, 104580]</td>\n",
       "    </tr>\n",
       "    <tr>\n",
       "      <th>5</th>\n",
       "      <td>connection_time</td>\n",
       "      <td>float64</td>\n",
       "      <td>numeric</td>\n",
       "      <td>1047989</td>\n",
       "      <td>[0.428902039, 0.589906316, 0.819925197, 0.4377...</td>\n",
       "      <td>[2, 2, 2, 2, 2]</td>\n",
       "    </tr>\n",
       "    <tr>\n",
       "      <th>6</th>\n",
       "      <td>nameorig</td>\n",
       "      <td>object</td>\n",
       "      <td>cardinal</td>\n",
       "      <td>1048317</td>\n",
       "      <td>[C1214450722, C309111136, C1268675361, C720460...</td>\n",
       "      <td>[2, 2, 2, 2, 2]</td>\n",
       "    </tr>\n",
       "    <tr>\n",
       "      <th>7</th>\n",
       "      <td>race</td>\n",
       "      <td>object</td>\n",
       "      <td>cardinal</td>\n",
       "      <td>4</td>\n",
       "      <td>[asian, black, latin, no_disp]</td>\n",
       "      <td>[366338, 314755, 262319, 105163]</td>\n",
       "    </tr>\n",
       "    <tr>\n",
       "      <th>8</th>\n",
       "      <td>oldbalanceorg</td>\n",
       "      <td>float64</td>\n",
       "      <td>numeric</td>\n",
       "      <td>415945</td>\n",
       "      <td>[0.0, 109.0, 195.0, 147.0, 141.0]</td>\n",
       "      <td>[342214, 167, 161, 160, 159]</td>\n",
       "    </tr>\n",
       "    <tr>\n",
       "      <th>9</th>\n",
       "      <td>age</td>\n",
       "      <td>int64</td>\n",
       "      <td>numerica</td>\n",
       "      <td>96</td>\n",
       "      <td>[52, 71, 12, 65, 73]</td>\n",
       "      <td>[11155, 11138, 11118, 11094, 11089]</td>\n",
       "    </tr>\n",
       "    <tr>\n",
       "      <th>10</th>\n",
       "      <td>newbalanceorig</td>\n",
       "      <td>float64</td>\n",
       "      <td>numeric</td>\n",
       "      <td>466415</td>\n",
       "      <td>[0.0, 2235.96, 4910403.44, 18806.68, 1640.67]</td>\n",
       "      <td>[580275, 3, 3, 3, 3]</td>\n",
       "    </tr>\n",
       "    <tr>\n",
       "      <th>11</th>\n",
       "      <td>zone</td>\n",
       "      <td>object</td>\n",
       "      <td>cardinal</td>\n",
       "      <td>4</td>\n",
       "      <td>[country, africa, capital, no_disp]</td>\n",
       "      <td>[368004, 314026, 262131, 104414]</td>\n",
       "    </tr>\n",
       "    <tr>\n",
       "      <th>12</th>\n",
       "      <td>user_number</td>\n",
       "      <td>int64</td>\n",
       "      <td>numeric</td>\n",
       "      <td>4942</td>\n",
       "      <td>[2535, 3685, 4804, 2501, 3293]</td>\n",
       "      <td>[264, 259, 258, 258, 258]</td>\n",
       "    </tr>\n",
       "    <tr>\n",
       "      <th>13</th>\n",
       "      <td>namedest</td>\n",
       "      <td>object</td>\n",
       "      <td>cardinal</td>\n",
       "      <td>449635</td>\n",
       "      <td>[C985934102, C1286084959, C1590550415, C248609...</td>\n",
       "      <td>[98, 96, 89, 88, 87]</td>\n",
       "    </tr>\n",
       "    <tr>\n",
       "      <th>14</th>\n",
       "      <td>user_connections</td>\n",
       "      <td>int64</td>\n",
       "      <td>numeric</td>\n",
       "      <td>10</td>\n",
       "      <td>[10, 9, 3, 2, 7]</td>\n",
       "      <td>[105209, 105159, 105021, 104916, 104914]</td>\n",
       "    </tr>\n",
       "    <tr>\n",
       "      <th>15</th>\n",
       "      <td>security_alert</td>\n",
       "      <td>int64</td>\n",
       "      <td>cardinal</td>\n",
       "      <td>2</td>\n",
       "      <td>[0, 1]</td>\n",
       "      <td>[943670, 104905]</td>\n",
       "    </tr>\n",
       "    <tr>\n",
       "      <th>16</th>\n",
       "      <td>oldbalancedest</td>\n",
       "      <td>float64</td>\n",
       "      <td>numeric</td>\n",
       "      <td>603920</td>\n",
       "      <td>[0.0, 102.0, 125.0, 214.0, 132.0]</td>\n",
       "      <td>[437134, 16, 15, 14, 13]</td>\n",
       "    </tr>\n",
       "    <tr>\n",
       "      <th>17</th>\n",
       "      <td>newbalancedest</td>\n",
       "      <td>float64</td>\n",
       "      <td>numeric</td>\n",
       "      <td>446071</td>\n",
       "      <td>[0.0, 971418.91, 19169204.93, 16532032.16, 125...</td>\n",
       "      <td>[406914, 32, 29, 25, 25]</td>\n",
       "    </tr>\n",
       "    <tr>\n",
       "      <th>18</th>\n",
       "      <td>isfraud</td>\n",
       "      <td>int64</td>\n",
       "      <td>target</td>\n",
       "      <td>2</td>\n",
       "      <td>[0, 1]</td>\n",
       "      <td>[1047433, 1142]</td>\n",
       "    </tr>\n",
       "  </tbody>\n",
       "</table>\n",
       "</div>"
      ],
      "text/plain": [
       "              nombre    dtype tipologia  valores_unicos  \\\n",
       "0               step    int64  numerica              95   \n",
       "1               type   object  cardinal               5   \n",
       "2             amount  float64   numeric         1009606   \n",
       "3             gender   object  cardinal               4   \n",
       "4             device   object  cardinal               4   \n",
       "5    connection_time  float64   numeric         1047989   \n",
       "6           nameorig   object  cardinal         1048317   \n",
       "7               race   object  cardinal               4   \n",
       "8      oldbalanceorg  float64   numeric          415945   \n",
       "9                age    int64  numerica              96   \n",
       "10    newbalanceorig  float64   numeric          466415   \n",
       "11              zone   object  cardinal               4   \n",
       "12       user_number    int64   numeric            4942   \n",
       "13          namedest   object  cardinal          449635   \n",
       "14  user_connections    int64   numeric              10   \n",
       "15    security_alert    int64  cardinal               2   \n",
       "16    oldbalancedest  float64   numeric          603920   \n",
       "17    newbalancedest  float64   numeric          446071   \n",
       "18           isfraud    int64    target               2   \n",
       "\n",
       "                                     5_mas_frecuentes  \\\n",
       "0                                [19, 18, 43, 15, 17]   \n",
       "1       [CASH_OUT, PAYMENT, CASH_IN, TRANSFER, DEBIT]   \n",
       "2     [10000000.0, 706.25, 1711.67, 3172.71, 5838.16]   \n",
       "3                       [woman, unknow, man, no_disp]   \n",
       "4                          [mac, pc, iphone, no_disp]   \n",
       "5   [0.428902039, 0.589906316, 0.819925197, 0.4377...   \n",
       "6   [C1214450722, C309111136, C1268675361, C720460...   \n",
       "7                      [asian, black, latin, no_disp]   \n",
       "8                   [0.0, 109.0, 195.0, 147.0, 141.0]   \n",
       "9                                [52, 71, 12, 65, 73]   \n",
       "10      [0.0, 2235.96, 4910403.44, 18806.68, 1640.67]   \n",
       "11                [country, africa, capital, no_disp]   \n",
       "12                     [2535, 3685, 4804, 2501, 3293]   \n",
       "13  [C985934102, C1286084959, C1590550415, C248609...   \n",
       "14                                   [10, 9, 3, 2, 7]   \n",
       "15                                             [0, 1]   \n",
       "16                  [0.0, 102.0, 125.0, 214.0, 132.0]   \n",
       "17  [0.0, 971418.91, 19169204.93, 16532032.16, 125...   \n",
       "18                                             [0, 1]   \n",
       "\n",
       "                         5_max_ocururrencias  \n",
       "0        [51352, 49579, 45060, 44609, 43361]  \n",
       "1      [373641, 353873, 227130, 86753, 7178]  \n",
       "2                           [14, 6, 5, 5, 5]  \n",
       "3           [366906, 314307, 262244, 105118]  \n",
       "4           [367066, 314867, 262062, 104580]  \n",
       "5                            [2, 2, 2, 2, 2]  \n",
       "6                            [2, 2, 2, 2, 2]  \n",
       "7           [366338, 314755, 262319, 105163]  \n",
       "8               [342214, 167, 161, 160, 159]  \n",
       "9        [11155, 11138, 11118, 11094, 11089]  \n",
       "10                      [580275, 3, 3, 3, 3]  \n",
       "11          [368004, 314026, 262131, 104414]  \n",
       "12                 [264, 259, 258, 258, 258]  \n",
       "13                      [98, 96, 89, 88, 87]  \n",
       "14  [105209, 105159, 105021, 104916, 104914]  \n",
       "15                          [943670, 104905]  \n",
       "16                  [437134, 16, 15, 14, 13]  \n",
       "17                  [406914, 32, 29, 25, 25]  \n",
       "18                           [1047433, 1142]  "
      ]
     },
     "execution_count": 22,
     "metadata": {},
     "output_type": "execute_result"
    }
   ],
   "source": [
    "metadata=pd.DataFrame(data_raw.columns.tolist(),columns=['nombre'])\n",
    "metadata['dtype']=data_raw.dtypes.tolist()\n",
    "metadata['tipologia'] = metadata['nombre'].map(naturaleza)\n",
    "metadata['valores_unicos']= metadata.apply(lambda x: data_raw[x['nombre']].nunique(dropna=False) ,axis=1)\n",
    "metadata['5_mas_frecuentes'] = (metadata.apply(lambda x: data_raw[x['nombre']].\n",
    "                                                 value_counts().index.tolist()[0:5],axis=1))\n",
    "metadata['5_max_ocururrencias']=metadata.apply(lambda x: data_raw[x['nombre']].value_counts().tolist()[0:5],axis=1)\n",
    "metadata"
   ]
  },
  {
   "cell_type": "code",
   "execution_count": null,
   "id": "10a6c3b4-3a0e-4378-be63-7f7a047c37d6",
   "metadata": {
    "id": "10a6c3b4-3a0e-4378-be63-7f7a047c37d6"
   },
   "outputs": [],
   "source": []
  },
  {
   "cell_type": "code",
   "execution_count": 23,
   "id": "bed0a82b-98e1-4175-b36a-88acc82e149a",
   "metadata": {
    "executionInfo": {
     "elapsed": 226,
     "status": "ok",
     "timestamp": 1670062037524,
     "user": {
      "displayName": "Pablo Soto López",
      "userId": "08112082177697405353"
     },
     "user_tz": -60
    },
    "id": "bed0a82b-98e1-4175-b36a-88acc82e149a"
   },
   "outputs": [],
   "source": [
    "categorical_list=metadata[metadata.tipologia=='cardinal']['nombre']\n",
    "numerical_list= metadata[metadata.tipologia=='numeric']['nombre']\n",
    "target='isfraud'"
   ]
  },
  {
   "cell_type": "code",
   "execution_count": 24,
   "id": "f4819224-517c-4301-8614-25d840b65adf",
   "metadata": {
    "executionInfo": {
     "elapsed": 5935,
     "status": "ok",
     "timestamp": 1670062076131,
     "user": {
      "displayName": "Pablo Soto López",
      "userId": "08112082177697405353"
     },
     "user_tz": -60
    },
    "id": "f4819224-517c-4301-8614-25d840b65adf"
   },
   "outputs": [],
   "source": [
    "# Transform categorical variabels to dtype category.\n",
    "data_raw[categorical_list] = data_raw[categorical_list].astype(\"category\")"
   ]
  },
  {
   "cell_type": "markdown",
   "id": "F6lD8O0FiHxL",
   "metadata": {
    "id": "F6lD8O0FiHxL"
   },
   "source": [
    "## Detección de ouliers en variables númericas.\n",
    "Tomando 3 veces de intervalo de desviación típica sobre la media nos dan % de oultiers de entre un 1.8 y un 2.5 %. Los consideramos normales dada la naturaleza de los datos. Son importes dinerarios de operaciones bancarias, donde la cola inferior no puede ser menor que cero, y las cantidades se extienden hasta el limite máximo por transacción que en este caso parece que son 10.000.000. \n",
    "No consideramos necesario eliminar ningun caso."
   ]
  },
  {
   "cell_type": "code",
   "execution_count": 25,
   "id": "pq_J0lCYYzTE",
   "metadata": {
    "colab": {
     "base_uri": "https://localhost:8080/",
     "height": 206
    },
    "executionInfo": {
     "elapsed": 1043,
     "status": "ok",
     "timestamp": 1670062471500,
     "user": {
      "displayName": "Pablo Soto López",
      "userId": "08112082177697405353"
     },
     "user_tz": -60
    },
    "id": "pq_J0lCYYzTE",
    "outputId": "2e9fe8f4-70ed-4554-f6b9-4a9a8072f187"
   },
   "outputs": [
    {
     "data": {
      "text/html": [
       "<div>\n",
       "<style scoped>\n",
       "    .dataframe tbody tr th:only-of-type {\n",
       "        vertical-align: middle;\n",
       "    }\n",
       "\n",
       "    .dataframe tbody tr th {\n",
       "        vertical-align: top;\n",
       "    }\n",
       "\n",
       "    .dataframe thead th {\n",
       "        text-align: right;\n",
       "    }\n",
       "</style>\n",
       "<table border=\"1\" class=\"dataframe\">\n",
       "  <thead>\n",
       "    <tr style=\"text-align: right;\">\n",
       "      <th></th>\n",
       "      <th>feature</th>\n",
       "      <th>outliers_count</th>\n",
       "      <th>porcentaje_outlires</th>\n",
       "    </tr>\n",
       "  </thead>\n",
       "  <tbody>\n",
       "    <tr>\n",
       "      <th>0</th>\n",
       "      <td>newbalanceorig</td>\n",
       "      <td>26282.0000</td>\n",
       "      <td>2.5064</td>\n",
       "    </tr>\n",
       "    <tr>\n",
       "      <th>1</th>\n",
       "      <td>oldbalanceorg</td>\n",
       "      <td>26140.0000</td>\n",
       "      <td>2.4929</td>\n",
       "    </tr>\n",
       "    <tr>\n",
       "      <th>4</th>\n",
       "      <td>newbalancedest</td>\n",
       "      <td>22862.0000</td>\n",
       "      <td>2.1803</td>\n",
       "    </tr>\n",
       "    <tr>\n",
       "      <th>2</th>\n",
       "      <td>oldbalancedest</td>\n",
       "      <td>22685.0000</td>\n",
       "      <td>2.1634</td>\n",
       "    </tr>\n",
       "    <tr>\n",
       "      <th>3</th>\n",
       "      <td>amount</td>\n",
       "      <td>19422.0000</td>\n",
       "      <td>1.8522</td>\n",
       "    </tr>\n",
       "  </tbody>\n",
       "</table>\n",
       "</div>"
      ],
      "text/plain": [
       "          feature  outliers_count  porcentaje_outlires\n",
       "0  newbalanceorig      26282.0000               2.5064\n",
       "1   oldbalanceorg      26140.0000               2.4929\n",
       "4  newbalancedest      22862.0000               2.1803\n",
       "2  oldbalancedest      22685.0000               2.1634\n",
       "3          amount      19422.0000               1.8522"
      ]
     },
     "execution_count": 25,
     "metadata": {},
     "output_type": "execute_result"
    }
   ],
   "source": [
    "get_deviation_of_mean_perc(data_raw, numerical_list, 'isfraud',3)"
   ]
  },
  {
   "cell_type": "code",
   "execution_count": 26,
   "id": "fT7uLZ9IVwfZ",
   "metadata": {
    "colab": {
     "base_uri": "https://localhost:8080/",
     "height": 394
    },
    "executionInfo": {
     "elapsed": 814,
     "status": "ok",
     "timestamp": 1670062541009,
     "user": {
      "displayName": "Pablo Soto López",
      "userId": "08112082177697405353"
     },
     "user_tz": -60
    },
    "id": "fT7uLZ9IVwfZ",
    "outputId": "ba068a41-efdc-4575-b225-97f02de1cfe3"
   },
   "outputs": [
    {
     "data": {
      "text/html": [
       "<div>\n",
       "<style scoped>\n",
       "    .dataframe tbody tr th:only-of-type {\n",
       "        vertical-align: middle;\n",
       "    }\n",
       "\n",
       "    .dataframe tbody tr th {\n",
       "        vertical-align: top;\n",
       "    }\n",
       "\n",
       "    .dataframe thead th {\n",
       "        text-align: right;\n",
       "    }\n",
       "</style>\n",
       "<table border=\"1\" class=\"dataframe\">\n",
       "  <thead>\n",
       "    <tr style=\"text-align: right;\">\n",
       "      <th></th>\n",
       "      <th>count</th>\n",
       "      <th>mean</th>\n",
       "      <th>std</th>\n",
       "      <th>min</th>\n",
       "      <th>25%</th>\n",
       "      <th>50%</th>\n",
       "      <th>75%</th>\n",
       "      <th>max</th>\n",
       "    </tr>\n",
       "  </thead>\n",
       "  <tbody>\n",
       "    <tr>\n",
       "      <th>step</th>\n",
       "      <td>1048575.0000</td>\n",
       "      <td>26.9662</td>\n",
       "      <td>15.6233</td>\n",
       "      <td>1.0000</td>\n",
       "      <td>15.0000</td>\n",
       "      <td>20.0000</td>\n",
       "      <td>39.0000</td>\n",
       "      <td>95.0000</td>\n",
       "    </tr>\n",
       "    <tr>\n",
       "      <th>amount</th>\n",
       "      <td>1048575.0000</td>\n",
       "      <td>158666.9755</td>\n",
       "      <td>264940.9304</td>\n",
       "      <td>0.1000</td>\n",
       "      <td>12149.0650</td>\n",
       "      <td>76343.3300</td>\n",
       "      <td>213761.8900</td>\n",
       "      <td>10000000.0000</td>\n",
       "    </tr>\n",
       "    <tr>\n",
       "      <th>connection_time</th>\n",
       "      <td>1048575.0000</td>\n",
       "      <td>0.5001</td>\n",
       "      <td>0.2885</td>\n",
       "      <td>0.0000</td>\n",
       "      <td>0.2501</td>\n",
       "      <td>0.5004</td>\n",
       "      <td>0.7497</td>\n",
       "      <td>1.0000</td>\n",
       "    </tr>\n",
       "    <tr>\n",
       "      <th>oldbalanceorg</th>\n",
       "      <td>1048575.0000</td>\n",
       "      <td>874005.5356</td>\n",
       "      <td>2971725.1982</td>\n",
       "      <td>0.0000</td>\n",
       "      <td>0.0000</td>\n",
       "      <td>16002.0000</td>\n",
       "      <td>136642.0200</td>\n",
       "      <td>38939424.0300</td>\n",
       "    </tr>\n",
       "    <tr>\n",
       "      <th>age</th>\n",
       "      <td>1048575.0000</td>\n",
       "      <td>52.4567</td>\n",
       "      <td>27.7264</td>\n",
       "      <td>5.0000</td>\n",
       "      <td>28.0000</td>\n",
       "      <td>52.0000</td>\n",
       "      <td>76.0000</td>\n",
       "      <td>100.0000</td>\n",
       "    </tr>\n",
       "    <tr>\n",
       "      <th>newbalanceorig</th>\n",
       "      <td>1048575.0000</td>\n",
       "      <td>893804.8536</td>\n",
       "      <td>3008245.7978</td>\n",
       "      <td>0.0000</td>\n",
       "      <td>0.0000</td>\n",
       "      <td>0.0000</td>\n",
       "      <td>174599.9900</td>\n",
       "      <td>38946233.0200</td>\n",
       "    </tr>\n",
       "    <tr>\n",
       "      <th>user_number</th>\n",
       "      <td>1048575.0000</td>\n",
       "      <td>2530.4398</td>\n",
       "      <td>1426.4177</td>\n",
       "      <td>59.0000</td>\n",
       "      <td>1295.0000</td>\n",
       "      <td>2532.0000</td>\n",
       "      <td>3765.0000</td>\n",
       "      <td>5000.0000</td>\n",
       "    </tr>\n",
       "    <tr>\n",
       "      <th>user_connections</th>\n",
       "      <td>1048575.0000</td>\n",
       "      <td>5.5036</td>\n",
       "      <td>2.8722</td>\n",
       "      <td>1.0000</td>\n",
       "      <td>3.0000</td>\n",
       "      <td>6.0000</td>\n",
       "      <td>8.0000</td>\n",
       "      <td>10.0000</td>\n",
       "    </tr>\n",
       "    <tr>\n",
       "      <th>oldbalancedest</th>\n",
       "      <td>1048575.0000</td>\n",
       "      <td>978159.9661</td>\n",
       "      <td>2296779.3605</td>\n",
       "      <td>0.0000</td>\n",
       "      <td>0.0000</td>\n",
       "      <td>126377.2100</td>\n",
       "      <td>915923.4750</td>\n",
       "      <td>42054659.7300</td>\n",
       "    </tr>\n",
       "    <tr>\n",
       "      <th>newbalancedest</th>\n",
       "      <td>1048575.0000</td>\n",
       "      <td>1114193.2651</td>\n",
       "      <td>2416554.4402</td>\n",
       "      <td>0.0000</td>\n",
       "      <td>0.0000</td>\n",
       "      <td>218260.3600</td>\n",
       "      <td>1149807.5100</td>\n",
       "      <td>42169156.0900</td>\n",
       "    </tr>\n",
       "    <tr>\n",
       "      <th>isfraud</th>\n",
       "      <td>1048575.0000</td>\n",
       "      <td>0.0011</td>\n",
       "      <td>0.0330</td>\n",
       "      <td>0.0000</td>\n",
       "      <td>0.0000</td>\n",
       "      <td>0.0000</td>\n",
       "      <td>0.0000</td>\n",
       "      <td>1.0000</td>\n",
       "    </tr>\n",
       "  </tbody>\n",
       "</table>\n",
       "</div>"
      ],
      "text/plain": [
       "                        count         mean          std     min        25%  \\\n",
       "step             1048575.0000      26.9662      15.6233  1.0000    15.0000   \n",
       "amount           1048575.0000  158666.9755  264940.9304  0.1000 12149.0650   \n",
       "connection_time  1048575.0000       0.5001       0.2885  0.0000     0.2501   \n",
       "oldbalanceorg    1048575.0000  874005.5356 2971725.1982  0.0000     0.0000   \n",
       "age              1048575.0000      52.4567      27.7264  5.0000    28.0000   \n",
       "newbalanceorig   1048575.0000  893804.8536 3008245.7978  0.0000     0.0000   \n",
       "user_number      1048575.0000    2530.4398    1426.4177 59.0000  1295.0000   \n",
       "user_connections 1048575.0000       5.5036       2.8722  1.0000     3.0000   \n",
       "oldbalancedest   1048575.0000  978159.9661 2296779.3605  0.0000     0.0000   \n",
       "newbalancedest   1048575.0000 1114193.2651 2416554.4402  0.0000     0.0000   \n",
       "isfraud          1048575.0000       0.0011       0.0330  0.0000     0.0000   \n",
       "\n",
       "                         50%          75%           max  \n",
       "step                 20.0000      39.0000       95.0000  \n",
       "amount            76343.3300  213761.8900 10000000.0000  \n",
       "connection_time       0.5004       0.7497        1.0000  \n",
       "oldbalanceorg     16002.0000  136642.0200 38939424.0300  \n",
       "age                  52.0000      76.0000      100.0000  \n",
       "newbalanceorig        0.0000  174599.9900 38946233.0200  \n",
       "user_number        2532.0000    3765.0000     5000.0000  \n",
       "user_connections      6.0000       8.0000       10.0000  \n",
       "oldbalancedest   126377.2100  915923.4750 42054659.7300  \n",
       "newbalancedest   218260.3600 1149807.5100 42169156.0900  \n",
       "isfraud               0.0000       0.0000        1.0000  "
      ]
     },
     "execution_count": 26,
     "metadata": {},
     "output_type": "execute_result"
    }
   ],
   "source": [
    "data_raw.describe().T"
   ]
  },
  {
   "cell_type": "code",
   "execution_count": 27,
   "id": "ZGeb6iD8FT2O",
   "metadata": {
    "executionInfo": {
     "elapsed": 7583,
     "status": "ok",
     "timestamp": 1670062897398,
     "user": {
      "displayName": "Pablo Soto López",
      "userId": "08112082177697405353"
     },
     "user_tz": -60
    },
    "id": "ZGeb6iD8FT2O"
   },
   "outputs": [],
   "source": [
    "# Save clean datas.\n",
    "data_raw.to_parquet('../data/fraud_detection_clean.parquet',\n",
    "              compression='gzip')\n",
    "\n",
    "metadata.astype(str).to_parquet(\"../data/metadata_fraud.parquet\") "
   ]
  },
  {
   "cell_type": "code",
   "execution_count": null,
   "id": "2kEZSn0hftOJ",
   "metadata": {
    "executionInfo": {
     "elapsed": 2,
     "status": "ok",
     "timestamp": 1670062903121,
     "user": {
      "displayName": "Pablo Soto López",
      "userId": "08112082177697405353"
     },
     "user_tz": -60
    },
    "id": "2kEZSn0hftOJ"
   },
   "outputs": [],
   "source": []
  },
  {
   "cell_type": "markdown",
   "id": "3BNAsSLxQgo4",
   "metadata": {
    "id": "3BNAsSLxQgo4"
   },
   "source": [
    "### EDA. ¿ Dividimos en train-test antes o después del EDA?. Feature engenering en EDA.\n",
    "No soy pragmatico con este tema, mi opinión hasta que surjió la discursión en clase, era hacer el EDA sobre todo el dataset disponible. Comprendí que asislando el test antes del eda, podemos decir que estamos menos influenciados por los datos \"ocultos\". Y a partir de ahora, me plantearé cuando empiece un modelo que decisión tomar.\n",
    "\n",
    "Despues de conocer lo visto para ese conjunto de datos, la decisión es hacer el EDA con todo el dataset, por una razón fundamental. Tenemos al menos dos caracteristicas muy desbalanceadas, isfraud y steps. Podemos controlar la esteafificación del target, pero con mucha seguridad nos deje fuera alguno de los 95 pasos de step, Cuestión que nos haría perder información en el EDA. La solución ideal sería implementar muestreo estratificado anidado por steps, pero considero que los avances que porduzca no reportarán mejoras al modelo.\n",
    "\n",
    "Hacemos EDA con dataset completo.\n",
    "\n",
    "A lo largo de este EDA, se van a añadir caracteristicas a nuestros datos: dado que el EDA es un proceso inteactivo de comprensión de los datos, pensamos que sí existe alguna caracteristica que nos faciita la comprensión de los mismos, es un buen momento para añadirla.\n",
    "\n"
   ]
  },
  {
   "cell_type": "markdown",
   "id": "be7afc49-1b62-41cb-abd3-b9ff49aef325",
   "metadata": {
    "id": "be7afc49-1b62-41cb-abd3-b9ff49aef325"
   },
   "source": [
    "### Step. Escala temporal.\n",
    "Vamos a estudiar un profundidad la escala temporal de las operaciones y de los fraudes.\n",
    "\n",
    "Se nos indica que step corresponde a una hora de tiempo. Se va incrementando de uno e uno, pero nos permite transformarlo en cualquier midida de tiempo mayor, día, etc.\n",
    "\n",
    "Tenemos datos de 4 dias de transacciones, tres días y 23 horas (95).  Añadimos columnas de día y hora, sin eliminar step, ya veremoo despúes sí es conveniente para los modelos eliminarlas.\n",
    "\n",
    "Si consideramos la hora de 00:00 a 01:00 como la hora 1, los ciclos se adaptan a los horarios de cualquier actividad comericial que requiera presencia en un comercio o punto automatico de atención, muy bajo por la noche, creciente por la mañana y alcanza su pico entre 18:00 y 19:00 cuando el  público ha terminado su joranda laboral.\n",
    "\n",
    "El 97 % de las operaciones se producen en los días 1 y 2. Los días 3 y 4 podemos afirmar que las operacioones son testimoniales. Los dos priemros días se producen de media 23.793 y 18865 respectivamente, bajando los días 3 y 4 a 281 y 751. No ocnocemos la razón de tan baja actividad los días 3 y 4.\n"
   ]
  },
  {
   "cell_type": "code",
   "execution_count": 28,
   "id": "280ae59c-ba3c-454e-b27d-faae312c2627",
   "metadata": {
    "colab": {
     "base_uri": "https://localhost:8080/",
     "height": 299
    },
    "executionInfo": {
     "elapsed": 1430,
     "status": "ok",
     "timestamp": 1670063651282,
     "user": {
      "displayName": "Pablo Soto López",
      "userId": "08112082177697405353"
     },
     "user_tz": -60
    },
    "id": "280ae59c-ba3c-454e-b27d-faae312c2627",
    "outputId": "ac036c01-5aae-4663-f2e4-b80deda37b35"
   },
   "outputs": [
    {
     "data": {
      "text/plain": [
       "<AxesSubplot:xlabel='step'>"
      ]
     },
     "execution_count": 28,
     "metadata": {},
     "output_type": "execute_result"
    },
    {
     "data": {
      "image/png": "[encoded data removed]",
      "text/plain": [
       "<Figure size 1500x400 with 1 Axes>"
      ]
     },
     "metadata": {},
     "output_type": "display_data"
    }
   ],
   "source": [
    "# Ploteamos las cuenta de operaciones por step.\n",
    "data_raw[['type','step']].groupby('step').count().plot(kind='bar',figsize=(15,4))"
   ]
  },
  {
   "cell_type": "code",
   "execution_count": 29,
   "id": "dfc045e1-d60a-4e03-83c6-3c46e305f95d",
   "metadata": {
    "colab": {
     "base_uri": "https://localhost:8080/",
     "height": 364
    },
    "executionInfo": {
     "elapsed": 1203,
     "status": "ok",
     "timestamp": 1670063658314,
     "user": {
      "displayName": "Pablo Soto López",
      "userId": "08112082177697405353"
     },
     "user_tz": -60
    },
    "id": "dfc045e1-d60a-4e03-83c6-3c46e305f95d",
    "outputId": "ece418c6-d1e1-4417-ed18-0cd7883a785f"
   },
   "outputs": [
    {
     "data": {
      "text/plain": [
       "<AxesSubplot:xlabel='step'>"
      ]
     },
     "execution_count": 29,
     "metadata": {},
     "output_type": "execute_result"
    },
    {
     "data": {
      "image/png": "[encoded data removed]",
      "text/plain": [
       "<Figure size 1500x500 with 1 Axes>"
      ]
     },
     "metadata": {},
     "output_type": "display_data"
    }
   ],
   "source": [
    "# Ploteamos las suma importes de operaciones por step.\n",
    "data_raw[['amount','step']].groupby('step').sum().plot(kind='bar',figsize=(15,5))"
   ]
  },
  {
   "cell_type": "code",
   "execution_count": 30,
   "id": "d8cf1e90-d3b8-4616-a3ff-a66b68d8447a",
   "metadata": {
    "executionInfo": {
     "elapsed": 219,
     "status": "ok",
     "timestamp": 1670063664594,
     "user": {
      "displayName": "Pablo Soto López",
      "userId": "08112082177697405353"
     },
     "user_tz": -60
    },
    "id": "d8cf1e90-d3b8-4616-a3ff-a66b68d8447a"
   },
   "outputs": [],
   "source": [
    "# Si los datos se corresponden con horas podemos inferir muy rápido el día y la hora.\n",
    "# El día es relativo al comienzo de la primera transacción.\n",
    "# la Hora suponemos que empieza a las 00:00 de un día.\n",
    "\n",
    "data_raw['dia'] = (data_raw['step'] // 24)+1\n",
    "data_raw['hora']= data_raw['step'] % 24"
   ]
  },
  {
   "cell_type": "code",
   "execution_count": 31,
   "id": "474bee8c-82b4-4e7c-b93d-c2d9502b62d7",
   "metadata": {
    "colab": {
     "base_uri": "https://localhost:8080/",
     "height": 279
    },
    "executionInfo": {
     "elapsed": 332,
     "status": "ok",
     "timestamp": 1670063673116,
     "user": {
      "displayName": "Pablo Soto López",
      "userId": "08112082177697405353"
     },
     "user_tz": -60
    },
    "id": "474bee8c-82b4-4e7c-b93d-c2d9502b62d7",
    "outputId": "4226bef7-8746-48de-cd38-7bee1248146a"
   },
   "outputs": [
    {
     "data": {
      "text/plain": [
       "<AxesSubplot:>"
      ]
     },
     "execution_count": 31,
     "metadata": {},
     "output_type": "execute_result"
    },
    {
     "data": {
      "image/png": "[encoded data removed]",
      "text/plain": [
       "<Figure size 1500x400 with 1 Axes>"
      ]
     },
     "metadata": {},
     "output_type": "display_data"
    }
   ],
   "source": [
    "# Vemos el total de operaciones por dia en los 4 dias.\n",
    "data_raw.dia.value_counts().sort_index().plot(kind='bar',figsize=(15,4))"
   ]
  },
  {
   "cell_type": "code",
   "execution_count": 32,
   "id": "8e9a6a9a-8891-458d-b6a4-75591b1eb3eb",
   "metadata": {
    "colab": {
     "base_uri": "https://localhost:8080/",
     "height": 285
    },
    "executionInfo": {
     "elapsed": 781,
     "status": "ok",
     "timestamp": 1670063677512,
     "user": {
      "displayName": "Pablo Soto López",
      "userId": "08112082177697405353"
     },
     "user_tz": -60
    },
    "id": "8e9a6a9a-8891-458d-b6a4-75591b1eb3eb",
    "outputId": "eb5bd059-6954-4227-aa3d-61280d472994"
   },
   "outputs": [
    {
     "data": {
      "text/plain": [
       "<AxesSubplot:>"
      ]
     },
     "execution_count": 32,
     "metadata": {},
     "output_type": "execute_result"
    },
    {
     "data": {
      "image/png": "[encoded data removed]",
      "text/plain": [
       "<Figure size 1500x400 with 1 Axes>"
      ]
     },
     "metadata": {},
     "output_type": "display_data"
    }
   ],
   "source": [
    "# Revisamos el total de operaciones por horas\n",
    "(data_raw.hora.value_counts(normalize=True)*100).sort_index().plot(kind='bar',figsize=(15,4))"
   ]
  },
  {
   "cell_type": "markdown",
   "id": "5498f33a-3c4f-4b20-9343-b8087bdee923",
   "metadata": {
    "id": "5498f33a-3c4f-4b20-9343-b8087bdee923"
   },
   "source": [
    "### Patrones temporales del fraude.\n",
    "A pesar de la abultada desproporción en el número de operaciones entre los steps en todos ellos se producen operaciones de fraude. Y están muy balanceados los casos de fraude por ste, entre un máximo de 24 fraudes y un mínimo de 2.\n",
    " \n",
    "\n",
    "\n"
   ]
  },
  {
   "cell_type": "code",
   "execution_count": 33,
   "id": "d7fd9b9f-5519-4dd7-abd5-e3b9b137eff9",
   "metadata": {
    "colab": {
     "base_uri": "https://localhost:8080/"
    },
    "executionInfo": {
     "elapsed": 300,
     "status": "ok",
     "timestamp": 1670063733664,
     "user": {
      "displayName": "Pablo Soto López",
      "userId": "08112082177697405353"
     },
     "user_tz": -60
    },
    "id": "d7fd9b9f-5519-4dd7-abd5-e3b9b137eff9",
    "outputId": "48fbf8c3-a193-42e5-da85-5c9da6fdc93c"
   },
   "outputs": [
    {
     "data": {
      "text/plain": [
       "95"
      ]
     },
     "execution_count": 33,
     "metadata": {},
     "output_type": "execute_result"
    }
   ],
   "source": [
    "# Check number stpes with fraud.\n",
    "data_raw[data_raw.isfraud==1]['step'].nunique()"
   ]
  },
  {
   "cell_type": "markdown",
   "id": "cc9ac110-5d81-40aa-ba1b-5a37dc0b49f8",
   "metadata": {
    "id": "cc9ac110-5d81-40aa-ba1b-5a37dc0b49f8"
   },
   "source": [
    "Se produce una media de 12 fraudes a la hora, un máximo de 24 fraudes y un mínimo de dos fraudes. Dada la variabilidad del número de operaciones, parece que el fraude presenta menos variación. "
   ]
  },
  {
   "cell_type": "code",
   "execution_count": 34,
   "id": "53982086-cb4e-43f2-bc84-f7b476bb2ac2",
   "metadata": {
    "colab": {
     "base_uri": "https://localhost:8080/",
     "height": 301
    },
    "executionInfo": {
     "elapsed": 1135,
     "status": "ok",
     "timestamp": 1670063686311,
     "user": {
      "displayName": "Pablo Soto López",
      "userId": "08112082177697405353"
     },
     "user_tz": -60
    },
    "id": "53982086-cb4e-43f2-bc84-f7b476bb2ac2",
    "outputId": "654b28ee-80e1-4c00-c21e-6d0f7ecf2f24"
   },
   "outputs": [
    {
     "data": {
      "text/plain": [
       "<AxesSubplot:xlabel='step'>"
      ]
     },
     "execution_count": 34,
     "metadata": {},
     "output_type": "execute_result"
    },
    {
     "data": {
      "image/png": "[encoded data removed]",
      "text/plain": [
       "<Figure size 1500x400 with 1 Axes>"
      ]
     },
     "metadata": {},
     "output_type": "display_data"
    }
   ],
   "source": [
    "data_raw[data_raw.isfraud==1][['isfraud','step']].groupby('step').sum().plot(kind='bar',figsize=(15,4))"
   ]
  },
  {
   "cell_type": "code",
   "execution_count": 35,
   "id": "201869e9-8cc2-465e-954c-3405db436ede",
   "metadata": {
    "colab": {
     "base_uri": "https://localhost:8080/",
     "height": 81
    },
    "executionInfo": {
     "elapsed": 258,
     "status": "ok",
     "timestamp": 1670063742696,
     "user": {
      "displayName": "Pablo Soto López",
      "userId": "08112082177697405353"
     },
     "user_tz": -60
    },
    "id": "201869e9-8cc2-465e-954c-3405db436ede",
    "outputId": "f943a09b-86a3-4cdd-e63f-3134cf815e09"
   },
   "outputs": [
    {
     "data": {
      "text/html": [
       "<div>\n",
       "<style scoped>\n",
       "    .dataframe tbody tr th:only-of-type {\n",
       "        vertical-align: middle;\n",
       "    }\n",
       "\n",
       "    .dataframe tbody tr th {\n",
       "        vertical-align: top;\n",
       "    }\n",
       "\n",
       "    .dataframe thead th {\n",
       "        text-align: right;\n",
       "    }\n",
       "</style>\n",
       "<table border=\"1\" class=\"dataframe\">\n",
       "  <thead>\n",
       "    <tr style=\"text-align: right;\">\n",
       "      <th></th>\n",
       "      <th>count</th>\n",
       "      <th>mean</th>\n",
       "      <th>std</th>\n",
       "      <th>min</th>\n",
       "      <th>25%</th>\n",
       "      <th>50%</th>\n",
       "      <th>75%</th>\n",
       "      <th>max</th>\n",
       "    </tr>\n",
       "  </thead>\n",
       "  <tbody>\n",
       "    <tr>\n",
       "      <th>isfraud</th>\n",
       "      <td>95.0000</td>\n",
       "      <td>12.0211</td>\n",
       "      <td>5.2995</td>\n",
       "      <td>2.0000</td>\n",
       "      <td>8.0000</td>\n",
       "      <td>12.0000</td>\n",
       "      <td>16.0000</td>\n",
       "      <td>24.0000</td>\n",
       "    </tr>\n",
       "  </tbody>\n",
       "</table>\n",
       "</div>"
      ],
      "text/plain": [
       "          count    mean    std    min    25%     50%     75%     max\n",
       "isfraud 95.0000 12.0211 5.2995 2.0000 8.0000 12.0000 16.0000 24.0000"
      ]
     },
     "execution_count": 35,
     "metadata": {},
     "output_type": "execute_result"
    }
   ],
   "source": [
    "data_raw[data_raw.isfraud==1][['isfraud','step']].groupby('step').sum().describe().T"
   ]
  },
  {
   "cell_type": "markdown",
   "id": "41b97fe0-3e9c-47be-b310-4846c2d07fb5",
   "metadata": {
    "id": "41b97fe0-3e9c-47be-b310-4846c2d07fb5"
   },
   "source": [
    "Acumulando todas las horas de los 4 días aun parece estabilizarse mas. LA hora que mas fraudes totaliza son 70, las 18 horas coherente con la hora de máxima actividad de los días 1 y 2. El mínimo son 26 al as 4 de la mañana."
   ]
  },
  {
   "cell_type": "code",
   "execution_count": 36,
   "id": "ee12f8a7-aecf-4546-9539-e889bbd99552",
   "metadata": {
    "colab": {
     "base_uri": "https://localhost:8080/",
     "height": 299
    },
    "executionInfo": {
     "elapsed": 618,
     "status": "ok",
     "timestamp": 1670063748777,
     "user": {
      "displayName": "Pablo Soto López",
      "userId": "08112082177697405353"
     },
     "user_tz": -60
    },
    "id": "ee12f8a7-aecf-4546-9539-e889bbd99552",
    "outputId": "fe32e666-9961-4281-d849-c2b4a8379033"
   },
   "outputs": [
    {
     "data": {
      "text/plain": [
       "<AxesSubplot:xlabel='hora'>"
      ]
     },
     "execution_count": 36,
     "metadata": {},
     "output_type": "execute_result"
    },
    {
     "data": {
      "image/png": "[encoded data removed]",
      "text/plain": [
       "<Figure size 1500x400 with 1 Axes>"
      ]
     },
     "metadata": {},
     "output_type": "display_data"
    }
   ],
   "source": [
    "(data_raw[['hora','step','isfraud']].groupby(['hora']).\n",
    "                                             agg({'isfraud':'sum'}).plot(kind='bar',figsize=(15,4)) )"
   ]
  },
  {
   "cell_type": "code",
   "execution_count": 37,
   "id": "f17b9213-e05c-469a-882b-314e4c432a8f",
   "metadata": {
    "colab": {
     "base_uri": "https://localhost:8080/",
     "height": 81
    },
    "executionInfo": {
     "elapsed": 236,
     "status": "ok",
     "timestamp": 1670063752562,
     "user": {
      "displayName": "Pablo Soto López",
      "userId": "08112082177697405353"
     },
     "user_tz": -60
    },
    "id": "f17b9213-e05c-469a-882b-314e4c432a8f",
    "outputId": "a79858f9-f4fc-42f0-f2df-1d3f5b1be3c0"
   },
   "outputs": [
    {
     "data": {
      "text/html": [
       "<div>\n",
       "<style scoped>\n",
       "    .dataframe tbody tr th:only-of-type {\n",
       "        vertical-align: middle;\n",
       "    }\n",
       "\n",
       "    .dataframe tbody tr th {\n",
       "        vertical-align: top;\n",
       "    }\n",
       "\n",
       "    .dataframe thead th {\n",
       "        text-align: right;\n",
       "    }\n",
       "</style>\n",
       "<table border=\"1\" class=\"dataframe\">\n",
       "  <thead>\n",
       "    <tr style=\"text-align: right;\">\n",
       "      <th></th>\n",
       "      <th>count</th>\n",
       "      <th>mean</th>\n",
       "      <th>std</th>\n",
       "      <th>min</th>\n",
       "      <th>25%</th>\n",
       "      <th>50%</th>\n",
       "      <th>75%</th>\n",
       "      <th>max</th>\n",
       "    </tr>\n",
       "  </thead>\n",
       "  <tbody>\n",
       "    <tr>\n",
       "      <th>isfraud</th>\n",
       "      <td>24.0000</td>\n",
       "      <td>47.5833</td>\n",
       "      <td>10.8022</td>\n",
       "      <td>26.0000</td>\n",
       "      <td>43.0000</td>\n",
       "      <td>47.5000</td>\n",
       "      <td>54.2500</td>\n",
       "      <td>70.0000</td>\n",
       "    </tr>\n",
       "  </tbody>\n",
       "</table>\n",
       "</div>"
      ],
      "text/plain": [
       "          count    mean     std     min     25%     50%     75%     max\n",
       "isfraud 24.0000 47.5833 10.8022 26.0000 43.0000 47.5000 54.2500 70.0000"
      ]
     },
     "execution_count": 37,
     "metadata": {},
     "output_type": "execute_result"
    }
   ],
   "source": [
    "(data_raw[['hora','isfraud']].groupby(['hora']).agg({'isfraud':'sum'})).describe().T"
   ]
  },
  {
   "cell_type": "markdown",
   "id": "a1fc0e1d-4032-499f-8be1-1dc642765878",
   "metadata": {
    "id": "a1fc0e1d-4032-499f-8be1-1dc642765878"
   },
   "source": [
    "### Step\n",
    "#### Estudio de la proporción de casos de fraude por step.\n",
    "\n",
    "Encontramos un patrón muy dicótomico. El fraude tiene proporciones muy bajas en las horas en las horas de actividad normal. Pero cuando producen un número muy bajo de operaciones se va al 100 %. Este hecho ocurre en 48 de los 95 periodos de nuestro set de datos.\n",
    "\n",
    "En esos steps donde todas las operaciones son fraudulentas se realizan 562 operaciones, que sí bien en el todas de operacioens es un porcentaje infimo, es ALGO MENOS DE LA MITAD DE LOS CASO DE FRAUDE. Podemos extraer una conclusión, LOS CASOS DE FRAUDE SE CONCENTRAN EN LAS PRIMERAS OPERACIOENS DE CADA STEP.\n",
    "\n"
   ]
  },
  {
   "cell_type": "code",
   "execution_count": 38,
   "id": "26d8123a-cd0c-403a-a5ed-dae1bc29fbd1",
   "metadata": {
    "executionInfo": {
     "elapsed": 248,
     "status": "ok",
     "timestamp": 1670063756624,
     "user": {
      "displayName": "Pablo Soto López",
      "userId": "08112082177697405353"
     },
     "user_tz": -60
    },
    "id": "26d8123a-cd0c-403a-a5ed-dae1bc29fbd1"
   },
   "outputs": [],
   "source": [
    "fraud_frame=data_raw[['dia','hora','isfraud']].groupby(['dia','hora'],as_index=False).agg(['count'])\n",
    "fraud_frame.columns = fraud_frame.columns.droplevel(0)\n",
    "fraud_frame['num_fraude']=data_raw[['dia','hora','isfraud']].groupby(['dia','hora']).agg(['sum'])\n",
    "fraud_frame['proporcion']=fraud_frame['num_fraude']/fraud_frame['count']*100\n",
    "fraud_frame= fraud_frame.reset_index()"
   ]
  },
  {
   "cell_type": "code",
   "execution_count": 39,
   "id": "vCb-sg4mlQ-t",
   "metadata": {
    "colab": {
     "base_uri": "https://localhost:8080/",
     "height": 1000
    },
    "executionInfo": {
     "elapsed": 317,
     "status": "ok",
     "timestamp": 1670064190776,
     "user": {
      "displayName": "Pablo Soto López",
      "userId": "08112082177697405353"
     },
     "user_tz": -60
    },
    "id": "vCb-sg4mlQ-t",
    "outputId": "26c0b909-95ca-49d0-8df4-e43c57d532b2"
   },
   "outputs": [
    {
     "data": {
      "text/html": [
       "<div>\n",
       "<style scoped>\n",
       "    .dataframe tbody tr th:only-of-type {\n",
       "        vertical-align: middle;\n",
       "    }\n",
       "\n",
       "    .dataframe tbody tr th {\n",
       "        vertical-align: top;\n",
       "    }\n",
       "\n",
       "    .dataframe thead th {\n",
       "        text-align: right;\n",
       "    }\n",
       "</style>\n",
       "<table border=\"1\" class=\"dataframe\">\n",
       "  <thead>\n",
       "    <tr style=\"text-align: right;\">\n",
       "      <th></th>\n",
       "      <th>dia</th>\n",
       "      <th>hora</th>\n",
       "      <th>count</th>\n",
       "      <th>num_fraude</th>\n",
       "      <th>proporcion</th>\n",
       "    </tr>\n",
       "  </thead>\n",
       "  <tbody>\n",
       "    <tr>\n",
       "      <th>0</th>\n",
       "      <td>1</td>\n",
       "      <td>1</td>\n",
       "      <td>2708</td>\n",
       "      <td>16</td>\n",
       "      <td>0.5908</td>\n",
       "    </tr>\n",
       "    <tr>\n",
       "      <th>1</th>\n",
       "      <td>1</td>\n",
       "      <td>2</td>\n",
       "      <td>1014</td>\n",
       "      <td>8</td>\n",
       "      <td>0.7890</td>\n",
       "    </tr>\n",
       "    <tr>\n",
       "      <th>2</th>\n",
       "      <td>1</td>\n",
       "      <td>3</td>\n",
       "      <td>552</td>\n",
       "      <td>4</td>\n",
       "      <td>0.7246</td>\n",
       "    </tr>\n",
       "    <tr>\n",
       "      <th>3</th>\n",
       "      <td>1</td>\n",
       "      <td>4</td>\n",
       "      <td>565</td>\n",
       "      <td>10</td>\n",
       "      <td>1.7699</td>\n",
       "    </tr>\n",
       "    <tr>\n",
       "      <th>4</th>\n",
       "      <td>1</td>\n",
       "      <td>5</td>\n",
       "      <td>665</td>\n",
       "      <td>6</td>\n",
       "      <td>0.9023</td>\n",
       "    </tr>\n",
       "    <tr>\n",
       "      <th>5</th>\n",
       "      <td>1</td>\n",
       "      <td>6</td>\n",
       "      <td>1660</td>\n",
       "      <td>22</td>\n",
       "      <td>1.3253</td>\n",
       "    </tr>\n",
       "    <tr>\n",
       "      <th>6</th>\n",
       "      <td>1</td>\n",
       "      <td>7</td>\n",
       "      <td>6837</td>\n",
       "      <td>12</td>\n",
       "      <td>0.1755</td>\n",
       "    </tr>\n",
       "    <tr>\n",
       "      <th>7</th>\n",
       "      <td>1</td>\n",
       "      <td>8</td>\n",
       "      <td>21097</td>\n",
       "      <td>12</td>\n",
       "      <td>0.0569</td>\n",
       "    </tr>\n",
       "    <tr>\n",
       "      <th>8</th>\n",
       "      <td>1</td>\n",
       "      <td>9</td>\n",
       "      <td>37628</td>\n",
       "      <td>19</td>\n",
       "      <td>0.0505</td>\n",
       "    </tr>\n",
       "    <tr>\n",
       "      <th>9</th>\n",
       "      <td>1</td>\n",
       "      <td>10</td>\n",
       "      <td>35991</td>\n",
       "      <td>11</td>\n",
       "      <td>0.0306</td>\n",
       "    </tr>\n",
       "    <tr>\n",
       "      <th>10</th>\n",
       "      <td>1</td>\n",
       "      <td>11</td>\n",
       "      <td>37241</td>\n",
       "      <td>7</td>\n",
       "      <td>0.0188</td>\n",
       "    </tr>\n",
       "    <tr>\n",
       "      <th>11</th>\n",
       "      <td>1</td>\n",
       "      <td>12</td>\n",
       "      <td>36153</td>\n",
       "      <td>14</td>\n",
       "      <td>0.0387</td>\n",
       "    </tr>\n",
       "    <tr>\n",
       "      <th>12</th>\n",
       "      <td>1</td>\n",
       "      <td>13</td>\n",
       "      <td>37515</td>\n",
       "      <td>14</td>\n",
       "      <td>0.0373</td>\n",
       "    </tr>\n",
       "    <tr>\n",
       "      <th>13</th>\n",
       "      <td>1</td>\n",
       "      <td>14</td>\n",
       "      <td>41485</td>\n",
       "      <td>12</td>\n",
       "      <td>0.0289</td>\n",
       "    </tr>\n",
       "    <tr>\n",
       "      <th>14</th>\n",
       "      <td>1</td>\n",
       "      <td>15</td>\n",
       "      <td>44609</td>\n",
       "      <td>20</td>\n",
       "      <td>0.0448</td>\n",
       "    </tr>\n",
       "    <tr>\n",
       "      <th>15</th>\n",
       "      <td>1</td>\n",
       "      <td>16</td>\n",
       "      <td>42471</td>\n",
       "      <td>10</td>\n",
       "      <td>0.0235</td>\n",
       "    </tr>\n",
       "    <tr>\n",
       "      <th>16</th>\n",
       "      <td>1</td>\n",
       "      <td>17</td>\n",
       "      <td>43361</td>\n",
       "      <td>7</td>\n",
       "      <td>0.0161</td>\n",
       "    </tr>\n",
       "    <tr>\n",
       "      <th>17</th>\n",
       "      <td>1</td>\n",
       "      <td>18</td>\n",
       "      <td>49579</td>\n",
       "      <td>16</td>\n",
       "      <td>0.0323</td>\n",
       "    </tr>\n",
       "    <tr>\n",
       "      <th>18</th>\n",
       "      <td>1</td>\n",
       "      <td>19</td>\n",
       "      <td>51352</td>\n",
       "      <td>11</td>\n",
       "      <td>0.0214</td>\n",
       "    </tr>\n",
       "    <tr>\n",
       "      <th>19</th>\n",
       "      <td>1</td>\n",
       "      <td>20</td>\n",
       "      <td>40625</td>\n",
       "      <td>4</td>\n",
       "      <td>0.0098</td>\n",
       "    </tr>\n",
       "    <tr>\n",
       "      <th>20</th>\n",
       "      <td>1</td>\n",
       "      <td>21</td>\n",
       "      <td>19152</td>\n",
       "      <td>5</td>\n",
       "      <td>0.0261</td>\n",
       "    </tr>\n",
       "    <tr>\n",
       "      <th>21</th>\n",
       "      <td>1</td>\n",
       "      <td>22</td>\n",
       "      <td>12635</td>\n",
       "      <td>23</td>\n",
       "      <td>0.1820</td>\n",
       "    </tr>\n",
       "    <tr>\n",
       "      <th>22</th>\n",
       "      <td>1</td>\n",
       "      <td>23</td>\n",
       "      <td>6144</td>\n",
       "      <td>2</td>\n",
       "      <td>0.0326</td>\n",
       "    </tr>\n",
       "    <tr>\n",
       "      <th>23</th>\n",
       "      <td>2</td>\n",
       "      <td>0</td>\n",
       "      <td>3216</td>\n",
       "      <td>6</td>\n",
       "      <td>0.1866</td>\n",
       "    </tr>\n",
       "    <tr>\n",
       "      <th>24</th>\n",
       "      <td>2</td>\n",
       "      <td>1</td>\n",
       "      <td>1598</td>\n",
       "      <td>18</td>\n",
       "      <td>1.1264</td>\n",
       "    </tr>\n",
       "    <tr>\n",
       "      <th>25</th>\n",
       "      <td>2</td>\n",
       "      <td>2</td>\n",
       "      <td>440</td>\n",
       "      <td>12</td>\n",
       "      <td>2.7273</td>\n",
       "    </tr>\n",
       "    <tr>\n",
       "      <th>26</th>\n",
       "      <td>2</td>\n",
       "      <td>3</td>\n",
       "      <td>41</td>\n",
       "      <td>8</td>\n",
       "      <td>19.5122</td>\n",
       "    </tr>\n",
       "    <tr>\n",
       "      <th>27</th>\n",
       "      <td>2</td>\n",
       "      <td>4</td>\n",
       "      <td>4</td>\n",
       "      <td>4</td>\n",
       "      <td>100.0000</td>\n",
       "    </tr>\n",
       "    <tr>\n",
       "      <th>28</th>\n",
       "      <td>2</td>\n",
       "      <td>5</td>\n",
       "      <td>4</td>\n",
       "      <td>4</td>\n",
       "      <td>100.0000</td>\n",
       "    </tr>\n",
       "    <tr>\n",
       "      <th>29</th>\n",
       "      <td>2</td>\n",
       "      <td>6</td>\n",
       "      <td>8</td>\n",
       "      <td>8</td>\n",
       "      <td>100.0000</td>\n",
       "    </tr>\n",
       "    <tr>\n",
       "      <th>30</th>\n",
       "      <td>2</td>\n",
       "      <td>7</td>\n",
       "      <td>12</td>\n",
       "      <td>12</td>\n",
       "      <td>100.0000</td>\n",
       "    </tr>\n",
       "    <tr>\n",
       "      <th>31</th>\n",
       "      <td>2</td>\n",
       "      <td>8</td>\n",
       "      <td>12</td>\n",
       "      <td>12</td>\n",
       "      <td>100.0000</td>\n",
       "    </tr>\n",
       "    <tr>\n",
       "      <th>32</th>\n",
       "      <td>2</td>\n",
       "      <td>9</td>\n",
       "      <td>23616</td>\n",
       "      <td>12</td>\n",
       "      <td>0.0508</td>\n",
       "    </tr>\n",
       "    <tr>\n",
       "      <th>33</th>\n",
       "      <td>2</td>\n",
       "      <td>10</td>\n",
       "      <td>30904</td>\n",
       "      <td>22</td>\n",
       "      <td>0.0712</td>\n",
       "    </tr>\n",
       "    <tr>\n",
       "      <th>34</th>\n",
       "      <td>2</td>\n",
       "      <td>11</td>\n",
       "      <td>29157</td>\n",
       "      <td>15</td>\n",
       "      <td>0.0514</td>\n",
       "    </tr>\n",
       "    <tr>\n",
       "      <th>35</th>\n",
       "      <td>2</td>\n",
       "      <td>12</td>\n",
       "      <td>39774</td>\n",
       "      <td>19</td>\n",
       "      <td>0.0478</td>\n",
       "    </tr>\n",
       "    <tr>\n",
       "      <th>36</th>\n",
       "      <td>2</td>\n",
       "      <td>13</td>\n",
       "      <td>34000</td>\n",
       "      <td>13</td>\n",
       "      <td>0.0382</td>\n",
       "    </tr>\n",
       "    <tr>\n",
       "      <th>37</th>\n",
       "      <td>2</td>\n",
       "      <td>14</td>\n",
       "      <td>31453</td>\n",
       "      <td>16</td>\n",
       "      <td>0.0509</td>\n",
       "    </tr>\n",
       "    <tr>\n",
       "      <th>38</th>\n",
       "      <td>2</td>\n",
       "      <td>15</td>\n",
       "      <td>23391</td>\n",
       "      <td>12</td>\n",
       "      <td>0.0513</td>\n",
       "    </tr>\n",
       "    <tr>\n",
       "      <th>39</th>\n",
       "      <td>2</td>\n",
       "      <td>16</td>\n",
       "      <td>34270</td>\n",
       "      <td>14</td>\n",
       "      <td>0.0409</td>\n",
       "    </tr>\n",
       "    <tr>\n",
       "      <th>40</th>\n",
       "      <td>2</td>\n",
       "      <td>17</td>\n",
       "      <td>36348</td>\n",
       "      <td>12</td>\n",
       "      <td>0.0330</td>\n",
       "    </tr>\n",
       "    <tr>\n",
       "      <th>41</th>\n",
       "      <td>2</td>\n",
       "      <td>18</td>\n",
       "      <td>41304</td>\n",
       "      <td>14</td>\n",
       "      <td>0.0339</td>\n",
       "    </tr>\n",
       "    <tr>\n",
       "      <th>42</th>\n",
       "      <td>2</td>\n",
       "      <td>19</td>\n",
       "      <td>45060</td>\n",
       "      <td>13</td>\n",
       "      <td>0.0289</td>\n",
       "    </tr>\n",
       "    <tr>\n",
       "      <th>43</th>\n",
       "      <td>2</td>\n",
       "      <td>20</td>\n",
       "      <td>38523</td>\n",
       "      <td>8</td>\n",
       "      <td>0.0208</td>\n",
       "    </tr>\n",
       "    <tr>\n",
       "      <th>44</th>\n",
       "      <td>2</td>\n",
       "      <td>21</td>\n",
       "      <td>18500</td>\n",
       "      <td>16</td>\n",
       "      <td>0.0865</td>\n",
       "    </tr>\n",
       "    <tr>\n",
       "      <th>45</th>\n",
       "      <td>2</td>\n",
       "      <td>22</td>\n",
       "      <td>12445</td>\n",
       "      <td>14</td>\n",
       "      <td>0.1125</td>\n",
       "    </tr>\n",
       "    <tr>\n",
       "      <th>46</th>\n",
       "      <td>2</td>\n",
       "      <td>23</td>\n",
       "      <td>8681</td>\n",
       "      <td>21</td>\n",
       "      <td>0.2419</td>\n",
       "    </tr>\n",
       "    <tr>\n",
       "      <th>47</th>\n",
       "      <td>3</td>\n",
       "      <td>0</td>\n",
       "      <td>5693</td>\n",
       "      <td>10</td>\n",
       "      <td>0.1757</td>\n",
       "    </tr>\n",
       "    <tr>\n",
       "      <th>48</th>\n",
       "      <td>3</td>\n",
       "      <td>1</td>\n",
       "      <td>764</td>\n",
       "      <td>4</td>\n",
       "      <td>0.5236</td>\n",
       "    </tr>\n",
       "    <tr>\n",
       "      <th>49</th>\n",
       "      <td>3</td>\n",
       "      <td>2</td>\n",
       "      <td>6</td>\n",
       "      <td>6</td>\n",
       "      <td>100.0000</td>\n",
       "    </tr>\n",
       "    <tr>\n",
       "      <th>50</th>\n",
       "      <td>3</td>\n",
       "      <td>3</td>\n",
       "      <td>14</td>\n",
       "      <td>14</td>\n",
       "      <td>100.0000</td>\n",
       "    </tr>\n",
       "    <tr>\n",
       "      <th>51</th>\n",
       "      <td>3</td>\n",
       "      <td>4</td>\n",
       "      <td>8</td>\n",
       "      <td>8</td>\n",
       "      <td>100.0000</td>\n",
       "    </tr>\n",
       "    <tr>\n",
       "      <th>52</th>\n",
       "      <td>3</td>\n",
       "      <td>5</td>\n",
       "      <td>10</td>\n",
       "      <td>10</td>\n",
       "      <td>100.0000</td>\n",
       "    </tr>\n",
       "    <tr>\n",
       "      <th>53</th>\n",
       "      <td>3</td>\n",
       "      <td>6</td>\n",
       "      <td>4</td>\n",
       "      <td>4</td>\n",
       "      <td>100.0000</td>\n",
       "    </tr>\n",
       "    <tr>\n",
       "      <th>54</th>\n",
       "      <td>3</td>\n",
       "      <td>7</td>\n",
       "      <td>12</td>\n",
       "      <td>12</td>\n",
       "      <td>100.0000</td>\n",
       "    </tr>\n",
       "    <tr>\n",
       "      <th>55</th>\n",
       "      <td>3</td>\n",
       "      <td>8</td>\n",
       "      <td>18</td>\n",
       "      <td>18</td>\n",
       "      <td>100.0000</td>\n",
       "    </tr>\n",
       "    <tr>\n",
       "      <th>56</th>\n",
       "      <td>3</td>\n",
       "      <td>9</td>\n",
       "      <td>6</td>\n",
       "      <td>6</td>\n",
       "      <td>100.0000</td>\n",
       "    </tr>\n",
       "    <tr>\n",
       "      <th>57</th>\n",
       "      <td>3</td>\n",
       "      <td>10</td>\n",
       "      <td>20</td>\n",
       "      <td>20</td>\n",
       "      <td>100.0000</td>\n",
       "    </tr>\n",
       "    <tr>\n",
       "      <th>58</th>\n",
       "      <td>3</td>\n",
       "      <td>11</td>\n",
       "      <td>20</td>\n",
       "      <td>20</td>\n",
       "      <td>100.0000</td>\n",
       "    </tr>\n",
       "    <tr>\n",
       "      <th>59</th>\n",
       "      <td>3</td>\n",
       "      <td>12</td>\n",
       "      <td>12</td>\n",
       "      <td>12</td>\n",
       "      <td>100.0000</td>\n",
       "    </tr>\n",
       "    <tr>\n",
       "      <th>60</th>\n",
       "      <td>3</td>\n",
       "      <td>13</td>\n",
       "      <td>14</td>\n",
       "      <td>14</td>\n",
       "      <td>100.0000</td>\n",
       "    </tr>\n",
       "    <tr>\n",
       "      <th>61</th>\n",
       "      <td>3</td>\n",
       "      <td>14</td>\n",
       "      <td>8</td>\n",
       "      <td>8</td>\n",
       "      <td>100.0000</td>\n",
       "    </tr>\n",
       "    <tr>\n",
       "      <th>62</th>\n",
       "      <td>3</td>\n",
       "      <td>15</td>\n",
       "      <td>8</td>\n",
       "      <td>8</td>\n",
       "      <td>100.0000</td>\n",
       "    </tr>\n",
       "    <tr>\n",
       "      <th>63</th>\n",
       "      <td>3</td>\n",
       "      <td>16</td>\n",
       "      <td>18</td>\n",
       "      <td>18</td>\n",
       "      <td>100.0000</td>\n",
       "    </tr>\n",
       "    <tr>\n",
       "      <th>64</th>\n",
       "      <td>3</td>\n",
       "      <td>17</td>\n",
       "      <td>20</td>\n",
       "      <td>20</td>\n",
       "      <td>100.0000</td>\n",
       "    </tr>\n",
       "    <tr>\n",
       "      <th>65</th>\n",
       "      <td>3</td>\n",
       "      <td>18</td>\n",
       "      <td>24</td>\n",
       "      <td>24</td>\n",
       "      <td>100.0000</td>\n",
       "    </tr>\n",
       "    <tr>\n",
       "      <th>66</th>\n",
       "      <td>3</td>\n",
       "      <td>19</td>\n",
       "      <td>6</td>\n",
       "      <td>6</td>\n",
       "      <td>100.0000</td>\n",
       "    </tr>\n",
       "    <tr>\n",
       "      <th>67</th>\n",
       "      <td>3</td>\n",
       "      <td>20</td>\n",
       "      <td>18</td>\n",
       "      <td>18</td>\n",
       "      <td>100.0000</td>\n",
       "    </tr>\n",
       "    <tr>\n",
       "      <th>68</th>\n",
       "      <td>3</td>\n",
       "      <td>21</td>\n",
       "      <td>20</td>\n",
       "      <td>20</td>\n",
       "      <td>100.0000</td>\n",
       "    </tr>\n",
       "    <tr>\n",
       "      <th>69</th>\n",
       "      <td>3</td>\n",
       "      <td>22</td>\n",
       "      <td>6</td>\n",
       "      <td>6</td>\n",
       "      <td>100.0000</td>\n",
       "    </tr>\n",
       "    <tr>\n",
       "      <th>70</th>\n",
       "      <td>3</td>\n",
       "      <td>23</td>\n",
       "      <td>20</td>\n",
       "      <td>20</td>\n",
       "      <td>100.0000</td>\n",
       "    </tr>\n",
       "    <tr>\n",
       "      <th>71</th>\n",
       "      <td>4</td>\n",
       "      <td>0</td>\n",
       "      <td>14</td>\n",
       "      <td>14</td>\n",
       "      <td>100.0000</td>\n",
       "    </tr>\n",
       "    <tr>\n",
       "      <th>72</th>\n",
       "      <td>4</td>\n",
       "      <td>1</td>\n",
       "      <td>8</td>\n",
       "      <td>8</td>\n",
       "      <td>100.0000</td>\n",
       "    </tr>\n",
       "    <tr>\n",
       "      <th>73</th>\n",
       "      <td>4</td>\n",
       "      <td>2</td>\n",
       "      <td>22</td>\n",
       "      <td>22</td>\n",
       "      <td>100.0000</td>\n",
       "    </tr>\n",
       "    <tr>\n",
       "      <th>74</th>\n",
       "      <td>4</td>\n",
       "      <td>3</td>\n",
       "      <td>8</td>\n",
       "      <td>8</td>\n",
       "      <td>100.0000</td>\n",
       "    </tr>\n",
       "    <tr>\n",
       "      <th>75</th>\n",
       "      <td>4</td>\n",
       "      <td>4</td>\n",
       "      <td>4</td>\n",
       "      <td>4</td>\n",
       "      <td>100.0000</td>\n",
       "    </tr>\n",
       "    <tr>\n",
       "      <th>76</th>\n",
       "      <td>4</td>\n",
       "      <td>5</td>\n",
       "      <td>10</td>\n",
       "      <td>10</td>\n",
       "      <td>100.0000</td>\n",
       "    </tr>\n",
       "    <tr>\n",
       "      <th>77</th>\n",
       "      <td>4</td>\n",
       "      <td>6</td>\n",
       "      <td>10</td>\n",
       "      <td>10</td>\n",
       "      <td>100.0000</td>\n",
       "    </tr>\n",
       "    <tr>\n",
       "      <th>78</th>\n",
       "      <td>4</td>\n",
       "      <td>7</td>\n",
       "      <td>10</td>\n",
       "      <td>10</td>\n",
       "      <td>100.0000</td>\n",
       "    </tr>\n",
       "    <tr>\n",
       "      <th>79</th>\n",
       "      <td>4</td>\n",
       "      <td>8</td>\n",
       "      <td>10</td>\n",
       "      <td>10</td>\n",
       "      <td>100.0000</td>\n",
       "    </tr>\n",
       "    <tr>\n",
       "      <th>80</th>\n",
       "      <td>4</td>\n",
       "      <td>9</td>\n",
       "      <td>10</td>\n",
       "      <td>10</td>\n",
       "      <td>100.0000</td>\n",
       "    </tr>\n",
       "    <tr>\n",
       "      <th>81</th>\n",
       "      <td>4</td>\n",
       "      <td>10</td>\n",
       "      <td>10</td>\n",
       "      <td>10</td>\n",
       "      <td>100.0000</td>\n",
       "    </tr>\n",
       "    <tr>\n",
       "      <th>82</th>\n",
       "      <td>4</td>\n",
       "      <td>11</td>\n",
       "      <td>12</td>\n",
       "      <td>12</td>\n",
       "      <td>100.0000</td>\n",
       "    </tr>\n",
       "    <tr>\n",
       "      <th>83</th>\n",
       "      <td>4</td>\n",
       "      <td>12</td>\n",
       "      <td>16</td>\n",
       "      <td>16</td>\n",
       "      <td>100.0000</td>\n",
       "    </tr>\n",
       "    <tr>\n",
       "      <th>84</th>\n",
       "      <td>4</td>\n",
       "      <td>13</td>\n",
       "      <td>14</td>\n",
       "      <td>14</td>\n",
       "      <td>100.0000</td>\n",
       "    </tr>\n",
       "    <tr>\n",
       "      <th>85</th>\n",
       "      <td>4</td>\n",
       "      <td>14</td>\n",
       "      <td>18</td>\n",
       "      <td>18</td>\n",
       "      <td>100.0000</td>\n",
       "    </tr>\n",
       "    <tr>\n",
       "      <th>86</th>\n",
       "      <td>4</td>\n",
       "      <td>15</td>\n",
       "      <td>6</td>\n",
       "      <td>6</td>\n",
       "      <td>100.0000</td>\n",
       "    </tr>\n",
       "    <tr>\n",
       "      <th>87</th>\n",
       "      <td>4</td>\n",
       "      <td>16</td>\n",
       "      <td>8</td>\n",
       "      <td>8</td>\n",
       "      <td>100.0000</td>\n",
       "    </tr>\n",
       "    <tr>\n",
       "      <th>88</th>\n",
       "      <td>4</td>\n",
       "      <td>17</td>\n",
       "      <td>6</td>\n",
       "      <td>6</td>\n",
       "      <td>100.0000</td>\n",
       "    </tr>\n",
       "    <tr>\n",
       "      <th>89</th>\n",
       "      <td>4</td>\n",
       "      <td>18</td>\n",
       "      <td>16</td>\n",
       "      <td>16</td>\n",
       "      <td>100.0000</td>\n",
       "    </tr>\n",
       "    <tr>\n",
       "      <th>90</th>\n",
       "      <td>4</td>\n",
       "      <td>19</td>\n",
       "      <td>8</td>\n",
       "      <td>8</td>\n",
       "      <td>100.0000</td>\n",
       "    </tr>\n",
       "    <tr>\n",
       "      <th>91</th>\n",
       "      <td>4</td>\n",
       "      <td>20</td>\n",
       "      <td>10</td>\n",
       "      <td>10</td>\n",
       "      <td>100.0000</td>\n",
       "    </tr>\n",
       "    <tr>\n",
       "      <th>92</th>\n",
       "      <td>4</td>\n",
       "      <td>21</td>\n",
       "      <td>4444</td>\n",
       "      <td>16</td>\n",
       "      <td>0.3600</td>\n",
       "    </tr>\n",
       "    <tr>\n",
       "      <th>93</th>\n",
       "      <td>4</td>\n",
       "      <td>22</td>\n",
       "      <td>10372</td>\n",
       "      <td>12</td>\n",
       "      <td>0.1157</td>\n",
       "    </tr>\n",
       "    <tr>\n",
       "      <th>94</th>\n",
       "      <td>4</td>\n",
       "      <td>23</td>\n",
       "      <td>2980</td>\n",
       "      <td>8</td>\n",
       "      <td>0.2685</td>\n",
       "    </tr>\n",
       "  </tbody>\n",
       "</table>\n",
       "</div>"
      ],
      "text/plain": [
       "    dia  hora  count  num_fraude  proporcion\n",
       "0     1     1   2708          16      0.5908\n",
       "1     1     2   1014           8      0.7890\n",
       "2     1     3    552           4      0.7246\n",
       "3     1     4    565          10      1.7699\n",
       "4     1     5    665           6      0.9023\n",
       "5     1     6   1660          22      1.3253\n",
       "6     1     7   6837          12      0.1755\n",
       "7     1     8  21097          12      0.0569\n",
       "8     1     9  37628          19      0.0505\n",
       "9     1    10  35991          11      0.0306\n",
       "10    1    11  37241           7      0.0188\n",
       "11    1    12  36153          14      0.0387\n",
       "12    1    13  37515          14      0.0373\n",
       "13    1    14  41485          12      0.0289\n",
       "14    1    15  44609          20      0.0448\n",
       "15    1    16  42471          10      0.0235\n",
       "16    1    17  43361           7      0.0161\n",
       "17    1    18  49579          16      0.0323\n",
       "18    1    19  51352          11      0.0214\n",
       "19    1    20  40625           4      0.0098\n",
       "20    1    21  19152           5      0.0261\n",
       "21    1    22  12635          23      0.1820\n",
       "22    1    23   6144           2      0.0326\n",
       "23    2     0   3216           6      0.1866\n",
       "24    2     1   1598          18      1.1264\n",
       "25    2     2    440          12      2.7273\n",
       "26    2     3     41           8     19.5122\n",
       "27    2     4      4           4    100.0000\n",
       "28    2     5      4           4    100.0000\n",
       "29    2     6      8           8    100.0000\n",
       "30    2     7     12          12    100.0000\n",
       "31    2     8     12          12    100.0000\n",
       "32    2     9  23616          12      0.0508\n",
       "33    2    10  30904          22      0.0712\n",
       "34    2    11  29157          15      0.0514\n",
       "35    2    12  39774          19      0.0478\n",
       "36    2    13  34000          13      0.0382\n",
       "37    2    14  31453          16      0.0509\n",
       "38    2    15  23391          12      0.0513\n",
       "39    2    16  34270          14      0.0409\n",
       "40    2    17  36348          12      0.0330\n",
       "41    2    18  41304          14      0.0339\n",
       "42    2    19  45060          13      0.0289\n",
       "43    2    20  38523           8      0.0208\n",
       "44    2    21  18500          16      0.0865\n",
       "45    2    22  12445          14      0.1125\n",
       "46    2    23   8681          21      0.2419\n",
       "47    3     0   5693          10      0.1757\n",
       "48    3     1    764           4      0.5236\n",
       "49    3     2      6           6    100.0000\n",
       "50    3     3     14          14    100.0000\n",
       "51    3     4      8           8    100.0000\n",
       "52    3     5     10          10    100.0000\n",
       "53    3     6      4           4    100.0000\n",
       "54    3     7     12          12    100.0000\n",
       "55    3     8     18          18    100.0000\n",
       "56    3     9      6           6    100.0000\n",
       "57    3    10     20          20    100.0000\n",
       "58    3    11     20          20    100.0000\n",
       "59    3    12     12          12    100.0000\n",
       "60    3    13     14          14    100.0000\n",
       "61    3    14      8           8    100.0000\n",
       "62    3    15      8           8    100.0000\n",
       "63    3    16     18          18    100.0000\n",
       "64    3    17     20          20    100.0000\n",
       "65    3    18     24          24    100.0000\n",
       "66    3    19      6           6    100.0000\n",
       "67    3    20     18          18    100.0000\n",
       "68    3    21     20          20    100.0000\n",
       "69    3    22      6           6    100.0000\n",
       "70    3    23     20          20    100.0000\n",
       "71    4     0     14          14    100.0000\n",
       "72    4     1      8           8    100.0000\n",
       "73    4     2     22          22    100.0000\n",
       "74    4     3      8           8    100.0000\n",
       "75    4     4      4           4    100.0000\n",
       "76    4     5     10          10    100.0000\n",
       "77    4     6     10          10    100.0000\n",
       "78    4     7     10          10    100.0000\n",
       "79    4     8     10          10    100.0000\n",
       "80    4     9     10          10    100.0000\n",
       "81    4    10     10          10    100.0000\n",
       "82    4    11     12          12    100.0000\n",
       "83    4    12     16          16    100.0000\n",
       "84    4    13     14          14    100.0000\n",
       "85    4    14     18          18    100.0000\n",
       "86    4    15      6           6    100.0000\n",
       "87    4    16      8           8    100.0000\n",
       "88    4    17      6           6    100.0000\n",
       "89    4    18     16          16    100.0000\n",
       "90    4    19      8           8    100.0000\n",
       "91    4    20     10          10    100.0000\n",
       "92    4    21   4444          16      0.3600\n",
       "93    4    22  10372          12      0.1157\n",
       "94    4    23   2980           8      0.2685"
      ]
     },
     "execution_count": 39,
     "metadata": {},
     "output_type": "execute_result"
    }
   ],
   "source": [
    "fraud_frame"
   ]
  },
  {
   "cell_type": "code",
   "execution_count": 40,
   "id": "287ab2a9-43f5-4e7a-87d9-2a95fc3f68c4",
   "metadata": {
    "colab": {
     "base_uri": "https://localhost:8080/",
     "height": 285
    },
    "executionInfo": {
     "elapsed": 1761,
     "status": "ok",
     "timestamp": 1669999427928,
     "user": {
      "displayName": "Pablo Soto López",
      "userId": "08112082177697405353"
     },
     "user_tz": -60
    },
    "id": "287ab2a9-43f5-4e7a-87d9-2a95fc3f68c4",
    "outputId": "5a413f40-254f-4aed-971a-ade561bfb97c"
   },
   "outputs": [
    {
     "data": {
      "text/plain": [
       "<AxesSubplot:>"
      ]
     },
     "execution_count": 40,
     "metadata": {},
     "output_type": "execute_result"
    },
    {
     "data": {
      "image/png": "[encoded data removed]",
      "text/plain": [
       "<Figure size 1500x400 with 1 Axes>"
      ]
     },
     "metadata": {},
     "output_type": "display_data"
    }
   ],
   "source": [
    "fraud_frame['proporcion'].plot(kind='bar',figsize=(15,4))"
   ]
  },
  {
   "cell_type": "code",
   "execution_count": 41,
   "id": "55bd7cad-9ea5-4cb0-9e46-4ca9dd3ee618",
   "metadata": {
    "colab": {
     "base_uri": "https://localhost:8080/"
    },
    "executionInfo": {
     "elapsed": 234,
     "status": "ok",
     "timestamp": 1670063908944,
     "user": {
      "displayName": "Pablo Soto López",
      "userId": "08112082177697405353"
     },
     "user_tz": -60
    },
    "id": "55bd7cad-9ea5-4cb0-9e46-4ca9dd3ee618",
    "outputId": "33d2dd9b-0e19-4255-a822-44bca4a71403"
   },
   "outputs": [
    {
     "data": {
      "text/plain": [
       "48"
      ]
     },
     "execution_count": 41,
     "metadata": {},
     "output_type": "execute_result"
    }
   ],
   "source": [
    "# NUmero de periodos en que todas las operacioens son fraude.\n",
    "fraud_frame[fraud_frame['proporcion']==100].shape[0]"
   ]
  },
  {
   "cell_type": "code",
   "execution_count": 42,
   "id": "bGx1Xj7YkPos",
   "metadata": {
    "colab": {
     "base_uri": "https://localhost:8080/"
    },
    "executionInfo": {
     "elapsed": 207,
     "status": "ok",
     "timestamp": 1670064023234,
     "user": {
      "displayName": "Pablo Soto López",
      "userId": "08112082177697405353"
     },
     "user_tz": -60
    },
    "id": "bGx1Xj7YkPos",
    "outputId": "92555f49-13b2-4c9b-bd5e-febbefe38a76"
   },
   "outputs": [
    {
     "data": {
      "text/plain": [
       "562"
      ]
     },
     "execution_count": 42,
     "metadata": {},
     "output_type": "execute_result"
    }
   ],
   "source": [
    "# Numero de fraudes comietidos cuando todas las operacioens de esa hora son fraude.\n",
    "fraud_frame[fraud_frame['proporcion']==100]['num_fraude'].sum()"
   ]
  },
  {
   "cell_type": "code",
   "execution_count": null,
   "id": "9c89bed4-5d3b-4901-8b8e-b7e7c3e7e961",
   "metadata": {
    "executionInfo": {
     "elapsed": 394,
     "status": "ok",
     "timestamp": 1670064377376,
     "user": {
      "displayName": "Pablo Soto López",
      "userId": "08112082177697405353"
     },
     "user_tz": -60
    },
    "id": "9c89bed4-5d3b-4901-8b8e-b7e7c3e7e961"
   },
   "outputs": [],
   "source": [
    "\n",
    "\n"
   ]
  },
  {
   "cell_type": "markdown",
   "id": "ee343c74-5ac3-4ba9-9793-f6baf3b77a77",
   "metadata": {
    "id": "ee343c74-5ac3-4ba9-9793-f6baf3b77a77"
   },
   "source": [
    "A la vista que se produce fraude en todos los steps, que en los steps que hay pocas operaciones la porporción de fraude es muy alta. Consideramos interesante incorporar un contador parcial de operaciones dentros de cada step.\n",
    "Añadimos tambien un contador de fraude dentros de cada step y  a patir de este proporción que va suponiendo la operación dentro del stop, así cuando hay una ´nica operación, supone el 100 % de las operacioens, cuando hay 10, la última operación supone un 10 %, 100 operacioens, 1 %.....\n",
    "\n",
    "Nuestra teoria se ve refrendada: LA MITAD DEL LOS 1.142 CASOS DE FRAUDE SE PRODUCEN EN LOS 27 PRIMERAS OPERACIOENS DE CADA STEP.\n",
    "LAs operaciones con alta importancia son mas proclives a ser fraude."
   ]
  },
  {
   "cell_type": "code",
   "execution_count": 43,
   "id": "81c28aac-fdc4-4420-8488-606e80305f5c",
   "metadata": {
    "id": "81c28aac-fdc4-4420-8488-606e80305f5c"
   },
   "outputs": [],
   "source": [
    "# contador orden in step\n",
    "data_raw['step_order']=data_raw.groupby('step').cumcount()+1\n"
   ]
  },
  {
   "cell_type": "code",
   "execution_count": 44,
   "id": "QYY1FByk3HqT",
   "metadata": {
    "id": "QYY1FByk3HqT"
   },
   "outputs": [],
   "source": [
    "# Vemos el peso relativo que va suponiendo la operacion en cada step.\n",
    "data_raw['step_importance']=np.power(data_raw['step_order'].astype(float),-1)"
   ]
  },
  {
   "cell_type": "code",
   "execution_count": 45,
   "id": "82bdedc2-3a1a-46ea-95b1-351f3859cb32",
   "metadata": {
    "id": "82bdedc2-3a1a-46ea-95b1-351f3859cb32"
   },
   "outputs": [],
   "source": [
    "# Numero de orden de fraude dentro de cada step.\n",
    "data_raw['fraud_order']=data_raw[['step','isfraud']].groupby('step').agg({'isfraud':'cumsum'})\n"
   ]
  },
  {
   "cell_type": "code",
   "execution_count": 46,
   "id": "FyUW0qte4CCO",
   "metadata": {
    "id": "FyUW0qte4CCO"
   },
   "outputs": [],
   "source": [
    "fraud_by_position=data_raw[['isfraud','step_order']].groupby('step_order').sum()"
   ]
  },
  {
   "cell_type": "code",
   "execution_count": 47,
   "id": "CxXTFmecq0Ua",
   "metadata": {
    "colab": {
     "base_uri": "https://localhost:8080/",
     "height": 297
    },
    "executionInfo": {
     "elapsed": 30,
     "status": "ok",
     "timestamp": 1669999428728,
     "user": {
      "displayName": "Pablo Soto López",
      "userId": "08112082177697405353"
     },
     "user_tz": -60
    },
    "id": "CxXTFmecq0Ua",
    "outputId": "3903b21c-8c36-48c6-ee52-e9554e625d8c"
   },
   "outputs": [
    {
     "data": {
      "text/plain": [
       "<AxesSubplot:xlabel='step_order'>"
      ]
     },
     "execution_count": 47,
     "metadata": {},
     "output_type": "execute_result"
    },
    {
     "data": {
      "image/png": "[encoded data removed]",
      "text/plain": [
       "<Figure size 1500x400 with 1 Axes>"
      ]
     },
     "metadata": {},
     "output_type": "display_data"
    }
   ],
   "source": [
    "fraud_by_position['acumulado']=fraud_by_position['isfraud'].cumsum()\n",
    "fraud_by_position['porc_acumulado']= fraud_by_position['acumulado']/fraud_by_position['acumulado'].max()\n",
    "fraud_by_position['porc_acumulado'].plot(figsize=(15,4))"
   ]
  },
  {
   "cell_type": "code",
   "execution_count": 48,
   "id": "O0YA5x-vr2eX",
   "metadata": {
    "colab": {
     "base_uri": "https://localhost:8080/",
     "height": 297
    },
    "executionInfo": {
     "elapsed": 25,
     "status": "ok",
     "timestamp": 1669999428729,
     "user": {
      "displayName": "Pablo Soto López",
      "userId": "08112082177697405353"
     },
     "user_tz": -60
    },
    "id": "O0YA5x-vr2eX",
    "outputId": "7f911bd6-6927-45d5-ca34-89fb0c0510ce"
   },
   "outputs": [
    {
     "data": {
      "text/plain": [
       "<AxesSubplot:xlabel='step_order'>"
      ]
     },
     "execution_count": 48,
     "metadata": {},
     "output_type": "execute_result"
    },
    {
     "data": {
      "image/png": "[encoded data removed]",
      "text/plain": [
       "<Figure size 1500x400 with 1 Axes>"
      ]
     },
     "metadata": {},
     "output_type": "display_data"
    }
   ],
   "source": [
    "fraud_by_position[fraud_by_position['porc_acumulado']<0.5]['porc_acumulado'].plot(figsize=(15,4))"
   ]
  },
  {
   "cell_type": "markdown",
   "id": "LHJBC0qHxr20",
   "metadata": {
    "id": "LHJBC0qHxr20"
   },
   "source": [
    "###  Type.\n",
    "\n",
    "LAs operaciones mas frecuentes con CASH_OUTy PAYMENT, con un 35 y 33 % de las operaciones. \n",
    "\n",
    "Solo se producen operacioens de fraude en dos de las 5 tipos de operaciones, CASH_OUT Y TRANSFER, con un número muy equibrados entre ellos, 578 y 564 respectivamente. Dado el menor número de transferencias la proprocón de transferencias fraudulentas cuatriplica la proporción de reintegros fraudulentos.\n",
    "\n",
    "\n"
   ]
  },
  {
   "cell_type": "code",
   "execution_count": 49,
   "id": "nlcIJt7Jxu6S",
   "metadata": {
    "colab": {
     "base_uri": "https://localhost:8080/",
     "height": 278
    },
    "executionInfo": {
     "elapsed": 21,
     "status": "ok",
     "timestamp": 1669999428730,
     "user": {
      "displayName": "Pablo Soto López",
      "userId": "08112082177697405353"
     },
     "user_tz": -60
    },
    "id": "nlcIJt7Jxu6S",
    "outputId": "613e0652-3e43-4bc1-bcce-7cf2d683f766"
   },
   "outputs": [
    {
     "data": {
      "image/png": "[encoded data removed]",
      "text/plain": [
       "<Figure size 1080x270 with 2 Axes>"
      ]
     },
     "metadata": {},
     "output_type": "display_data"
    }
   ],
   "source": [
    "plot_feature(data_raw, 'type')"
   ]
  },
  {
   "cell_type": "code",
   "execution_count": 50,
   "id": "Kpj3kWF6xu-X",
   "metadata": {
    "colab": {
     "base_uri": "https://localhost:8080/",
     "height": 206
    },
    "executionInfo": {
     "elapsed": 21,
     "status": "ok",
     "timestamp": 1669999428731,
     "user": {
      "displayName": "Pablo Soto López",
      "userId": "08112082177697405353"
     },
     "user_tz": -60
    },
    "id": "Kpj3kWF6xu-X",
    "outputId": "90be406d-ce15-4650-9d5d-33cf70c5df97"
   },
   "outputs": [
    {
     "data": {
      "text/html": [
       "<div>\n",
       "<style scoped>\n",
       "    .dataframe tbody tr th:only-of-type {\n",
       "        vertical-align: middle;\n",
       "    }\n",
       "\n",
       "    .dataframe tbody tr th {\n",
       "        vertical-align: top;\n",
       "    }\n",
       "\n",
       "    .dataframe thead th {\n",
       "        text-align: right;\n",
       "    }\n",
       "</style>\n",
       "<table border=\"1\" class=\"dataframe\">\n",
       "  <thead>\n",
       "    <tr style=\"text-align: right;\">\n",
       "      <th></th>\n",
       "      <th>operaciones</th>\n",
       "      <th>proporcion</th>\n",
       "    </tr>\n",
       "  </thead>\n",
       "  <tbody>\n",
       "    <tr>\n",
       "      <th>CASH_OUT</th>\n",
       "      <td>373641</td>\n",
       "      <td>35.6332</td>\n",
       "    </tr>\n",
       "    <tr>\n",
       "      <th>PAYMENT</th>\n",
       "      <td>353873</td>\n",
       "      <td>33.7480</td>\n",
       "    </tr>\n",
       "    <tr>\n",
       "      <th>CASH_IN</th>\n",
       "      <td>227130</td>\n",
       "      <td>21.6608</td>\n",
       "    </tr>\n",
       "    <tr>\n",
       "      <th>TRANSFER</th>\n",
       "      <td>86753</td>\n",
       "      <td>8.2734</td>\n",
       "    </tr>\n",
       "    <tr>\n",
       "      <th>DEBIT</th>\n",
       "      <td>7178</td>\n",
       "      <td>0.6845</td>\n",
       "    </tr>\n",
       "  </tbody>\n",
       "</table>\n",
       "</div>"
      ],
      "text/plain": [
       "          operaciones  proporcion\n",
       "CASH_OUT       373641     35.6332\n",
       "PAYMENT        353873     33.7480\n",
       "CASH_IN        227130     21.6608\n",
       "TRANSFER        86753      8.2734\n",
       "DEBIT            7178      0.6845"
      ]
     },
     "execution_count": 50,
     "metadata": {},
     "output_type": "execute_result"
    }
   ],
   "source": [
    "tabla_value=data_raw.type.value_counts().to_frame()\n",
    "tabla_value['proporcion']=data_raw.type.value_counts(normalize=True).to_list()\n",
    "tabla_value['proporcion']=100*tabla_value['proporcion']\n",
    "tabla_value.columns=['operaciones','proporcion']\n",
    "tabla_value"
   ]
  },
  {
   "cell_type": "code",
   "execution_count": 51,
   "id": "Uz5CGkJQxvB-",
   "metadata": {
    "colab": {
     "base_uri": "https://localhost:8080/",
     "height": 269
    },
    "executionInfo": {
     "elapsed": 663,
     "status": "ok",
     "timestamp": 1669999429374,
     "user": {
      "displayName": "Pablo Soto López",
      "userId": "08112082177697405353"
     },
     "user_tz": -60
    },
    "id": "Uz5CGkJQxvB-",
    "outputId": "7c46ff6b-fe52-4c35-bb94-1a0c7094f09b"
   },
   "outputs": [
    {
     "data": {
      "text/html": [
       "<div>\n",
       "<style scoped>\n",
       "    .dataframe tbody tr th:only-of-type {\n",
       "        vertical-align: middle;\n",
       "    }\n",
       "\n",
       "    .dataframe tbody tr th {\n",
       "        vertical-align: top;\n",
       "    }\n",
       "\n",
       "    .dataframe thead tr th {\n",
       "        text-align: left;\n",
       "    }\n",
       "\n",
       "    .dataframe thead tr:last-of-type th {\n",
       "        text-align: right;\n",
       "    }\n",
       "</style>\n",
       "<table border=\"1\" class=\"dataframe\">\n",
       "  <thead>\n",
       "    <tr>\n",
       "      <th></th>\n",
       "      <th colspan=\"2\" halign=\"left\">isfraud</th>\n",
       "    </tr>\n",
       "    <tr>\n",
       "      <th></th>\n",
       "      <th>sum</th>\n",
       "      <th>mean</th>\n",
       "    </tr>\n",
       "    <tr>\n",
       "      <th>type</th>\n",
       "      <th></th>\n",
       "      <th></th>\n",
       "    </tr>\n",
       "  </thead>\n",
       "  <tbody>\n",
       "    <tr>\n",
       "      <th>CASH_IN</th>\n",
       "      <td>0</td>\n",
       "      <td>0.0000</td>\n",
       "    </tr>\n",
       "    <tr>\n",
       "      <th>CASH_OUT</th>\n",
       "      <td>578</td>\n",
       "      <td>0.0015</td>\n",
       "    </tr>\n",
       "    <tr>\n",
       "      <th>DEBIT</th>\n",
       "      <td>0</td>\n",
       "      <td>0.0000</td>\n",
       "    </tr>\n",
       "    <tr>\n",
       "      <th>PAYMENT</th>\n",
       "      <td>0</td>\n",
       "      <td>0.0000</td>\n",
       "    </tr>\n",
       "    <tr>\n",
       "      <th>TRANSFER</th>\n",
       "      <td>564</td>\n",
       "      <td>0.0065</td>\n",
       "    </tr>\n",
       "  </tbody>\n",
       "</table>\n",
       "</div>"
      ],
      "text/plain": [
       "         isfraud       \n",
       "             sum   mean\n",
       "type                   \n",
       "CASH_IN        0 0.0000\n",
       "CASH_OUT     578 0.0015\n",
       "DEBIT          0 0.0000\n",
       "PAYMENT        0 0.0000\n",
       "TRANSFER     564 0.0065"
      ]
     },
     "execution_count": 51,
     "metadata": {},
     "output_type": "execute_result"
    }
   ],
   "source": [
    "data_raw[['type','isfraud']].groupby('type').agg([sum,'mean'])"
   ]
  },
  {
   "cell_type": "markdown",
   "id": "DqYl8E4x03s3",
   "metadata": {
    "id": "DqYl8E4x03s3"
   },
   "source": [
    "### Amount. \n",
    "De la observación de amount se observa:\n",
    "\n",
    "1) Como los pagos en comerciso son de un importe pequeño.\n",
    "\n",
    "2) Como no exsiten grandes ingresos, ni operacioens de debit.\n",
    "\n",
    "Y como en CASH_OUT y TRANSFERS, existen operaciones de un rango mucho mas elevado de importes:\n",
    "\n",
    "1) De la simple observación del gráfico vemos un paralelismo en que las operacioens de fraude parecen implicar una transferencia y un cash_out.\n",
    "\n",
    "2) El importe mas alto que no es fraude es 6.419.835. Tanto los cash_outs como las transferencias de importe mas alto son fraude.\n",
    "\n",
    "3) Existe un hecho muy curioso, las transacciones de mas de 6.419.835, que son todo fraudes, hay un patrón bien se hace una transferencia por el importe y despues un cash_out, o bien se hace una transferencia por 10 millones y un cash out de 10 millones. Y las operacioens de cash_out son inmediatas a la transferencia. "
   ]
  },
  {
   "cell_type": "code",
   "execution_count": 52,
   "id": "9iyyYo-C1Q2H",
   "metadata": {
    "colab": {
     "base_uri": "https://localhost:8080/",
     "height": 81
    },
    "executionInfo": {
     "elapsed": 19,
     "status": "ok",
     "timestamp": 1669999429375,
     "user": {
      "displayName": "Pablo Soto López",
      "userId": "08112082177697405353"
     },
     "user_tz": -60
    },
    "id": "9iyyYo-C1Q2H",
    "outputId": "043cd0db-433b-4cd3-b4a9-9767b8dbe2af"
   },
   "outputs": [
    {
     "data": {
      "text/html": [
       "<div>\n",
       "<style scoped>\n",
       "    .dataframe tbody tr th:only-of-type {\n",
       "        vertical-align: middle;\n",
       "    }\n",
       "\n",
       "    .dataframe tbody tr th {\n",
       "        vertical-align: top;\n",
       "    }\n",
       "\n",
       "    .dataframe thead th {\n",
       "        text-align: right;\n",
       "    }\n",
       "</style>\n",
       "<table border=\"1\" class=\"dataframe\">\n",
       "  <thead>\n",
       "    <tr style=\"text-align: right;\">\n",
       "      <th></th>\n",
       "      <th>count</th>\n",
       "      <th>mean</th>\n",
       "      <th>std</th>\n",
       "      <th>min</th>\n",
       "      <th>25%</th>\n",
       "      <th>50%</th>\n",
       "      <th>75%</th>\n",
       "      <th>max</th>\n",
       "    </tr>\n",
       "  </thead>\n",
       "  <tbody>\n",
       "    <tr>\n",
       "      <th>amount</th>\n",
       "      <td>1048575.0000</td>\n",
       "      <td>158666.9755</td>\n",
       "      <td>264940.9304</td>\n",
       "      <td>0.1000</td>\n",
       "      <td>12149.0650</td>\n",
       "      <td>76343.3300</td>\n",
       "      <td>213761.8900</td>\n",
       "      <td>10000000.0000</td>\n",
       "    </tr>\n",
       "  </tbody>\n",
       "</table>\n",
       "</div>"
      ],
      "text/plain": [
       "              count        mean         std    min        25%        50%  \\\n",
       "amount 1048575.0000 158666.9755 264940.9304 0.1000 12149.0650 76343.3300   \n",
       "\n",
       "               75%           max  \n",
       "amount 213761.8900 10000000.0000  "
      ]
     },
     "execution_count": 52,
     "metadata": {},
     "output_type": "execute_result"
    }
   ],
   "source": [
    "data_raw.amount.describe().to_frame().T"
   ]
  },
  {
   "cell_type": "code",
   "execution_count": null,
   "id": "U4xu0gKjpsUb",
   "metadata": {
    "executionInfo": {
     "elapsed": 331,
     "status": "ok",
     "timestamp": 1670065648476,
     "user": {
      "displayName": "Pablo Soto López",
      "userId": "08112082177697405353"
     },
     "user_tz": -60
    },
    "id": "U4xu0gKjpsUb"
   },
   "outputs": [],
   "source": []
  },
  {
   "cell_type": "code",
   "execution_count": 53,
   "id": "IoDKFGXp1i8H",
   "metadata": {
    "colab": {
     "base_uri": "https://localhost:8080/",
     "height": 623
    },
    "executionInfo": {
     "elapsed": 1439,
     "status": "ok",
     "timestamp": 1669999430796,
     "user": {
      "displayName": "Pablo Soto López",
      "userId": "08112082177697405353"
     },
     "user_tz": -60
    },
    "id": "IoDKFGXp1i8H",
    "outputId": "d03db1aa-587f-4d22-8bdf-59bfc4429143"
   },
   "outputs": [
    {
     "data": {
      "text/plain": [
       "<AxesSubplot:xlabel='amount', ylabel='type'>"
      ]
     },
     "execution_count": 53,
     "metadata": {},
     "output_type": "execute_result"
    },
    {
     "data": {
      "image/png": "[encoded data removed]",
      "text/plain": [
       "<Figure size 1000x1000 with 1 Axes>"
      ]
     },
     "metadata": {},
     "output_type": "display_data"
    }
   ],
   "source": [
    "from matplotlib import pyplot\n",
    "fig, ax = pyplot.subplots(figsize=(10,10))\n",
    "sns.boxplot(y = 'type', x = 'amount', hue='isfraud',data = data_raw)\n"
   ]
  },
  {
   "cell_type": "code",
   "execution_count": 54,
   "id": "7VxtA4BS01oO",
   "metadata": {
    "colab": {
     "base_uri": "https://localhost:8080/",
     "height": 1000
    },
    "executionInfo": {
     "elapsed": 31,
     "status": "ok",
     "timestamp": 1669999430797,
     "user": {
      "displayName": "Pablo Soto López",
      "userId": "08112082177697405353"
     },
     "user_tz": -60
    },
    "id": "7VxtA4BS01oO",
    "outputId": "43638770-582c-48d4-cfae-e75a5cdce0e2"
   },
   "outputs": [
    {
     "data": {
      "text/html": [
       "<div>\n",
       "<style scoped>\n",
       "    .dataframe tbody tr th:only-of-type {\n",
       "        vertical-align: middle;\n",
       "    }\n",
       "\n",
       "    .dataframe tbody tr th {\n",
       "        vertical-align: top;\n",
       "    }\n",
       "\n",
       "    .dataframe thead th {\n",
       "        text-align: right;\n",
       "    }\n",
       "</style>\n",
       "<table border=\"1\" class=\"dataframe\">\n",
       "  <thead>\n",
       "    <tr style=\"text-align: right;\">\n",
       "      <th></th>\n",
       "      <th>step</th>\n",
       "      <th>type</th>\n",
       "      <th>amount</th>\n",
       "      <th>gender</th>\n",
       "      <th>device</th>\n",
       "      <th>connection_time</th>\n",
       "      <th>nameorig</th>\n",
       "      <th>race</th>\n",
       "      <th>oldbalanceorg</th>\n",
       "      <th>age</th>\n",
       "      <th>newbalanceorig</th>\n",
       "      <th>zone</th>\n",
       "      <th>user_number</th>\n",
       "      <th>namedest</th>\n",
       "      <th>user_connections</th>\n",
       "      <th>security_alert</th>\n",
       "      <th>oldbalancedest</th>\n",
       "      <th>newbalancedest</th>\n",
       "      <th>isfraud</th>\n",
       "      <th>dia</th>\n",
       "      <th>hora</th>\n",
       "      <th>step_order</th>\n",
       "      <th>step_importance</th>\n",
       "      <th>fraud_order</th>\n",
       "    </tr>\n",
       "  </thead>\n",
       "  <tbody>\n",
       "    <tr>\n",
       "      <th>4440</th>\n",
       "      <td>4</td>\n",
       "      <td>TRANSFER</td>\n",
       "      <td>10000000.0000</td>\n",
       "      <td>woman</td>\n",
       "      <td>no_disp</td>\n",
       "      <td>0.9462</td>\n",
       "      <td>C7162498</td>\n",
       "      <td>latin</td>\n",
       "      <td>12930418.4400</td>\n",
       "      <td>61</td>\n",
       "      <td>2930418.4400</td>\n",
       "      <td>africa</td>\n",
       "      <td>137</td>\n",
       "      <td>C945327594</td>\n",
       "      <td>3</td>\n",
       "      <td>0</td>\n",
       "      <td>0.0000</td>\n",
       "      <td>0.0000</td>\n",
       "      <td>1</td>\n",
       "      <td>1</td>\n",
       "      <td>4</td>\n",
       "      <td>167</td>\n",
       "      <td>0.0060</td>\n",
       "      <td>1</td>\n",
       "    </tr>\n",
       "    <tr>\n",
       "      <th>4441</th>\n",
       "      <td>4</td>\n",
       "      <td>CASH_OUT</td>\n",
       "      <td>10000000.0000</td>\n",
       "      <td>no_disp</td>\n",
       "      <td>iphone</td>\n",
       "      <td>0.0120</td>\n",
       "      <td>C351297720</td>\n",
       "      <td>black</td>\n",
       "      <td>10000000.0000</td>\n",
       "      <td>19</td>\n",
       "      <td>0.0000</td>\n",
       "      <td>capital</td>\n",
       "      <td>4952</td>\n",
       "      <td>C766681183</td>\n",
       "      <td>9</td>\n",
       "      <td>1</td>\n",
       "      <td>0.0000</td>\n",
       "      <td>9941904.2100</td>\n",
       "      <td>1</td>\n",
       "      <td>1</td>\n",
       "      <td>4</td>\n",
       "      <td>168</td>\n",
       "      <td>0.0060</td>\n",
       "      <td>2</td>\n",
       "    </tr>\n",
       "    <tr>\n",
       "      <th>84416</th>\n",
       "      <td>10</td>\n",
       "      <td>TRANSFER</td>\n",
       "      <td>6419835.2700</td>\n",
       "      <td>man</td>\n",
       "      <td>pc</td>\n",
       "      <td>0.8377</td>\n",
       "      <td>C890128330</td>\n",
       "      <td>black</td>\n",
       "      <td>31784.0000</td>\n",
       "      <td>99</td>\n",
       "      <td>0.0000</td>\n",
       "      <td>capital</td>\n",
       "      <td>4077</td>\n",
       "      <td>C1192472312</td>\n",
       "      <td>6</td>\n",
       "      <td>0</td>\n",
       "      <td>0.0000</td>\n",
       "      <td>6691744.8500</td>\n",
       "      <td>0</td>\n",
       "      <td>1</td>\n",
       "      <td>10</td>\n",
       "      <td>11691</td>\n",
       "      <td>0.0001</td>\n",
       "      <td>3</td>\n",
       "    </tr>\n",
       "    <tr>\n",
       "      <th>481250</th>\n",
       "      <td>19</td>\n",
       "      <td>TRANSFER</td>\n",
       "      <td>10000000.0000</td>\n",
       "      <td>unknow</td>\n",
       "      <td>pc</td>\n",
       "      <td>0.8687</td>\n",
       "      <td>C416779475</td>\n",
       "      <td>asian</td>\n",
       "      <td>11861008.3200</td>\n",
       "      <td>6</td>\n",
       "      <td>1861008.3200</td>\n",
       "      <td>country</td>\n",
       "      <td>4768</td>\n",
       "      <td>C380259496</td>\n",
       "      <td>1</td>\n",
       "      <td>0</td>\n",
       "      <td>0.0000</td>\n",
       "      <td>0.0000</td>\n",
       "      <td>1</td>\n",
       "      <td>1</td>\n",
       "      <td>19</td>\n",
       "      <td>40120</td>\n",
       "      <td>0.0000</td>\n",
       "      <td>8</td>\n",
       "    </tr>\n",
       "    <tr>\n",
       "      <th>481251</th>\n",
       "      <td>19</td>\n",
       "      <td>CASH_OUT</td>\n",
       "      <td>10000000.0000</td>\n",
       "      <td>woman</td>\n",
       "      <td>iphone</td>\n",
       "      <td>0.1339</td>\n",
       "      <td>C2050703310</td>\n",
       "      <td>latin</td>\n",
       "      <td>10000000.0000</td>\n",
       "      <td>36</td>\n",
       "      <td>0.0000</td>\n",
       "      <td>no_disp</td>\n",
       "      <td>4089</td>\n",
       "      <td>C1622860679</td>\n",
       "      <td>7</td>\n",
       "      <td>0</td>\n",
       "      <td>504326.6200</td>\n",
       "      <td>10342417.9000</td>\n",
       "      <td>1</td>\n",
       "      <td>1</td>\n",
       "      <td>19</td>\n",
       "      <td>40121</td>\n",
       "      <td>0.0000</td>\n",
       "      <td>9</td>\n",
       "    </tr>\n",
       "    <tr>\n",
       "      <th>586311</th>\n",
       "      <td>33</td>\n",
       "      <td>TRANSFER</td>\n",
       "      <td>10000000.0000</td>\n",
       "      <td>man</td>\n",
       "      <td>pc</td>\n",
       "      <td>0.7632</td>\n",
       "      <td>C1439740840</td>\n",
       "      <td>black</td>\n",
       "      <td>19887819.0600</td>\n",
       "      <td>23</td>\n",
       "      <td>9887819.0600</td>\n",
       "      <td>africa</td>\n",
       "      <td>2574</td>\n",
       "      <td>C875288652</td>\n",
       "      <td>9</td>\n",
       "      <td>0</td>\n",
       "      <td>0.0000</td>\n",
       "      <td>0.0000</td>\n",
       "      <td>1</td>\n",
       "      <td>2</td>\n",
       "      <td>9</td>\n",
       "      <td>9938</td>\n",
       "      <td>0.0001</td>\n",
       "      <td>5</td>\n",
       "    </tr>\n",
       "    <tr>\n",
       "      <th>586312</th>\n",
       "      <td>33</td>\n",
       "      <td>CASH_OUT</td>\n",
       "      <td>10000000.0000</td>\n",
       "      <td>unknow</td>\n",
       "      <td>iphone</td>\n",
       "      <td>0.2052</td>\n",
       "      <td>C29118015</td>\n",
       "      <td>asian</td>\n",
       "      <td>10000000.0000</td>\n",
       "      <td>16</td>\n",
       "      <td>0.0000</td>\n",
       "      <td>no_disp</td>\n",
       "      <td>1569</td>\n",
       "      <td>C1379703840</td>\n",
       "      <td>8</td>\n",
       "      <td>0</td>\n",
       "      <td>0.0000</td>\n",
       "      <td>10000000.0000</td>\n",
       "      <td>1</td>\n",
       "      <td>2</td>\n",
       "      <td>9</td>\n",
       "      <td>9939</td>\n",
       "      <td>0.0001</td>\n",
       "      <td>6</td>\n",
       "    </tr>\n",
       "    <tr>\n",
       "      <th>586313</th>\n",
       "      <td>33</td>\n",
       "      <td>TRANSFER</td>\n",
       "      <td>9887819.0600</td>\n",
       "      <td>woman</td>\n",
       "      <td>no_disp</td>\n",
       "      <td>0.9403</td>\n",
       "      <td>C1548903046</td>\n",
       "      <td>latin</td>\n",
       "      <td>9887819.0600</td>\n",
       "      <td>58</td>\n",
       "      <td>0.0000</td>\n",
       "      <td>country</td>\n",
       "      <td>4905</td>\n",
       "      <td>C2065423383</td>\n",
       "      <td>9</td>\n",
       "      <td>0</td>\n",
       "      <td>0.0000</td>\n",
       "      <td>0.0000</td>\n",
       "      <td>1</td>\n",
       "      <td>2</td>\n",
       "      <td>9</td>\n",
       "      <td>9940</td>\n",
       "      <td>0.0001</td>\n",
       "      <td>7</td>\n",
       "    </tr>\n",
       "    <tr>\n",
       "      <th>586314</th>\n",
       "      <td>33</td>\n",
       "      <td>CASH_OUT</td>\n",
       "      <td>9887819.0600</td>\n",
       "      <td>woman</td>\n",
       "      <td>mac</td>\n",
       "      <td>0.5770</td>\n",
       "      <td>C1071702423</td>\n",
       "      <td>latin</td>\n",
       "      <td>9887819.0600</td>\n",
       "      <td>52</td>\n",
       "      <td>0.0000</td>\n",
       "      <td>africa</td>\n",
       "      <td>1815</td>\n",
       "      <td>C28783325</td>\n",
       "      <td>6</td>\n",
       "      <td>0</td>\n",
       "      <td>801913.9500</td>\n",
       "      <td>10165200.1100</td>\n",
       "      <td>1</td>\n",
       "      <td>2</td>\n",
       "      <td>9</td>\n",
       "      <td>9941</td>\n",
       "      <td>0.0001</td>\n",
       "      <td>8</td>\n",
       "    </tr>\n",
       "    <tr>\n",
       "      <th>597895</th>\n",
       "      <td>33</td>\n",
       "      <td>TRANSFER</td>\n",
       "      <td>6648389.9000</td>\n",
       "      <td>no_disp</td>\n",
       "      <td>no_disp</td>\n",
       "      <td>0.9071</td>\n",
       "      <td>C67311634</td>\n",
       "      <td>asian</td>\n",
       "      <td>6648389.9000</td>\n",
       "      <td>63</td>\n",
       "      <td>0.0000</td>\n",
       "      <td>africa</td>\n",
       "      <td>3365</td>\n",
       "      <td>C674603923</td>\n",
       "      <td>7</td>\n",
       "      <td>0</td>\n",
       "      <td>0.0000</td>\n",
       "      <td>0.0000</td>\n",
       "      <td>1</td>\n",
       "      <td>2</td>\n",
       "      <td>9</td>\n",
       "      <td>21522</td>\n",
       "      <td>0.0000</td>\n",
       "      <td>11</td>\n",
       "    </tr>\n",
       "    <tr>\n",
       "      <th>597896</th>\n",
       "      <td>33</td>\n",
       "      <td>CASH_OUT</td>\n",
       "      <td>6648389.9000</td>\n",
       "      <td>man</td>\n",
       "      <td>pc</td>\n",
       "      <td>0.7976</td>\n",
       "      <td>C1612816859</td>\n",
       "      <td>black</td>\n",
       "      <td>6648389.9000</td>\n",
       "      <td>90</td>\n",
       "      <td>0.0000</td>\n",
       "      <td>africa</td>\n",
       "      <td>3502</td>\n",
       "      <td>C836514715</td>\n",
       "      <td>9</td>\n",
       "      <td>0</td>\n",
       "      <td>2609209.5500</td>\n",
       "      <td>9257599.4500</td>\n",
       "      <td>1</td>\n",
       "      <td>2</td>\n",
       "      <td>9</td>\n",
       "      <td>21523</td>\n",
       "      <td>0.0000</td>\n",
       "      <td>12</td>\n",
       "    </tr>\n",
       "    <tr>\n",
       "      <th>650133</th>\n",
       "      <td>35</td>\n",
       "      <td>TRANSFER</td>\n",
       "      <td>9465988.8200</td>\n",
       "      <td>woman</td>\n",
       "      <td>iphone</td>\n",
       "      <td>0.1561</td>\n",
       "      <td>C851016578</td>\n",
       "      <td>black</td>\n",
       "      <td>9465988.8200</td>\n",
       "      <td>22</td>\n",
       "      <td>0.0000</td>\n",
       "      <td>capital</td>\n",
       "      <td>4036</td>\n",
       "      <td>C1650562969</td>\n",
       "      <td>10</td>\n",
       "      <td>0</td>\n",
       "      <td>0.0000</td>\n",
       "      <td>0.0000</td>\n",
       "      <td>1</td>\n",
       "      <td>2</td>\n",
       "      <td>11</td>\n",
       "      <td>19240</td>\n",
       "      <td>0.0001</td>\n",
       "      <td>10</td>\n",
       "    </tr>\n",
       "    <tr>\n",
       "      <th>650134</th>\n",
       "      <td>35</td>\n",
       "      <td>CASH_OUT</td>\n",
       "      <td>9465988.8200</td>\n",
       "      <td>woman</td>\n",
       "      <td>mac</td>\n",
       "      <td>0.4197</td>\n",
       "      <td>C91276418</td>\n",
       "      <td>black</td>\n",
       "      <td>9465988.8200</td>\n",
       "      <td>77</td>\n",
       "      <td>0.0000</td>\n",
       "      <td>country</td>\n",
       "      <td>3712</td>\n",
       "      <td>C1220805115</td>\n",
       "      <td>4</td>\n",
       "      <td>0</td>\n",
       "      <td>0.0000</td>\n",
       "      <td>9465988.8200</td>\n",
       "      <td>1</td>\n",
       "      <td>2</td>\n",
       "      <td>11</td>\n",
       "      <td>19241</td>\n",
       "      <td>0.0001</td>\n",
       "      <td>11</td>\n",
       "    </tr>\n",
       "    <tr>\n",
       "      <th>759791</th>\n",
       "      <td>38</td>\n",
       "      <td>TRANSFER</td>\n",
       "      <td>7567170.3600</td>\n",
       "      <td>woman</td>\n",
       "      <td>mac</td>\n",
       "      <td>0.3374</td>\n",
       "      <td>C1215509660</td>\n",
       "      <td>latin</td>\n",
       "      <td>7567170.3600</td>\n",
       "      <td>71</td>\n",
       "      <td>0.0000</td>\n",
       "      <td>country</td>\n",
       "      <td>3985</td>\n",
       "      <td>C96222488</td>\n",
       "      <td>1</td>\n",
       "      <td>0</td>\n",
       "      <td>0.0000</td>\n",
       "      <td>0.0000</td>\n",
       "      <td>1</td>\n",
       "      <td>2</td>\n",
       "      <td>14</td>\n",
       "      <td>25967</td>\n",
       "      <td>0.0000</td>\n",
       "      <td>10</td>\n",
       "    </tr>\n",
       "    <tr>\n",
       "      <th>759792</th>\n",
       "      <td>38</td>\n",
       "      <td>CASH_OUT</td>\n",
       "      <td>7567170.3600</td>\n",
       "      <td>woman</td>\n",
       "      <td>no_disp</td>\n",
       "      <td>0.9173</td>\n",
       "      <td>C1891733615</td>\n",
       "      <td>asian</td>\n",
       "      <td>7567170.3600</td>\n",
       "      <td>40</td>\n",
       "      <td>0.0000</td>\n",
       "      <td>country</td>\n",
       "      <td>1375</td>\n",
       "      <td>C1599314459</td>\n",
       "      <td>10</td>\n",
       "      <td>0</td>\n",
       "      <td>345425.4000</td>\n",
       "      <td>7912595.7500</td>\n",
       "      <td>1</td>\n",
       "      <td>2</td>\n",
       "      <td>14</td>\n",
       "      <td>25968</td>\n",
       "      <td>0.0000</td>\n",
       "      <td>11</td>\n",
       "    </tr>\n",
       "    <tr>\n",
       "      <th>777626</th>\n",
       "      <td>39</td>\n",
       "      <td>TRANSFER</td>\n",
       "      <td>7937954.2000</td>\n",
       "      <td>unknow</td>\n",
       "      <td>mac</td>\n",
       "      <td>0.5144</td>\n",
       "      <td>C2057200986</td>\n",
       "      <td>black</td>\n",
       "      <td>7937954.2000</td>\n",
       "      <td>71</td>\n",
       "      <td>0.0000</td>\n",
       "      <td>no_disp</td>\n",
       "      <td>1439</td>\n",
       "      <td>C1124319645</td>\n",
       "      <td>8</td>\n",
       "      <td>0</td>\n",
       "      <td>0.0000</td>\n",
       "      <td>0.0000</td>\n",
       "      <td>1</td>\n",
       "      <td>2</td>\n",
       "      <td>15</td>\n",
       "      <td>12349</td>\n",
       "      <td>0.0001</td>\n",
       "      <td>7</td>\n",
       "    </tr>\n",
       "    <tr>\n",
       "      <th>777627</th>\n",
       "      <td>39</td>\n",
       "      <td>CASH_OUT</td>\n",
       "      <td>7937954.2000</td>\n",
       "      <td>unknow</td>\n",
       "      <td>mac</td>\n",
       "      <td>0.5027</td>\n",
       "      <td>C1581001485</td>\n",
       "      <td>asian</td>\n",
       "      <td>7937954.2000</td>\n",
       "      <td>92</td>\n",
       "      <td>0.0000</td>\n",
       "      <td>country</td>\n",
       "      <td>4149</td>\n",
       "      <td>C2012612648</td>\n",
       "      <td>8</td>\n",
       "      <td>0</td>\n",
       "      <td>2716480.5600</td>\n",
       "      <td>10654434.7600</td>\n",
       "      <td>1</td>\n",
       "      <td>2</td>\n",
       "      <td>15</td>\n",
       "      <td>12350</td>\n",
       "      <td>0.0001</td>\n",
       "      <td>8</td>\n",
       "    </tr>\n",
       "    <tr>\n",
       "      <th>999453</th>\n",
       "      <td>45</td>\n",
       "      <td>TRANSFER</td>\n",
       "      <td>7335355.5700</td>\n",
       "      <td>man</td>\n",
       "      <td>mac</td>\n",
       "      <td>0.5651</td>\n",
       "      <td>C1102672587</td>\n",
       "      <td>latin</td>\n",
       "      <td>7335355.5700</td>\n",
       "      <td>39</td>\n",
       "      <td>0.0000</td>\n",
       "      <td>country</td>\n",
       "      <td>1683</td>\n",
       "      <td>C735323689</td>\n",
       "      <td>6</td>\n",
       "      <td>0</td>\n",
       "      <td>0.0000</td>\n",
       "      <td>0.0000</td>\n",
       "      <td>1</td>\n",
       "      <td>2</td>\n",
       "      <td>21</td>\n",
       "      <td>15280</td>\n",
       "      <td>0.0001</td>\n",
       "      <td>15</td>\n",
       "    </tr>\n",
       "    <tr>\n",
       "      <th>999454</th>\n",
       "      <td>45</td>\n",
       "      <td>CASH_OUT</td>\n",
       "      <td>7335355.5700</td>\n",
       "      <td>woman</td>\n",
       "      <td>mac</td>\n",
       "      <td>0.4327</td>\n",
       "      <td>C1223916377</td>\n",
       "      <td>asian</td>\n",
       "      <td>7335355.5700</td>\n",
       "      <td>90</td>\n",
       "      <td>0.0000</td>\n",
       "      <td>africa</td>\n",
       "      <td>3281</td>\n",
       "      <td>C542934513</td>\n",
       "      <td>3</td>\n",
       "      <td>0</td>\n",
       "      <td>702100.1100</td>\n",
       "      <td>8037455.6800</td>\n",
       "      <td>1</td>\n",
       "      <td>2</td>\n",
       "      <td>21</td>\n",
       "      <td>15281</td>\n",
       "      <td>0.0001</td>\n",
       "      <td>16</td>\n",
       "    </tr>\n",
       "    <tr>\n",
       "      <th>1005088</th>\n",
       "      <td>46</td>\n",
       "      <td>TRANSFER</td>\n",
       "      <td>9977761.0500</td>\n",
       "      <td>woman</td>\n",
       "      <td>iphone</td>\n",
       "      <td>0.0784</td>\n",
       "      <td>C154757729</td>\n",
       "      <td>asian</td>\n",
       "      <td>9977761.0500</td>\n",
       "      <td>48</td>\n",
       "      <td>0.0000</td>\n",
       "      <td>capital</td>\n",
       "      <td>2816</td>\n",
       "      <td>C1895716929</td>\n",
       "      <td>9</td>\n",
       "      <td>1</td>\n",
       "      <td>0.0000</td>\n",
       "      <td>0.0000</td>\n",
       "      <td>1</td>\n",
       "      <td>2</td>\n",
       "      <td>22</td>\n",
       "      <td>2415</td>\n",
       "      <td>0.0004</td>\n",
       "      <td>1</td>\n",
       "    </tr>\n",
       "    <tr>\n",
       "      <th>1005089</th>\n",
       "      <td>46</td>\n",
       "      <td>CASH_OUT</td>\n",
       "      <td>9977761.0500</td>\n",
       "      <td>no_disp</td>\n",
       "      <td>pc</td>\n",
       "      <td>0.8623</td>\n",
       "      <td>C840795008</td>\n",
       "      <td>asian</td>\n",
       "      <td>9977761.0500</td>\n",
       "      <td>73</td>\n",
       "      <td>0.0000</td>\n",
       "      <td>country</td>\n",
       "      <td>487</td>\n",
       "      <td>C1214752539</td>\n",
       "      <td>9</td>\n",
       "      <td>0</td>\n",
       "      <td>0.0000</td>\n",
       "      <td>9977761.0500</td>\n",
       "      <td>1</td>\n",
       "      <td>2</td>\n",
       "      <td>22</td>\n",
       "      <td>2416</td>\n",
       "      <td>0.0004</td>\n",
       "      <td>2</td>\n",
       "    </tr>\n",
       "    <tr>\n",
       "      <th>1030277</th>\n",
       "      <td>52</td>\n",
       "      <td>TRANSFER</td>\n",
       "      <td>7484125.1200</td>\n",
       "      <td>woman</td>\n",
       "      <td>pc</td>\n",
       "      <td>0.6721</td>\n",
       "      <td>C1486116303</td>\n",
       "      <td>asian</td>\n",
       "      <td>7484125.1200</td>\n",
       "      <td>64</td>\n",
       "      <td>0.0000</td>\n",
       "      <td>africa</td>\n",
       "      <td>3390</td>\n",
       "      <td>C398541118</td>\n",
       "      <td>5</td>\n",
       "      <td>0</td>\n",
       "      <td>0.0000</td>\n",
       "      <td>0.0000</td>\n",
       "      <td>1</td>\n",
       "      <td>3</td>\n",
       "      <td>4</td>\n",
       "      <td>1</td>\n",
       "      <td>1.0000</td>\n",
       "      <td>1</td>\n",
       "    </tr>\n",
       "    <tr>\n",
       "      <th>1030278</th>\n",
       "      <td>52</td>\n",
       "      <td>CASH_OUT</td>\n",
       "      <td>7484125.1200</td>\n",
       "      <td>man</td>\n",
       "      <td>mac</td>\n",
       "      <td>0.3578</td>\n",
       "      <td>C99129129</td>\n",
       "      <td>black</td>\n",
       "      <td>7484125.1200</td>\n",
       "      <td>32</td>\n",
       "      <td>0.0000</td>\n",
       "      <td>africa</td>\n",
       "      <td>1493</td>\n",
       "      <td>C1179262893</td>\n",
       "      <td>10</td>\n",
       "      <td>0</td>\n",
       "      <td>62896.2300</td>\n",
       "      <td>7547021.3600</td>\n",
       "      <td>1</td>\n",
       "      <td>3</td>\n",
       "      <td>4</td>\n",
       "      <td>2</td>\n",
       "      <td>0.5000</td>\n",
       "      <td>2</td>\n",
       "    </tr>\n",
       "    <tr>\n",
       "      <th>1030341</th>\n",
       "      <td>58</td>\n",
       "      <td>TRANSFER</td>\n",
       "      <td>6501303.1400</td>\n",
       "      <td>woman</td>\n",
       "      <td>mac</td>\n",
       "      <td>0.4544</td>\n",
       "      <td>C2083819202</td>\n",
       "      <td>black</td>\n",
       "      <td>6501303.1400</td>\n",
       "      <td>63</td>\n",
       "      <td>0.0000</td>\n",
       "      <td>capital</td>\n",
       "      <td>1720</td>\n",
       "      <td>C1581398768</td>\n",
       "      <td>4</td>\n",
       "      <td>0</td>\n",
       "      <td>0.0000</td>\n",
       "      <td>0.0000</td>\n",
       "      <td>1</td>\n",
       "      <td>3</td>\n",
       "      <td>10</td>\n",
       "      <td>7</td>\n",
       "      <td>0.1429</td>\n",
       "      <td>7</td>\n",
       "    </tr>\n",
       "    <tr>\n",
       "      <th>1030342</th>\n",
       "      <td>58</td>\n",
       "      <td>CASH_OUT</td>\n",
       "      <td>6501303.1400</td>\n",
       "      <td>unknow</td>\n",
       "      <td>mac</td>\n",
       "      <td>0.3488</td>\n",
       "      <td>C1033290326</td>\n",
       "      <td>black</td>\n",
       "      <td>6501303.1400</td>\n",
       "      <td>61</td>\n",
       "      <td>0.0000</td>\n",
       "      <td>country</td>\n",
       "      <td>2899</td>\n",
       "      <td>C1721246847</td>\n",
       "      <td>10</td>\n",
       "      <td>0</td>\n",
       "      <td>4439499.5000</td>\n",
       "      <td>10940802.6400</td>\n",
       "      <td>1</td>\n",
       "      <td>3</td>\n",
       "      <td>10</td>\n",
       "      <td>8</td>\n",
       "      <td>0.1250</td>\n",
       "      <td>8</td>\n",
       "    </tr>\n",
       "    <tr>\n",
       "      <th>1030349</th>\n",
       "      <td>58</td>\n",
       "      <td>TRANSFER</td>\n",
       "      <td>7108914.2200</td>\n",
       "      <td>woman</td>\n",
       "      <td>no_disp</td>\n",
       "      <td>0.9246</td>\n",
       "      <td>C1494760088</td>\n",
       "      <td>asian</td>\n",
       "      <td>7108914.2200</td>\n",
       "      <td>84</td>\n",
       "      <td>0.0000</td>\n",
       "      <td>country</td>\n",
       "      <td>1735</td>\n",
       "      <td>C1835087777</td>\n",
       "      <td>3</td>\n",
       "      <td>0</td>\n",
       "      <td>0.0000</td>\n",
       "      <td>0.0000</td>\n",
       "      <td>1</td>\n",
       "      <td>3</td>\n",
       "      <td>10</td>\n",
       "      <td>15</td>\n",
       "      <td>0.0667</td>\n",
       "      <td>15</td>\n",
       "    </tr>\n",
       "    <tr>\n",
       "      <th>1030350</th>\n",
       "      <td>58</td>\n",
       "      <td>CASH_OUT</td>\n",
       "      <td>7108914.2200</td>\n",
       "      <td>man</td>\n",
       "      <td>no_disp</td>\n",
       "      <td>0.9900</td>\n",
       "      <td>C993318150</td>\n",
       "      <td>asian</td>\n",
       "      <td>7108914.2200</td>\n",
       "      <td>32</td>\n",
       "      <td>0.0000</td>\n",
       "      <td>africa</td>\n",
       "      <td>1012</td>\n",
       "      <td>C73690456</td>\n",
       "      <td>4</td>\n",
       "      <td>0</td>\n",
       "      <td>0.0000</td>\n",
       "      <td>7108914.2200</td>\n",
       "      <td>1</td>\n",
       "      <td>3</td>\n",
       "      <td>10</td>\n",
       "      <td>16</td>\n",
       "      <td>0.0625</td>\n",
       "      <td>16</td>\n",
       "    </tr>\n",
       "    <tr>\n",
       "      <th>1030465</th>\n",
       "      <td>66</td>\n",
       "      <td>TRANSFER</td>\n",
       "      <td>7169129.9400</td>\n",
       "      <td>unknow</td>\n",
       "      <td>no_disp</td>\n",
       "      <td>0.9181</td>\n",
       "      <td>C1016521533</td>\n",
       "      <td>asian</td>\n",
       "      <td>7169129.9400</td>\n",
       "      <td>63</td>\n",
       "      <td>0.0000</td>\n",
       "      <td>country</td>\n",
       "      <td>917</td>\n",
       "      <td>C475877892</td>\n",
       "      <td>5</td>\n",
       "      <td>0</td>\n",
       "      <td>0.0000</td>\n",
       "      <td>0.0000</td>\n",
       "      <td>1</td>\n",
       "      <td>3</td>\n",
       "      <td>18</td>\n",
       "      <td>11</td>\n",
       "      <td>0.0909</td>\n",
       "      <td>11</td>\n",
       "    </tr>\n",
       "    <tr>\n",
       "      <th>1030466</th>\n",
       "      <td>66</td>\n",
       "      <td>CASH_OUT</td>\n",
       "      <td>7169129.9400</td>\n",
       "      <td>man</td>\n",
       "      <td>pc</td>\n",
       "      <td>0.7843</td>\n",
       "      <td>C877157675</td>\n",
       "      <td>latin</td>\n",
       "      <td>7169129.9400</td>\n",
       "      <td>77</td>\n",
       "      <td>0.0000</td>\n",
       "      <td>capital</td>\n",
       "      <td>3447</td>\n",
       "      <td>C357180483</td>\n",
       "      <td>4</td>\n",
       "      <td>0</td>\n",
       "      <td>0.0000</td>\n",
       "      <td>7169129.9400</td>\n",
       "      <td>1</td>\n",
       "      <td>3</td>\n",
       "      <td>18</td>\n",
       "      <td>12</td>\n",
       "      <td>0.0833</td>\n",
       "      <td>12</td>\n",
       "    </tr>\n",
       "    <tr>\n",
       "      <th>1030507</th>\n",
       "      <td>69</td>\n",
       "      <td>TRANSFER</td>\n",
       "      <td>7728992.5600</td>\n",
       "      <td>unknow</td>\n",
       "      <td>pc</td>\n",
       "      <td>0.7178</td>\n",
       "      <td>C139632487</td>\n",
       "      <td>asian</td>\n",
       "      <td>7728992.5600</td>\n",
       "      <td>56</td>\n",
       "      <td>0.0000</td>\n",
       "      <td>capital</td>\n",
       "      <td>3267</td>\n",
       "      <td>C1966690861</td>\n",
       "      <td>4</td>\n",
       "      <td>0</td>\n",
       "      <td>0.0000</td>\n",
       "      <td>0.0000</td>\n",
       "      <td>1</td>\n",
       "      <td>3</td>\n",
       "      <td>21</td>\n",
       "      <td>5</td>\n",
       "      <td>0.2000</td>\n",
       "      <td>5</td>\n",
       "    </tr>\n",
       "    <tr>\n",
       "      <th>1030508</th>\n",
       "      <td>69</td>\n",
       "      <td>CASH_OUT</td>\n",
       "      <td>7728992.5600</td>\n",
       "      <td>no_disp</td>\n",
       "      <td>pc</td>\n",
       "      <td>0.6875</td>\n",
       "      <td>C403242634</td>\n",
       "      <td>asian</td>\n",
       "      <td>7728992.5600</td>\n",
       "      <td>67</td>\n",
       "      <td>0.0000</td>\n",
       "      <td>country</td>\n",
       "      <td>4818</td>\n",
       "      <td>C61990291</td>\n",
       "      <td>9</td>\n",
       "      <td>0</td>\n",
       "      <td>340622.4500</td>\n",
       "      <td>8069615.0000</td>\n",
       "      <td>1</td>\n",
       "      <td>3</td>\n",
       "      <td>21</td>\n",
       "      <td>6</td>\n",
       "      <td>0.1667</td>\n",
       "      <td>6</td>\n",
       "    </tr>\n",
       "    <tr>\n",
       "      <th>1030559</th>\n",
       "      <td>72</td>\n",
       "      <td>TRANSFER</td>\n",
       "      <td>10000000.0000</td>\n",
       "      <td>woman</td>\n",
       "      <td>pc</td>\n",
       "      <td>0.6874</td>\n",
       "      <td>C53057884</td>\n",
       "      <td>no_disp</td>\n",
       "      <td>18594065.0900</td>\n",
       "      <td>90</td>\n",
       "      <td>8594065.0900</td>\n",
       "      <td>africa</td>\n",
       "      <td>4250</td>\n",
       "      <td>C588547519</td>\n",
       "      <td>3</td>\n",
       "      <td>0</td>\n",
       "      <td>0.0000</td>\n",
       "      <td>0.0000</td>\n",
       "      <td>1</td>\n",
       "      <td>4</td>\n",
       "      <td>0</td>\n",
       "      <td>11</td>\n",
       "      <td>0.0909</td>\n",
       "      <td>11</td>\n",
       "    </tr>\n",
       "    <tr>\n",
       "      <th>1030560</th>\n",
       "      <td>72</td>\n",
       "      <td>CASH_OUT</td>\n",
       "      <td>10000000.0000</td>\n",
       "      <td>man</td>\n",
       "      <td>iphone</td>\n",
       "      <td>0.1283</td>\n",
       "      <td>C1438388258</td>\n",
       "      <td>black</td>\n",
       "      <td>10000000.0000</td>\n",
       "      <td>14</td>\n",
       "      <td>0.0000</td>\n",
       "      <td>capital</td>\n",
       "      <td>3038</td>\n",
       "      <td>C1089455271</td>\n",
       "      <td>5</td>\n",
       "      <td>0</td>\n",
       "      <td>81810.4200</td>\n",
       "      <td>10081810.4200</td>\n",
       "      <td>1</td>\n",
       "      <td>4</td>\n",
       "      <td>0</td>\n",
       "      <td>12</td>\n",
       "      <td>0.0833</td>\n",
       "      <td>12</td>\n",
       "    </tr>\n",
       "    <tr>\n",
       "      <th>1030561</th>\n",
       "      <td>72</td>\n",
       "      <td>TRANSFER</td>\n",
       "      <td>8594065.0900</td>\n",
       "      <td>unknow</td>\n",
       "      <td>no_disp</td>\n",
       "      <td>0.9725</td>\n",
       "      <td>C1801750044</td>\n",
       "      <td>no_disp</td>\n",
       "      <td>8594065.0900</td>\n",
       "      <td>82</td>\n",
       "      <td>0.0000</td>\n",
       "      <td>africa</td>\n",
       "      <td>606</td>\n",
       "      <td>C1420708952</td>\n",
       "      <td>6</td>\n",
       "      <td>0</td>\n",
       "      <td>0.0000</td>\n",
       "      <td>0.0000</td>\n",
       "      <td>1</td>\n",
       "      <td>4</td>\n",
       "      <td>0</td>\n",
       "      <td>13</td>\n",
       "      <td>0.0769</td>\n",
       "      <td>13</td>\n",
       "    </tr>\n",
       "    <tr>\n",
       "      <th>1030562</th>\n",
       "      <td>72</td>\n",
       "      <td>CASH_OUT</td>\n",
       "      <td>8594065.0900</td>\n",
       "      <td>man</td>\n",
       "      <td>no_disp</td>\n",
       "      <td>0.9097</td>\n",
       "      <td>C1456711816</td>\n",
       "      <td>asian</td>\n",
       "      <td>8594065.0900</td>\n",
       "      <td>63</td>\n",
       "      <td>0.0000</td>\n",
       "      <td>capital</td>\n",
       "      <td>493</td>\n",
       "      <td>C1231373551</td>\n",
       "      <td>5</td>\n",
       "      <td>0</td>\n",
       "      <td>5844.5100</td>\n",
       "      <td>8599909.6000</td>\n",
       "      <td>1</td>\n",
       "      <td>4</td>\n",
       "      <td>0</td>\n",
       "      <td>14</td>\n",
       "      <td>0.0714</td>\n",
       "      <td>14</td>\n",
       "    </tr>\n",
       "    <tr>\n",
       "      <th>1030607</th>\n",
       "      <td>77</td>\n",
       "      <td>TRANSFER</td>\n",
       "      <td>9039246.8200</td>\n",
       "      <td>unknow</td>\n",
       "      <td>no_disp</td>\n",
       "      <td>0.9535</td>\n",
       "      <td>C1074348771</td>\n",
       "      <td>latin</td>\n",
       "      <td>9039246.8200</td>\n",
       "      <td>64</td>\n",
       "      <td>0.0000</td>\n",
       "      <td>no_disp</td>\n",
       "      <td>761</td>\n",
       "      <td>C306278286</td>\n",
       "      <td>9</td>\n",
       "      <td>0</td>\n",
       "      <td>0.0000</td>\n",
       "      <td>0.0000</td>\n",
       "      <td>1</td>\n",
       "      <td>4</td>\n",
       "      <td>5</td>\n",
       "      <td>3</td>\n",
       "      <td>0.3333</td>\n",
       "      <td>3</td>\n",
       "    </tr>\n",
       "    <tr>\n",
       "      <th>1030608</th>\n",
       "      <td>77</td>\n",
       "      <td>CASH_OUT</td>\n",
       "      <td>9039246.8200</td>\n",
       "      <td>man</td>\n",
       "      <td>pc</td>\n",
       "      <td>0.7879</td>\n",
       "      <td>C378412722</td>\n",
       "      <td>asian</td>\n",
       "      <td>9039246.8200</td>\n",
       "      <td>37</td>\n",
       "      <td>0.0000</td>\n",
       "      <td>africa</td>\n",
       "      <td>4000</td>\n",
       "      <td>C802151575</td>\n",
       "      <td>10</td>\n",
       "      <td>0</td>\n",
       "      <td>464686.6900</td>\n",
       "      <td>9503933.5100</td>\n",
       "      <td>1</td>\n",
       "      <td>4</td>\n",
       "      <td>5</td>\n",
       "      <td>4</td>\n",
       "      <td>0.2500</td>\n",
       "      <td>4</td>\n",
       "    </tr>\n",
       "    <tr>\n",
       "      <th>1030661</th>\n",
       "      <td>82</td>\n",
       "      <td>TRANSFER</td>\n",
       "      <td>10000000.0000</td>\n",
       "      <td>man</td>\n",
       "      <td>mac</td>\n",
       "      <td>0.2857</td>\n",
       "      <td>C1237313447</td>\n",
       "      <td>black</td>\n",
       "      <td>10987591.5900</td>\n",
       "      <td>64</td>\n",
       "      <td>987591.5900</td>\n",
       "      <td>no_disp</td>\n",
       "      <td>2815</td>\n",
       "      <td>C1468356154</td>\n",
       "      <td>6</td>\n",
       "      <td>0</td>\n",
       "      <td>0.0000</td>\n",
       "      <td>0.0000</td>\n",
       "      <td>1</td>\n",
       "      <td>4</td>\n",
       "      <td>10</td>\n",
       "      <td>7</td>\n",
       "      <td>0.1429</td>\n",
       "      <td>7</td>\n",
       "    </tr>\n",
       "    <tr>\n",
       "      <th>1030662</th>\n",
       "      <td>82</td>\n",
       "      <td>CASH_OUT</td>\n",
       "      <td>10000000.0000</td>\n",
       "      <td>no_disp</td>\n",
       "      <td>pc</td>\n",
       "      <td>0.7317</td>\n",
       "      <td>C1079335762</td>\n",
       "      <td>asian</td>\n",
       "      <td>10000000.0000</td>\n",
       "      <td>68</td>\n",
       "      <td>0.0000</td>\n",
       "      <td>africa</td>\n",
       "      <td>4851</td>\n",
       "      <td>C615227407</td>\n",
       "      <td>3</td>\n",
       "      <td>0</td>\n",
       "      <td>373274.8400</td>\n",
       "      <td>10373274.8400</td>\n",
       "      <td>1</td>\n",
       "      <td>4</td>\n",
       "      <td>10</td>\n",
       "      <td>8</td>\n",
       "      <td>0.1250</td>\n",
       "      <td>8</td>\n",
       "    </tr>\n",
       "    <tr>\n",
       "      <th>1030687</th>\n",
       "      <td>84</td>\n",
       "      <td>TRANSFER</td>\n",
       "      <td>10000000.0000</td>\n",
       "      <td>woman</td>\n",
       "      <td>mac</td>\n",
       "      <td>0.3105</td>\n",
       "      <td>C792651637</td>\n",
       "      <td>no_disp</td>\n",
       "      <td>14830219.1500</td>\n",
       "      <td>5</td>\n",
       "      <td>4830219.1500</td>\n",
       "      <td>capital</td>\n",
       "      <td>724</td>\n",
       "      <td>C397396936</td>\n",
       "      <td>4</td>\n",
       "      <td>0</td>\n",
       "      <td>0.0000</td>\n",
       "      <td>0.0000</td>\n",
       "      <td>1</td>\n",
       "      <td>4</td>\n",
       "      <td>12</td>\n",
       "      <td>11</td>\n",
       "      <td>0.0909</td>\n",
       "      <td>11</td>\n",
       "    </tr>\n",
       "    <tr>\n",
       "      <th>1030688</th>\n",
       "      <td>84</td>\n",
       "      <td>CASH_OUT</td>\n",
       "      <td>10000000.0000</td>\n",
       "      <td>woman</td>\n",
       "      <td>pc</td>\n",
       "      <td>0.6927</td>\n",
       "      <td>C824646662</td>\n",
       "      <td>black</td>\n",
       "      <td>10000000.0000</td>\n",
       "      <td>11</td>\n",
       "      <td>0.0000</td>\n",
       "      <td>country</td>\n",
       "      <td>1858</td>\n",
       "      <td>C1917849910</td>\n",
       "      <td>1</td>\n",
       "      <td>0</td>\n",
       "      <td>0.0000</td>\n",
       "      <td>10000000.0000</td>\n",
       "      <td>1</td>\n",
       "      <td>4</td>\n",
       "      <td>12</td>\n",
       "      <td>12</td>\n",
       "      <td>0.0833</td>\n",
       "      <td>12</td>\n",
       "    </tr>\n",
       "    <tr>\n",
       "      <th>1030705</th>\n",
       "      <td>85</td>\n",
       "      <td>TRANSFER</td>\n",
       "      <td>8924971.5900</td>\n",
       "      <td>man</td>\n",
       "      <td>no_disp</td>\n",
       "      <td>0.9513</td>\n",
       "      <td>C406938681</td>\n",
       "      <td>latin</td>\n",
       "      <td>8924971.5900</td>\n",
       "      <td>81</td>\n",
       "      <td>0.0000</td>\n",
       "      <td>capital</td>\n",
       "      <td>724</td>\n",
       "      <td>C579440834</td>\n",
       "      <td>5</td>\n",
       "      <td>0</td>\n",
       "      <td>0.0000</td>\n",
       "      <td>0.0000</td>\n",
       "      <td>1</td>\n",
       "      <td>4</td>\n",
       "      <td>13</td>\n",
       "      <td>13</td>\n",
       "      <td>0.0769</td>\n",
       "      <td>13</td>\n",
       "    </tr>\n",
       "    <tr>\n",
       "      <th>1030706</th>\n",
       "      <td>85</td>\n",
       "      <td>CASH_OUT</td>\n",
       "      <td>8924971.5900</td>\n",
       "      <td>unknow</td>\n",
       "      <td>iphone</td>\n",
       "      <td>0.0943</td>\n",
       "      <td>C1227042704</td>\n",
       "      <td>black</td>\n",
       "      <td>8924971.5900</td>\n",
       "      <td>49</td>\n",
       "      <td>0.0000</td>\n",
       "      <td>country</td>\n",
       "      <td>1374</td>\n",
       "      <td>C585705042</td>\n",
       "      <td>2</td>\n",
       "      <td>1</td>\n",
       "      <td>59990.3000</td>\n",
       "      <td>8984961.8900</td>\n",
       "      <td>1</td>\n",
       "      <td>4</td>\n",
       "      <td>13</td>\n",
       "      <td>14</td>\n",
       "      <td>0.0714</td>\n",
       "      <td>14</td>\n",
       "    </tr>\n",
       "    <tr>\n",
       "      <th>1030709</th>\n",
       "      <td>86</td>\n",
       "      <td>TRANSFER</td>\n",
       "      <td>10000000.0000</td>\n",
       "      <td>unknow</td>\n",
       "      <td>pc</td>\n",
       "      <td>0.8564</td>\n",
       "      <td>C1843531771</td>\n",
       "      <td>no_disp</td>\n",
       "      <td>18931607.8900</td>\n",
       "      <td>72</td>\n",
       "      <td>8931607.8900</td>\n",
       "      <td>country</td>\n",
       "      <td>4763</td>\n",
       "      <td>C632110164</td>\n",
       "      <td>4</td>\n",
       "      <td>0</td>\n",
       "      <td>0.0000</td>\n",
       "      <td>0.0000</td>\n",
       "      <td>1</td>\n",
       "      <td>4</td>\n",
       "      <td>14</td>\n",
       "      <td>3</td>\n",
       "      <td>0.3333</td>\n",
       "      <td>3</td>\n",
       "    </tr>\n",
       "    <tr>\n",
       "      <th>1030710</th>\n",
       "      <td>86</td>\n",
       "      <td>CASH_OUT</td>\n",
       "      <td>10000000.0000</td>\n",
       "      <td>woman</td>\n",
       "      <td>mac</td>\n",
       "      <td>0.4554</td>\n",
       "      <td>C538142346</td>\n",
       "      <td>black</td>\n",
       "      <td>10000000.0000</td>\n",
       "      <td>59</td>\n",
       "      <td>0.0000</td>\n",
       "      <td>africa</td>\n",
       "      <td>3869</td>\n",
       "      <td>C557678014</td>\n",
       "      <td>1</td>\n",
       "      <td>0</td>\n",
       "      <td>0.0000</td>\n",
       "      <td>10000000.0000</td>\n",
       "      <td>1</td>\n",
       "      <td>4</td>\n",
       "      <td>14</td>\n",
       "      <td>4</td>\n",
       "      <td>0.2500</td>\n",
       "      <td>4</td>\n",
       "    </tr>\n",
       "    <tr>\n",
       "      <th>1030711</th>\n",
       "      <td>86</td>\n",
       "      <td>TRANSFER</td>\n",
       "      <td>8931607.8900</td>\n",
       "      <td>unknow</td>\n",
       "      <td>mac</td>\n",
       "      <td>0.4390</td>\n",
       "      <td>C1230337572</td>\n",
       "      <td>latin</td>\n",
       "      <td>8931607.8900</td>\n",
       "      <td>41</td>\n",
       "      <td>0.0000</td>\n",
       "      <td>country</td>\n",
       "      <td>2162</td>\n",
       "      <td>C720836200</td>\n",
       "      <td>6</td>\n",
       "      <td>0</td>\n",
       "      <td>0.0000</td>\n",
       "      <td>0.0000</td>\n",
       "      <td>1</td>\n",
       "      <td>4</td>\n",
       "      <td>14</td>\n",
       "      <td>5</td>\n",
       "      <td>0.2000</td>\n",
       "      <td>5</td>\n",
       "    </tr>\n",
       "    <tr>\n",
       "      <th>1030712</th>\n",
       "      <td>86</td>\n",
       "      <td>CASH_OUT</td>\n",
       "      <td>8931607.8900</td>\n",
       "      <td>unknow</td>\n",
       "      <td>mac</td>\n",
       "      <td>0.4106</td>\n",
       "      <td>C849209216</td>\n",
       "      <td>asian</td>\n",
       "      <td>8931607.8900</td>\n",
       "      <td>20</td>\n",
       "      <td>0.0000</td>\n",
       "      <td>capital</td>\n",
       "      <td>1787</td>\n",
       "      <td>C754619416</td>\n",
       "      <td>1</td>\n",
       "      <td>0</td>\n",
       "      <td>141515.5700</td>\n",
       "      <td>9073123.4600</td>\n",
       "      <td>1</td>\n",
       "      <td>4</td>\n",
       "      <td>14</td>\n",
       "      <td>6</td>\n",
       "      <td>0.1667</td>\n",
       "      <td>6</td>\n",
       "    </tr>\n",
       "    <tr>\n",
       "      <th>1030715</th>\n",
       "      <td>86</td>\n",
       "      <td>TRANSFER</td>\n",
       "      <td>6972164.9700</td>\n",
       "      <td>unknow</td>\n",
       "      <td>pc</td>\n",
       "      <td>0.8573</td>\n",
       "      <td>C384245570</td>\n",
       "      <td>latin</td>\n",
       "      <td>6972164.9700</td>\n",
       "      <td>83</td>\n",
       "      <td>0.0000</td>\n",
       "      <td>capital</td>\n",
       "      <td>331</td>\n",
       "      <td>C898480186</td>\n",
       "      <td>5</td>\n",
       "      <td>0</td>\n",
       "      <td>0.0000</td>\n",
       "      <td>0.0000</td>\n",
       "      <td>1</td>\n",
       "      <td>4</td>\n",
       "      <td>14</td>\n",
       "      <td>9</td>\n",
       "      <td>0.1111</td>\n",
       "      <td>9</td>\n",
       "    </tr>\n",
       "    <tr>\n",
       "      <th>1030716</th>\n",
       "      <td>86</td>\n",
       "      <td>CASH_OUT</td>\n",
       "      <td>6972164.9700</td>\n",
       "      <td>woman</td>\n",
       "      <td>mac</td>\n",
       "      <td>0.5137</td>\n",
       "      <td>C1268472825</td>\n",
       "      <td>asian</td>\n",
       "      <td>6972164.9700</td>\n",
       "      <td>82</td>\n",
       "      <td>0.0000</td>\n",
       "      <td>country</td>\n",
       "      <td>174</td>\n",
       "      <td>C2126149202</td>\n",
       "      <td>7</td>\n",
       "      <td>0</td>\n",
       "      <td>5680.2800</td>\n",
       "      <td>6977845.2500</td>\n",
       "      <td>1</td>\n",
       "      <td>4</td>\n",
       "      <td>14</td>\n",
       "      <td>10</td>\n",
       "      <td>0.1000</td>\n",
       "      <td>10</td>\n",
       "    </tr>\n",
       "    <tr>\n",
       "      <th>1030731</th>\n",
       "      <td>88</td>\n",
       "      <td>TRANSFER</td>\n",
       "      <td>9345700.0700</td>\n",
       "      <td>man</td>\n",
       "      <td>pc</td>\n",
       "      <td>0.6599</td>\n",
       "      <td>C1453976647</td>\n",
       "      <td>black</td>\n",
       "      <td>9345700.0700</td>\n",
       "      <td>45</td>\n",
       "      <td>0.0000</td>\n",
       "      <td>africa</td>\n",
       "      <td>3132</td>\n",
       "      <td>C1454683123</td>\n",
       "      <td>6</td>\n",
       "      <td>0</td>\n",
       "      <td>0.0000</td>\n",
       "      <td>0.0000</td>\n",
       "      <td>1</td>\n",
       "      <td>4</td>\n",
       "      <td>16</td>\n",
       "      <td>1</td>\n",
       "      <td>1.0000</td>\n",
       "      <td>1</td>\n",
       "    </tr>\n",
       "    <tr>\n",
       "      <th>1030732</th>\n",
       "      <td>88</td>\n",
       "      <td>CASH_OUT</td>\n",
       "      <td>9345700.0700</td>\n",
       "      <td>no_disp</td>\n",
       "      <td>no_disp</td>\n",
       "      <td>0.9643</td>\n",
       "      <td>C399518124</td>\n",
       "      <td>black</td>\n",
       "      <td>9345700.0700</td>\n",
       "      <td>90</td>\n",
       "      <td>0.0000</td>\n",
       "      <td>capital</td>\n",
       "      <td>4754</td>\n",
       "      <td>C2125071302</td>\n",
       "      <td>9</td>\n",
       "      <td>0</td>\n",
       "      <td>8922060.4300</td>\n",
       "      <td>18267760.5000</td>\n",
       "      <td>1</td>\n",
       "      <td>4</td>\n",
       "      <td>16</td>\n",
       "      <td>2</td>\n",
       "      <td>0.5000</td>\n",
       "      <td>2</td>\n",
       "    </tr>\n",
       "    <tr>\n",
       "      <th>1030755</th>\n",
       "      <td>90</td>\n",
       "      <td>TRANSFER</td>\n",
       "      <td>7696836.3500</td>\n",
       "      <td>woman</td>\n",
       "      <td>pc</td>\n",
       "      <td>0.8339</td>\n",
       "      <td>C1641731466</td>\n",
       "      <td>black</td>\n",
       "      <td>7696836.3500</td>\n",
       "      <td>9</td>\n",
       "      <td>0.0000</td>\n",
       "      <td>country</td>\n",
       "      <td>714</td>\n",
       "      <td>C290559240</td>\n",
       "      <td>9</td>\n",
       "      <td>0</td>\n",
       "      <td>0.0000</td>\n",
       "      <td>0.0000</td>\n",
       "      <td>1</td>\n",
       "      <td>4</td>\n",
       "      <td>18</td>\n",
       "      <td>11</td>\n",
       "      <td>0.0909</td>\n",
       "      <td>11</td>\n",
       "    </tr>\n",
       "    <tr>\n",
       "      <th>1030756</th>\n",
       "      <td>90</td>\n",
       "      <td>CASH_OUT</td>\n",
       "      <td>7696836.3500</td>\n",
       "      <td>woman</td>\n",
       "      <td>mac</td>\n",
       "      <td>0.5438</td>\n",
       "      <td>C1784092244</td>\n",
       "      <td>black</td>\n",
       "      <td>7696836.3500</td>\n",
       "      <td>47</td>\n",
       "      <td>0.0000</td>\n",
       "      <td>capital</td>\n",
       "      <td>2709</td>\n",
       "      <td>C646123724</td>\n",
       "      <td>8</td>\n",
       "      <td>0</td>\n",
       "      <td>180993.4500</td>\n",
       "      <td>7877829.8000</td>\n",
       "      <td>1</td>\n",
       "      <td>4</td>\n",
       "      <td>18</td>\n",
       "      <td>12</td>\n",
       "      <td>0.0833</td>\n",
       "      <td>12</td>\n",
       "    </tr>\n",
       "  </tbody>\n",
       "</table>\n",
       "</div>"
      ],
      "text/plain": [
       "         step      type        amount   gender   device  connection_time  \\\n",
       "4440        4  TRANSFER 10000000.0000    woman  no_disp           0.9462   \n",
       "4441        4  CASH_OUT 10000000.0000  no_disp   iphone           0.0120   \n",
       "84416      10  TRANSFER  6419835.2700      man       pc           0.8377   \n",
       "481250     19  TRANSFER 10000000.0000   unknow       pc           0.8687   \n",
       "481251     19  CASH_OUT 10000000.0000    woman   iphone           0.1339   \n",
       "586311     33  TRANSFER 10000000.0000      man       pc           0.7632   \n",
       "586312     33  CASH_OUT 10000000.0000   unknow   iphone           0.2052   \n",
       "586313     33  TRANSFER  9887819.0600    woman  no_disp           0.9403   \n",
       "586314     33  CASH_OUT  9887819.0600    woman      mac           0.5770   \n",
       "597895     33  TRANSFER  6648389.9000  no_disp  no_disp           0.9071   \n",
       "597896     33  CASH_OUT  6648389.9000      man       pc           0.7976   \n",
       "650133     35  TRANSFER  9465988.8200    woman   iphone           0.1561   \n",
       "650134     35  CASH_OUT  9465988.8200    woman      mac           0.4197   \n",
       "759791     38  TRANSFER  7567170.3600    woman      mac           0.3374   \n",
       "759792     38  CASH_OUT  7567170.3600    woman  no_disp           0.9173   \n",
       "777626     39  TRANSFER  7937954.2000   unknow      mac           0.5144   \n",
       "777627     39  CASH_OUT  7937954.2000   unknow      mac           0.5027   \n",
       "999453     45  TRANSFER  7335355.5700      man      mac           0.5651   \n",
       "999454     45  CASH_OUT  7335355.5700    woman      mac           0.4327   \n",
       "1005088    46  TRANSFER  9977761.0500    woman   iphone           0.0784   \n",
       "1005089    46  CASH_OUT  9977761.0500  no_disp       pc           0.8623   \n",
       "1030277    52  TRANSFER  7484125.1200    woman       pc           0.6721   \n",
       "1030278    52  CASH_OUT  7484125.1200      man      mac           0.3578   \n",
       "1030341    58  TRANSFER  6501303.1400    woman      mac           0.4544   \n",
       "1030342    58  CASH_OUT  6501303.1400   unknow      mac           0.3488   \n",
       "1030349    58  TRANSFER  7108914.2200    woman  no_disp           0.9246   \n",
       "1030350    58  CASH_OUT  7108914.2200      man  no_disp           0.9900   \n",
       "1030465    66  TRANSFER  7169129.9400   unknow  no_disp           0.9181   \n",
       "1030466    66  CASH_OUT  7169129.9400      man       pc           0.7843   \n",
       "1030507    69  TRANSFER  7728992.5600   unknow       pc           0.7178   \n",
       "1030508    69  CASH_OUT  7728992.5600  no_disp       pc           0.6875   \n",
       "1030559    72  TRANSFER 10000000.0000    woman       pc           0.6874   \n",
       "1030560    72  CASH_OUT 10000000.0000      man   iphone           0.1283   \n",
       "1030561    72  TRANSFER  8594065.0900   unknow  no_disp           0.9725   \n",
       "1030562    72  CASH_OUT  8594065.0900      man  no_disp           0.9097   \n",
       "1030607    77  TRANSFER  9039246.8200   unknow  no_disp           0.9535   \n",
       "1030608    77  CASH_OUT  9039246.8200      man       pc           0.7879   \n",
       "1030661    82  TRANSFER 10000000.0000      man      mac           0.2857   \n",
       "1030662    82  CASH_OUT 10000000.0000  no_disp       pc           0.7317   \n",
       "1030687    84  TRANSFER 10000000.0000    woman      mac           0.3105   \n",
       "1030688    84  CASH_OUT 10000000.0000    woman       pc           0.6927   \n",
       "1030705    85  TRANSFER  8924971.5900      man  no_disp           0.9513   \n",
       "1030706    85  CASH_OUT  8924971.5900   unknow   iphone           0.0943   \n",
       "1030709    86  TRANSFER 10000000.0000   unknow       pc           0.8564   \n",
       "1030710    86  CASH_OUT 10000000.0000    woman      mac           0.4554   \n",
       "1030711    86  TRANSFER  8931607.8900   unknow      mac           0.4390   \n",
       "1030712    86  CASH_OUT  8931607.8900   unknow      mac           0.4106   \n",
       "1030715    86  TRANSFER  6972164.9700   unknow       pc           0.8573   \n",
       "1030716    86  CASH_OUT  6972164.9700    woman      mac           0.5137   \n",
       "1030731    88  TRANSFER  9345700.0700      man       pc           0.6599   \n",
       "1030732    88  CASH_OUT  9345700.0700  no_disp  no_disp           0.9643   \n",
       "1030755    90  TRANSFER  7696836.3500    woman       pc           0.8339   \n",
       "1030756    90  CASH_OUT  7696836.3500    woman      mac           0.5438   \n",
       "\n",
       "            nameorig     race  oldbalanceorg  age  newbalanceorig     zone  \\\n",
       "4440        C7162498    latin  12930418.4400   61    2930418.4400   africa   \n",
       "4441      C351297720    black  10000000.0000   19          0.0000  capital   \n",
       "84416     C890128330    black     31784.0000   99          0.0000  capital   \n",
       "481250    C416779475    asian  11861008.3200    6    1861008.3200  country   \n",
       "481251   C2050703310    latin  10000000.0000   36          0.0000  no_disp   \n",
       "586311   C1439740840    black  19887819.0600   23    9887819.0600   africa   \n",
       "586312     C29118015    asian  10000000.0000   16          0.0000  no_disp   \n",
       "586313   C1548903046    latin   9887819.0600   58          0.0000  country   \n",
       "586314   C1071702423    latin   9887819.0600   52          0.0000   africa   \n",
       "597895     C67311634    asian   6648389.9000   63          0.0000   africa   \n",
       "597896   C1612816859    black   6648389.9000   90          0.0000   africa   \n",
       "650133    C851016578    black   9465988.8200   22          0.0000  capital   \n",
       "650134     C91276418    black   9465988.8200   77          0.0000  country   \n",
       "759791   C1215509660    latin   7567170.3600   71          0.0000  country   \n",
       "759792   C1891733615    asian   7567170.3600   40          0.0000  country   \n",
       "777626   C2057200986    black   7937954.2000   71          0.0000  no_disp   \n",
       "777627   C1581001485    asian   7937954.2000   92          0.0000  country   \n",
       "999453   C1102672587    latin   7335355.5700   39          0.0000  country   \n",
       "999454   C1223916377    asian   7335355.5700   90          0.0000   africa   \n",
       "1005088   C154757729    asian   9977761.0500   48          0.0000  capital   \n",
       "1005089   C840795008    asian   9977761.0500   73          0.0000  country   \n",
       "1030277  C1486116303    asian   7484125.1200   64          0.0000   africa   \n",
       "1030278    C99129129    black   7484125.1200   32          0.0000   africa   \n",
       "1030341  C2083819202    black   6501303.1400   63          0.0000  capital   \n",
       "1030342  C1033290326    black   6501303.1400   61          0.0000  country   \n",
       "1030349  C1494760088    asian   7108914.2200   84          0.0000  country   \n",
       "1030350   C993318150    asian   7108914.2200   32          0.0000   africa   \n",
       "1030465  C1016521533    asian   7169129.9400   63          0.0000  country   \n",
       "1030466   C877157675    latin   7169129.9400   77          0.0000  capital   \n",
       "1030507   C139632487    asian   7728992.5600   56          0.0000  capital   \n",
       "1030508   C403242634    asian   7728992.5600   67          0.0000  country   \n",
       "1030559    C53057884  no_disp  18594065.0900   90    8594065.0900   africa   \n",
       "1030560  C1438388258    black  10000000.0000   14          0.0000  capital   \n",
       "1030561  C1801750044  no_disp   8594065.0900   82          0.0000   africa   \n",
       "1030562  C1456711816    asian   8594065.0900   63          0.0000  capital   \n",
       "1030607  C1074348771    latin   9039246.8200   64          0.0000  no_disp   \n",
       "1030608   C378412722    asian   9039246.8200   37          0.0000   africa   \n",
       "1030661  C1237313447    black  10987591.5900   64     987591.5900  no_disp   \n",
       "1030662  C1079335762    asian  10000000.0000   68          0.0000   africa   \n",
       "1030687   C792651637  no_disp  14830219.1500    5    4830219.1500  capital   \n",
       "1030688   C824646662    black  10000000.0000   11          0.0000  country   \n",
       "1030705   C406938681    latin   8924971.5900   81          0.0000  capital   \n",
       "1030706  C1227042704    black   8924971.5900   49          0.0000  country   \n",
       "1030709  C1843531771  no_disp  18931607.8900   72    8931607.8900  country   \n",
       "1030710   C538142346    black  10000000.0000   59          0.0000   africa   \n",
       "1030711  C1230337572    latin   8931607.8900   41          0.0000  country   \n",
       "1030712   C849209216    asian   8931607.8900   20          0.0000  capital   \n",
       "1030715   C384245570    latin   6972164.9700   83          0.0000  capital   \n",
       "1030716  C1268472825    asian   6972164.9700   82          0.0000  country   \n",
       "1030731  C1453976647    black   9345700.0700   45          0.0000   africa   \n",
       "1030732   C399518124    black   9345700.0700   90          0.0000  capital   \n",
       "1030755  C1641731466    black   7696836.3500    9          0.0000  country   \n",
       "1030756  C1784092244    black   7696836.3500   47          0.0000  capital   \n",
       "\n",
       "         user_number     namedest  user_connections security_alert  \\\n",
       "4440             137   C945327594                 3              0   \n",
       "4441            4952   C766681183                 9              1   \n",
       "84416           4077  C1192472312                 6              0   \n",
       "481250          4768   C380259496                 1              0   \n",
       "481251          4089  C1622860679                 7              0   \n",
       "586311          2574   C875288652                 9              0   \n",
       "586312          1569  C1379703840                 8              0   \n",
       "586313          4905  C2065423383                 9              0   \n",
       "586314          1815    C28783325                 6              0   \n",
       "597895          3365   C674603923                 7              0   \n",
       "597896          3502   C836514715                 9              0   \n",
       "650133          4036  C1650562969                10              0   \n",
       "650134          3712  C1220805115                 4              0   \n",
       "759791          3985    C96222488                 1              0   \n",
       "759792          1375  C1599314459                10              0   \n",
       "777626          1439  C1124319645                 8              0   \n",
       "777627          4149  C2012612648                 8              0   \n",
       "999453          1683   C735323689                 6              0   \n",
       "999454          3281   C542934513                 3              0   \n",
       "1005088         2816  C1895716929                 9              1   \n",
       "1005089          487  C1214752539                 9              0   \n",
       "1030277         3390   C398541118                 5              0   \n",
       "1030278         1493  C1179262893                10              0   \n",
       "1030341         1720  C1581398768                 4              0   \n",
       "1030342         2899  C1721246847                10              0   \n",
       "1030349         1735  C1835087777                 3              0   \n",
       "1030350         1012    C73690456                 4              0   \n",
       "1030465          917   C475877892                 5              0   \n",
       "1030466         3447   C357180483                 4              0   \n",
       "1030507         3267  C1966690861                 4              0   \n",
       "1030508         4818    C61990291                 9              0   \n",
       "1030559         4250   C588547519                 3              0   \n",
       "1030560         3038  C1089455271                 5              0   \n",
       "1030561          606  C1420708952                 6              0   \n",
       "1030562          493  C1231373551                 5              0   \n",
       "1030607          761   C306278286                 9              0   \n",
       "1030608         4000   C802151575                10              0   \n",
       "1030661         2815  C1468356154                 6              0   \n",
       "1030662         4851   C615227407                 3              0   \n",
       "1030687          724   C397396936                 4              0   \n",
       "1030688         1858  C1917849910                 1              0   \n",
       "1030705          724   C579440834                 5              0   \n",
       "1030706         1374   C585705042                 2              1   \n",
       "1030709         4763   C632110164                 4              0   \n",
       "1030710         3869   C557678014                 1              0   \n",
       "1030711         2162   C720836200                 6              0   \n",
       "1030712         1787   C754619416                 1              0   \n",
       "1030715          331   C898480186                 5              0   \n",
       "1030716          174  C2126149202                 7              0   \n",
       "1030731         3132  C1454683123                 6              0   \n",
       "1030732         4754  C2125071302                 9              0   \n",
       "1030755          714   C290559240                 9              0   \n",
       "1030756         2709   C646123724                 8              0   \n",
       "\n",
       "         oldbalancedest  newbalancedest  isfraud  dia  hora  step_order  \\\n",
       "4440             0.0000          0.0000        1    1     4         167   \n",
       "4441             0.0000    9941904.2100        1    1     4         168   \n",
       "84416            0.0000    6691744.8500        0    1    10       11691   \n",
       "481250           0.0000          0.0000        1    1    19       40120   \n",
       "481251      504326.6200   10342417.9000        1    1    19       40121   \n",
       "586311           0.0000          0.0000        1    2     9        9938   \n",
       "586312           0.0000   10000000.0000        1    2     9        9939   \n",
       "586313           0.0000          0.0000        1    2     9        9940   \n",
       "586314      801913.9500   10165200.1100        1    2     9        9941   \n",
       "597895           0.0000          0.0000        1    2     9       21522   \n",
       "597896     2609209.5500    9257599.4500        1    2     9       21523   \n",
       "650133           0.0000          0.0000        1    2    11       19240   \n",
       "650134           0.0000    9465988.8200        1    2    11       19241   \n",
       "759791           0.0000          0.0000        1    2    14       25967   \n",
       "759792      345425.4000    7912595.7500        1    2    14       25968   \n",
       "777626           0.0000          0.0000        1    2    15       12349   \n",
       "777627     2716480.5600   10654434.7600        1    2    15       12350   \n",
       "999453           0.0000          0.0000        1    2    21       15280   \n",
       "999454      702100.1100    8037455.6800        1    2    21       15281   \n",
       "1005088          0.0000          0.0000        1    2    22        2415   \n",
       "1005089          0.0000    9977761.0500        1    2    22        2416   \n",
       "1030277          0.0000          0.0000        1    3     4           1   \n",
       "1030278      62896.2300    7547021.3600        1    3     4           2   \n",
       "1030341          0.0000          0.0000        1    3    10           7   \n",
       "1030342    4439499.5000   10940802.6400        1    3    10           8   \n",
       "1030349          0.0000          0.0000        1    3    10          15   \n",
       "1030350          0.0000    7108914.2200        1    3    10          16   \n",
       "1030465          0.0000          0.0000        1    3    18          11   \n",
       "1030466          0.0000    7169129.9400        1    3    18          12   \n",
       "1030507          0.0000          0.0000        1    3    21           5   \n",
       "1030508     340622.4500    8069615.0000        1    3    21           6   \n",
       "1030559          0.0000          0.0000        1    4     0          11   \n",
       "1030560      81810.4200   10081810.4200        1    4     0          12   \n",
       "1030561          0.0000          0.0000        1    4     0          13   \n",
       "1030562       5844.5100    8599909.6000        1    4     0          14   \n",
       "1030607          0.0000          0.0000        1    4     5           3   \n",
       "1030608     464686.6900    9503933.5100        1    4     5           4   \n",
       "1030661          0.0000          0.0000        1    4    10           7   \n",
       "1030662     373274.8400   10373274.8400        1    4    10           8   \n",
       "1030687          0.0000          0.0000        1    4    12          11   \n",
       "1030688          0.0000   10000000.0000        1    4    12          12   \n",
       "1030705          0.0000          0.0000        1    4    13          13   \n",
       "1030706      59990.3000    8984961.8900        1    4    13          14   \n",
       "1030709          0.0000          0.0000        1    4    14           3   \n",
       "1030710          0.0000   10000000.0000        1    4    14           4   \n",
       "1030711          0.0000          0.0000        1    4    14           5   \n",
       "1030712     141515.5700    9073123.4600        1    4    14           6   \n",
       "1030715          0.0000          0.0000        1    4    14           9   \n",
       "1030716       5680.2800    6977845.2500        1    4    14          10   \n",
       "1030731          0.0000          0.0000        1    4    16           1   \n",
       "1030732    8922060.4300   18267760.5000        1    4    16           2   \n",
       "1030755          0.0000          0.0000        1    4    18          11   \n",
       "1030756     180993.4500    7877829.8000        1    4    18          12   \n",
       "\n",
       "         step_importance  fraud_order  \n",
       "4440              0.0060            1  \n",
       "4441              0.0060            2  \n",
       "84416             0.0001            3  \n",
       "481250            0.0000            8  \n",
       "481251            0.0000            9  \n",
       "586311            0.0001            5  \n",
       "586312            0.0001            6  \n",
       "586313            0.0001            7  \n",
       "586314            0.0001            8  \n",
       "597895            0.0000           11  \n",
       "597896            0.0000           12  \n",
       "650133            0.0001           10  \n",
       "650134            0.0001           11  \n",
       "759791            0.0000           10  \n",
       "759792            0.0000           11  \n",
       "777626            0.0001            7  \n",
       "777627            0.0001            8  \n",
       "999453            0.0001           15  \n",
       "999454            0.0001           16  \n",
       "1005088           0.0004            1  \n",
       "1005089           0.0004            2  \n",
       "1030277           1.0000            1  \n",
       "1030278           0.5000            2  \n",
       "1030341           0.1429            7  \n",
       "1030342           0.1250            8  \n",
       "1030349           0.0667           15  \n",
       "1030350           0.0625           16  \n",
       "1030465           0.0909           11  \n",
       "1030466           0.0833           12  \n",
       "1030507           0.2000            5  \n",
       "1030508           0.1667            6  \n",
       "1030559           0.0909           11  \n",
       "1030560           0.0833           12  \n",
       "1030561           0.0769           13  \n",
       "1030562           0.0714           14  \n",
       "1030607           0.3333            3  \n",
       "1030608           0.2500            4  \n",
       "1030661           0.1429            7  \n",
       "1030662           0.1250            8  \n",
       "1030687           0.0909           11  \n",
       "1030688           0.0833           12  \n",
       "1030705           0.0769           13  \n",
       "1030706           0.0714           14  \n",
       "1030709           0.3333            3  \n",
       "1030710           0.2500            4  \n",
       "1030711           0.2000            5  \n",
       "1030712           0.1667            6  \n",
       "1030715           0.1111            9  \n",
       "1030716           0.1000           10  \n",
       "1030731           1.0000            1  \n",
       "1030732           0.5000            2  \n",
       "1030755           0.0909           11  \n",
       "1030756           0.0833           12  "
      ]
     },
     "execution_count": 54,
     "metadata": {},
     "output_type": "execute_result"
    }
   ],
   "source": [
    "data_raw[data_raw.amount>6419835]"
   ]
  },
  {
   "cell_type": "code",
   "execution_count": null,
   "id": "X6E_pBX9zUBU",
   "metadata": {
    "id": "X6E_pBX9zUBU"
   },
   "outputs": [],
   "source": []
  },
  {
   "cell_type": "markdown",
   "id": "l_mLCdDC7vQ3",
   "metadata": {
    "id": "l_mLCdDC7vQ3"
   },
   "source": [
    "### Genero\n",
    "Dado que exisen muchos datos desconocidos o no disponibles, no pensamso que pueda aportar mucho. Cuando además no encontramos ninguna diferencia entre los porcentajes de operciones fraudulentas que se producen.\n",
    "\n"
   ]
  },
  {
   "cell_type": "code",
   "execution_count": 55,
   "id": "EP7Y9kBx7rjF",
   "metadata": {
    "colab": {
     "base_uri": "https://localhost:8080/",
     "height": 278
    },
    "executionInfo": {
     "elapsed": 27,
     "status": "ok",
     "timestamp": 1669999430798,
     "user": {
      "displayName": "Pablo Soto López",
      "userId": "08112082177697405353"
     },
     "user_tz": -60
    },
    "id": "EP7Y9kBx7rjF",
    "outputId": "71f9ea4d-ce29-4593-d00d-802b5c565548"
   },
   "outputs": [
    {
     "data": {
      "image/png": "[encoded data removed]",
      "text/plain": [
       "<Figure size 1080x270 with 2 Axes>"
      ]
     },
     "metadata": {},
     "output_type": "display_data"
    }
   ],
   "source": [
    "plot_feature(data_raw, 'gender')"
   ]
  },
  {
   "cell_type": "code",
   "execution_count": 56,
   "id": "ClFDjQjuzUIp",
   "metadata": {
    "colab": {
     "base_uri": "https://localhost:8080/",
     "height": 175
    },
    "executionInfo": {
     "elapsed": 26,
     "status": "ok",
     "timestamp": 1669999430799,
     "user": {
      "displayName": "Pablo Soto López",
      "userId": "08112082177697405353"
     },
     "user_tz": -60
    },
    "id": "ClFDjQjuzUIp",
    "outputId": "654c6425-f1af-4dd9-bb79-bf057a8bbaef"
   },
   "outputs": [
    {
     "data": {
      "text/html": [
       "<div>\n",
       "<style scoped>\n",
       "    .dataframe tbody tr th:only-of-type {\n",
       "        vertical-align: middle;\n",
       "    }\n",
       "\n",
       "    .dataframe tbody tr th {\n",
       "        vertical-align: top;\n",
       "    }\n",
       "\n",
       "    .dataframe thead th {\n",
       "        text-align: right;\n",
       "    }\n",
       "</style>\n",
       "<table border=\"1\" class=\"dataframe\">\n",
       "  <thead>\n",
       "    <tr style=\"text-align: right;\">\n",
       "      <th></th>\n",
       "      <th>operaciones</th>\n",
       "      <th>proporcion</th>\n",
       "    </tr>\n",
       "  </thead>\n",
       "  <tbody>\n",
       "    <tr>\n",
       "      <th>woman</th>\n",
       "      <td>366906</td>\n",
       "      <td>34.9909</td>\n",
       "    </tr>\n",
       "    <tr>\n",
       "      <th>unknow</th>\n",
       "      <td>314307</td>\n",
       "      <td>29.9747</td>\n",
       "    </tr>\n",
       "    <tr>\n",
       "      <th>man</th>\n",
       "      <td>262244</td>\n",
       "      <td>25.0096</td>\n",
       "    </tr>\n",
       "    <tr>\n",
       "      <th>no_disp</th>\n",
       "      <td>105118</td>\n",
       "      <td>10.0248</td>\n",
       "    </tr>\n",
       "  </tbody>\n",
       "</table>\n",
       "</div>"
      ],
      "text/plain": [
       "         operaciones  proporcion\n",
       "woman         366906     34.9909\n",
       "unknow        314307     29.9747\n",
       "man           262244     25.0096\n",
       "no_disp       105118     10.0248"
      ]
     },
     "execution_count": 56,
     "metadata": {},
     "output_type": "execute_result"
    }
   ],
   "source": [
    "tabla_value=data_raw.gender.value_counts().to_frame()\n",
    "tabla_value['proporcion']=data_raw.gender.value_counts(normalize=True).to_list()\n",
    "tabla_value['proporcion']=100*tabla_value['proporcion']\n",
    "tabla_value.columns=['operaciones','proporcion']\n",
    "tabla_value"
   ]
  },
  {
   "cell_type": "code",
   "execution_count": 57,
   "id": "CD-w7-ZazUTr",
   "metadata": {
    "colab": {
     "base_uri": "https://localhost:8080/",
     "height": 238
    },
    "executionInfo": {
     "elapsed": 24,
     "status": "ok",
     "timestamp": 1669999430799,
     "user": {
      "displayName": "Pablo Soto López",
      "userId": "08112082177697405353"
     },
     "user_tz": -60
    },
    "id": "CD-w7-ZazUTr",
    "outputId": "7ea73846-d13e-4f4d-8cad-7ab043b93b91"
   },
   "outputs": [
    {
     "data": {
      "text/html": [
       "<div>\n",
       "<style scoped>\n",
       "    .dataframe tbody tr th:only-of-type {\n",
       "        vertical-align: middle;\n",
       "    }\n",
       "\n",
       "    .dataframe tbody tr th {\n",
       "        vertical-align: top;\n",
       "    }\n",
       "\n",
       "    .dataframe thead tr th {\n",
       "        text-align: left;\n",
       "    }\n",
       "\n",
       "    .dataframe thead tr:last-of-type th {\n",
       "        text-align: right;\n",
       "    }\n",
       "</style>\n",
       "<table border=\"1\" class=\"dataframe\">\n",
       "  <thead>\n",
       "    <tr>\n",
       "      <th></th>\n",
       "      <th colspan=\"2\" halign=\"left\">isfraud</th>\n",
       "    </tr>\n",
       "    <tr>\n",
       "      <th></th>\n",
       "      <th>sum</th>\n",
       "      <th>mean</th>\n",
       "    </tr>\n",
       "    <tr>\n",
       "      <th>gender</th>\n",
       "      <th></th>\n",
       "      <th></th>\n",
       "    </tr>\n",
       "  </thead>\n",
       "  <tbody>\n",
       "    <tr>\n",
       "      <th>man</th>\n",
       "      <td>293</td>\n",
       "      <td>0.0011</td>\n",
       "    </tr>\n",
       "    <tr>\n",
       "      <th>no_disp</th>\n",
       "      <td>105</td>\n",
       "      <td>0.0010</td>\n",
       "    </tr>\n",
       "    <tr>\n",
       "      <th>unknow</th>\n",
       "      <td>344</td>\n",
       "      <td>0.0011</td>\n",
       "    </tr>\n",
       "    <tr>\n",
       "      <th>woman</th>\n",
       "      <td>400</td>\n",
       "      <td>0.0011</td>\n",
       "    </tr>\n",
       "  </tbody>\n",
       "</table>\n",
       "</div>"
      ],
      "text/plain": [
       "        isfraud       \n",
       "            sum   mean\n",
       "gender                \n",
       "man         293 0.0011\n",
       "no_disp     105 0.0010\n",
       "unknow      344 0.0011\n",
       "woman       400 0.0011"
      ]
     },
     "execution_count": 57,
     "metadata": {},
     "output_type": "execute_result"
    }
   ],
   "source": [
    "data_raw[['gender','isfraud']].groupby('gender').agg([sum,'mean'])"
   ]
  },
  {
   "cell_type": "markdown",
   "id": "EZcBg5Ff9CIv",
   "metadata": {
    "id": "EZcBg5Ff9CIv"
   },
   "source": [
    "### Device\n",
    "Obtenemos la información de que mas todos se usan en la misma contidad y no se aprecia diferencia en tipo de dispositivo en el fraude, tenemos valores missing, pero esta variable no aporta parece aportar demasiada información. "
   ]
  },
  {
   "cell_type": "code",
   "execution_count": 58,
   "id": "_J1AuYb8zUXJ",
   "metadata": {
    "colab": {
     "base_uri": "https://localhost:8080/",
     "height": 278
    },
    "executionInfo": {
     "elapsed": 569,
     "status": "ok",
     "timestamp": 1669999431346,
     "user": {
      "displayName": "Pablo Soto López",
      "userId": "08112082177697405353"
     },
     "user_tz": -60
    },
    "id": "_J1AuYb8zUXJ",
    "outputId": "f9d62ea1-a316-42c5-820b-14dac1381d2c"
   },
   "outputs": [
    {
     "data": {
      "image/png": "[encoded data removed]",
      "text/plain": [
       "<Figure size 1080x270 with 2 Axes>"
      ]
     },
     "metadata": {},
     "output_type": "display_data"
    }
   ],
   "source": [
    "plot_feature(data_raw, 'device')"
   ]
  },
  {
   "cell_type": "code",
   "execution_count": 59,
   "id": "pPCMMIWqzUar",
   "metadata": {
    "colab": {
     "base_uri": "https://localhost:8080/",
     "height": 175
    },
    "executionInfo": {
     "elapsed": 23,
     "status": "ok",
     "timestamp": 1669999431347,
     "user": {
      "displayName": "Pablo Soto López",
      "userId": "08112082177697405353"
     },
     "user_tz": -60
    },
    "id": "pPCMMIWqzUar",
    "outputId": "c0eb7ad3-a433-4940-db4d-e2b3cbaad72a"
   },
   "outputs": [
    {
     "data": {
      "text/html": [
       "<div>\n",
       "<style scoped>\n",
       "    .dataframe tbody tr th:only-of-type {\n",
       "        vertical-align: middle;\n",
       "    }\n",
       "\n",
       "    .dataframe tbody tr th {\n",
       "        vertical-align: top;\n",
       "    }\n",
       "\n",
       "    .dataframe thead th {\n",
       "        text-align: right;\n",
       "    }\n",
       "</style>\n",
       "<table border=\"1\" class=\"dataframe\">\n",
       "  <thead>\n",
       "    <tr style=\"text-align: right;\">\n",
       "      <th></th>\n",
       "      <th>operaciones</th>\n",
       "      <th>proporcion</th>\n",
       "    </tr>\n",
       "  </thead>\n",
       "  <tbody>\n",
       "    <tr>\n",
       "      <th>mac</th>\n",
       "      <td>367066</td>\n",
       "      <td>35.0062</td>\n",
       "    </tr>\n",
       "    <tr>\n",
       "      <th>pc</th>\n",
       "      <td>314867</td>\n",
       "      <td>30.0281</td>\n",
       "    </tr>\n",
       "    <tr>\n",
       "      <th>iphone</th>\n",
       "      <td>262062</td>\n",
       "      <td>24.9922</td>\n",
       "    </tr>\n",
       "    <tr>\n",
       "      <th>no_disp</th>\n",
       "      <td>104580</td>\n",
       "      <td>9.9735</td>\n",
       "    </tr>\n",
       "  </tbody>\n",
       "</table>\n",
       "</div>"
      ],
      "text/plain": [
       "         operaciones  proporcion\n",
       "mac           367066     35.0062\n",
       "pc            314867     30.0281\n",
       "iphone        262062     24.9922\n",
       "no_disp       104580      9.9735"
      ]
     },
     "execution_count": 59,
     "metadata": {},
     "output_type": "execute_result"
    }
   ],
   "source": [
    "tabla_value=data_raw.device.value_counts().to_frame()\n",
    "tabla_value['proporcion']=data_raw.device.value_counts(normalize=True).to_list()\n",
    "tabla_value['proporcion']=100*tabla_value['proporcion']\n",
    "tabla_value.columns=['operaciones','proporcion']\n",
    "tabla_value"
   ]
  },
  {
   "cell_type": "code",
   "execution_count": 60,
   "id": "Zjm6x8Yi9WBQ",
   "metadata": {
    "colab": {
     "base_uri": "https://localhost:8080/",
     "height": 238
    },
    "executionInfo": {
     "elapsed": 22,
     "status": "ok",
     "timestamp": 1669999431347,
     "user": {
      "displayName": "Pablo Soto López",
      "userId": "08112082177697405353"
     },
     "user_tz": -60
    },
    "id": "Zjm6x8Yi9WBQ",
    "outputId": "8c78e44d-25b7-4be9-d03e-eccab3ba018f"
   },
   "outputs": [
    {
     "data": {
      "text/html": [
       "<div>\n",
       "<style scoped>\n",
       "    .dataframe tbody tr th:only-of-type {\n",
       "        vertical-align: middle;\n",
       "    }\n",
       "\n",
       "    .dataframe tbody tr th {\n",
       "        vertical-align: top;\n",
       "    }\n",
       "\n",
       "    .dataframe thead tr th {\n",
       "        text-align: left;\n",
       "    }\n",
       "\n",
       "    .dataframe thead tr:last-of-type th {\n",
       "        text-align: right;\n",
       "    }\n",
       "</style>\n",
       "<table border=\"1\" class=\"dataframe\">\n",
       "  <thead>\n",
       "    <tr>\n",
       "      <th></th>\n",
       "      <th colspan=\"2\" halign=\"left\">isfraud</th>\n",
       "    </tr>\n",
       "    <tr>\n",
       "      <th></th>\n",
       "      <th>sum</th>\n",
       "      <th>mean</th>\n",
       "    </tr>\n",
       "    <tr>\n",
       "      <th>device</th>\n",
       "      <th></th>\n",
       "      <th></th>\n",
       "    </tr>\n",
       "  </thead>\n",
       "  <tbody>\n",
       "    <tr>\n",
       "      <th>iphone</th>\n",
       "      <td>295</td>\n",
       "      <td>0.0011</td>\n",
       "    </tr>\n",
       "    <tr>\n",
       "      <th>mac</th>\n",
       "      <td>389</td>\n",
       "      <td>0.0011</td>\n",
       "    </tr>\n",
       "    <tr>\n",
       "      <th>no_disp</th>\n",
       "      <td>119</td>\n",
       "      <td>0.0011</td>\n",
       "    </tr>\n",
       "    <tr>\n",
       "      <th>pc</th>\n",
       "      <td>339</td>\n",
       "      <td>0.0011</td>\n",
       "    </tr>\n",
       "  </tbody>\n",
       "</table>\n",
       "</div>"
      ],
      "text/plain": [
       "        isfraud       \n",
       "            sum   mean\n",
       "device                \n",
       "iphone      295 0.0011\n",
       "mac         389 0.0011\n",
       "no_disp     119 0.0011\n",
       "pc          339 0.0011"
      ]
     },
     "execution_count": 60,
     "metadata": {},
     "output_type": "execute_result"
    }
   ],
   "source": [
    "data_raw[['device','isfraud']].groupby('device').agg([sum,'mean'])"
   ]
  },
  {
   "cell_type": "markdown",
   "id": "tMjsXnFt-cse",
   "metadata": {
    "id": "tMjsXnFt-cse"
   },
   "source": [
    "### Conexion_time.\n",
    "Solo a la vista del box-plot se puede afirmar que no va a ayudar a predecir la posibilidad de fraude.\n"
   ]
  },
  {
   "cell_type": "code",
   "execution_count": 61,
   "id": "Ix7gN8ZC-dH4",
   "metadata": {
    "colab": {
     "base_uri": "https://localhost:8080/",
     "height": 81
    },
    "executionInfo": {
     "elapsed": 22,
     "status": "ok",
     "timestamp": 1669999431348,
     "user": {
      "displayName": "Pablo Soto López",
      "userId": "08112082177697405353"
     },
     "user_tz": -60
    },
    "id": "Ix7gN8ZC-dH4",
    "outputId": "c66dfe65-bf8d-46e9-99f3-4278157771a8"
   },
   "outputs": [
    {
     "data": {
      "text/html": [
       "<div>\n",
       "<style scoped>\n",
       "    .dataframe tbody tr th:only-of-type {\n",
       "        vertical-align: middle;\n",
       "    }\n",
       "\n",
       "    .dataframe tbody tr th {\n",
       "        vertical-align: top;\n",
       "    }\n",
       "\n",
       "    .dataframe thead th {\n",
       "        text-align: right;\n",
       "    }\n",
       "</style>\n",
       "<table border=\"1\" class=\"dataframe\">\n",
       "  <thead>\n",
       "    <tr style=\"text-align: right;\">\n",
       "      <th></th>\n",
       "      <th>count</th>\n",
       "      <th>mean</th>\n",
       "      <th>std</th>\n",
       "      <th>min</th>\n",
       "      <th>25%</th>\n",
       "      <th>50%</th>\n",
       "      <th>75%</th>\n",
       "      <th>max</th>\n",
       "    </tr>\n",
       "  </thead>\n",
       "  <tbody>\n",
       "    <tr>\n",
       "      <th>connection_time</th>\n",
       "      <td>1048575.0000</td>\n",
       "      <td>0.5001</td>\n",
       "      <td>0.2885</td>\n",
       "      <td>0.0000</td>\n",
       "      <td>0.2501</td>\n",
       "      <td>0.5004</td>\n",
       "      <td>0.7497</td>\n",
       "      <td>1.0000</td>\n",
       "    </tr>\n",
       "  </tbody>\n",
       "</table>\n",
       "</div>"
      ],
      "text/plain": [
       "                       count   mean    std    min    25%    50%    75%    max\n",
       "connection_time 1048575.0000 0.5001 0.2885 0.0000 0.2501 0.5004 0.7497 1.0000"
      ]
     },
     "execution_count": 61,
     "metadata": {},
     "output_type": "execute_result"
    }
   ],
   "source": [
    "data_raw.connection_time.describe().to_frame().T"
   ]
  },
  {
   "cell_type": "code",
   "execution_count": 62,
   "id": "FV0MBCwh-dL5",
   "metadata": {
    "colab": {
     "base_uri": "https://localhost:8080/",
     "height": 623
    },
    "executionInfo": {
     "elapsed": 21,
     "status": "ok",
     "timestamp": 1669999431348,
     "user": {
      "displayName": "Pablo Soto López",
      "userId": "08112082177697405353"
     },
     "user_tz": -60
    },
    "id": "FV0MBCwh-dL5",
    "outputId": "53e474e1-ed58-4095-8bac-f5a45bdf9c36"
   },
   "outputs": [
    {
     "data": {
      "text/plain": [
       "<AxesSubplot:xlabel='connection_time', ylabel='type'>"
      ]
     },
     "execution_count": 62,
     "metadata": {},
     "output_type": "execute_result"
    },
    {
     "data": {
      "image/png": "[encoded data removed]",
      "text/plain": [
       "<Figure size 1000x1000 with 1 Axes>"
      ]
     },
     "metadata": {},
     "output_type": "display_data"
    }
   ],
   "source": [
    "fig, ax = pyplot.subplots(figsize=(10,10))\n",
    "sns.boxplot(y = 'type', x = 'connection_time', hue='isfraud',data = data_raw)"
   ]
  },
  {
   "cell_type": "markdown",
   "id": "WStCYHyP91JZ",
   "metadata": {
    "id": "WStCYHyP91JZ"
   },
   "source": [
    "### Race\n",
    "\n",
    "Obtenemos la información de que mas asiaticos realizan transacciones, todas las razas tienen unos valores semejantes en cometimiento de fraude .La raza no parece ser un factor clave a la hora de la realización del estudio."
   ]
  },
  {
   "cell_type": "code",
   "execution_count": 63,
   "id": "r4wAJ1an9eYR",
   "metadata": {
    "colab": {
     "base_uri": "https://localhost:8080/",
     "height": 278
    },
    "executionInfo": {
     "elapsed": 16,
     "status": "ok",
     "timestamp": 1669999432058,
     "user": {
      "displayName": "Pablo Soto López",
      "userId": "08112082177697405353"
     },
     "user_tz": -60
    },
    "id": "r4wAJ1an9eYR",
    "outputId": "2ddb1ee6-36ae-4ffe-ec4b-f92a6279b6ab"
   },
   "outputs": [
    {
     "data": {
      "image/png": "[encoded data removed]",
      "text/plain": [
       "<Figure size 1080x270 with 2 Axes>"
      ]
     },
     "metadata": {},
     "output_type": "display_data"
    }
   ],
   "source": [
    "plot_feature(data_raw, 'race')"
   ]
  },
  {
   "cell_type": "code",
   "execution_count": 64,
   "id": "GZQsDnX99WGy",
   "metadata": {
    "colab": {
     "base_uri": "https://localhost:8080/",
     "height": 175
    },
    "executionInfo": {
     "elapsed": 14,
     "status": "ok",
     "timestamp": 1669999432059,
     "user": {
      "displayName": "Pablo Soto López",
      "userId": "08112082177697405353"
     },
     "user_tz": -60
    },
    "id": "GZQsDnX99WGy",
    "outputId": "a5de4c04-3408-4033-fbaa-f72613c75ae6"
   },
   "outputs": [
    {
     "data": {
      "text/html": [
       "<div>\n",
       "<style scoped>\n",
       "    .dataframe tbody tr th:only-of-type {\n",
       "        vertical-align: middle;\n",
       "    }\n",
       "\n",
       "    .dataframe tbody tr th {\n",
       "        vertical-align: top;\n",
       "    }\n",
       "\n",
       "    .dataframe thead th {\n",
       "        text-align: right;\n",
       "    }\n",
       "</style>\n",
       "<table border=\"1\" class=\"dataframe\">\n",
       "  <thead>\n",
       "    <tr style=\"text-align: right;\">\n",
       "      <th></th>\n",
       "      <th>operaciones</th>\n",
       "      <th>proporcion</th>\n",
       "    </tr>\n",
       "  </thead>\n",
       "  <tbody>\n",
       "    <tr>\n",
       "      <th>asian</th>\n",
       "      <td>366338</td>\n",
       "      <td>34.9367</td>\n",
       "    </tr>\n",
       "    <tr>\n",
       "      <th>black</th>\n",
       "      <td>314755</td>\n",
       "      <td>30.0174</td>\n",
       "    </tr>\n",
       "    <tr>\n",
       "      <th>latin</th>\n",
       "      <td>262319</td>\n",
       "      <td>25.0167</td>\n",
       "    </tr>\n",
       "    <tr>\n",
       "      <th>no_disp</th>\n",
       "      <td>105163</td>\n",
       "      <td>10.0291</td>\n",
       "    </tr>\n",
       "  </tbody>\n",
       "</table>\n",
       "</div>"
      ],
      "text/plain": [
       "         operaciones  proporcion\n",
       "asian         366338     34.9367\n",
       "black         314755     30.0174\n",
       "latin         262319     25.0167\n",
       "no_disp       105163     10.0291"
      ]
     },
     "execution_count": 64,
     "metadata": {},
     "output_type": "execute_result"
    }
   ],
   "source": [
    "tabla_value=data_raw.race.value_counts().to_frame()\n",
    "tabla_value['proporcion']=data_raw.race.value_counts(normalize=True).to_list()\n",
    "tabla_value['proporcion']=100*tabla_value['proporcion']\n",
    "tabla_value.columns=['operaciones','proporcion']\n",
    "tabla_value"
   ]
  },
  {
   "cell_type": "code",
   "execution_count": 65,
   "id": "8Ac0l1bv9WOp",
   "metadata": {
    "colab": {
     "base_uri": "https://localhost:8080/",
     "height": 238
    },
    "executionInfo": {
     "elapsed": 14,
     "status": "ok",
     "timestamp": 1669999432060,
     "user": {
      "displayName": "Pablo Soto López",
      "userId": "08112082177697405353"
     },
     "user_tz": -60
    },
    "id": "8Ac0l1bv9WOp",
    "outputId": "d397ebe4-75e5-4fc4-d319-1da1b68608f6"
   },
   "outputs": [
    {
     "data": {
      "text/html": [
       "<div>\n",
       "<style scoped>\n",
       "    .dataframe tbody tr th:only-of-type {\n",
       "        vertical-align: middle;\n",
       "    }\n",
       "\n",
       "    .dataframe tbody tr th {\n",
       "        vertical-align: top;\n",
       "    }\n",
       "\n",
       "    .dataframe thead tr th {\n",
       "        text-align: left;\n",
       "    }\n",
       "\n",
       "    .dataframe thead tr:last-of-type th {\n",
       "        text-align: right;\n",
       "    }\n",
       "</style>\n",
       "<table border=\"1\" class=\"dataframe\">\n",
       "  <thead>\n",
       "    <tr>\n",
       "      <th></th>\n",
       "      <th colspan=\"2\" halign=\"left\">isfraud</th>\n",
       "    </tr>\n",
       "    <tr>\n",
       "      <th></th>\n",
       "      <th>sum</th>\n",
       "      <th>mean</th>\n",
       "    </tr>\n",
       "    <tr>\n",
       "      <th>race</th>\n",
       "      <th></th>\n",
       "      <th></th>\n",
       "    </tr>\n",
       "  </thead>\n",
       "  <tbody>\n",
       "    <tr>\n",
       "      <th>asian</th>\n",
       "      <td>383</td>\n",
       "      <td>0.0010</td>\n",
       "    </tr>\n",
       "    <tr>\n",
       "      <th>black</th>\n",
       "      <td>349</td>\n",
       "      <td>0.0011</td>\n",
       "    </tr>\n",
       "    <tr>\n",
       "      <th>latin</th>\n",
       "      <td>288</td>\n",
       "      <td>0.0011</td>\n",
       "    </tr>\n",
       "    <tr>\n",
       "      <th>no_disp</th>\n",
       "      <td>122</td>\n",
       "      <td>0.0012</td>\n",
       "    </tr>\n",
       "  </tbody>\n",
       "</table>\n",
       "</div>"
      ],
      "text/plain": [
       "        isfraud       \n",
       "            sum   mean\n",
       "race                  \n",
       "asian       383 0.0010\n",
       "black       349 0.0011\n",
       "latin       288 0.0011\n",
       "no_disp     122 0.0012"
      ]
     },
     "execution_count": 65,
     "metadata": {},
     "output_type": "execute_result"
    }
   ],
   "source": [
    "data_raw[['race','isfraud']].groupby('race').agg([sum,'mean'])"
   ]
  },
  {
   "cell_type": "markdown",
   "id": "kQ7wsRraA39k",
   "metadata": {
    "id": "kQ7wsRraA39k"
   },
   "source": [
    "### Zona\n",
    "\n",
    "Caracteristica que no parece tener ningana utilidad para entender el fraude."
   ]
  },
  {
   "cell_type": "code",
   "execution_count": 66,
   "id": "vCmjNeNd-dPW",
   "metadata": {
    "colab": {
     "base_uri": "https://localhost:8080/",
     "height": 278
    },
    "executionInfo": {
     "elapsed": 1667,
     "status": "ok",
     "timestamp": 1669999433715,
     "user": {
      "displayName": "Pablo Soto López",
      "userId": "08112082177697405353"
     },
     "user_tz": -60
    },
    "id": "vCmjNeNd-dPW",
    "outputId": "fbf73675-f5bf-40ee-c09b-246e0d6858c8"
   },
   "outputs": [
    {
     "data": {
      "image/png": "[encoded data removed]",
      "text/plain": [
       "<Figure size 1080x270 with 2 Axes>"
      ]
     },
     "metadata": {},
     "output_type": "display_data"
    }
   ],
   "source": [
    "plot_feature(data_raw, 'zone')"
   ]
  },
  {
   "cell_type": "code",
   "execution_count": 67,
   "id": "0yL2qND2-dSt",
   "metadata": {
    "colab": {
     "base_uri": "https://localhost:8080/",
     "height": 175
    },
    "executionInfo": {
     "elapsed": 31,
     "status": "ok",
     "timestamp": 1669999433715,
     "user": {
      "displayName": "Pablo Soto López",
      "userId": "08112082177697405353"
     },
     "user_tz": -60
    },
    "id": "0yL2qND2-dSt",
    "outputId": "b2fc5723-09b6-4079-d3fd-5d3cb2002137"
   },
   "outputs": [
    {
     "data": {
      "text/html": [
       "<div>\n",
       "<style scoped>\n",
       "    .dataframe tbody tr th:only-of-type {\n",
       "        vertical-align: middle;\n",
       "    }\n",
       "\n",
       "    .dataframe tbody tr th {\n",
       "        vertical-align: top;\n",
       "    }\n",
       "\n",
       "    .dataframe thead th {\n",
       "        text-align: right;\n",
       "    }\n",
       "</style>\n",
       "<table border=\"1\" class=\"dataframe\">\n",
       "  <thead>\n",
       "    <tr style=\"text-align: right;\">\n",
       "      <th></th>\n",
       "      <th>operaciones</th>\n",
       "      <th>proporcion</th>\n",
       "    </tr>\n",
       "  </thead>\n",
       "  <tbody>\n",
       "    <tr>\n",
       "      <th>country</th>\n",
       "      <td>368004</td>\n",
       "      <td>35.0956</td>\n",
       "    </tr>\n",
       "    <tr>\n",
       "      <th>africa</th>\n",
       "      <td>314026</td>\n",
       "      <td>29.9479</td>\n",
       "    </tr>\n",
       "    <tr>\n",
       "      <th>capital</th>\n",
       "      <td>262131</td>\n",
       "      <td>24.9988</td>\n",
       "    </tr>\n",
       "    <tr>\n",
       "      <th>no_disp</th>\n",
       "      <td>104414</td>\n",
       "      <td>9.9577</td>\n",
       "    </tr>\n",
       "  </tbody>\n",
       "</table>\n",
       "</div>"
      ],
      "text/plain": [
       "         operaciones  proporcion\n",
       "country       368004     35.0956\n",
       "africa        314026     29.9479\n",
       "capital       262131     24.9988\n",
       "no_disp       104414      9.9577"
      ]
     },
     "execution_count": 67,
     "metadata": {},
     "output_type": "execute_result"
    }
   ],
   "source": [
    "tabla_value=data_raw.zone.value_counts().to_frame()\n",
    "tabla_value['proporcion']=data_raw.zone.value_counts(normalize=True).to_list()\n",
    "tabla_value['proporcion']=100*tabla_value['proporcion']\n",
    "tabla_value.columns=['operaciones','proporcion']\n",
    "tabla_value"
   ]
  },
  {
   "cell_type": "code",
   "execution_count": 68,
   "id": "G32bEB9kBLKx",
   "metadata": {
    "colab": {
     "base_uri": "https://localhost:8080/",
     "height": 238
    },
    "executionInfo": {
     "elapsed": 31,
     "status": "ok",
     "timestamp": 1669999433716,
     "user": {
      "displayName": "Pablo Soto López",
      "userId": "08112082177697405353"
     },
     "user_tz": -60
    },
    "id": "G32bEB9kBLKx",
    "outputId": "e257d303-a95b-4136-a481-948bf13786c0"
   },
   "outputs": [
    {
     "data": {
      "text/html": [
       "<div>\n",
       "<style scoped>\n",
       "    .dataframe tbody tr th:only-of-type {\n",
       "        vertical-align: middle;\n",
       "    }\n",
       "\n",
       "    .dataframe tbody tr th {\n",
       "        vertical-align: top;\n",
       "    }\n",
       "\n",
       "    .dataframe thead tr th {\n",
       "        text-align: left;\n",
       "    }\n",
       "\n",
       "    .dataframe thead tr:last-of-type th {\n",
       "        text-align: right;\n",
       "    }\n",
       "</style>\n",
       "<table border=\"1\" class=\"dataframe\">\n",
       "  <thead>\n",
       "    <tr>\n",
       "      <th></th>\n",
       "      <th colspan=\"2\" halign=\"left\">isfraud</th>\n",
       "    </tr>\n",
       "    <tr>\n",
       "      <th></th>\n",
       "      <th>sum</th>\n",
       "      <th>mean</th>\n",
       "    </tr>\n",
       "    <tr>\n",
       "      <th>zone</th>\n",
       "      <th></th>\n",
       "      <th></th>\n",
       "    </tr>\n",
       "  </thead>\n",
       "  <tbody>\n",
       "    <tr>\n",
       "      <th>africa</th>\n",
       "      <td>356</td>\n",
       "      <td>0.0011</td>\n",
       "    </tr>\n",
       "    <tr>\n",
       "      <th>capital</th>\n",
       "      <td>286</td>\n",
       "      <td>0.0011</td>\n",
       "    </tr>\n",
       "    <tr>\n",
       "      <th>country</th>\n",
       "      <td>387</td>\n",
       "      <td>0.0011</td>\n",
       "    </tr>\n",
       "    <tr>\n",
       "      <th>no_disp</th>\n",
       "      <td>113</td>\n",
       "      <td>0.0011</td>\n",
       "    </tr>\n",
       "  </tbody>\n",
       "</table>\n",
       "</div>"
      ],
      "text/plain": [
       "        isfraud       \n",
       "            sum   mean\n",
       "zone                  \n",
       "africa      356 0.0011\n",
       "capital     286 0.0011\n",
       "country     387 0.0011\n",
       "no_disp     113 0.0011"
      ]
     },
     "execution_count": 68,
     "metadata": {},
     "output_type": "execute_result"
    }
   ],
   "source": [
    "data_raw[['zone','isfraud']].groupby('zone').agg([sum,'mean'])"
   ]
  },
  {
   "cell_type": "markdown",
   "id": "IAW6GvskBh6d",
   "metadata": {
    "id": "IAW6GvskBh6d"
   },
   "source": [
    "### User number.\n",
    "\n",
    "Parece otra columna fake, sigue los mismos patrones en los box-plot de columans que no parecen aportar nada para explicar el fraude."
   ]
  },
  {
   "cell_type": "code",
   "execution_count": 69,
   "id": "saFaKJbVBf7n",
   "metadata": {
    "colab": {
     "base_uri": "https://localhost:8080/",
     "height": 81
    },
    "executionInfo": {
     "elapsed": 31,
     "status": "ok",
     "timestamp": 1669999433717,
     "user": {
      "displayName": "Pablo Soto López",
      "userId": "08112082177697405353"
     },
     "user_tz": -60
    },
    "id": "saFaKJbVBf7n",
    "outputId": "1cd988b5-6abb-4e40-c480-edd20a79698a"
   },
   "outputs": [
    {
     "data": {
      "text/html": [
       "<div>\n",
       "<style scoped>\n",
       "    .dataframe tbody tr th:only-of-type {\n",
       "        vertical-align: middle;\n",
       "    }\n",
       "\n",
       "    .dataframe tbody tr th {\n",
       "        vertical-align: top;\n",
       "    }\n",
       "\n",
       "    .dataframe thead th {\n",
       "        text-align: right;\n",
       "    }\n",
       "</style>\n",
       "<table border=\"1\" class=\"dataframe\">\n",
       "  <thead>\n",
       "    <tr style=\"text-align: right;\">\n",
       "      <th></th>\n",
       "      <th>count</th>\n",
       "      <th>mean</th>\n",
       "      <th>std</th>\n",
       "      <th>min</th>\n",
       "      <th>25%</th>\n",
       "      <th>50%</th>\n",
       "      <th>75%</th>\n",
       "      <th>max</th>\n",
       "    </tr>\n",
       "  </thead>\n",
       "  <tbody>\n",
       "    <tr>\n",
       "      <th>user_number</th>\n",
       "      <td>1048575.0000</td>\n",
       "      <td>2530.4398</td>\n",
       "      <td>1426.4177</td>\n",
       "      <td>59.0000</td>\n",
       "      <td>1295.0000</td>\n",
       "      <td>2532.0000</td>\n",
       "      <td>3765.0000</td>\n",
       "      <td>5000.0000</td>\n",
       "    </tr>\n",
       "  </tbody>\n",
       "</table>\n",
       "</div>"
      ],
      "text/plain": [
       "                   count      mean       std     min       25%       50%  \\\n",
       "user_number 1048575.0000 2530.4398 1426.4177 59.0000 1295.0000 2532.0000   \n",
       "\n",
       "                  75%       max  \n",
       "user_number 3765.0000 5000.0000  "
      ]
     },
     "execution_count": 69,
     "metadata": {},
     "output_type": "execute_result"
    }
   ],
   "source": [
    "data_raw.user_number.describe().to_frame().T"
   ]
  },
  {
   "cell_type": "code",
   "execution_count": 70,
   "id": "PhJHR0YuBgAq",
   "metadata": {
    "colab": {
     "base_uri": "https://localhost:8080/",
     "height": 623
    },
    "executionInfo": {
     "elapsed": 30,
     "status": "ok",
     "timestamp": 1669999433717,
     "user": {
      "displayName": "Pablo Soto López",
      "userId": "08112082177697405353"
     },
     "user_tz": -60
    },
    "id": "PhJHR0YuBgAq",
    "outputId": "5cbd14ce-999a-4eba-c41f-b96e295be410"
   },
   "outputs": [
    {
     "data": {
      "text/plain": [
       "<AxesSubplot:xlabel='user_number', ylabel='type'>"
      ]
     },
     "execution_count": 70,
     "metadata": {},
     "output_type": "execute_result"
    },
    {
     "data": {
      "image/png": "[encoded data removed]",
      "text/plain": [
       "<Figure size 1000x1000 with 1 Axes>"
      ]
     },
     "metadata": {},
     "output_type": "display_data"
    }
   ],
   "source": [
    "from matplotlib import pyplot\n",
    "fig, ax = pyplot.subplots(figsize=(10,10))\n",
    "sns.boxplot(y = 'type', x = 'user_number', hue='isfraud',data = data_raw)"
   ]
  },
  {
   "cell_type": "markdown",
   "id": "I3QxYfHbFlcW",
   "metadata": {
    "id": "I3QxYfHbFlcW"
   },
   "source": [
    "### Security_alert\n",
    "\n",
    "Aunque parecía un campo prometedor, parece que no va a ser de gran utilidad, solo coincide con operacioens de fraude en 117 ocasiones. Por lo que no le prestmamos mucha mas atención."
   ]
  },
  {
   "cell_type": "code",
   "execution_count": 71,
   "id": "MvUtLHQKFbOz",
   "metadata": {
    "colab": {
     "base_uri": "https://localhost:8080/",
     "height": 278
    },
    "executionInfo": {
     "elapsed": 24,
     "status": "ok",
     "timestamp": 1669999433718,
     "user": {
      "displayName": "Pablo Soto López",
      "userId": "08112082177697405353"
     },
     "user_tz": -60
    },
    "id": "MvUtLHQKFbOz",
    "outputId": "82751b21-0d76-4585-eee9-500e4ceed552"
   },
   "outputs": [
    {
     "data": {
      "image/png": "[encoded data removed]",
      "text/plain": [
       "<Figure size 1080x270 with 2 Axes>"
      ]
     },
     "metadata": {},
     "output_type": "display_data"
    }
   ],
   "source": [
    "plot_feature(data_raw,'security_alert')"
   ]
  },
  {
   "cell_type": "code",
   "execution_count": 72,
   "id": "8Sj3v9BTFbSO",
   "metadata": {
    "colab": {
     "base_uri": "https://localhost:8080/",
     "height": 112
    },
    "executionInfo": {
     "elapsed": 549,
     "status": "ok",
     "timestamp": 1669999434244,
     "user": {
      "displayName": "Pablo Soto López",
      "userId": "08112082177697405353"
     },
     "user_tz": -60
    },
    "id": "8Sj3v9BTFbSO",
    "outputId": "e142841c-3403-49a8-a774-93b9775d32c3"
   },
   "outputs": [
    {
     "data": {
      "text/html": [
       "<div>\n",
       "<style scoped>\n",
       "    .dataframe tbody tr th:only-of-type {\n",
       "        vertical-align: middle;\n",
       "    }\n",
       "\n",
       "    .dataframe tbody tr th {\n",
       "        vertical-align: top;\n",
       "    }\n",
       "\n",
       "    .dataframe thead th {\n",
       "        text-align: right;\n",
       "    }\n",
       "</style>\n",
       "<table border=\"1\" class=\"dataframe\">\n",
       "  <thead>\n",
       "    <tr style=\"text-align: right;\">\n",
       "      <th></th>\n",
       "      <th>operaciones</th>\n",
       "      <th>proporcion</th>\n",
       "    </tr>\n",
       "  </thead>\n",
       "  <tbody>\n",
       "    <tr>\n",
       "      <th>0</th>\n",
       "      <td>943670</td>\n",
       "      <td>89.9955</td>\n",
       "    </tr>\n",
       "    <tr>\n",
       "      <th>1</th>\n",
       "      <td>104905</td>\n",
       "      <td>10.0045</td>\n",
       "    </tr>\n",
       "  </tbody>\n",
       "</table>\n",
       "</div>"
      ],
      "text/plain": [
       "   operaciones  proporcion\n",
       "0       943670     89.9955\n",
       "1       104905     10.0045"
      ]
     },
     "execution_count": 72,
     "metadata": {},
     "output_type": "execute_result"
    }
   ],
   "source": [
    "tabla_value=data_raw.security_alert.value_counts().to_frame()\n",
    "tabla_value['proporcion']=data_raw.security_alert.value_counts(normalize=True).to_list()\n",
    "tabla_value['proporcion']=100*tabla_value['proporcion']\n",
    "tabla_value.columns=['operaciones','proporcion']\n",
    "tabla_value"
   ]
  },
  {
   "cell_type": "code",
   "execution_count": 73,
   "id": "pOdsz8-FFbVk",
   "metadata": {
    "colab": {
     "base_uri": "https://localhost:8080/",
     "height": 175
    },
    "executionInfo": {
     "elapsed": 11,
     "status": "ok",
     "timestamp": 1669999434244,
     "user": {
      "displayName": "Pablo Soto López",
      "userId": "08112082177697405353"
     },
     "user_tz": -60
    },
    "id": "pOdsz8-FFbVk",
    "outputId": "5a4323b1-26c0-44f1-d10d-30199fa6c5ea"
   },
   "outputs": [
    {
     "data": {
      "text/html": [
       "<div>\n",
       "<style scoped>\n",
       "    .dataframe tbody tr th:only-of-type {\n",
       "        vertical-align: middle;\n",
       "    }\n",
       "\n",
       "    .dataframe tbody tr th {\n",
       "        vertical-align: top;\n",
       "    }\n",
       "\n",
       "    .dataframe thead tr th {\n",
       "        text-align: left;\n",
       "    }\n",
       "\n",
       "    .dataframe thead tr:last-of-type th {\n",
       "        text-align: right;\n",
       "    }\n",
       "</style>\n",
       "<table border=\"1\" class=\"dataframe\">\n",
       "  <thead>\n",
       "    <tr>\n",
       "      <th></th>\n",
       "      <th colspan=\"2\" halign=\"left\">isfraud</th>\n",
       "    </tr>\n",
       "    <tr>\n",
       "      <th></th>\n",
       "      <th>sum</th>\n",
       "      <th>mean</th>\n",
       "    </tr>\n",
       "    <tr>\n",
       "      <th>security_alert</th>\n",
       "      <th></th>\n",
       "      <th></th>\n",
       "    </tr>\n",
       "  </thead>\n",
       "  <tbody>\n",
       "    <tr>\n",
       "      <th>0</th>\n",
       "      <td>1025</td>\n",
       "      <td>0.0011</td>\n",
       "    </tr>\n",
       "    <tr>\n",
       "      <th>1</th>\n",
       "      <td>117</td>\n",
       "      <td>0.0011</td>\n",
       "    </tr>\n",
       "  </tbody>\n",
       "</table>\n",
       "</div>"
      ],
      "text/plain": [
       "               isfraud       \n",
       "                   sum   mean\n",
       "security_alert               \n",
       "0                 1025 0.0011\n",
       "1                  117 0.0011"
      ]
     },
     "execution_count": 73,
     "metadata": {},
     "output_type": "execute_result"
    }
   ],
   "source": [
    "data_raw[['security_alert','isfraud']].groupby('security_alert').agg([sum,'mean'])"
   ]
  },
  {
   "cell_type": "markdown",
   "id": "r2nzpLp-vwQe",
   "metadata": {
    "id": "r2nzpLp-vwQe"
   },
   "source": [
    "### Age"
   ]
  },
  {
   "cell_type": "code",
   "execution_count": 74,
   "id": "B1QatgOjwmNk",
   "metadata": {
    "colab": {
     "base_uri": "https://localhost:8080/"
    },
    "executionInfo": {
     "elapsed": 1703,
     "status": "ok",
     "timestamp": 1669999435937,
     "user": {
      "displayName": "Pablo Soto López",
      "userId": "08112082177697405353"
     },
     "user_tz": -60
    },
    "id": "B1QatgOjwmNk",
    "outputId": "eeb8a0e0-9eb5-42ba-a592-c1f5c14c420a"
   },
   "outputs": [
    {
     "data": {
      "image/png": "[encoded data removed]",
      "text/plain": [
       "<Figure size 1080x270 with 2 Axes>"
      ]
     },
     "metadata": {},
     "output_type": "display_data"
    }
   ],
   "source": [
    "plot_feature(data_raw, 'age')"
   ]
  },
  {
   "cell_type": "code",
   "execution_count": 75,
   "id": "lE6gdCHNvMZ0",
   "metadata": {
    "colab": {
     "base_uri": "https://localhost:8080/"
    },
    "executionInfo": {
     "elapsed": 32,
     "status": "ok",
     "timestamp": 1669999435938,
     "user": {
      "displayName": "Pablo Soto López",
      "userId": "08112082177697405353"
     },
     "user_tz": -60
    },
    "id": "lE6gdCHNvMZ0",
    "outputId": "9415a103-b384-43a4-fd4a-b5bab5864538"
   },
   "outputs": [
    {
     "data": {
      "text/html": [
       "<div>\n",
       "<style scoped>\n",
       "    .dataframe tbody tr th:only-of-type {\n",
       "        vertical-align: middle;\n",
       "    }\n",
       "\n",
       "    .dataframe tbody tr th {\n",
       "        vertical-align: top;\n",
       "    }\n",
       "\n",
       "    .dataframe thead th {\n",
       "        text-align: right;\n",
       "    }\n",
       "</style>\n",
       "<table border=\"1\" class=\"dataframe\">\n",
       "  <thead>\n",
       "    <tr style=\"text-align: right;\">\n",
       "      <th></th>\n",
       "      <th>count</th>\n",
       "      <th>mean</th>\n",
       "      <th>std</th>\n",
       "      <th>min</th>\n",
       "      <th>25%</th>\n",
       "      <th>50%</th>\n",
       "      <th>75%</th>\n",
       "      <th>max</th>\n",
       "    </tr>\n",
       "  </thead>\n",
       "  <tbody>\n",
       "    <tr>\n",
       "      <th>age</th>\n",
       "      <td>1048575.0000</td>\n",
       "      <td>52.4567</td>\n",
       "      <td>27.7264</td>\n",
       "      <td>5.0000</td>\n",
       "      <td>28.0000</td>\n",
       "      <td>52.0000</td>\n",
       "      <td>76.0000</td>\n",
       "      <td>100.0000</td>\n",
       "    </tr>\n",
       "  </tbody>\n",
       "</table>\n",
       "</div>"
      ],
      "text/plain": [
       "           count    mean     std    min     25%     50%     75%      max\n",
       "age 1048575.0000 52.4567 27.7264 5.0000 28.0000 52.0000 76.0000 100.0000"
      ]
     },
     "execution_count": 75,
     "metadata": {},
     "output_type": "execute_result"
    }
   ],
   "source": [
    "data_raw.age.describe().to_frame().T"
   ]
  },
  {
   "cell_type": "code",
   "execution_count": 76,
   "id": "_RaJVPxQvQ8z",
   "metadata": {
    "colab": {
     "base_uri": "https://localhost:8080/"
    },
    "executionInfo": {
     "elapsed": 28,
     "status": "ok",
     "timestamp": 1669999435938,
     "user": {
      "displayName": "Pablo Soto López",
      "userId": "08112082177697405353"
     },
     "user_tz": -60
    },
    "id": "_RaJVPxQvQ8z",
    "outputId": "8ee7aca2-31ea-484f-8c98-dcd45edca2b7"
   },
   "outputs": [
    {
     "data": {
      "text/plain": [
       "<AxesSubplot:xlabel='age', ylabel='type'>"
      ]
     },
     "execution_count": 76,
     "metadata": {},
     "output_type": "execute_result"
    },
    {
     "data": {
      "image/png": "[encoded data removed]",
      "text/plain": [
       "<Figure size 1000x1000 with 1 Axes>"
      ]
     },
     "metadata": {},
     "output_type": "display_data"
    }
   ],
   "source": [
    "fig, ax = pyplot.subplots(figsize=(10,10))\n",
    "sns.boxplot(y = 'type', x = 'age', hue='isfraud',data = data_raw)"
   ]
  },
  {
   "cell_type": "markdown",
   "id": "8NtDe82hzNKZ",
   "metadata": {
    "id": "8NtDe82hzNKZ"
   },
   "source": [
    "### User_connections\n",
    " "
   ]
  },
  {
   "cell_type": "code",
   "execution_count": 77,
   "id": "Oz4W8B8zzb-5",
   "metadata": {
    "colab": {
     "base_uri": "https://localhost:8080/"
    },
    "executionInfo": {
     "elapsed": 740,
     "status": "ok",
     "timestamp": 1669999437227,
     "user": {
      "displayName": "Pablo Soto López",
      "userId": "08112082177697405353"
     },
     "user_tz": -60
    },
    "id": "Oz4W8B8zzb-5",
    "outputId": "ad4cb372-833a-4d9a-df6e-d9757f942d48"
   },
   "outputs": [
    {
     "data": {
      "image/png": "[encoded data removed]",
      "text/plain": [
       "<Figure size 1080x270 with 2 Axes>"
      ]
     },
     "metadata": {},
     "output_type": "display_data"
    }
   ],
   "source": [
    "plot_feature(data_raw, 'user_connections')"
   ]
  },
  {
   "cell_type": "code",
   "execution_count": 78,
   "id": "1YNE2shEvtA3",
   "metadata": {
    "colab": {
     "base_uri": "https://localhost:8080/"
    },
    "executionInfo": {
     "elapsed": 14,
     "status": "ok",
     "timestamp": 1669999437227,
     "user": {
      "displayName": "Pablo Soto López",
      "userId": "08112082177697405353"
     },
     "user_tz": -60
    },
    "id": "1YNE2shEvtA3",
    "outputId": "2421c2f1-77a9-4f54-d682-61142c9807ee"
   },
   "outputs": [
    {
     "data": {
      "text/html": [
       "<div>\n",
       "<style scoped>\n",
       "    .dataframe tbody tr th:only-of-type {\n",
       "        vertical-align: middle;\n",
       "    }\n",
       "\n",
       "    .dataframe tbody tr th {\n",
       "        vertical-align: top;\n",
       "    }\n",
       "\n",
       "    .dataframe thead th {\n",
       "        text-align: right;\n",
       "    }\n",
       "</style>\n",
       "<table border=\"1\" class=\"dataframe\">\n",
       "  <thead>\n",
       "    <tr style=\"text-align: right;\">\n",
       "      <th></th>\n",
       "      <th>operaciones</th>\n",
       "      <th>proporcion</th>\n",
       "    </tr>\n",
       "  </thead>\n",
       "  <tbody>\n",
       "    <tr>\n",
       "      <th>10</th>\n",
       "      <td>105209</td>\n",
       "      <td>10.0335</td>\n",
       "    </tr>\n",
       "    <tr>\n",
       "      <th>9</th>\n",
       "      <td>105159</td>\n",
       "      <td>10.0288</td>\n",
       "    </tr>\n",
       "    <tr>\n",
       "      <th>3</th>\n",
       "      <td>105021</td>\n",
       "      <td>10.0156</td>\n",
       "    </tr>\n",
       "    <tr>\n",
       "      <th>2</th>\n",
       "      <td>104916</td>\n",
       "      <td>10.0056</td>\n",
       "    </tr>\n",
       "    <tr>\n",
       "      <th>7</th>\n",
       "      <td>104914</td>\n",
       "      <td>10.0054</td>\n",
       "    </tr>\n",
       "    <tr>\n",
       "      <th>6</th>\n",
       "      <td>104873</td>\n",
       "      <td>10.0015</td>\n",
       "    </tr>\n",
       "    <tr>\n",
       "      <th>4</th>\n",
       "      <td>104864</td>\n",
       "      <td>10.0006</td>\n",
       "    </tr>\n",
       "    <tr>\n",
       "      <th>5</th>\n",
       "      <td>104770</td>\n",
       "      <td>9.9917</td>\n",
       "    </tr>\n",
       "    <tr>\n",
       "      <th>8</th>\n",
       "      <td>104527</td>\n",
       "      <td>9.9685</td>\n",
       "    </tr>\n",
       "    <tr>\n",
       "      <th>1</th>\n",
       "      <td>104322</td>\n",
       "      <td>9.9489</td>\n",
       "    </tr>\n",
       "  </tbody>\n",
       "</table>\n",
       "</div>"
      ],
      "text/plain": [
       "    operaciones  proporcion\n",
       "10       105209     10.0335\n",
       "9        105159     10.0288\n",
       "3        105021     10.0156\n",
       "2        104916     10.0056\n",
       "7        104914     10.0054\n",
       "6        104873     10.0015\n",
       "4        104864     10.0006\n",
       "5        104770      9.9917\n",
       "8        104527      9.9685\n",
       "1        104322      9.9489"
      ]
     },
     "execution_count": 78,
     "metadata": {},
     "output_type": "execute_result"
    }
   ],
   "source": [
    "tabla_value=data_raw.user_connections.value_counts().to_frame()\n",
    "tabla_value['proporcion']=data_raw.user_connections.value_counts(normalize=True).to_list()\n",
    "tabla_value['proporcion']=100*tabla_value['proporcion']\n",
    "tabla_value.columns=['operaciones','proporcion']\n",
    "\n",
    "\n",
    "tabla_value"
   ]
  },
  {
   "cell_type": "code",
   "execution_count": 79,
   "id": "I8bkwfCnvtN3",
   "metadata": {
    "colab": {
     "base_uri": "https://localhost:8080/"
    },
    "executionInfo": {
     "elapsed": 13,
     "status": "ok",
     "timestamp": 1669999437228,
     "user": {
      "displayName": "Pablo Soto López",
      "userId": "08112082177697405353"
     },
     "user_tz": -60
    },
    "id": "I8bkwfCnvtN3",
    "outputId": "800a31f1-d0de-418c-a9c4-ba65a57c8a3b"
   },
   "outputs": [
    {
     "data": {
      "text/html": [
       "<div>\n",
       "<style scoped>\n",
       "    .dataframe tbody tr th:only-of-type {\n",
       "        vertical-align: middle;\n",
       "    }\n",
       "\n",
       "    .dataframe tbody tr th {\n",
       "        vertical-align: top;\n",
       "    }\n",
       "\n",
       "    .dataframe thead tr th {\n",
       "        text-align: left;\n",
       "    }\n",
       "\n",
       "    .dataframe thead tr:last-of-type th {\n",
       "        text-align: right;\n",
       "    }\n",
       "</style>\n",
       "<table border=\"1\" class=\"dataframe\">\n",
       "  <thead>\n",
       "    <tr>\n",
       "      <th></th>\n",
       "      <th colspan=\"2\" halign=\"left\">isfraud</th>\n",
       "    </tr>\n",
       "    <tr>\n",
       "      <th></th>\n",
       "      <th>sum</th>\n",
       "      <th>mean</th>\n",
       "    </tr>\n",
       "    <tr>\n",
       "      <th>user_connections</th>\n",
       "      <th></th>\n",
       "      <th></th>\n",
       "    </tr>\n",
       "  </thead>\n",
       "  <tbody>\n",
       "    <tr>\n",
       "      <th>1</th>\n",
       "      <td>109</td>\n",
       "      <td>0.0010</td>\n",
       "    </tr>\n",
       "    <tr>\n",
       "      <th>2</th>\n",
       "      <td>114</td>\n",
       "      <td>0.0011</td>\n",
       "    </tr>\n",
       "    <tr>\n",
       "      <th>3</th>\n",
       "      <td>120</td>\n",
       "      <td>0.0011</td>\n",
       "    </tr>\n",
       "    <tr>\n",
       "      <th>4</th>\n",
       "      <td>105</td>\n",
       "      <td>0.0010</td>\n",
       "    </tr>\n",
       "    <tr>\n",
       "      <th>5</th>\n",
       "      <td>127</td>\n",
       "      <td>0.0012</td>\n",
       "    </tr>\n",
       "    <tr>\n",
       "      <th>6</th>\n",
       "      <td>107</td>\n",
       "      <td>0.0010</td>\n",
       "    </tr>\n",
       "    <tr>\n",
       "      <th>7</th>\n",
       "      <td>92</td>\n",
       "      <td>0.0009</td>\n",
       "    </tr>\n",
       "    <tr>\n",
       "      <th>8</th>\n",
       "      <td>114</td>\n",
       "      <td>0.0011</td>\n",
       "    </tr>\n",
       "    <tr>\n",
       "      <th>9</th>\n",
       "      <td>129</td>\n",
       "      <td>0.0012</td>\n",
       "    </tr>\n",
       "    <tr>\n",
       "      <th>10</th>\n",
       "      <td>125</td>\n",
       "      <td>0.0012</td>\n",
       "    </tr>\n",
       "  </tbody>\n",
       "</table>\n",
       "</div>"
      ],
      "text/plain": [
       "                 isfraud       \n",
       "                     sum   mean\n",
       "user_connections               \n",
       "1                    109 0.0010\n",
       "2                    114 0.0011\n",
       "3                    120 0.0011\n",
       "4                    105 0.0010\n",
       "5                    127 0.0012\n",
       "6                    107 0.0010\n",
       "7                     92 0.0009\n",
       "8                    114 0.0011\n",
       "9                    129 0.0012\n",
       "10                   125 0.0012"
      ]
     },
     "execution_count": 79,
     "metadata": {},
     "output_type": "execute_result"
    }
   ],
   "source": [
    "data_raw[['user_connections','isfraud']].groupby('user_connections').agg([sum,'mean'])"
   ]
  },
  {
   "cell_type": "markdown",
   "id": "fA_Bnz-ECw8x",
   "metadata": {
    "id": "fA_Bnz-ECw8x"
   },
   "source": [
    "### Nameorig, Namedest.\n",
    "De la estructura de los datos inferimos que los nombres que comienzan con C son consumidores y lso que empiezan por M son comerciantes. Los comerciantes son destino de los pyaments que se realizan en tiendas. Decidimos construir un nuevo campo que refleje si son transacciones entre consumidores o consumidor negocio.\n",
    "Se producen mas operacioens entre particulares, y lso comerciantes no están implicados en ningun caso de fraude, ya que sol oreciben payments, donde no hay fraude."
   ]
  },
  {
   "cell_type": "code",
   "execution_count": 80,
   "id": "Zoh2UVLlBgD2",
   "metadata": {
    "colab": {
     "base_uri": "https://localhost:8080/",
     "height": 112
    },
    "executionInfo": {
     "elapsed": 11,
     "status": "ok",
     "timestamp": 1669999437228,
     "user": {
      "displayName": "Pablo Soto López",
      "userId": "08112082177697405353"
     },
     "user_tz": -60
    },
    "id": "Zoh2UVLlBgD2",
    "outputId": "356b0b76-0251-4e8b-faf5-bf2ad645f4f2"
   },
   "outputs": [
    {
     "data": {
      "text/html": [
       "<div>\n",
       "<style scoped>\n",
       "    .dataframe tbody tr th:only-of-type {\n",
       "        vertical-align: middle;\n",
       "    }\n",
       "\n",
       "    .dataframe tbody tr th {\n",
       "        vertical-align: top;\n",
       "    }\n",
       "\n",
       "    .dataframe thead th {\n",
       "        text-align: right;\n",
       "    }\n",
       "</style>\n",
       "<table border=\"1\" class=\"dataframe\">\n",
       "  <thead>\n",
       "    <tr style=\"text-align: right;\">\n",
       "      <th></th>\n",
       "      <th>nombre</th>\n",
       "      <th>dtype</th>\n",
       "      <th>tipologia</th>\n",
       "      <th>valores_unicos</th>\n",
       "      <th>5_mas_frecuentes</th>\n",
       "      <th>5_max_ocururrencias</th>\n",
       "    </tr>\n",
       "  </thead>\n",
       "  <tbody>\n",
       "    <tr>\n",
       "      <th>6</th>\n",
       "      <td>nameorig</td>\n",
       "      <td>object</td>\n",
       "      <td>cardinal</td>\n",
       "      <td>1048317</td>\n",
       "      <td>[C1214450722, C309111136, C1268675361, C720460...</td>\n",
       "      <td>[2, 2, 2, 2, 2]</td>\n",
       "    </tr>\n",
       "    <tr>\n",
       "      <th>13</th>\n",
       "      <td>namedest</td>\n",
       "      <td>object</td>\n",
       "      <td>cardinal</td>\n",
       "      <td>449635</td>\n",
       "      <td>[C985934102, C1286084959, C1590550415, C248609...</td>\n",
       "      <td>[98, 96, 89, 88, 87]</td>\n",
       "    </tr>\n",
       "  </tbody>\n",
       "</table>\n",
       "</div>"
      ],
      "text/plain": [
       "      nombre   dtype tipologia  valores_unicos  \\\n",
       "6   nameorig  object  cardinal         1048317   \n",
       "13  namedest  object  cardinal          449635   \n",
       "\n",
       "                                     5_mas_frecuentes   5_max_ocururrencias  \n",
       "6   [C1214450722, C309111136, C1268675361, C720460...       [2, 2, 2, 2, 2]  \n",
       "13  [C985934102, C1286084959, C1590550415, C248609...  [98, 96, 89, 88, 87]  "
      ]
     },
     "execution_count": 80,
     "metadata": {},
     "output_type": "execute_result"
    }
   ],
   "source": [
    "metadata[metadata.nombre.isin(['nameorig','namedest'])]"
   ]
  },
  {
   "cell_type": "code",
   "execution_count": 81,
   "id": "jRhCaRqxBgHd",
   "metadata": {
    "id": "jRhCaRqxBgHd"
   },
   "outputs": [],
   "source": [
    "tipo_origen=data_raw.nameorig.apply(lambda x: \"\".join([y[0] for y in (x.split())]))\n",
    "tipo_destino=data_raw.namedest.apply(lambda x: \"\".join([y[0] for y in (x.split())]))\n",
    "data_raw['segmento']=tipo_origen+tipo_destino"
   ]
  },
  {
   "cell_type": "code",
   "execution_count": 82,
   "id": "IAi3b-EUBgLL",
   "metadata": {
    "colab": {
     "base_uri": "https://localhost:8080/",
     "height": 278
    },
    "executionInfo": {
     "elapsed": 2317,
     "status": "ok",
     "timestamp": 1669999440922,
     "user": {
      "displayName": "Pablo Soto López",
      "userId": "08112082177697405353"
     },
     "user_tz": -60
    },
    "id": "IAi3b-EUBgLL",
    "outputId": "5b0af6e4-de53-4eaf-b86d-15b120c2822c"
   },
   "outputs": [
    {
     "data": {
      "image/png": "[encoded data removed]",
      "text/plain": [
       "<Figure size 1080x270 with 2 Axes>"
      ]
     },
     "metadata": {},
     "output_type": "display_data"
    }
   ],
   "source": [
    "plot_feature(data_raw,'segmento')"
   ]
  },
  {
   "cell_type": "code",
   "execution_count": 83,
   "id": "0jaKd_T5BgOI",
   "metadata": {
    "colab": {
     "base_uri": "https://localhost:8080/",
     "height": 112
    },
    "executionInfo": {
     "elapsed": 43,
     "status": "ok",
     "timestamp": 1669999440923,
     "user": {
      "displayName": "Pablo Soto López",
      "userId": "08112082177697405353"
     },
     "user_tz": -60
    },
    "id": "0jaKd_T5BgOI",
    "outputId": "3f34e65a-d757-40ee-bf94-43bda6b1656e"
   },
   "outputs": [
    {
     "data": {
      "text/html": [
       "<div>\n",
       "<style scoped>\n",
       "    .dataframe tbody tr th:only-of-type {\n",
       "        vertical-align: middle;\n",
       "    }\n",
       "\n",
       "    .dataframe tbody tr th {\n",
       "        vertical-align: top;\n",
       "    }\n",
       "\n",
       "    .dataframe thead th {\n",
       "        text-align: right;\n",
       "    }\n",
       "</style>\n",
       "<table border=\"1\" class=\"dataframe\">\n",
       "  <thead>\n",
       "    <tr style=\"text-align: right;\">\n",
       "      <th></th>\n",
       "      <th>operaciones</th>\n",
       "      <th>proporcion</th>\n",
       "    </tr>\n",
       "  </thead>\n",
       "  <tbody>\n",
       "    <tr>\n",
       "      <th>CC</th>\n",
       "      <td>694702</td>\n",
       "      <td>66.2520</td>\n",
       "    </tr>\n",
       "    <tr>\n",
       "      <th>CM</th>\n",
       "      <td>353873</td>\n",
       "      <td>33.7480</td>\n",
       "    </tr>\n",
       "  </tbody>\n",
       "</table>\n",
       "</div>"
      ],
      "text/plain": [
       "    operaciones  proporcion\n",
       "CC       694702     66.2520\n",
       "CM       353873     33.7480"
      ]
     },
     "execution_count": 83,
     "metadata": {},
     "output_type": "execute_result"
    }
   ],
   "source": [
    "tabla_value=data_raw.segmento.value_counts().to_frame()\n",
    "tabla_value['proporcion']=data_raw.segmento.value_counts(normalize=True).to_list()\n",
    "tabla_value['proporcion']=100*tabla_value['proporcion']\n",
    "tabla_value.columns=['operaciones','proporcion']\n",
    "tabla_value"
   ]
  },
  {
   "cell_type": "code",
   "execution_count": 84,
   "id": "PjDNOWNjBgT3",
   "metadata": {
    "colab": {
     "base_uri": "https://localhost:8080/",
     "height": 175
    },
    "executionInfo": {
     "elapsed": 41,
     "status": "ok",
     "timestamp": 1669999440923,
     "user": {
      "displayName": "Pablo Soto López",
      "userId": "08112082177697405353"
     },
     "user_tz": -60
    },
    "id": "PjDNOWNjBgT3",
    "outputId": "248aed01-5bfb-4b49-9c8c-acd7322d0490"
   },
   "outputs": [
    {
     "data": {
      "text/html": [
       "<div>\n",
       "<style scoped>\n",
       "    .dataframe tbody tr th:only-of-type {\n",
       "        vertical-align: middle;\n",
       "    }\n",
       "\n",
       "    .dataframe tbody tr th {\n",
       "        vertical-align: top;\n",
       "    }\n",
       "\n",
       "    .dataframe thead tr th {\n",
       "        text-align: left;\n",
       "    }\n",
       "\n",
       "    .dataframe thead tr:last-of-type th {\n",
       "        text-align: right;\n",
       "    }\n",
       "</style>\n",
       "<table border=\"1\" class=\"dataframe\">\n",
       "  <thead>\n",
       "    <tr>\n",
       "      <th></th>\n",
       "      <th colspan=\"2\" halign=\"left\">isfraud</th>\n",
       "    </tr>\n",
       "    <tr>\n",
       "      <th></th>\n",
       "      <th>sum</th>\n",
       "      <th>mean</th>\n",
       "    </tr>\n",
       "    <tr>\n",
       "      <th>segmento</th>\n",
       "      <th></th>\n",
       "      <th></th>\n",
       "    </tr>\n",
       "  </thead>\n",
       "  <tbody>\n",
       "    <tr>\n",
       "      <th>CC</th>\n",
       "      <td>1142</td>\n",
       "      <td>0.0016</td>\n",
       "    </tr>\n",
       "    <tr>\n",
       "      <th>CM</th>\n",
       "      <td>0</td>\n",
       "      <td>0.0000</td>\n",
       "    </tr>\n",
       "  </tbody>\n",
       "</table>\n",
       "</div>"
      ],
      "text/plain": [
       "         isfraud       \n",
       "             sum   mean\n",
       "segmento               \n",
       "CC          1142 0.0016\n",
       "CM             0 0.0000"
      ]
     },
     "execution_count": 84,
     "metadata": {},
     "output_type": "execute_result"
    }
   ],
   "source": [
    "data_raw[['segmento','isfraud']].groupby('segmento').agg([sum,'mean'])"
   ]
  },
  {
   "cell_type": "markdown",
   "id": "B8jDJx8iRjp1",
   "metadata": {
    "id": "B8jDJx8iRjp1"
   },
   "source": [
    "\n",
    "Existen 1.048.317 clientes emisores para 1.048.317 operaciones. Los clientes realizan poco mas de una operación en estos  4 días. Los receptores son 449.635, dos veces menos que emisores. Solo existen 44 cuentas que emitan y reciban operaciones.\n",
    "\n"
   ]
  },
  {
   "cell_type": "code",
   "execution_count": 85,
   "id": "cbad6f39-469a-410d-a970-45c00fc7e878",
   "metadata": {
    "id": "cbad6f39-469a-410d-a970-45c00fc7e878"
   },
   "outputs": [],
   "source": [
    "emisores=data_raw['nameorig'].unique()"
   ]
  },
  {
   "cell_type": "code",
   "execution_count": 86,
   "id": "CkzL8mE2ZoZK",
   "metadata": {
    "colab": {
     "base_uri": "https://localhost:8080/"
    },
    "executionInfo": {
     "elapsed": 41,
     "status": "ok",
     "timestamp": 1669999440924,
     "user": {
      "displayName": "Pablo Soto López",
      "userId": "08112082177697405353"
     },
     "user_tz": -60
    },
    "id": "CkzL8mE2ZoZK",
    "outputId": "884c14d3-27c3-4ffc-f974-63c557b92ed9"
   },
   "outputs": [
    {
     "data": {
      "text/plain": [
       "(1048575, 25)"
      ]
     },
     "execution_count": 86,
     "metadata": {},
     "output_type": "execute_result"
    }
   ],
   "source": [
    "data_raw.shape"
   ]
  },
  {
   "cell_type": "code",
   "execution_count": 87,
   "id": "74205494-e2a6-4fd8-89fc-40a82374e6bd",
   "metadata": {
    "colab": {
     "base_uri": "https://localhost:8080/"
    },
    "executionInfo": {
     "elapsed": 36,
     "status": "ok",
     "timestamp": 1669999440925,
     "user": {
      "displayName": "Pablo Soto López",
      "userId": "08112082177697405353"
     },
     "user_tz": -60
    },
    "id": "74205494-e2a6-4fd8-89fc-40a82374e6bd",
    "outputId": "4d03c0fe-d01d-4d29-a13e-77a9484f729c"
   },
   "outputs": [
    {
     "data": {
      "text/plain": [
       "1048317"
      ]
     },
     "execution_count": 87,
     "metadata": {},
     "output_type": "execute_result"
    }
   ],
   "source": [
    "len(emisores)"
   ]
  },
  {
   "cell_type": "code",
   "execution_count": 88,
   "id": "35b2cd8b-a046-4de9-a447-227fc4b3a625",
   "metadata": {
    "id": "35b2cd8b-a046-4de9-a447-227fc4b3a625"
   },
   "outputs": [],
   "source": [
    "receptores=data_raw['namedest'].unique()"
   ]
  },
  {
   "cell_type": "code",
   "execution_count": 89,
   "id": "7fcd7db7-2bbb-48bf-8aa7-56f64b19ef14",
   "metadata": {
    "colab": {
     "base_uri": "https://localhost:8080/"
    },
    "executionInfo": {
     "elapsed": 3,
     "status": "ok",
     "timestamp": 1669999463184,
     "user": {
      "displayName": "Pablo Soto López",
      "userId": "08112082177697405353"
     },
     "user_tz": -60
    },
    "id": "7fcd7db7-2bbb-48bf-8aa7-56f64b19ef14",
    "outputId": "324acfe0-3e72-4fb4-8eac-9310a02da646"
   },
   "outputs": [
    {
     "data": {
      "text/plain": [
       "449635"
      ]
     },
     "execution_count": 89,
     "metadata": {},
     "output_type": "execute_result"
    }
   ],
   "source": [
    "len(receptores)"
   ]
  },
  {
   "cell_type": "code",
   "execution_count": 90,
   "id": "da80b498-f423-4b6b-9500-d46137834703",
   "metadata": {
    "id": "da80b498-f423-4b6b-9500-d46137834703"
   },
   "outputs": [],
   "source": [
    "recep_emisor=np.intersect1d(emisores,receptores )"
   ]
  },
  {
   "cell_type": "code",
   "execution_count": 91,
   "id": "xFfmWlRIaeSo",
   "metadata": {
    "colab": {
     "base_uri": "https://localhost:8080/"
    },
    "executionInfo": {
     "elapsed": 17,
     "status": "ok",
     "timestamp": 1669999488415,
     "user": {
      "displayName": "Pablo Soto López",
      "userId": "08112082177697405353"
     },
     "user_tz": -60
    },
    "id": "xFfmWlRIaeSo",
    "outputId": "d90d83ef-d617-4218-a2d6-4377f83591a0"
   },
   "outputs": [
    {
     "data": {
      "text/plain": [
       "44"
      ]
     },
     "execution_count": 91,
     "metadata": {},
     "output_type": "execute_result"
    }
   ],
   "source": [
    "len(recep_emisor)"
   ]
  },
  {
   "cell_type": "code",
   "execution_count": 92,
   "id": "b27a58e3-784f-4479-b94b-3c7a10ae40a6",
   "metadata": {
    "id": "b27a58e3-784f-4479-b94b-3c7a10ae40a6"
   },
   "outputs": [],
   "source": [
    "solo_emisor= np.setdiff1d(emisores,recep_emisor , assume_unique=True)"
   ]
  },
  {
   "cell_type": "code",
   "execution_count": 93,
   "id": "93211f36-2d1f-4ce3-b206-a739cd802b43",
   "metadata": {
    "colab": {
     "base_uri": "https://localhost:8080/"
    },
    "executionInfo": {
     "elapsed": 23,
     "status": "ok",
     "timestamp": 1669999488878,
     "user": {
      "displayName": "Pablo Soto López",
      "userId": "08112082177697405353"
     },
     "user_tz": -60
    },
    "id": "93211f36-2d1f-4ce3-b206-a739cd802b43",
    "outputId": "ade0b9af-3d6f-427c-82f0-22c35120eb7f"
   },
   "outputs": [
    {
     "data": {
      "text/plain": [
       "1048273"
      ]
     },
     "execution_count": 93,
     "metadata": {},
     "output_type": "execute_result"
    }
   ],
   "source": [
    "len(solo_emisor)"
   ]
  },
  {
   "cell_type": "code",
   "execution_count": 94,
   "id": "c7d8434e-b0b2-497f-99ca-0c0b0d17ef76",
   "metadata": {
    "id": "c7d8434e-b0b2-497f-99ca-0c0b0d17ef76"
   },
   "outputs": [],
   "source": [
    "solo_receptor= np.setdiff1d(receptores,recep_emisor , assume_unique=True)"
   ]
  },
  {
   "cell_type": "code",
   "execution_count": 95,
   "id": "92cbed01-4ffc-488e-aca8-7aa3d4b5d1a6",
   "metadata": {
    "colab": {
     "base_uri": "https://localhost:8080/"
    },
    "executionInfo": {
     "elapsed": 15,
     "status": "ok",
     "timestamp": 1669999488879,
     "user": {
      "displayName": "Pablo Soto López",
      "userId": "08112082177697405353"
     },
     "user_tz": -60
    },
    "id": "92cbed01-4ffc-488e-aca8-7aa3d4b5d1a6",
    "outputId": "1ea3d0f3-1560-468f-a6e2-a20c9c1d95ab"
   },
   "outputs": [
    {
     "data": {
      "text/plain": [
       "1497908"
      ]
     },
     "execution_count": 95,
     "metadata": {},
     "output_type": "execute_result"
    }
   ],
   "source": [
    "len(solo_receptor)+len(solo_emisor)+len(recep_emisor)"
   ]
  },
  {
   "cell_type": "code",
   "execution_count": 96,
   "id": "0d155d52-8421-42ec-9d0e-3402c79364b2",
   "metadata": {
    "id": "0d155d52-8421-42ec-9d0e-3402c79364b2"
   },
   "outputs": [],
   "source": [
    "clientes=pd.DataFrame(data_raw.namedest.append(data_raw.nameorig, \n",
    "                  ignore_index = True),columns=['clientes']).drop_duplicates()"
   ]
  },
  {
   "cell_type": "code",
   "execution_count": 97,
   "id": "ee449fed-8aa7-4a97-996c-3d4fe9e9b2e7",
   "metadata": {
    "colab": {
     "base_uri": "https://localhost:8080/"
    },
    "executionInfo": {
     "elapsed": 7,
     "status": "ok",
     "timestamp": 1669999491208,
     "user": {
      "displayName": "Pablo Soto López",
      "userId": "08112082177697405353"
     },
     "user_tz": -60
    },
    "id": "ee449fed-8aa7-4a97-996c-3d4fe9e9b2e7",
    "outputId": "afcf89d1-ce59-4581-cde5-b26aef6740e3"
   },
   "outputs": [
    {
     "data": {
      "text/plain": [
       "0    1047433\n",
       "1       1142\n",
       "Name: isfraud, dtype: int64"
      ]
     },
     "execution_count": 97,
     "metadata": {},
     "output_type": "execute_result"
    }
   ],
   "source": [
    "data_raw[data_raw.nameorig.isin(emisores)]['isfraud'].value_counts()"
   ]
  },
  {
   "cell_type": "code",
   "execution_count": 98,
   "id": "1bbd18b6-3569-4f8b-a719-00f2ae3d3b23",
   "metadata": {
    "colab": {
     "base_uri": "https://localhost:8080/"
    },
    "executionInfo": {
     "elapsed": 28,
     "status": "ok",
     "timestamp": 1669999491873,
     "user": {
      "displayName": "Pablo Soto López",
      "userId": "08112082177697405353"
     },
     "user_tz": -60
    },
    "id": "1bbd18b6-3569-4f8b-a719-00f2ae3d3b23",
    "outputId": "af0c581d-4108-4275-e9da-fa2644f8ad99"
   },
   "outputs": [
    {
     "data": {
      "text/plain": [
       "0    1047433\n",
       "1       1142\n",
       "Name: isfraud, dtype: int64"
      ]
     },
     "execution_count": 98,
     "metadata": {},
     "output_type": "execute_result"
    }
   ],
   "source": [
    "data_raw[data_raw.namedest.isin(receptores)]['isfraud'].value_counts()"
   ]
  },
  {
   "cell_type": "markdown",
   "id": "_TOJ7IYtG4tK",
   "metadata": {
    "id": "_TOJ7IYtG4tK"
   },
   "source": [
    "### Oldbalanceorg, newbalanceorig.\n",
    "\n",
    "Saldos incciales y finales después de hacer la transacción.\n",
    "No es casualidad que oldbalanceorg esté en mayusculas, ya que con un tratamiento muy simple se convierte en la llave de construcción de una REGLA DEFINITIVA PARA DISCRIMINAR LOS FRAUDES, lo explicaremos.\n",
    "\n",
    "Por otro lado, parece que nuestros datos ocultan NaNs encubiertos, dependiendo de sí es una operación de ingreso o retirada OLDBALANCEORG +- AMOUNT, debería ser igual a NEWBALANCORIG, pues no ocurre en todos los casos. Hay cuentas descuadradas, intuimos que pueden ser dos casos:\n",
    "1) Que se permita dejar las cuentas origen en descubierto.\n",
    "2) Que hay operaciones que quedaron bloqueadas y no se realizaron.\n",
    "Ocurrirá lo mismo en las cuentas destino.\n",
    "Decidimos generar un campo con esa diferencia."
   ]
  },
  {
   "cell_type": "markdown",
   "id": "jPgpxOQB4Cj5",
   "metadata": {
    "id": "jPgpxOQB4Cj5"
   },
   "source": [
    "### Patones de fraude:\n",
    "\n",
    "El fraude tiene un patrón absolutamente predominante, se realiza una transferencia por el total del saldo de la cuenta origen, o parece que el limite de transferencias en cuentas con saldos muy altos, y la siguente operación es un cash_out completo de la cuenta destino de la transferencia.\n",
    "\n",
    "**EN OPERACIONES DE TRANSFER Y CASH_OUT, CUANDO LA OPERACIÓN IMPLICA TODO EL OLDBALANCEORG, ES FRAUDE.**\n",
    "\n",
    "Solo los defraudarores realizan vaciados totales de los saldos de las cuentas.\n",
    "\n",
    "La empresa podría bloquear temporalmente las transferencias que dejan a cero la cuenta origen. No se produce ningun falso positivo. Y sí se intenta inmediatamente un cash_out de todo el saldo destino, no hacerlo y marcar las dos transacciones como fraude.\n",
    "COn este metodo estamos bordeando el lekeage, tendríamos que esperar a ver si se produce el cash-out.\n",
    "\n",
    "A nosotros nos permite construir una caracterisitica que detectará el 98 % de lso c\n",
    "\n",
    "\n",
    "\n",
    "\n",
    "TRANSFERENCIA:\n",
    "Cuando origina una transferencia de limite permitido y existen saldos en origen para hacerla, con destino a una cuenta que no tiene saldo\n",
    "\n",
    "\n",
    "CASH-OUT de todo el origen el oldorigin, neworigin==0, y vaciado de toda la cuenta de destino, destnew==0.\n",
    "No caemso en lekage. Sí se produce un cash-out donde se vacia la totalidad del saldo de la cuenta orgien y la cuenta destino no tiene saldo despues de la operación, marcala como fraude.\n"
   ]
  },
  {
   "cell_type": "code",
   "execution_count": null,
   "id": "bjTyjIYGceA4",
   "metadata": {
    "id": "bjTyjIYGceA4"
   },
   "outputs": [],
   "source": []
  },
  {
   "cell_type": "code",
   "execution_count": 99,
   "id": "xsPm-jA-l8Tk",
   "metadata": {
    "executionInfo": {
     "elapsed": 257,
     "status": "ok",
     "timestamp": 1670066380943,
     "user": {
      "displayName": "Pablo Soto López",
      "userId": "08112082177697405353"
     },
     "user_tz": -60
    },
    "id": "xsPm-jA-l8Tk"
   },
   "outputs": [],
   "source": [
    "check_fraud=data_raw[['step','type','amount','isfraud','oldbalanceorg','newbalanceorig','oldbalancedest','newbalancedest','nameorig', 'namedest','user_number']]"
   ]
  },
  {
   "cell_type": "markdown",
   "id": "RAy57jMqcusb",
   "metadata": {
    "id": "RAy57jMqcusb"
   },
   "source": [
    "#### Patrón predominate. Control de la cuenta por el delincuente, transferencia por la totalidad del saldo de la cuenta origen. Inmediantamente ( siguiente operación), cash_out de la cuenta destino por la totalidad del importe sutraido.\n",
    "\n",
    "Bajo este modus-operandi se realizan 1109 operaciones, que suponen 1102 caso de fraude, o lo que es lo mismo el 97 % de todo el fraude cometido.\n",
    "\n",
    "Pero se extrae otro patrón muy interesante, SOLO LOS DEFRAUDADORES VACIAN LAS CUENTAS EN SU TOTALIDAD. Cuando una operación retira todo el oldbalanceorig es fraude."
   ]
  },
  {
   "cell_type": "code",
   "execution_count": 100,
   "id": "4I9c-scwg82e",
   "metadata": {
    "colab": {
     "base_uri": "https://localhost:8080/",
     "height": 424
    },
    "executionInfo": {
     "elapsed": 402,
     "status": "ok",
     "timestamp": 1670066385561,
     "user": {
      "displayName": "Pablo Soto López",
      "userId": "08112082177697405353"
     },
     "user_tz": -60
    },
    "id": "4I9c-scwg82e",
    "outputId": "639bfc5a-fb80-467a-f01a-59706d4c39c9"
   },
   "outputs": [
    {
     "data": {
      "text/html": [
       "<div>\n",
       "<style scoped>\n",
       "    .dataframe tbody tr th:only-of-type {\n",
       "        vertical-align: middle;\n",
       "    }\n",
       "\n",
       "    .dataframe tbody tr th {\n",
       "        vertical-align: top;\n",
       "    }\n",
       "\n",
       "    .dataframe thead th {\n",
       "        text-align: right;\n",
       "    }\n",
       "</style>\n",
       "<table border=\"1\" class=\"dataframe\">\n",
       "  <thead>\n",
       "    <tr style=\"text-align: right;\">\n",
       "      <th></th>\n",
       "      <th>amount</th>\n",
       "      <th>type</th>\n",
       "      <th>isfraud</th>\n",
       "    </tr>\n",
       "  </thead>\n",
       "  <tbody>\n",
       "    <tr>\n",
       "      <th>2</th>\n",
       "      <td>181.0000</td>\n",
       "      <td>TRANSFER</td>\n",
       "      <td>1</td>\n",
       "    </tr>\n",
       "    <tr>\n",
       "      <th>3</th>\n",
       "      <td>181.0000</td>\n",
       "      <td>CASH_OUT</td>\n",
       "      <td>1</td>\n",
       "    </tr>\n",
       "    <tr>\n",
       "      <th>251</th>\n",
       "      <td>2806.0000</td>\n",
       "      <td>TRANSFER</td>\n",
       "      <td>1</td>\n",
       "    </tr>\n",
       "    <tr>\n",
       "      <th>252</th>\n",
       "      <td>2806.0000</td>\n",
       "      <td>CASH_OUT</td>\n",
       "      <td>1</td>\n",
       "    </tr>\n",
       "    <tr>\n",
       "      <th>680</th>\n",
       "      <td>20128.0000</td>\n",
       "      <td>TRANSFER</td>\n",
       "      <td>1</td>\n",
       "    </tr>\n",
       "    <tr>\n",
       "      <th>...</th>\n",
       "      <td>...</td>\n",
       "      <td>...</td>\n",
       "      <td>...</td>\n",
       "    </tr>\n",
       "    <tr>\n",
       "      <th>1047888</th>\n",
       "      <td>56745.1400</td>\n",
       "      <td>CASH_OUT</td>\n",
       "      <td>1</td>\n",
       "    </tr>\n",
       "    <tr>\n",
       "      <th>1048221</th>\n",
       "      <td>33676.5900</td>\n",
       "      <td>TRANSFER</td>\n",
       "      <td>1</td>\n",
       "    </tr>\n",
       "    <tr>\n",
       "      <th>1048222</th>\n",
       "      <td>33676.5900</td>\n",
       "      <td>CASH_OUT</td>\n",
       "      <td>1</td>\n",
       "    </tr>\n",
       "    <tr>\n",
       "      <th>1048323</th>\n",
       "      <td>87999.2500</td>\n",
       "      <td>TRANSFER</td>\n",
       "      <td>1</td>\n",
       "    </tr>\n",
       "    <tr>\n",
       "      <th>1048324</th>\n",
       "      <td>87999.2500</td>\n",
       "      <td>CASH_OUT</td>\n",
       "      <td>1</td>\n",
       "    </tr>\n",
       "  </tbody>\n",
       "</table>\n",
       "<p>1109 rows × 3 columns</p>\n",
       "</div>"
      ],
      "text/plain": [
       "            amount      type  isfraud\n",
       "2         181.0000  TRANSFER        1\n",
       "3         181.0000  CASH_OUT        1\n",
       "251      2806.0000  TRANSFER        1\n",
       "252      2806.0000  CASH_OUT        1\n",
       "680     20128.0000  TRANSFER        1\n",
       "...            ...       ...      ...\n",
       "1047888 56745.1400  CASH_OUT        1\n",
       "1048221 33676.5900  TRANSFER        1\n",
       "1048222 33676.5900  CASH_OUT        1\n",
       "1048323 87999.2500  TRANSFER        1\n",
       "1048324 87999.2500  CASH_OUT        1\n",
       "\n",
       "[1109 rows x 3 columns]"
      ]
     },
     "execution_count": 100,
     "metadata": {},
     "output_type": "execute_result"
    }
   ],
   "source": [
    "# filtrado de pares de operacioens transfer cash_out\n",
    "check_fraud[(check_fraud.oldbalanceorg == check_fraud.amount) &\n",
    "            (((check_fraud['type']=='TRANSFER') &  (check_fraud['type'].shift(-1)=='CASH_OUT')) & (check_fraud.amount==check_fraud.amount.shift(-1))) |\n",
    "              (((check_fraud['type']=='CASH_OUT') &  (check_fraud['type'].shift(1)=='TRANSFER')) & (check_fraud.amount==check_fraud.amount.shift(1)))][['amount','type','isfraud']]"
   ]
  },
  {
   "cell_type": "code",
   "execution_count": 101,
   "id": "l2ejA0E5hbO-",
   "metadata": {
    "colab": {
     "base_uri": "https://localhost:8080/",
     "height": 112
    },
    "executionInfo": {
     "elapsed": 223,
     "status": "ok",
     "timestamp": 1670066413617,
     "user": {
      "displayName": "Pablo Soto López",
      "userId": "08112082177697405353"
     },
     "user_tz": -60
    },
    "id": "l2ejA0E5hbO-",
    "outputId": "dac6a2ab-cb9b-4909-a4fc-18e0ce609b7c"
   },
   "outputs": [
    {
     "data": {
      "text/html": [
       "<div>\n",
       "<style scoped>\n",
       "    .dataframe tbody tr th:only-of-type {\n",
       "        vertical-align: middle;\n",
       "    }\n",
       "\n",
       "    .dataframe tbody tr th {\n",
       "        vertical-align: top;\n",
       "    }\n",
       "\n",
       "    .dataframe thead th {\n",
       "        text-align: right;\n",
       "    }\n",
       "</style>\n",
       "<table border=\"1\" class=\"dataframe\">\n",
       "  <thead>\n",
       "    <tr style=\"text-align: right;\">\n",
       "      <th></th>\n",
       "      <th>type</th>\n",
       "    </tr>\n",
       "    <tr>\n",
       "      <th>isfraud</th>\n",
       "      <th></th>\n",
       "    </tr>\n",
       "  </thead>\n",
       "  <tbody>\n",
       "    <tr>\n",
       "      <th>1</th>\n",
       "      <td>1109</td>\n",
       "    </tr>\n",
       "  </tbody>\n",
       "</table>\n",
       "</div>"
      ],
      "text/plain": [
       "         type\n",
       "isfraud      \n",
       "1        1109"
      ]
     },
     "execution_count": 101,
     "metadata": {},
     "output_type": "execute_result"
    }
   ],
   "source": [
    "check_fraud[check_fraud.oldbalanceorg == check_fraud.amount][['type','isfraud']].groupby('isfraud').count()"
   ]
  },
  {
   "cell_type": "markdown",
   "id": "zJEwr0lWnH6I",
   "metadata": {
    "id": "zJEwr0lWnH6I"
   },
   "source": [
    "Hemos construido una función muy simple para que nos marque el vacioado de cuentas con transfer o cash_out. Sin caer en lekaage, nos discrimina las 1109 operacioens fraudulentas.\n",
    "Utilizamos una matriz de confusión apra validar nuestra REGLA, y observamos que no genera ningun FP , y genera 33 FN, que tendrán que ser los modelos los que ayuden a discriminar.\n",
    "\n",
    "EN REALIDAD, ESTA MECANICA REPRODUCE LA MANERA lógica de trabajar en el mundo real. La detección de patrones de fraude, permite paralizar ese tip ode operatoria de manera inmediata, frente a los modelos que tendrán que disponer de casos que aporten significancia estadistica para detectarlos.\n",
    "Tambien es verdad, que los delincuentes, enseguida aprenderán, y en este caso, dejando en la cuenta origen 1 unidad monetaria, la función dejaría de funcionar.\n",
    "\n",
    "Pero estamos en el laboratorio, seguramente con datos sinteticos, y aqui, nuestra regla tiene un poder para detectar fraude espectacular."
   ]
  },
  {
   "cell_type": "code",
   "execution_count": 102,
   "id": "DGNNDR2a9ZAF",
   "metadata": {
    "executionInfo": {
     "elapsed": 24226,
     "status": "ok",
     "timestamp": 1670066442396,
     "user": {
      "displayName": "Pablo Soto López",
      "userId": "08112082177697405353"
     },
     "user_tz": -60
    },
    "id": "DGNNDR2a9ZAF"
   },
   "outputs": [],
   "source": [
    "check_fraud['t_c']=check_fraud.apply(check_t_c,axis=1)"
   ]
  },
  {
   "cell_type": "code",
   "execution_count": 103,
   "id": "4QMohbUu_HFO",
   "metadata": {
    "colab": {
     "base_uri": "https://localhost:8080/"
    },
    "executionInfo": {
     "elapsed": 333,
     "status": "ok",
     "timestamp": 1670066442713,
     "user": {
      "displayName": "Pablo Soto López",
      "userId": "08112082177697405353"
     },
     "user_tz": -60
    },
    "id": "4QMohbUu_HFO",
    "outputId": "bbf2f166-edcd-4645-d46e-99e4e203ad43"
   },
   "outputs": [
    {
     "name": "stdout",
     "output_type": "stream",
     "text": [
      "[[1047433      33]\n",
      " [      0    1109]]\n"
     ]
    }
   ],
   "source": [
    "from sklearn.metrics import classification_report, confusion_matrix\n",
    "\n",
    "print(confusion_matrix(check_fraud['t_c'],check_fraud['isfraud']))\n"
   ]
  },
  {
   "cell_type": "markdown",
   "id": "Acs9oPJH2AJi",
   "metadata": {
    "id": "Acs9oPJH2AJi"
   },
   "source": [
    "Vamos a añadir nuestra etiqueta de fraude a la tabla de datos."
   ]
  },
  {
   "cell_type": "code",
   "execution_count": 104,
   "id": "RiqI96_CszSt",
   "metadata": {
    "executionInfo": {
     "elapsed": 588,
     "status": "ok",
     "timestamp": 1670066667359,
     "user": {
      "displayName": "Pablo Soto López",
      "userId": "08112082177697405353"
     },
     "user_tz": -60
    },
    "id": "RiqI96_CszSt"
   },
   "outputs": [],
   "source": [
    "data_raw['fraud_rules']=check_fraud['t_c'].tolist()\n",
    "data_raw['fraud_rules']=data_raw['fraud_rules'].astype('category')"
   ]
  },
  {
   "cell_type": "code",
   "execution_count": 105,
   "id": "RTlMf72Hs_ic",
   "metadata": {
    "colab": {
     "base_uri": "https://localhost:8080/"
    },
    "executionInfo": {
     "elapsed": 9,
     "status": "ok",
     "timestamp": 1670066668635,
     "user": {
      "displayName": "Pablo Soto López",
      "userId": "08112082177697405353"
     },
     "user_tz": -60
    },
    "id": "RTlMf72Hs_ic",
    "outputId": "597cc363-9f0d-4d34-cdae-93d17aa7a359"
   },
   "outputs": [
    {
     "data": {
      "text/plain": [
       "Index(['step', 'type', 'amount', 'gender', 'device', 'connection_time',\n",
       "       'nameorig', 'race', 'oldbalanceorg', 'age', 'newbalanceorig', 'zone',\n",
       "       'user_number', 'namedest', 'user_connections', 'security_alert',\n",
       "       'oldbalancedest', 'newbalancedest', 'isfraud', 'dia', 'hora',\n",
       "       'step_order', 'step_importance', 'fraud_order', 'segmento',\n",
       "       'fraud_rules'],\n",
       "      dtype='object')"
      ]
     },
     "execution_count": 105,
     "metadata": {},
     "output_type": "execute_result"
    }
   ],
   "source": [
    "data_raw.columns"
   ]
  },
  {
   "cell_type": "markdown",
   "id": "pRJ8-uOnuPYv",
   "metadata": {
    "id": "pRJ8-uOnuPYv"
   },
   "source": [
    "## Transsacciones descuadradas.\n",
    "\n",
    "Las difernecicias entre old y new balances deberían coincidir en origin o destin con el amount de la operación.\n",
    "\n",
    "Hay muchas ocasiones que no ocurre. P.E., en payments no se controlan los saldo destino de los comerciantes. Pero en las operacioens relevantes para fraude, Cash_out y transfer, hay veces que todo cuadra, y otras no. No sabemos sí dejan trabajar a cuentas origen en descubierto, aunque no se marquen los saldos en descubierto, o sí estará enmascarados con cero o descuadres valores faltantes operacioens que quedan en intento, y no se realizan.\n",
    "\n",
    "En las cuentas de origen solo existen 28855 operaciones cuadradas de u ntotal de 460.394, pero agutinan 1113 operacioens fraudulentas ( el 97 % del fraude).\n",
    "Parece que esta caracteristica puede ayudas a los modelos a aprender. Por otra parte, en las descuadradas siendo 431539, solo acaparan 29 casos de frude.\n",
    "\n",
    "\n"
   ]
  },
  {
   "cell_type": "code",
   "execution_count": 106,
   "id": "ZucvFd-xkVDX",
   "metadata": {
    "executionInfo": {
     "elapsed": 234,
     "status": "ok",
     "timestamp": 1670066674577,
     "user": {
      "displayName": "Pablo Soto López",
      "userId": "08112082177697405353"
     },
     "user_tz": -60
    },
    "id": "ZucvFd-xkVDX"
   },
   "outputs": [],
   "source": [
    "operaciones_cuadradas=data_raw[(data_raw.oldbalanceorg -data_raw.amount -data_raw.newbalanceorig==0)\n",
    " & data_raw['type'].isin(['TRANSFER','CASH_OUT']) ].shape[0]\n",
    "operaciones_descuadradas=data_raw[(data_raw.oldbalanceorg -data_raw.amount -data_raw.newbalanceorig != 0)\n",
    " & data_raw['type'].isin(['TRANSFER','CASH_OUT']) ].shape[0]"
   ]
  },
  {
   "cell_type": "code",
   "execution_count": 107,
   "id": "JzehiqXUldyR",
   "metadata": {
    "colab": {
     "base_uri": "https://localhost:8080/"
    },
    "executionInfo": {
     "elapsed": 238,
     "status": "ok",
     "timestamp": 1670066679524,
     "user": {
      "displayName": "Pablo Soto López",
      "userId": "08112082177697405353"
     },
     "user_tz": -60
    },
    "id": "JzehiqXUldyR",
    "outputId": "d84bc557-c64a-45c1-87b5-b01d710904a1"
   },
   "outputs": [
    {
     "data": {
      "text/plain": [
       "(28855, 431539, 460394)"
      ]
     },
     "execution_count": 107,
     "metadata": {},
     "output_type": "execute_result"
    }
   ],
   "source": [
    "operaciones_cuadradas,operaciones_descuadradas,operaciones_cuadradas+operaciones_descuadradas"
   ]
  },
  {
   "cell_type": "code",
   "execution_count": 108,
   "id": "9dksYgKf-Vpc",
   "metadata": {
    "colab": {
     "base_uri": "https://localhost:8080/",
     "height": 112
    },
    "executionInfo": {
     "elapsed": 246,
     "status": "ok",
     "timestamp": 1670066764662,
     "user": {
      "displayName": "Pablo Soto López",
      "userId": "08112082177697405353"
     },
     "user_tz": -60
    },
    "id": "9dksYgKf-Vpc",
    "outputId": "29f69747-a759-4711-9d57-b7d4cff4a584"
   },
   "outputs": [
    {
     "data": {
      "text/html": [
       "<div>\n",
       "<style scoped>\n",
       "    .dataframe tbody tr th:only-of-type {\n",
       "        vertical-align: middle;\n",
       "    }\n",
       "\n",
       "    .dataframe tbody tr th {\n",
       "        vertical-align: top;\n",
       "    }\n",
       "\n",
       "    .dataframe thead th {\n",
       "        text-align: right;\n",
       "    }\n",
       "</style>\n",
       "<table border=\"1\" class=\"dataframe\">\n",
       "  <thead>\n",
       "    <tr style=\"text-align: right;\">\n",
       "      <th></th>\n",
       "      <th>porcent_total</th>\n",
       "      <th>numero</th>\n",
       "    </tr>\n",
       "  </thead>\n",
       "  <tbody>\n",
       "    <tr>\n",
       "      <th>0</th>\n",
       "      <td>96.1428</td>\n",
       "      <td>27742</td>\n",
       "    </tr>\n",
       "    <tr>\n",
       "      <th>1</th>\n",
       "      <td>3.8572</td>\n",
       "      <td>1113</td>\n",
       "    </tr>\n",
       "  </tbody>\n",
       "</table>\n",
       "</div>"
      ],
      "text/plain": [
       "   porcent_total  numero\n",
       "0        96.1428   27742\n",
       "1         3.8572    1113"
      ]
     },
     "execution_count": 108,
     "metadata": {},
     "output_type": "execute_result"
    }
   ],
   "source": [
    "cuadradas= data_raw[(data_raw.oldbalanceorg -data_raw.amount -data_raw.newbalanceorig==0)\n",
    " & data_raw['type'].isin(['TRANSFER','CASH_OUT']) ]['isfraud'].to_frame()\n",
    " \n",
    "cuadradas_perc=cuadradas['isfraud'].value_counts(normalize= True).mul(100).reset_index()\n",
    "\n",
    "cuadradas_isfraud_conteo= cuadradas['isfraud'].value_counts(normalize=False).reset_index()\n",
    "\n",
    "cuadradas_isfraud_pc = pd.merge(cuadradas_perc,cuadradas_isfraud_conteo,\n",
    "                              on=['index'], how='inner').rename(columns={'index':'valor','isfraud_x':'porcent_total','isfraud_y':'numero'}).drop('valor',axis=1)\n",
    "\n",
    "cuadradas_isfraud_pc\n"
   ]
  },
  {
   "cell_type": "code",
   "execution_count": 109,
   "id": "XLvatemjBjxM",
   "metadata": {
    "colab": {
     "base_uri": "https://localhost:8080/",
     "height": 112
    },
    "executionInfo": {
     "elapsed": 461,
     "status": "ok",
     "timestamp": 1670066790697,
     "user": {
      "displayName": "Pablo Soto López",
      "userId": "08112082177697405353"
     },
     "user_tz": -60
    },
    "id": "XLvatemjBjxM",
    "outputId": "3407991a-d4f1-4385-91c4-f71c48f86d35"
   },
   "outputs": [
    {
     "data": {
      "text/html": [
       "<div>\n",
       "<style scoped>\n",
       "    .dataframe tbody tr th:only-of-type {\n",
       "        vertical-align: middle;\n",
       "    }\n",
       "\n",
       "    .dataframe tbody tr th {\n",
       "        vertical-align: top;\n",
       "    }\n",
       "\n",
       "    .dataframe thead th {\n",
       "        text-align: right;\n",
       "    }\n",
       "</style>\n",
       "<table border=\"1\" class=\"dataframe\">\n",
       "  <thead>\n",
       "    <tr style=\"text-align: right;\">\n",
       "      <th></th>\n",
       "      <th>porcent</th>\n",
       "      <th>numero</th>\n",
       "    </tr>\n",
       "  </thead>\n",
       "  <tbody>\n",
       "    <tr>\n",
       "      <th>0</th>\n",
       "      <td>0.9999</td>\n",
       "      <td>431510</td>\n",
       "    </tr>\n",
       "    <tr>\n",
       "      <th>1</th>\n",
       "      <td>0.0001</td>\n",
       "      <td>29</td>\n",
       "    </tr>\n",
       "  </tbody>\n",
       "</table>\n",
       "</div>"
      ],
      "text/plain": [
       "   porcent  numero\n",
       "0   0.9999  431510\n",
       "1   0.0001      29"
      ]
     },
     "execution_count": 109,
     "metadata": {},
     "output_type": "execute_result"
    }
   ],
   "source": [
    "descuadradas= data_raw[(data_raw.oldbalanceorg -data_raw.amount -data_raw.newbalanceorig!=0)\n",
    " & data_raw['type'].isin(['TRANSFER','CASH_OUT']) ]['isfraud'].to_frame()\n",
    " \n",
    "descuadradas_perc=descuadradas['isfraud'].value_counts(normalize= True).reset_index()\n",
    "\n",
    "descuadradas_isfraud_conteo= descuadradas['isfraud'].value_counts(normalize=False).reset_index()\n",
    "\n",
    "descuadradas_isfraud_pc = pd.merge(descuadradas_perc,descuadradas_isfraud_conteo,\n",
    "                              on=['index'], how='inner').rename(columns={'index':'valor','isfraud_x':'porcent','isfraud_y':'numero'}).drop('valor',axis=1)\n",
    "descuadradas_isfraud_pc\n"
   ]
  },
  {
   "cell_type": "markdown",
   "id": "Uk5rWfGhmM9p",
   "metadata": {
    "id": "Uk5rWfGhmM9p"
   },
   "source": [
    "Repitamos el ejercicio para las cuwentas destino:\n",
    "\n",
    "Todos los fraudes están en cuentas donde el computo del balance de la cuenta destino está descuadrado. PArece que tambien nos puede ayudar a discernir el fraude."
   ]
  },
  {
   "cell_type": "code",
   "execution_count": 110,
   "id": "YK-z3n4PDfUF",
   "metadata": {
    "executionInfo": {
     "elapsed": 221,
     "status": "ok",
     "timestamp": 1670066859906,
     "user": {
      "displayName": "Pablo Soto López",
      "userId": "08112082177697405353"
     },
     "user_tz": -60
    },
    "id": "YK-z3n4PDfUF"
   },
   "outputs": [],
   "source": [
    "operaciones_cuadradas=data_raw[(data_raw.oldbalancedest +data_raw.amount -data_raw.newbalancedest==0)\n",
    " & data_raw['type'].isin(['TRANSFER','CASH_OUT']) ].shape[0]\n",
    "operaciones_descuadradas=data_raw[(data_raw.oldbalancedest +data_raw.amount -data_raw.newbalancedest != 0)\n",
    " & data_raw['type'].isin(['TRANSFER','CASH_OUT']) ].shape[0]"
   ]
  },
  {
   "cell_type": "code",
   "execution_count": 111,
   "id": "QvUD8LDqDfY8",
   "metadata": {
    "colab": {
     "base_uri": "https://localhost:8080/"
    },
    "executionInfo": {
     "elapsed": 223,
     "status": "ok",
     "timestamp": 1670066863179,
     "user": {
      "displayName": "Pablo Soto López",
      "userId": "08112082177697405353"
     },
     "user_tz": -60
    },
    "id": "QvUD8LDqDfY8",
    "outputId": "09bfe74d-663f-4c27-b509-2380378a98a4"
   },
   "outputs": [
    {
     "data": {
      "text/plain": [
       "(198822, 261572, 460394)"
      ]
     },
     "execution_count": 111,
     "metadata": {},
     "output_type": "execute_result"
    }
   ],
   "source": [
    "operaciones_cuadradas,operaciones_descuadradas,operaciones_cuadradas+operaciones_descuadradas"
   ]
  },
  {
   "cell_type": "code",
   "execution_count": 112,
   "id": "oo7sOxbLDfdk",
   "metadata": {
    "colab": {
     "base_uri": "https://localhost:8080/",
     "height": 112
    },
    "executionInfo": {
     "elapsed": 259,
     "status": "ok",
     "timestamp": 1670066886862,
     "user": {
      "displayName": "Pablo Soto López",
      "userId": "08112082177697405353"
     },
     "user_tz": -60
    },
    "id": "oo7sOxbLDfdk",
    "outputId": "fd68e178-c208-4b29-9ea3-38b82127ef9d"
   },
   "outputs": [
    {
     "data": {
      "text/html": [
       "<div>\n",
       "<style scoped>\n",
       "    .dataframe tbody tr th:only-of-type {\n",
       "        vertical-align: middle;\n",
       "    }\n",
       "\n",
       "    .dataframe tbody tr th {\n",
       "        vertical-align: top;\n",
       "    }\n",
       "\n",
       "    .dataframe thead th {\n",
       "        text-align: right;\n",
       "    }\n",
       "</style>\n",
       "<table border=\"1\" class=\"dataframe\">\n",
       "  <thead>\n",
       "    <tr style=\"text-align: right;\">\n",
       "      <th></th>\n",
       "      <th>porcent_total</th>\n",
       "      <th>numero</th>\n",
       "    </tr>\n",
       "  </thead>\n",
       "  <tbody>\n",
       "    <tr>\n",
       "      <th>0</th>\n",
       "      <td>99.7520</td>\n",
       "      <td>459252</td>\n",
       "    </tr>\n",
       "    <tr>\n",
       "      <th>1</th>\n",
       "      <td>0.2480</td>\n",
       "      <td>1142</td>\n",
       "    </tr>\n",
       "  </tbody>\n",
       "</table>\n",
       "</div>"
      ],
      "text/plain": [
       "   porcent_total  numero\n",
       "0        99.7520  459252\n",
       "1         0.2480    1142"
      ]
     },
     "execution_count": 112,
     "metadata": {},
     "output_type": "execute_result"
    }
   ],
   "source": [
    "cuadradas= data_raw[(data_raw.oldbalancedest -data_raw.amount -data_raw.newbalancedest!=0)\n",
    " & data_raw['type'].isin(['TRANSFER','CASH_OUT']) ]['isfraud'].to_frame()\n",
    " \n",
    "cuadradas_perc=cuadradas['isfraud'].value_counts(normalize= True).mul(100).reset_index()\n",
    "\n",
    "cuadradas_isfraud_conteo= cuadradas['isfraud'].value_counts(normalize=False).reset_index()\n",
    "\n",
    "cuadradas_isfraud_pc = pd.merge(cuadradas_perc,cuadradas_isfraud_conteo,\n",
    "                              on=['index'], how='inner').rename(columns={'index':'valor','isfraud_x':'porcent_total','isfraud_y':'numero'}).drop('valor',axis=1)\n",
    "\n",
    "cuadradas_isfraud_pc"
   ]
  },
  {
   "cell_type": "markdown",
   "id": "glVMgxJdpKY0",
   "metadata": {
    "id": "glVMgxJdpKY0"
   },
   "source": [
    "Incorporamos como nuevos features los importes de los balances de las cuentas origen y destino. En caso de estar cuadradas será igual a 0."
   ]
  },
  {
   "cell_type": "code",
   "execution_count": 113,
   "id": "lkp7cvkd5mkE",
   "metadata": {
    "executionInfo": {
     "elapsed": 221,
     "status": "ok",
     "timestamp": 1670067087102,
     "user": {
      "displayName": "Pablo Soto López",
      "userId": "08112082177697405353"
     },
     "user_tz": -60
    },
    "id": "lkp7cvkd5mkE"
   },
   "outputs": [],
   "source": [
    "map_sig_orig={'CASH_OUT':-1,\n",
    "         'TRANSFER':-1,\n",
    "         'PAYMENT': -1,\n",
    "         'CASH_IN': 1,\n",
    "         'DEBIT': -1\n",
    "         }\n",
    "map_sig_dest={'CASH_OUT':-1,\n",
    "         'TRANSFER': +1,\n",
    "         'PAYMENT': 1,\n",
    "         'CASH_IN': -1,\n",
    "         'DEBIT': 1\n",
    "         }"
   ]
  },
  {
   "cell_type": "code",
   "execution_count": 114,
   "id": "VnMuI9rHfOgf",
   "metadata": {
    "executionInfo": {
     "elapsed": 222,
     "status": "ok",
     "timestamp": 1670067088732,
     "user": {
      "displayName": "Pablo Soto López",
      "userId": "08112082177697405353"
     },
     "user_tz": -60
    },
    "id": "VnMuI9rHfOgf"
   },
   "outputs": [],
   "source": [
    "data_raw['errorbalanceorig'] = data_raw['type'].map(map_sig_orig)*(data_raw.newbalanceorig - data_raw.oldbalanceorg)  - data_raw.amount\n",
    "data_raw['errorbalancedest'] = data_raw['type'].map(map_sig_dest)*(data_raw.oldbalancedest - data_raw.newbalancedest)  + data_raw.amount"
   ]
  },
  {
   "cell_type": "code",
   "execution_count": 115,
   "id": "XkMhlykbp9ad",
   "metadata": {
    "executionInfo": {
     "elapsed": 233,
     "status": "ok",
     "timestamp": 1670067094818,
     "user": {
      "displayName": "Pablo Soto López",
      "userId": "08112082177697405353"
     },
     "user_tz": -60
    },
    "id": "XkMhlykbp9ad"
   },
   "outputs": [],
   "source": [
    "fraud = data_raw[data_raw[\"isfraud\"] == 1]\n",
    "valid = data_raw[data_raw[\"isfraud\"] == 0]"
   ]
  },
  {
   "cell_type": "code",
   "execution_count": 116,
   "id": "24wV1vmkpa40",
   "metadata": {
    "colab": {
     "base_uri": "https://localhost:8080/",
     "height": 295
    },
    "executionInfo": {
     "elapsed": 10111,
     "status": "ok",
     "timestamp": 1670067106564,
     "user": {
      "displayName": "Pablo Soto López",
      "userId": "08112082177697405353"
     },
     "user_tz": -60
    },
    "id": "24wV1vmkpa40",
    "outputId": "0ffcf9c7-c935-4bfe-ae6b-7a842afa13cd"
   },
   "outputs": [
    {
     "data": {
      "image/png": "[encoded data removed]",
      "text/plain": [
       "<Figure size 640x480 with 1 Axes>"
      ]
     },
     "metadata": {},
     "output_type": "display_data"
    }
   ],
   "source": [
    "fraud = data_raw[data_raw[\"isfraud\"] == 1]\n",
    "valid = data_raw[data_raw[\"isfraud\"] == 0]\n",
    "errors = [\"'errorbalanceorig\", \"errorbalancedest\"]\n",
    "\n",
    "ax = plt.subplot()\n",
    "\n",
    "fplot = fraud.plot(x=\"errorbalanceorig\",y=\"errorbalancedest\",color=\"red\",kind=\"scatter\",ax=ax,label=\"Fraudulent transactions\")\n",
    "vplot = valid.plot(x=\"errorbalanceorig\",y=\"errorbalancedest\",color=\"green\",kind=\"scatter\",\\\n",
    "                   alpha=0.01,ax=ax,label=\"Valid transactions\")\n",
    "plt.title(\"errorBalanceOrg vs errorBalanceDest\")\n",
    "plt.show()"
   ]
  },
  {
   "cell_type": "code",
   "execution_count": 117,
   "id": "573f6583-7ec0-4c5d-9241-a206f9491755",
   "metadata": {
    "executionInfo": {
     "elapsed": 9367,
     "status": "ok",
     "timestamp": 1670067299454,
     "user": {
      "displayName": "Pablo Soto López",
      "userId": "08112082177697405353"
     },
     "user_tz": -60
    },
    "id": "573f6583-7ec0-4c5d-9241-a206f9491755"
   },
   "outputs": [],
   "source": [
    "# Guardamos en disco los datos limpios.\n",
    "data_raw.to_parquet('../data/fraud_detection_engineering.parquet',\n",
    "              compression='gzip')"
   ]
  },
  {
   "cell_type": "markdown",
   "id": "ZIVrHooHSBMi",
   "metadata": {
    "id": "ZIVrHooHSBMi"
   },
   "source": [
    "### Conclusión EDA.\n",
    "Hemso estudiado laas caracteristicas, hemos concluido patrones muy claros del fraude. Pasamos a las sigueinte fase de estudio de correlaciones y selección de caracterisiticas relevantes para nuestro modelo en el siguiente cuaderno."
   ]
  },
  {
   "cell_type": "code",
   "execution_count": null,
   "id": "bd2f9bff-829c-4c51-b371-72e38d90d881",
   "metadata": {},
   "outputs": [],
   "source": []
  }
 ],
 "metadata": {
  "colab": {
   "collapsed_sections": [
    "r2nzpLp-vwQe",
    "8NtDe82hzNKZ"
   ],
   "machine_shape": "hm",
   "provenance": []
  },
  "gpuClass": "standard",
  "kernelspec": {
   "display_name": "Python [conda env:practica0]",
   "language": "python",
   "name": "conda-env-practica0-py"
  },
  "language_info": {
   "codemirror_mode": {
    "name": "ipython",
    "version": 3
   },
   "file_extension": ".py",
   "mimetype": "text/x-python",
   "name": "python",
   "nbconvert_exporter": "python",
   "pygments_lexer": "ipython3",
   "version": "3.9.13"
  }
 },
 "nbformat": 4,
 "nbformat_minor": 5
}
