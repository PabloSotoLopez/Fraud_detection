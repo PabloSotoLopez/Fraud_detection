{
 "cells": [
  {
   "cell_type": "markdown",
   "metadata": {
    "id": "61Kw9iaUjRTD"
   },
   "source": [
    "## Comprobación del funcionamiento en el dataset completo:\n",
    "\n",
    "He localizado el dataset completo en Kaggle, y he comprobado mi regla y sistema, los resultados son muy buenos.\n",
    "\n",
    "Sí nosotros teniamos 4 días, el dataset completo es un mes.\n",
    "\n",
    "Entreno un randomforrest con las 96 primeros steps, respentando el 20 % para test. Y despúes predigo con ese modelos el resto del dataset, del step 97 al 743.\n",
    "Suponen 5.303.817 casos, donde existen 7.061 casos de fraude.\n",
    "\n",
    "Los resultados son espectaculares, detecta 7.010 casos de 7.061 casos de fraude que existen en esos steps que no participaron en el entrenamiento.\n",
    "\n",
    "La regla ( t_c) le aporta 6916 acierto, y el  randomforest mejora el aciero hasta los 7.010 aciertos. No se genera ningun falso negativo.\n",
    "\n",
    "El autor de paysim tiene que mejorar como se genera esta base de datos sintetica o simplemente con la regla se consiguen muy buenso resultados. \n",
    "\n",
    "Este cuaderno se tiene que ejecutar en Google Colab, ya que, al menos mi ordenador personal, no soporta el tamaño del dataset.\n",
    "\n",
    "Acceso colab: https://colab.research.google.com/drive/1DWe1MaSk3dBXWjkDUnQGv894fqQTsnyH?usp=sharing \n",
    "\n",
    "\n",
    "\n",
    "\n",
    "\n",
    "\n"
   ]
  },
  {
   "cell_type": "code",
   "execution_count": null,
   "metadata": {
    "id": "VoRWK5BbQtxl"
   },
   "outputs": [],
   "source": [
    "from google.colab import files\n",
    "import os"
   ]
  },
  {
   "cell_type": "code",
   "execution_count": null,
   "metadata": {
    "colab": {
     "base_uri": "https://localhost:8080/"
    },
    "id": "faW5PKAgROWa",
    "outputId": "5dbffb6f-b1df-4cb2-9abd-a798e21aaf69"
   },
   "outputs": [
    {
     "name": "stdout",
     "output_type": "stream",
     "text": [
      "Drive already mounted at /content/drive; to attempt to forcibly remount, call drive.mount(\"/content/drive\", force_remount=True).\n"
     ]
    }
   ],
   "source": [
    "# Montamos nuestro drive\n",
    "from google.colab import drive\n",
    "drive.mount('/content/drive')"
   ]
  },
  {
   "cell_type": "code",
   "execution_count": null,
   "metadata": {
    "id": "LqR0K3bdgLOo"
   },
   "outputs": [],
   "source": [
    "!pip install category_encoders\n"
   ]
  },
  {
   "cell_type": "code",
   "execution_count": null,
   "metadata": {
    "id": "O9a0Ez0_J9Zb"
   },
   "outputs": [],
   "source": [
    "import numpy as np\n",
    "# primero todas las librerías por bloques\n",
    "\n",
    "import pandas as pd\n",
    "\n",
    "warnings.filterwarnings(\"ignore\")\n",
    "\n",
    "from sklearn.ensemble import RandomForestClassifier\n",
    "from sklearn.model_selection import train_test_split\n",
    "\n",
    "\n",
    "import category_encoders as ce\n",
    "\n",
    "from sklearn.metrics import classification_report, confusion_matrix, roc_curve, auc, \\\n",
    "                            recall_score, precision_score, make_scorer, \\\n",
    "                            roc_auc_score, f1_score, precision_recall_curve, \\\n",
    "                            accuracy_score,plot_confusion_matrix,average_precision_score\n",
    "\n",
    "\n",
    "from sklearn import metrics\n",
    "\n",
    "\n",
    "\n",
    "\n",
    "\n",
    "\n",
    "\n",
    "\n"
   ]
  },
  {
   "cell_type": "code",
   "execution_count": null,
   "metadata": {
    "id": "aks3U6gkPmOF"
   },
   "outputs": [],
   "source": [
    "os.chdir('/content/drive/MyDrive/amex_k')"
   ]
  },
  {
   "cell_type": "code",
   "execution_count": null,
   "metadata": {
    "id": "dIyMnJrPUlpz"
   },
   "outputs": [],
   "source": [
    "\n",
    "data=pd.read_csv('/content/drive/MyDrive/amex_k/PS_20174392719_1491204439457_log.csv',delimiter=',')"
   ]
  },
  {
   "cell_type": "code",
   "execution_count": null,
   "metadata": {
    "colab": {
     "base_uri": "https://localhost:8080/"
    },
    "id": "1RV2KlSHU6Vs",
    "outputId": "e02d00ce-7b4c-451c-dbac-287eafd07a01"
   },
   "outputs": [
    {
     "data": {
      "text/plain": [
       "(6362620, 11)"
      ]
     },
     "execution_count": 12,
     "metadata": {},
     "output_type": "execute_result"
    }
   ],
   "source": [
    "data.shape"
   ]
  },
  {
   "cell_type": "code",
   "execution_count": null,
   "metadata": {
    "colab": {
     "base_uri": "https://localhost:8080/"
    },
    "id": "eIhTxnErU-Bs",
    "outputId": "a22ec94d-7a1a-4873-9391-0ace7a240607"
   },
   "outputs": [
    {
     "data": {
      "text/plain": [
       "Index(['step', 'type', 'amount', 'nameOrig', 'oldbalanceOrg', 'newbalanceOrig',\n",
       "       'nameDest', 'oldbalanceDest', 'newbalanceDest', 'isFraud',\n",
       "       'isFlaggedFraud'],\n",
       "      dtype='object')"
      ]
     },
     "execution_count": 14,
     "metadata": {},
     "output_type": "execute_result"
    }
   ],
   "source": [
    "data.columns"
   ]
  },
  {
   "cell_type": "code",
   "execution_count": null,
   "metadata": {
    "id": "Tmwr5t_bVCOV"
   },
   "outputs": [],
   "source": [
    "dat=data[['step','type', 'amount', 'nameOrig', 'oldbalanceOrg', 'newbalanceOrig',\n",
    "       'nameDest', 'oldbalanceDest', 'newbalanceDest', 'isFraud']]"
   ]
  },
  {
   "cell_type": "code",
   "execution_count": null,
   "metadata": {
    "colab": {
     "base_uri": "https://localhost:8080/"
    },
    "id": "N631nARoWMrr",
    "outputId": "ccd9993c-e072-4e57-8e85-5d6be4a0afe4"
   },
   "outputs": [
    {
     "name": "stdout",
     "output_type": "stream",
     "text": [
      "<class 'pandas.core.frame.DataFrame'>\n",
      "RangeIndex: 6362620 entries, 0 to 6362619\n",
      "Data columns (total 10 columns):\n",
      " #   Column          Dtype  \n",
      "---  ------          -----  \n",
      " 0   step            int64  \n",
      " 1   type            object \n",
      " 2   amount          float64\n",
      " 3   nameOrig        object \n",
      " 4   oldbalanceOrg   float64\n",
      " 5   newbalanceOrig  float64\n",
      " 6   nameDest        object \n",
      " 7   oldbalanceDest  float64\n",
      " 8   newbalanceDest  float64\n",
      " 9   isFraud         int64  \n",
      "dtypes: float64(5), int64(2), object(3)\n",
      "memory usage: 485.4+ MB\n"
     ]
    }
   ],
   "source": [
    "dat.info()"
   ]
  },
  {
   "cell_type": "code",
   "execution_count": null,
   "metadata": {
    "id": "A0J75xVSYv4q"
   },
   "outputs": [],
   "source": [
    "tipo_origen=dat.nameOrig.apply(lambda x: \"\".join([y[0] for y in (x.split())]))\n",
    "tipo_destino=dat.nameDest.apply(lambda x: \"\".join([y[0] for y in (x.split())]))\n",
    "dat['segmento']=tipo_origen+tipo_destino"
   ]
  },
  {
   "cell_type": "code",
   "execution_count": null,
   "metadata": {
    "id": "dRfd74WOY1If"
   },
   "outputs": [],
   "source": [
    "dat=dat.drop(['nameOrig','nameDest'],axis=1)"
   ]
  },
  {
   "cell_type": "code",
   "execution_count": null,
   "metadata": {
    "id": "gR-IirK8JatV"
   },
   "outputs": [],
   "source": [
    "def check_t_c(df):\n",
    "  '''\n",
    "    Controla si las operacioens son Transfer o Cash_out y si el importe \n",
    "    es igual a todo el oldbalanceorig de la cuenta origen. Vaciado de cuentas.\n",
    "\n",
    "    Args:\n",
    "    param1: Pandas Df de datos.\n",
    "        \n",
    "    Returns:\n",
    "    Int 0,1 reperesentando valores booleanos.\n",
    "   '''\n",
    "\n",
    "\n",
    "  cond_1= (df['type'] == 'CASH_OUT')\n",
    "  cond_2= (df['type'] == 'TRANSFER')\n",
    "  cond_3= (df['amount'] == df['oldbalanceOrg'])\n",
    "  cond_final=((cond_1 | cond_2) & cond_3)\n",
    "  return np.multiply(cond_final,1)"
   ]
  },
  {
   "cell_type": "code",
   "execution_count": null,
   "metadata": {
    "id": "RtlxJEeYJawa"
   },
   "outputs": [],
   "source": [
    "dat['t_c']=dat.apply(check_t_c,axis=1)"
   ]
  },
  {
   "cell_type": "code",
   "execution_count": null,
   "metadata": {
    "id": "kcPqj5fQLhhQ"
   },
   "outputs": [],
   "source": [
    "dat['step_order']=dat.groupby('step').cumcount()+1"
   ]
  },
  {
   "cell_type": "code",
   "execution_count": null,
   "metadata": {
    "id": "S2udUYnpJazz"
   },
   "outputs": [],
   "source": [
    "dat['step_importance']=np.power(dat['step_order'].astype(float),-1)"
   ]
  },
  {
   "cell_type": "code",
   "execution_count": null,
   "metadata": {
    "colab": {
     "base_uri": "https://localhost:8080/"
    },
    "id": "omD-QZJ1Ja3N",
    "outputId": "90e87329-7847-40a4-f077-4e09fcaa3d52"
   },
   "outputs": [
    {
     "data": {
      "text/plain": [
       "Index(['step', 'type', 'amount', 'oldbalanceOrg', 'newbalanceOrig',\n",
       "       'oldbalanceDest', 'newbalanceDest', 'isFraud', 'segmento', 't_c',\n",
       "       'step_order', 'step_importance'],\n",
       "      dtype='object')"
      ]
     },
     "execution_count": 23,
     "metadata": {},
     "output_type": "execute_result"
    }
   ],
   "source": [
    "dat.columns"
   ]
  },
  {
   "cell_type": "code",
   "execution_count": null,
   "metadata": {
    "id": "eJjTp2LQLyk1"
   },
   "outputs": [],
   "source": [
    "map_sig_orig={'CASH_OUT':-1,\n",
    "         'TRANSFER':-1,\n",
    "         'PAYMENT': -1,\n",
    "         'CASH_IN': 1,\n",
    "         'DEBIT': -1\n",
    "         }\n",
    "map_sig_dest={'CASH_OUT':-1,\n",
    "         'TRANSFER': +1,\n",
    "         'PAYMENT': 1,\n",
    "         'CASH_IN': -1,\n",
    "         'DEBIT': 1\n",
    "         }"
   ]
  },
  {
   "cell_type": "code",
   "execution_count": null,
   "metadata": {
    "id": "9fveOO8AMEC0"
   },
   "outputs": [],
   "source": [
    "dat['errorbalanceorig'] = dat['type'].map(map_sig_orig)*(dat.newbalanceOrig - dat.oldbalanceOrg)  - dat.amount\n",
    "dat['errorbalancedest'] = dat['type'].map(map_sig_dest)*(dat.oldbalanceDest - dat.newbalanceDest)  + dat.amount"
   ]
  },
  {
   "cell_type": "code",
   "execution_count": null,
   "metadata": {
    "id": "y93z9_EOMnJn"
   },
   "outputs": [],
   "source": [
    "selected_feaures_target=['step','oldbalanceOrg'  ,'newbalanceDest' , 'step_importance', 't_c', 'errorbalanceorig', 'errorbalancedest','isFraud']"
   ]
  },
  {
   "cell_type": "code",
   "execution_count": null,
   "metadata": {
    "id": "lSt4K_LSMwaD"
   },
   "outputs": [],
   "source": [
    "dat=dat[selected_feaures_target]\n",
    "dat.columns= dat.columns.str.lower()"
   ]
  },
  {
   "cell_type": "code",
   "execution_count": null,
   "metadata": {
    "colab": {
     "base_uri": "https://localhost:8080/"
    },
    "id": "JFWA2U_3gwJW",
    "outputId": "d5ca7460-45ed-4b74-e773-dc4625b0fde3"
   },
   "outputs": [
    {
     "data": {
      "text/plain": [
       "Index(['step', 'oldbalanceorg', 'newbalancedest', 'step_importance', 't_c',\n",
       "       'errorbalanceorig', 'errorbalancedest', 'isfraud'],\n",
       "      dtype='object')"
      ]
     },
     "execution_count": 31,
     "metadata": {},
     "output_type": "execute_result"
    }
   ],
   "source": [
    "dat.columns"
   ]
  },
  {
   "cell_type": "code",
   "execution_count": null,
   "metadata": {
    "id": "CV2PCoRyMwe_"
   },
   "outputs": [],
   "source": [
    "entrenamiento=dat[dat.step<97]"
   ]
  },
  {
   "cell_type": "code",
   "execution_count": null,
   "metadata": {
    "id": "QKwsWBCGNvs5"
   },
   "outputs": [],
   "source": [
    "X=entrenamiento.drop(['isfraud'],axis=1)\n",
    "y=entrenamiento['isfraud']"
   ]
  },
  {
   "cell_type": "code",
   "execution_count": null,
   "metadata": {
    "id": "rQuwvU6COE_2"
   },
   "outputs": [],
   "source": [
    "# Para randon forrest no hace falta ni escalar, ni hacer Onehotencoder, los arboles funcionan igual.\n",
    "\n",
    "X_train,X_test,y_train,y_test = train_test_split(X,y, test_size=0.20,random_state= 42,stratify=y)"
   ]
  },
  {
   "cell_type": "code",
   "execution_count": null,
   "metadata": {
    "id": "K5-Euzo7OFC-"
   },
   "outputs": [],
   "source": []
  },
  {
   "cell_type": "code",
   "execution_count": null,
   "metadata": {
    "colab": {
     "base_uri": "https://localhost:8080/"
    },
    "id": "2q7PlgP4OFJq",
    "outputId": "99dee6b2-a898-4a57-9961-fa5125849296"
   },
   "outputs": [
    {
     "data": {
      "text/plain": [
       "RandomForestClassifier(class_weight='balanced', max_depth=8,\n",
       "                       max_features='sqrt')"
      ]
     },
     "execution_count": 40,
     "metadata": {},
     "output_type": "execute_result"
    }
   ],
   "source": [
    "model_rfc=RandomForestClassifier(n_estimators= 100, max_features='sqrt', max_depth=8, criterion='gini',class_weight='balanced')\n",
    "\n",
    "model_rfc.fit(X_train,y_train)"
   ]
  },
  {
   "cell_type": "code",
   "execution_count": null,
   "metadata": {
    "id": "_H544Exrh2JB"
   },
   "outputs": [],
   "source": [
    "X_out_sample=dat[dat.step>=97].drop(['isfraud'],axis=1)\n",
    "y_out_sampe= dat[dat.step>=97]['isfraud']"
   ]
  },
  {
   "cell_type": "code",
   "execution_count": null,
   "metadata": {
    "id": "sKHXVGd5h2N2"
   },
   "outputs": [],
   "source": [
    "y_pred=model_rfc.predict(X_out_sample)"
   ]
  },
  {
   "cell_type": "code",
   "execution_count": null,
   "metadata": {
    "id": "GCuajSWDiw7A"
   },
   "outputs": [],
   "source": [
    "def evaluate_model(name,y_test, y_pred, ypred_proba = None):\n",
    "  if ypred_proba is not None:\n",
    "      print('ROC-AUC score of the model: {}'.format(roc_auc_score(y_test, ypred_proba[:, 1])))\n",
    "  print('Accuracy of the model: {}\\n'.format(accuracy_score(y_test, y_pred)))\n",
    "  print('Classification report: \\n{}\\n'.format(classification_report(y_test, y_pred)))\n",
    "  print('Confusion matrix: \\n{}\\n'.format(confusion_matrix(y_test, y_pred)))\n",
    "  print('Normalized confusion matrix: \\n{}\\n'.format(confusion_matrix(y_test, y_pred,normalize='all')))\n",
    "\n",
    "  print(\"Average Precision-Recall score:\\t\", average_precision_score(y_test, y_pred,average='macro'))\n",
    "\n",
    "  report=classification_report(y_test, y_pred,output_dict=True)\n",
    "  rfc_frame=pd.DataFrame.from_dict((report['macro avg']), orient='index').T\n",
    "  rfc_frame['accuracy']=report['accuracy']\n",
    "  rfc_frame['nombre']=name\n",
    "  rfc_frame['True_neg']=confusion_matrix(y_test,y_pred)[0][0]\n",
    "  rfc_frame['False_neg']=confusion_matrix(y_test,y_pred)[0][1]\n",
    "  rfc_frame['False_posit']=confusion_matrix(y_test,y_pred)[1][0]\n",
    "  rfc_frame['True_posit']=confusion_matrix(y_test,y_pred)[1][1]\n",
    "  rfc_frame['Aveg_Precision-Recall']=average_precision_score(y_test, y_pred,average='macro')\n",
    "\n",
    "  rfc_frame=rfc_frame.drop(columns=['support'])\n",
    "  return rfc_frame"
   ]
  },
  {
   "cell_type": "code",
   "execution_count": null,
   "metadata": {
    "colab": {
     "base_uri": "https://localhost:8080/",
     "height": 463
    },
    "id": "snB7IZ8wizBN",
    "outputId": "06adfd50-6b0d-4662-f0db-093ac683e983"
   },
   "outputs": [
    {
     "name": "stdout",
     "output_type": "stream",
     "text": [
      "Accuracy of the model: 0.9999903842836206\n",
      "\n",
      "Classification report: \n",
      "              precision    recall  f1-score   support\n",
      "\n",
      "           0       1.00      1.00      1.00   5296756\n",
      "           1       1.00      0.99      1.00      7061\n",
      "\n",
      "    accuracy                           1.00   5303817\n",
      "   macro avg       1.00      1.00      1.00   5303817\n",
      "weighted avg       1.00      1.00      1.00   5303817\n",
      "\n",
      "\n",
      "Confusion matrix: \n",
      "[[5296756       0]\n",
      " [     51    7010]]\n",
      "\n",
      "Normalized confusion matrix: \n",
      "[[9.98668695e-01 0.00000000e+00]\n",
      " [9.61571638e-06 1.32168964e-03]]\n",
      "\n",
      "Average Precision-Recall score:\t 0.9927868427380477\n"
     ]
    },
    {
     "data": {
      "text/html": [
       "\n",
       "  <div id=\"df-41b97e9b-b742-466c-923f-d9ebbb8d28c4\">\n",
       "    <div class=\"colab-df-container\">\n",
       "      <div>\n",
       "<style scoped>\n",
       "    .dataframe tbody tr th:only-of-type {\n",
       "        vertical-align: middle;\n",
       "    }\n",
       "\n",
       "    .dataframe tbody tr th {\n",
       "        vertical-align: top;\n",
       "    }\n",
       "\n",
       "    .dataframe thead th {\n",
       "        text-align: right;\n",
       "    }\n",
       "</style>\n",
       "<table border=\"1\" class=\"dataframe\">\n",
       "  <thead>\n",
       "    <tr style=\"text-align: right;\">\n",
       "      <th></th>\n",
       "      <th>precision</th>\n",
       "      <th>recall</th>\n",
       "      <th>f1-score</th>\n",
       "      <th>accuracy</th>\n",
       "      <th>nombre</th>\n",
       "      <th>True_neg</th>\n",
       "      <th>False_neg</th>\n",
       "      <th>False_posit</th>\n",
       "      <th>True_posit</th>\n",
       "      <th>Aveg_Precision-Recall</th>\n",
       "    </tr>\n",
       "  </thead>\n",
       "  <tbody>\n",
       "    <tr>\n",
       "      <th>0</th>\n",
       "      <td>0.999995</td>\n",
       "      <td>0.996389</td>\n",
       "      <td>0.998185</td>\n",
       "      <td>0.99999</td>\n",
       "      <td>rf</td>\n",
       "      <td>5296756</td>\n",
       "      <td>0</td>\n",
       "      <td>51</td>\n",
       "      <td>7010</td>\n",
       "      <td>0.992787</td>\n",
       "    </tr>\n",
       "  </tbody>\n",
       "</table>\n",
       "</div>\n",
       "      <button class=\"colab-df-convert\" onclick=\"convertToInteractive('df-41b97e9b-b742-466c-923f-d9ebbb8d28c4')\"\n",
       "              title=\"Convert this dataframe to an interactive table.\"\n",
       "              style=\"display:none;\">\n",
       "        \n",
       "  <svg xmlns=\"http://www.w3.org/2000/svg\" height=\"24px\"viewBox=\"0 0 24 24\"\n",
       "       width=\"24px\">\n",
       "    <path d=\"M0 0h24v24H0V0z\" fill=\"none\"/>\n",
       "    <path d=\"M18.56 5.44l.94 2.06.94-2.06 2.06-.94-2.06-.94-.94-2.06-.94 2.06-2.06.94zm-11 1L8.5 8.5l.94-2.06 2.06-.94-2.06-.94L8.5 2.5l-.94 2.06-2.06.94zm10 10l.94 2.06.94-2.06 2.06-.94-2.06-.94-.94-2.06-.94 2.06-2.06.94z\"/><path d=\"M17.41 7.96l-1.37-1.37c-.4-.4-.92-.59-1.43-.59-.52 0-1.04.2-1.43.59L10.3 9.45l-7.72 7.72c-.78.78-.78 2.05 0 2.83L4 21.41c.39.39.9.59 1.41.59.51 0 1.02-.2 1.41-.59l7.78-7.78 2.81-2.81c.8-.78.8-2.07 0-2.86zM5.41 20L4 18.59l7.72-7.72 1.47 1.35L5.41 20z\"/>\n",
       "  </svg>\n",
       "      </button>\n",
       "      \n",
       "  <style>\n",
       "    .colab-df-container {\n",
       "      display:flex;\n",
       "      flex-wrap:wrap;\n",
       "      gap: 12px;\n",
       "    }\n",
       "\n",
       "    .colab-df-convert {\n",
       "      background-color: #E8F0FE;\n",
       "      border: none;\n",
       "      border-radius: 50%;\n",
       "      cursor: pointer;\n",
       "      display: none;\n",
       "      fill: #1967D2;\n",
       "      height: 32px;\n",
       "      padding: 0 0 0 0;\n",
       "      width: 32px;\n",
       "    }\n",
       "\n",
       "    .colab-df-convert:hover {\n",
       "      background-color: #E2EBFA;\n",
       "      box-shadow: 0px 1px 2px rgba(60, 64, 67, 0.3), 0px 1px 3px 1px rgba(60, 64, 67, 0.15);\n",
       "      fill: #174EA6;\n",
       "    }\n",
       "\n",
       "    [theme=dark] .colab-df-convert {\n",
       "      background-color: #3B4455;\n",
       "      fill: #D2E3FC;\n",
       "    }\n",
       "\n",
       "    [theme=dark] .colab-df-convert:hover {\n",
       "      background-color: #434B5C;\n",
       "      box-shadow: 0px 1px 3px 1px rgba(0, 0, 0, 0.15);\n",
       "      filter: drop-shadow(0px 1px 2px rgba(0, 0, 0, 0.3));\n",
       "      fill: #FFFFFF;\n",
       "    }\n",
       "  </style>\n",
       "\n",
       "      <script>\n",
       "        const buttonEl =\n",
       "          document.querySelector('#df-41b97e9b-b742-466c-923f-d9ebbb8d28c4 button.colab-df-convert');\n",
       "        buttonEl.style.display =\n",
       "          google.colab.kernel.accessAllowed ? 'block' : 'none';\n",
       "\n",
       "        async function convertToInteractive(key) {\n",
       "          const element = document.querySelector('#df-41b97e9b-b742-466c-923f-d9ebbb8d28c4');\n",
       "          const dataTable =\n",
       "            await google.colab.kernel.invokeFunction('convertToInteractive',\n",
       "                                                     [key], {});\n",
       "          if (!dataTable) return;\n",
       "\n",
       "          const docLinkHtml = 'Like what you see? Visit the ' +\n",
       "            '<a target=\"_blank\" href=https://colab.research.google.com/notebooks/data_table.ipynb>data table notebook</a>'\n",
       "            + ' to learn more about interactive tables.';\n",
       "          element.innerHTML = '';\n",
       "          dataTable['output_type'] = 'display_data';\n",
       "          await google.colab.output.renderOutput(dataTable, element);\n",
       "          const docLink = document.createElement('div');\n",
       "          docLink.innerHTML = docLinkHtml;\n",
       "          element.appendChild(docLink);\n",
       "        }\n",
       "      </script>\n",
       "    </div>\n",
       "  </div>\n",
       "  "
      ],
      "text/plain": [
       "   precision    recall  f1-score  accuracy nombre  True_neg  False_neg  \\\n",
       "0   0.999995  0.996389  0.998185   0.99999     rf   5296756          0   \n",
       "\n",
       "   False_posit  True_posit  Aveg_Precision-Recall  \n",
       "0           51        7010               0.992787  "
      ]
     },
     "execution_count": 43,
     "metadata": {},
     "output_type": "execute_result"
    }
   ],
   "source": [
    "evaluate_model('rf',y_out_sampe,y_pred, ypred_proba = None)"
   ]
  },
  {
   "cell_type": "markdown",
   "metadata": {
    "id": "Qc02woLrl5c3"
   },
   "source": [
    "## Conclusión:\n",
    "\n",
    "Al final mi conclusión es que de manera muy simplificada, esta práctica viene a reproducir lo que en realidad hacen las instituciones finacieras para minimizar sus perdidas por fraude en este tipo de transacciones. \n",
    "\n",
    "Por cierto, de absoluta actualidad en este último año a traves de SMS, llamadas falsas para hacarse con las contraseñas de banca movil de los clientes de los bancos, que todos hemos recibido.\n",
    "\n",
    "Los departamentos de seguridad, tienen que actuar de manera muy rápida, cuando se produce una tipologia de fraude, ejemplo, compra con tarjeta en un página web de criptomonedas, bloquean esa operatoria. Puede que exista alguna transacción legitima (falso positivo) que quedaría sin realizarse, pero se evitan muchos falsos negativos, que son los que suponen un alto coste para la entidad.\n",
    "\n",
    "Los estafadores, dejarán de utilizar esta operatoria, y comenzarán con otra que no se haya detectado. En nuestro ejemplo, en vez de dejar la cuenta a 0, dejar un saldo bajo. Los responsables de seguridad, modificarían la regla, y así se seguiría produciendo este juego del gato y el ratón.\n",
    "\n",
    "En el mundo real, el machine learning ayuda a encontrar nuevas reglas, patrones, operatorias que a simple vista, no serían fáciles de detectar, y cada vez se van construyendo sistemas mas complejo de detección de fraude.\n"
   ]
  }
 ],
 "metadata": {
  "colab": {
   "machine_shape": "hm",
   "provenance": []
  },
  "gpuClass": "standard",
  "kernelspec": {
   "display_name": "Python 3 (ipykernel)",
   "language": "python",
   "name": "python3"
  },
  "language_info": {
   "codemirror_mode": {
    "name": "ipython",
    "version": 3
   },
   "file_extension": ".py",
   "mimetype": "text/x-python",
   "name": "python",
   "nbconvert_exporter": "python",
   "pygments_lexer": "ipython3",
   "version": "3.8.12"
  }
 },
 "nbformat": 4,
 "nbformat_minor": 4
}
